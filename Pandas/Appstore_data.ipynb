{
 "cells": [
  {
   "cell_type": "markdown",
   "source": [
    "### Zaimportowanie danych i bibliotek"
   ],
   "metadata": {
    "collapsed": false
   },
   "id": "1f3024596a53a251"
  },
  {
   "cell_type": "code",
   "execution_count": 2,
   "id": "initial_id",
   "metadata": {
    "collapsed": true,
    "ExecuteTime": {
     "end_time": "2024-02-09T12:09:02.408766400Z",
     "start_time": "2024-02-09T12:09:02.386070500Z"
    }
   },
   "outputs": [
    {
     "data": {
      "text/plain": "'2.0.3'"
     },
     "execution_count": 2,
     "metadata": {},
     "output_type": "execute_result"
    }
   ],
   "source": [
    "import pandas as pd\n",
    "pd.__version__"
   ]
  },
  {
   "cell_type": "code",
   "execution_count": 5,
   "outputs": [
    {
     "data": {
      "text/plain": "                                                     URL          ID  \\\n0       https://apps.apple.com/us/app/sudoku/id284921427   284921427   \n1      https://apps.apple.com/us/app/reversi/id284926400   284926400   \n2      https://apps.apple.com/us/app/morocco/id284946595   284946595   \n3      https://apps.apple.com/us/app/sudoku-free/id28...   285755462   \n4      https://apps.apple.com/us/app/senet-deluxe/id2...   285831220   \n...                                                  ...         ...   \n17002  https://apps.apple.com/us/app/stack-puzzle-ris...  1474626442   \n17003  https://apps.apple.com/us/app/eachother/id1474...  1474919257   \n17004  https://apps.apple.com/us/app/rabbit-vs-tortoi...  1474962324   \n17005  https://apps.apple.com/us/app/fatall/id1474963671  1474963671   \n17006  https://apps.apple.com/us/app/the-three-kingdo...  1475076711   \n\n                            Name                        Subtitle  \\\n0                         Sudoku                             NaN   \n1                        Reversi                             NaN   \n2                        Morocco                             NaN   \n3                  Sudoku (Free)                             NaN   \n4                   Senet Deluxe                             NaN   \n...                          ...                             ...   \n17002  Stack Puzzle : Rise Tower  Blast the cubes, solve puzzle!   \n17003                  EachOther                             NaN   \n17004         Rabbit Vs Tortoise                             NaN   \n17005                     FaTaLL                Most fun game!!!   \n17006   The Three Kingdoms :Bomb                             NaN   \n\n                                                Icon URL  Average User Rating  \\\n0      https://is2-ssl.mzstatic.com/image/thumb/Purpl...                  4.0   \n1      https://is4-ssl.mzstatic.com/image/thumb/Purpl...                  3.5   \n2      https://is5-ssl.mzstatic.com/image/thumb/Purpl...                  3.0   \n3      https://is3-ssl.mzstatic.com/image/thumb/Purpl...                  3.5   \n4      https://is1-ssl.mzstatic.com/image/thumb/Purpl...                  3.5   \n...                                                  ...                  ...   \n17002  https://is5-ssl.mzstatic.com/image/thumb/Purpl...                  NaN   \n17003  https://is2-ssl.mzstatic.com/image/thumb/Purpl...                  NaN   \n17004  https://is2-ssl.mzstatic.com/image/thumb/Purpl...                  NaN   \n17005  https://is1-ssl.mzstatic.com/image/thumb/Purpl...                  NaN   \n17006  https://is1-ssl.mzstatic.com/image/thumb/Purpl...                  NaN   \n\n       User Rating Count  Price   In-app Purchases  \\\n0                 3553.0   2.99                NaN   \n1                  284.0   1.99                NaN   \n2                 8376.0   0.00                NaN   \n3               190394.0   0.00                NaN   \n4                   28.0   2.99                NaN   \n...                  ...    ...                ...   \n17002                NaN   0.00                NaN   \n17003                NaN   0.00                NaN   \n17004                NaN   0.00                NaN   \n17005                NaN   0.00  9.99, 49.99, 3.99   \n17006                NaN   0.00                NaN   \n\n                                             Description  \\\n0      Join over 21,000,000 of our fans and download ...   \n1      The classic game of Reversi, also known as Oth...   \n2      Play the classic strategy game Othello (also k...   \n3      Top 100 free app for over a year.\\nRated \"Best...   \n4      \"Senet Deluxe - The Ancient Game of Life and A...   \n...                                                  ...   \n17002  The goal is very simple, move the square horiz...   \n17003  Collect a score while you play!!\\n\\nBy linking...   \n17004  \"Rabbit Vs Tortoise is chess type cool simple ...   \n17005  Upgrade your character and use your skills to ...   \n17006  The protagonist uses the method of placing a b...   \n\n                      Developer Age Rating  \\\n0      Mighty Mighty Good Games         4+   \n1              Kiss The Machine         4+   \n2                   Bayou Games         4+   \n3      Mighty Mighty Good Games         4+   \n4               RoGame Software         4+   \n...                         ...        ...   \n17002               Zhigang Pei         4+   \n17003             Sultan Shindi         4+   \n17004             Vishal Baldha         4+   \n17005              Tayrem Games         4+   \n17006              ming bo tang         4+   \n\n                                               Languages         Size  \\\n0      DA, NL, EN, FI, FR, DE, IT, JA, KO, NB, PL, PT...   15853568.0   \n1                                                     EN   12328960.0   \n2                                                     EN     674816.0   \n3      DA, NL, EN, FI, FR, DE, IT, JA, KO, NB, PL, PT...   21552128.0   \n4      DA, NL, EN, FR, DE, EL, IT, JA, KO, NO, PT, RU...   34689024.0   \n...                                                  ...          ...   \n17002                                                 EN   64795648.0   \n17003                                                 EN  110341120.0   \n17004                                                 EN   23207936.0   \n17005                                                 EN  196750336.0   \n17006                                             EN, ZH   22952960.0   \n\n      Primary Genre                                  Genres  \\\n0             Games                 Games, Strategy, Puzzle   \n1             Games                  Games, Strategy, Board   \n2             Games                  Games, Board, Strategy   \n3             Games                 Games, Strategy, Puzzle   \n4             Games       Games, Strategy, Board, Education   \n...             ...                                     ...   \n17002         Games  Games, Entertainment, Casual, Strategy   \n17003         Games                 Games, Family, Strategy   \n17004         Games                         Games, Strategy   \n17005         Games                 Games, Strategy, Action   \n17006         Games                 Games, Strategy, Puzzle   \n\n      Original Release Date Current Version Release Date  \n0                11/07/2008                   30/05/2017  \n1                11/07/2008                   17/05/2018  \n2                11/07/2008                    5/09/2017  \n3                23/07/2008                   30/05/2017  \n4                18/07/2008                   22/07/2018  \n...                     ...                          ...  \n17002            30/07/2019                   30/07/2019  \n17003             1/08/2019                    1/08/2019  \n17004             3/08/2019                    3/08/2019  \n17005             1/08/2019                    1/08/2019  \n17006             2/08/2019                    2/08/2019  \n\n[17007 rows x 18 columns]",
      "text/html": "<div>\n<style scoped>\n    .dataframe tbody tr th:only-of-type {\n        vertical-align: middle;\n    }\n\n    .dataframe tbody tr th {\n        vertical-align: top;\n    }\n\n    .dataframe thead th {\n        text-align: right;\n    }\n</style>\n<table border=\"1\" class=\"dataframe\">\n  <thead>\n    <tr style=\"text-align: right;\">\n      <th></th>\n      <th>URL</th>\n      <th>ID</th>\n      <th>Name</th>\n      <th>Subtitle</th>\n      <th>Icon URL</th>\n      <th>Average User Rating</th>\n      <th>User Rating Count</th>\n      <th>Price</th>\n      <th>In-app Purchases</th>\n      <th>Description</th>\n      <th>Developer</th>\n      <th>Age Rating</th>\n      <th>Languages</th>\n      <th>Size</th>\n      <th>Primary Genre</th>\n      <th>Genres</th>\n      <th>Original Release Date</th>\n      <th>Current Version Release Date</th>\n    </tr>\n  </thead>\n  <tbody>\n    <tr>\n      <th>0</th>\n      <td>https://apps.apple.com/us/app/sudoku/id284921427</td>\n      <td>284921427</td>\n      <td>Sudoku</td>\n      <td>NaN</td>\n      <td>https://is2-ssl.mzstatic.com/image/thumb/Purpl...</td>\n      <td>4.0</td>\n      <td>3553.0</td>\n      <td>2.99</td>\n      <td>NaN</td>\n      <td>Join over 21,000,000 of our fans and download ...</td>\n      <td>Mighty Mighty Good Games</td>\n      <td>4+</td>\n      <td>DA, NL, EN, FI, FR, DE, IT, JA, KO, NB, PL, PT...</td>\n      <td>15853568.0</td>\n      <td>Games</td>\n      <td>Games, Strategy, Puzzle</td>\n      <td>11/07/2008</td>\n      <td>30/05/2017</td>\n    </tr>\n    <tr>\n      <th>1</th>\n      <td>https://apps.apple.com/us/app/reversi/id284926400</td>\n      <td>284926400</td>\n      <td>Reversi</td>\n      <td>NaN</td>\n      <td>https://is4-ssl.mzstatic.com/image/thumb/Purpl...</td>\n      <td>3.5</td>\n      <td>284.0</td>\n      <td>1.99</td>\n      <td>NaN</td>\n      <td>The classic game of Reversi, also known as Oth...</td>\n      <td>Kiss The Machine</td>\n      <td>4+</td>\n      <td>EN</td>\n      <td>12328960.0</td>\n      <td>Games</td>\n      <td>Games, Strategy, Board</td>\n      <td>11/07/2008</td>\n      <td>17/05/2018</td>\n    </tr>\n    <tr>\n      <th>2</th>\n      <td>https://apps.apple.com/us/app/morocco/id284946595</td>\n      <td>284946595</td>\n      <td>Morocco</td>\n      <td>NaN</td>\n      <td>https://is5-ssl.mzstatic.com/image/thumb/Purpl...</td>\n      <td>3.0</td>\n      <td>8376.0</td>\n      <td>0.00</td>\n      <td>NaN</td>\n      <td>Play the classic strategy game Othello (also k...</td>\n      <td>Bayou Games</td>\n      <td>4+</td>\n      <td>EN</td>\n      <td>674816.0</td>\n      <td>Games</td>\n      <td>Games, Board, Strategy</td>\n      <td>11/07/2008</td>\n      <td>5/09/2017</td>\n    </tr>\n    <tr>\n      <th>3</th>\n      <td>https://apps.apple.com/us/app/sudoku-free/id28...</td>\n      <td>285755462</td>\n      <td>Sudoku (Free)</td>\n      <td>NaN</td>\n      <td>https://is3-ssl.mzstatic.com/image/thumb/Purpl...</td>\n      <td>3.5</td>\n      <td>190394.0</td>\n      <td>0.00</td>\n      <td>NaN</td>\n      <td>Top 100 free app for over a year.\\nRated \"Best...</td>\n      <td>Mighty Mighty Good Games</td>\n      <td>4+</td>\n      <td>DA, NL, EN, FI, FR, DE, IT, JA, KO, NB, PL, PT...</td>\n      <td>21552128.0</td>\n      <td>Games</td>\n      <td>Games, Strategy, Puzzle</td>\n      <td>23/07/2008</td>\n      <td>30/05/2017</td>\n    </tr>\n    <tr>\n      <th>4</th>\n      <td>https://apps.apple.com/us/app/senet-deluxe/id2...</td>\n      <td>285831220</td>\n      <td>Senet Deluxe</td>\n      <td>NaN</td>\n      <td>https://is1-ssl.mzstatic.com/image/thumb/Purpl...</td>\n      <td>3.5</td>\n      <td>28.0</td>\n      <td>2.99</td>\n      <td>NaN</td>\n      <td>\"Senet Deluxe - The Ancient Game of Life and A...</td>\n      <td>RoGame Software</td>\n      <td>4+</td>\n      <td>DA, NL, EN, FR, DE, EL, IT, JA, KO, NO, PT, RU...</td>\n      <td>34689024.0</td>\n      <td>Games</td>\n      <td>Games, Strategy, Board, Education</td>\n      <td>18/07/2008</td>\n      <td>22/07/2018</td>\n    </tr>\n    <tr>\n      <th>...</th>\n      <td>...</td>\n      <td>...</td>\n      <td>...</td>\n      <td>...</td>\n      <td>...</td>\n      <td>...</td>\n      <td>...</td>\n      <td>...</td>\n      <td>...</td>\n      <td>...</td>\n      <td>...</td>\n      <td>...</td>\n      <td>...</td>\n      <td>...</td>\n      <td>...</td>\n      <td>...</td>\n      <td>...</td>\n      <td>...</td>\n    </tr>\n    <tr>\n      <th>17002</th>\n      <td>https://apps.apple.com/us/app/stack-puzzle-ris...</td>\n      <td>1474626442</td>\n      <td>Stack Puzzle : Rise Tower</td>\n      <td>Blast the cubes, solve puzzle!</td>\n      <td>https://is5-ssl.mzstatic.com/image/thumb/Purpl...</td>\n      <td>NaN</td>\n      <td>NaN</td>\n      <td>0.00</td>\n      <td>NaN</td>\n      <td>The goal is very simple, move the square horiz...</td>\n      <td>Zhigang Pei</td>\n      <td>4+</td>\n      <td>EN</td>\n      <td>64795648.0</td>\n      <td>Games</td>\n      <td>Games, Entertainment, Casual, Strategy</td>\n      <td>30/07/2019</td>\n      <td>30/07/2019</td>\n    </tr>\n    <tr>\n      <th>17003</th>\n      <td>https://apps.apple.com/us/app/eachother/id1474...</td>\n      <td>1474919257</td>\n      <td>EachOther</td>\n      <td>NaN</td>\n      <td>https://is2-ssl.mzstatic.com/image/thumb/Purpl...</td>\n      <td>NaN</td>\n      <td>NaN</td>\n      <td>0.00</td>\n      <td>NaN</td>\n      <td>Collect a score while you play!!\\n\\nBy linking...</td>\n      <td>Sultan Shindi</td>\n      <td>4+</td>\n      <td>EN</td>\n      <td>110341120.0</td>\n      <td>Games</td>\n      <td>Games, Family, Strategy</td>\n      <td>1/08/2019</td>\n      <td>1/08/2019</td>\n    </tr>\n    <tr>\n      <th>17004</th>\n      <td>https://apps.apple.com/us/app/rabbit-vs-tortoi...</td>\n      <td>1474962324</td>\n      <td>Rabbit Vs Tortoise</td>\n      <td>NaN</td>\n      <td>https://is2-ssl.mzstatic.com/image/thumb/Purpl...</td>\n      <td>NaN</td>\n      <td>NaN</td>\n      <td>0.00</td>\n      <td>NaN</td>\n      <td>\"Rabbit Vs Tortoise is chess type cool simple ...</td>\n      <td>Vishal Baldha</td>\n      <td>4+</td>\n      <td>EN</td>\n      <td>23207936.0</td>\n      <td>Games</td>\n      <td>Games, Strategy</td>\n      <td>3/08/2019</td>\n      <td>3/08/2019</td>\n    </tr>\n    <tr>\n      <th>17005</th>\n      <td>https://apps.apple.com/us/app/fatall/id1474963671</td>\n      <td>1474963671</td>\n      <td>FaTaLL</td>\n      <td>Most fun game!!!</td>\n      <td>https://is1-ssl.mzstatic.com/image/thumb/Purpl...</td>\n      <td>NaN</td>\n      <td>NaN</td>\n      <td>0.00</td>\n      <td>9.99, 49.99, 3.99</td>\n      <td>Upgrade your character and use your skills to ...</td>\n      <td>Tayrem Games</td>\n      <td>4+</td>\n      <td>EN</td>\n      <td>196750336.0</td>\n      <td>Games</td>\n      <td>Games, Strategy, Action</td>\n      <td>1/08/2019</td>\n      <td>1/08/2019</td>\n    </tr>\n    <tr>\n      <th>17006</th>\n      <td>https://apps.apple.com/us/app/the-three-kingdo...</td>\n      <td>1475076711</td>\n      <td>The Three Kingdoms :Bomb</td>\n      <td>NaN</td>\n      <td>https://is1-ssl.mzstatic.com/image/thumb/Purpl...</td>\n      <td>NaN</td>\n      <td>NaN</td>\n      <td>0.00</td>\n      <td>NaN</td>\n      <td>The protagonist uses the method of placing a b...</td>\n      <td>ming bo tang</td>\n      <td>4+</td>\n      <td>EN, ZH</td>\n      <td>22952960.0</td>\n      <td>Games</td>\n      <td>Games, Strategy, Puzzle</td>\n      <td>2/08/2019</td>\n      <td>2/08/2019</td>\n    </tr>\n  </tbody>\n</table>\n<p>17007 rows × 18 columns</p>\n</div>"
     },
     "execution_count": 5,
     "metadata": {},
     "output_type": "execute_result"
    }
   ],
   "source": [
    "df_raw = pd.read_csv('appstore_games.csv')\n",
    "df_raw"
   ],
   "metadata": {
    "collapsed": false,
    "ExecuteTime": {
     "end_time": "2024-02-09T12:11:19.239770600Z",
     "start_time": "2024-02-09T12:11:18.993501400Z"
    }
   },
   "id": "681c304b09a7c913"
  },
  {
   "cell_type": "markdown",
   "source": [
    "### Preprocessing danych"
   ],
   "metadata": {
    "collapsed": false
   },
   "id": "c398506b2f515705"
  },
  {
   "cell_type": "code",
   "execution_count": 6,
   "outputs": [
    {
     "data": {
      "text/plain": "Index(['URL', 'ID', 'Name', 'Subtitle', 'Icon URL', 'Average User Rating',\n       'User Rating Count', 'Price', 'In-app Purchases', 'Description',\n       'Developer', 'Age Rating', 'Languages', 'Size', 'Primary Genre',\n       'Genres', 'Original Release Date', 'Current Version Release Date'],\n      dtype='object')"
     },
     "execution_count": 6,
     "metadata": {},
     "output_type": "execute_result"
    }
   ],
   "source": [
    "df_raw.columns"
   ],
   "metadata": {
    "collapsed": false,
    "ExecuteTime": {
     "end_time": "2024-02-09T12:11:34.733779800Z",
     "start_time": "2024-02-09T12:11:34.690513500Z"
    }
   },
   "id": "af5ef6e8debae34c"
  },
  {
   "cell_type": "code",
   "execution_count": 12,
   "outputs": [],
   "source": [
    "df = df_raw.copy() # Dobrą praktyką jest pracować na kopii danych którą stworzylismy"
   ],
   "metadata": {
    "collapsed": false,
    "ExecuteTime": {
     "end_time": "2024-02-09T12:13:55.910901800Z",
     "start_time": "2024-02-09T12:13:55.887028900Z"
    }
   },
   "id": "7f1dd4ce2cb36e6b"
  },
  {
   "cell_type": "code",
   "execution_count": 13,
   "outputs": [
    {
     "name": "stdout",
     "output_type": "stream",
     "text": [
      "<class 'pandas.core.frame.DataFrame'>\n",
      "RangeIndex: 17007 entries, 0 to 17006\n",
      "Data columns (total 18 columns):\n",
      " #   Column                        Non-Null Count  Dtype  \n",
      "---  ------                        --------------  -----  \n",
      " 0   URL                           17007 non-null  object \n",
      " 1   ID                            17007 non-null  int64  \n",
      " 2   Name                          17007 non-null  object \n",
      " 3   Subtitle                      5261 non-null   object \n",
      " 4   Icon URL                      17007 non-null  object \n",
      " 5   Average User Rating           7561 non-null   float64\n",
      " 6   User Rating Count             7561 non-null   float64\n",
      " 7   Price                         16983 non-null  float64\n",
      " 8   In-app Purchases              7683 non-null   object \n",
      " 9   Description                   17007 non-null  object \n",
      " 10  Developer                     17007 non-null  object \n",
      " 11  Age Rating                    17007 non-null  object \n",
      " 12  Languages                     16947 non-null  object \n",
      " 13  Size                          17006 non-null  float64\n",
      " 14  Primary Genre                 17007 non-null  object \n",
      " 15  Genres                        17007 non-null  object \n",
      " 16  Original Release Date         17007 non-null  object \n",
      " 17  Current Version Release Date  17007 non-null  object \n",
      "dtypes: float64(4), int64(1), object(13)\n",
      "memory usage: 2.3+ MB\n"
     ]
    }
   ],
   "source": [
    "df.info()"
   ],
   "metadata": {
    "collapsed": false,
    "ExecuteTime": {
     "end_time": "2024-02-09T12:14:02.604405400Z",
     "start_time": "2024-02-09T12:14:02.589374500Z"
    }
   },
   "id": "d96f63e3e8f48974"
  },
  {
   "cell_type": "code",
   "execution_count": 14,
   "outputs": [
    {
     "data": {
      "text/plain": "                                                     URL          ID  \\\n0       https://apps.apple.com/us/app/sudoku/id284921427   284921427   \n1      https://apps.apple.com/us/app/reversi/id284926400   284926400   \n2      https://apps.apple.com/us/app/morocco/id284946595   284946595   \n3      https://apps.apple.com/us/app/sudoku-free/id28...   285755462   \n4      https://apps.apple.com/us/app/senet-deluxe/id2...   285831220   \n...                                                  ...         ...   \n17002  https://apps.apple.com/us/app/stack-puzzle-ris...  1474626442   \n17003  https://apps.apple.com/us/app/eachother/id1474...  1474919257   \n17004  https://apps.apple.com/us/app/rabbit-vs-tortoi...  1474962324   \n17005  https://apps.apple.com/us/app/fatall/id1474963671  1474963671   \n17006  https://apps.apple.com/us/app/the-three-kingdo...  1475076711   \n\n                            Name                        Subtitle  \\\n0                         Sudoku                             NaN   \n1                        Reversi                             NaN   \n2                        Morocco                             NaN   \n3                  Sudoku (Free)                             NaN   \n4                   Senet Deluxe                             NaN   \n...                          ...                             ...   \n17002  Stack Puzzle : Rise Tower  Blast the cubes, solve puzzle!   \n17003                  EachOther                             NaN   \n17004         Rabbit Vs Tortoise                             NaN   \n17005                     FaTaLL                Most fun game!!!   \n17006   The Three Kingdoms :Bomb                             NaN   \n\n                                                Icon URL  Average User Rating  \\\n0      https://is2-ssl.mzstatic.com/image/thumb/Purpl...                  4.0   \n1      https://is4-ssl.mzstatic.com/image/thumb/Purpl...                  3.5   \n2      https://is5-ssl.mzstatic.com/image/thumb/Purpl...                  3.0   \n3      https://is3-ssl.mzstatic.com/image/thumb/Purpl...                  3.5   \n4      https://is1-ssl.mzstatic.com/image/thumb/Purpl...                  3.5   \n...                                                  ...                  ...   \n17002  https://is5-ssl.mzstatic.com/image/thumb/Purpl...                  NaN   \n17003  https://is2-ssl.mzstatic.com/image/thumb/Purpl...                  NaN   \n17004  https://is2-ssl.mzstatic.com/image/thumb/Purpl...                  NaN   \n17005  https://is1-ssl.mzstatic.com/image/thumb/Purpl...                  NaN   \n17006  https://is1-ssl.mzstatic.com/image/thumb/Purpl...                  NaN   \n\n       User Rating Count  Price   In-app Purchases  \\\n0                 3553.0   2.99                NaN   \n1                  284.0   1.99                NaN   \n2                 8376.0   0.00                NaN   \n3               190394.0   0.00                NaN   \n4                   28.0   2.99                NaN   \n...                  ...    ...                ...   \n17002                NaN   0.00                NaN   \n17003                NaN   0.00                NaN   \n17004                NaN   0.00                NaN   \n17005                NaN   0.00  9.99, 49.99, 3.99   \n17006                NaN   0.00                NaN   \n\n                                             Description  \\\n0      Join over 21,000,000 of our fans and download ...   \n1      The classic game of Reversi, also known as Oth...   \n2      Play the classic strategy game Othello (also k...   \n3      Top 100 free app for over a year.\\nRated \"Best...   \n4      \"Senet Deluxe - The Ancient Game of Life and A...   \n...                                                  ...   \n17002  The goal is very simple, move the square horiz...   \n17003  Collect a score while you play!!\\n\\nBy linking...   \n17004  \"Rabbit Vs Tortoise is chess type cool simple ...   \n17005  Upgrade your character and use your skills to ...   \n17006  The protagonist uses the method of placing a b...   \n\n                      Developer Age Rating  \\\n0      Mighty Mighty Good Games         4+   \n1              Kiss The Machine         4+   \n2                   Bayou Games         4+   \n3      Mighty Mighty Good Games         4+   \n4               RoGame Software         4+   \n...                         ...        ...   \n17002               Zhigang Pei         4+   \n17003             Sultan Shindi         4+   \n17004             Vishal Baldha         4+   \n17005              Tayrem Games         4+   \n17006              ming bo tang         4+   \n\n                                               Languages         Size  \\\n0      DA, NL, EN, FI, FR, DE, IT, JA, KO, NB, PL, PT...   15853568.0   \n1                                                     EN   12328960.0   \n2                                                     EN     674816.0   \n3      DA, NL, EN, FI, FR, DE, IT, JA, KO, NB, PL, PT...   21552128.0   \n4      DA, NL, EN, FR, DE, EL, IT, JA, KO, NO, PT, RU...   34689024.0   \n...                                                  ...          ...   \n17002                                                 EN   64795648.0   \n17003                                                 EN  110341120.0   \n17004                                                 EN   23207936.0   \n17005                                                 EN  196750336.0   \n17006                                             EN, ZH   22952960.0   \n\n      Primary Genre                                  Genres  \\\n0             Games                 Games, Strategy, Puzzle   \n1             Games                  Games, Strategy, Board   \n2             Games                  Games, Board, Strategy   \n3             Games                 Games, Strategy, Puzzle   \n4             Games       Games, Strategy, Board, Education   \n...             ...                                     ...   \n17002         Games  Games, Entertainment, Casual, Strategy   \n17003         Games                 Games, Family, Strategy   \n17004         Games                         Games, Strategy   \n17005         Games                 Games, Strategy, Action   \n17006         Games                 Games, Strategy, Puzzle   \n\n      Original Release Date Current Version Release Date  \n0                11/07/2008                   30/05/2017  \n1                11/07/2008                   17/05/2018  \n2                11/07/2008                    5/09/2017  \n3                23/07/2008                   30/05/2017  \n4                18/07/2008                   22/07/2018  \n...                     ...                          ...  \n17002            30/07/2019                   30/07/2019  \n17003             1/08/2019                    1/08/2019  \n17004             3/08/2019                    3/08/2019  \n17005             1/08/2019                    1/08/2019  \n17006             2/08/2019                    2/08/2019  \n\n[17007 rows x 18 columns]",
      "text/html": "<div>\n<style scoped>\n    .dataframe tbody tr th:only-of-type {\n        vertical-align: middle;\n    }\n\n    .dataframe tbody tr th {\n        vertical-align: top;\n    }\n\n    .dataframe thead th {\n        text-align: right;\n    }\n</style>\n<table border=\"1\" class=\"dataframe\">\n  <thead>\n    <tr style=\"text-align: right;\">\n      <th></th>\n      <th>URL</th>\n      <th>ID</th>\n      <th>Name</th>\n      <th>Subtitle</th>\n      <th>Icon URL</th>\n      <th>Average User Rating</th>\n      <th>User Rating Count</th>\n      <th>Price</th>\n      <th>In-app Purchases</th>\n      <th>Description</th>\n      <th>Developer</th>\n      <th>Age Rating</th>\n      <th>Languages</th>\n      <th>Size</th>\n      <th>Primary Genre</th>\n      <th>Genres</th>\n      <th>Original Release Date</th>\n      <th>Current Version Release Date</th>\n    </tr>\n  </thead>\n  <tbody>\n    <tr>\n      <th>0</th>\n      <td>https://apps.apple.com/us/app/sudoku/id284921427</td>\n      <td>284921427</td>\n      <td>Sudoku</td>\n      <td>NaN</td>\n      <td>https://is2-ssl.mzstatic.com/image/thumb/Purpl...</td>\n      <td>4.0</td>\n      <td>3553.0</td>\n      <td>2.99</td>\n      <td>NaN</td>\n      <td>Join over 21,000,000 of our fans and download ...</td>\n      <td>Mighty Mighty Good Games</td>\n      <td>4+</td>\n      <td>DA, NL, EN, FI, FR, DE, IT, JA, KO, NB, PL, PT...</td>\n      <td>15853568.0</td>\n      <td>Games</td>\n      <td>Games, Strategy, Puzzle</td>\n      <td>11/07/2008</td>\n      <td>30/05/2017</td>\n    </tr>\n    <tr>\n      <th>1</th>\n      <td>https://apps.apple.com/us/app/reversi/id284926400</td>\n      <td>284926400</td>\n      <td>Reversi</td>\n      <td>NaN</td>\n      <td>https://is4-ssl.mzstatic.com/image/thumb/Purpl...</td>\n      <td>3.5</td>\n      <td>284.0</td>\n      <td>1.99</td>\n      <td>NaN</td>\n      <td>The classic game of Reversi, also known as Oth...</td>\n      <td>Kiss The Machine</td>\n      <td>4+</td>\n      <td>EN</td>\n      <td>12328960.0</td>\n      <td>Games</td>\n      <td>Games, Strategy, Board</td>\n      <td>11/07/2008</td>\n      <td>17/05/2018</td>\n    </tr>\n    <tr>\n      <th>2</th>\n      <td>https://apps.apple.com/us/app/morocco/id284946595</td>\n      <td>284946595</td>\n      <td>Morocco</td>\n      <td>NaN</td>\n      <td>https://is5-ssl.mzstatic.com/image/thumb/Purpl...</td>\n      <td>3.0</td>\n      <td>8376.0</td>\n      <td>0.00</td>\n      <td>NaN</td>\n      <td>Play the classic strategy game Othello (also k...</td>\n      <td>Bayou Games</td>\n      <td>4+</td>\n      <td>EN</td>\n      <td>674816.0</td>\n      <td>Games</td>\n      <td>Games, Board, Strategy</td>\n      <td>11/07/2008</td>\n      <td>5/09/2017</td>\n    </tr>\n    <tr>\n      <th>3</th>\n      <td>https://apps.apple.com/us/app/sudoku-free/id28...</td>\n      <td>285755462</td>\n      <td>Sudoku (Free)</td>\n      <td>NaN</td>\n      <td>https://is3-ssl.mzstatic.com/image/thumb/Purpl...</td>\n      <td>3.5</td>\n      <td>190394.0</td>\n      <td>0.00</td>\n      <td>NaN</td>\n      <td>Top 100 free app for over a year.\\nRated \"Best...</td>\n      <td>Mighty Mighty Good Games</td>\n      <td>4+</td>\n      <td>DA, NL, EN, FI, FR, DE, IT, JA, KO, NB, PL, PT...</td>\n      <td>21552128.0</td>\n      <td>Games</td>\n      <td>Games, Strategy, Puzzle</td>\n      <td>23/07/2008</td>\n      <td>30/05/2017</td>\n    </tr>\n    <tr>\n      <th>4</th>\n      <td>https://apps.apple.com/us/app/senet-deluxe/id2...</td>\n      <td>285831220</td>\n      <td>Senet Deluxe</td>\n      <td>NaN</td>\n      <td>https://is1-ssl.mzstatic.com/image/thumb/Purpl...</td>\n      <td>3.5</td>\n      <td>28.0</td>\n      <td>2.99</td>\n      <td>NaN</td>\n      <td>\"Senet Deluxe - The Ancient Game of Life and A...</td>\n      <td>RoGame Software</td>\n      <td>4+</td>\n      <td>DA, NL, EN, FR, DE, EL, IT, JA, KO, NO, PT, RU...</td>\n      <td>34689024.0</td>\n      <td>Games</td>\n      <td>Games, Strategy, Board, Education</td>\n      <td>18/07/2008</td>\n      <td>22/07/2018</td>\n    </tr>\n    <tr>\n      <th>...</th>\n      <td>...</td>\n      <td>...</td>\n      <td>...</td>\n      <td>...</td>\n      <td>...</td>\n      <td>...</td>\n      <td>...</td>\n      <td>...</td>\n      <td>...</td>\n      <td>...</td>\n      <td>...</td>\n      <td>...</td>\n      <td>...</td>\n      <td>...</td>\n      <td>...</td>\n      <td>...</td>\n      <td>...</td>\n      <td>...</td>\n    </tr>\n    <tr>\n      <th>17002</th>\n      <td>https://apps.apple.com/us/app/stack-puzzle-ris...</td>\n      <td>1474626442</td>\n      <td>Stack Puzzle : Rise Tower</td>\n      <td>Blast the cubes, solve puzzle!</td>\n      <td>https://is5-ssl.mzstatic.com/image/thumb/Purpl...</td>\n      <td>NaN</td>\n      <td>NaN</td>\n      <td>0.00</td>\n      <td>NaN</td>\n      <td>The goal is very simple, move the square horiz...</td>\n      <td>Zhigang Pei</td>\n      <td>4+</td>\n      <td>EN</td>\n      <td>64795648.0</td>\n      <td>Games</td>\n      <td>Games, Entertainment, Casual, Strategy</td>\n      <td>30/07/2019</td>\n      <td>30/07/2019</td>\n    </tr>\n    <tr>\n      <th>17003</th>\n      <td>https://apps.apple.com/us/app/eachother/id1474...</td>\n      <td>1474919257</td>\n      <td>EachOther</td>\n      <td>NaN</td>\n      <td>https://is2-ssl.mzstatic.com/image/thumb/Purpl...</td>\n      <td>NaN</td>\n      <td>NaN</td>\n      <td>0.00</td>\n      <td>NaN</td>\n      <td>Collect a score while you play!!\\n\\nBy linking...</td>\n      <td>Sultan Shindi</td>\n      <td>4+</td>\n      <td>EN</td>\n      <td>110341120.0</td>\n      <td>Games</td>\n      <td>Games, Family, Strategy</td>\n      <td>1/08/2019</td>\n      <td>1/08/2019</td>\n    </tr>\n    <tr>\n      <th>17004</th>\n      <td>https://apps.apple.com/us/app/rabbit-vs-tortoi...</td>\n      <td>1474962324</td>\n      <td>Rabbit Vs Tortoise</td>\n      <td>NaN</td>\n      <td>https://is2-ssl.mzstatic.com/image/thumb/Purpl...</td>\n      <td>NaN</td>\n      <td>NaN</td>\n      <td>0.00</td>\n      <td>NaN</td>\n      <td>\"Rabbit Vs Tortoise is chess type cool simple ...</td>\n      <td>Vishal Baldha</td>\n      <td>4+</td>\n      <td>EN</td>\n      <td>23207936.0</td>\n      <td>Games</td>\n      <td>Games, Strategy</td>\n      <td>3/08/2019</td>\n      <td>3/08/2019</td>\n    </tr>\n    <tr>\n      <th>17005</th>\n      <td>https://apps.apple.com/us/app/fatall/id1474963671</td>\n      <td>1474963671</td>\n      <td>FaTaLL</td>\n      <td>Most fun game!!!</td>\n      <td>https://is1-ssl.mzstatic.com/image/thumb/Purpl...</td>\n      <td>NaN</td>\n      <td>NaN</td>\n      <td>0.00</td>\n      <td>9.99, 49.99, 3.99</td>\n      <td>Upgrade your character and use your skills to ...</td>\n      <td>Tayrem Games</td>\n      <td>4+</td>\n      <td>EN</td>\n      <td>196750336.0</td>\n      <td>Games</td>\n      <td>Games, Strategy, Action</td>\n      <td>1/08/2019</td>\n      <td>1/08/2019</td>\n    </tr>\n    <tr>\n      <th>17006</th>\n      <td>https://apps.apple.com/us/app/the-three-kingdo...</td>\n      <td>1475076711</td>\n      <td>The Three Kingdoms :Bomb</td>\n      <td>NaN</td>\n      <td>https://is1-ssl.mzstatic.com/image/thumb/Purpl...</td>\n      <td>NaN</td>\n      <td>NaN</td>\n      <td>0.00</td>\n      <td>NaN</td>\n      <td>The protagonist uses the method of placing a b...</td>\n      <td>ming bo tang</td>\n      <td>4+</td>\n      <td>EN, ZH</td>\n      <td>22952960.0</td>\n      <td>Games</td>\n      <td>Games, Strategy, Puzzle</td>\n      <td>2/08/2019</td>\n      <td>2/08/2019</td>\n    </tr>\n  </tbody>\n</table>\n<p>17007 rows × 18 columns</p>\n</div>"
     },
     "execution_count": 14,
     "metadata": {},
     "output_type": "execute_result"
    }
   ],
   "source": [
    "df"
   ],
   "metadata": {
    "collapsed": false,
    "ExecuteTime": {
     "end_time": "2024-02-09T12:15:18.105239Z",
     "start_time": "2024-02-09T12:15:18.069052900Z"
    }
   },
   "id": "24e55282252d6a5b"
  },
  {
   "cell_type": "code",
   "execution_count": 15,
   "outputs": [],
   "source": [
    "df = df.drop(columns=['URL', 'Icon URL', 'Subtitle', 'Description', 'In-app Purchases']) # Usuwamy niepotrzebne kolumny."
   ],
   "metadata": {
    "collapsed": false,
    "ExecuteTime": {
     "end_time": "2024-02-09T12:16:14.410218Z",
     "start_time": "2024-02-09T12:16:14.375345700Z"
    }
   },
   "id": "d000928535118384"
  },
  {
   "cell_type": "code",
   "execution_count": 16,
   "outputs": [
    {
     "data": {
      "text/plain": "          ID           Name  Average User Rating  User Rating Count  Price  \\\n0  284921427         Sudoku                  4.0             3553.0   2.99   \n1  284926400        Reversi                  3.5              284.0   1.99   \n2  284946595        Morocco                  3.0             8376.0   0.00   \n3  285755462  Sudoku (Free)                  3.5           190394.0   0.00   \n4  285831220   Senet Deluxe                  3.5               28.0   2.99   \n\n                  Developer Age Rating  \\\n0  Mighty Mighty Good Games         4+   \n1          Kiss The Machine         4+   \n2               Bayou Games         4+   \n3  Mighty Mighty Good Games         4+   \n4           RoGame Software         4+   \n\n                                           Languages        Size  \\\n0  DA, NL, EN, FI, FR, DE, IT, JA, KO, NB, PL, PT...  15853568.0   \n1                                                 EN  12328960.0   \n2                                                 EN    674816.0   \n3  DA, NL, EN, FI, FR, DE, IT, JA, KO, NB, PL, PT...  21552128.0   \n4  DA, NL, EN, FR, DE, EL, IT, JA, KO, NO, PT, RU...  34689024.0   \n\n  Primary Genre                             Genres Original Release Date  \\\n0         Games            Games, Strategy, Puzzle            11/07/2008   \n1         Games             Games, Strategy, Board            11/07/2008   \n2         Games             Games, Board, Strategy            11/07/2008   \n3         Games            Games, Strategy, Puzzle            23/07/2008   \n4         Games  Games, Strategy, Board, Education            18/07/2008   \n\n  Current Version Release Date  \n0                   30/05/2017  \n1                   17/05/2018  \n2                    5/09/2017  \n3                   30/05/2017  \n4                   22/07/2018  ",
      "text/html": "<div>\n<style scoped>\n    .dataframe tbody tr th:only-of-type {\n        vertical-align: middle;\n    }\n\n    .dataframe tbody tr th {\n        vertical-align: top;\n    }\n\n    .dataframe thead th {\n        text-align: right;\n    }\n</style>\n<table border=\"1\" class=\"dataframe\">\n  <thead>\n    <tr style=\"text-align: right;\">\n      <th></th>\n      <th>ID</th>\n      <th>Name</th>\n      <th>Average User Rating</th>\n      <th>User Rating Count</th>\n      <th>Price</th>\n      <th>Developer</th>\n      <th>Age Rating</th>\n      <th>Languages</th>\n      <th>Size</th>\n      <th>Primary Genre</th>\n      <th>Genres</th>\n      <th>Original Release Date</th>\n      <th>Current Version Release Date</th>\n    </tr>\n  </thead>\n  <tbody>\n    <tr>\n      <th>0</th>\n      <td>284921427</td>\n      <td>Sudoku</td>\n      <td>4.0</td>\n      <td>3553.0</td>\n      <td>2.99</td>\n      <td>Mighty Mighty Good Games</td>\n      <td>4+</td>\n      <td>DA, NL, EN, FI, FR, DE, IT, JA, KO, NB, PL, PT...</td>\n      <td>15853568.0</td>\n      <td>Games</td>\n      <td>Games, Strategy, Puzzle</td>\n      <td>11/07/2008</td>\n      <td>30/05/2017</td>\n    </tr>\n    <tr>\n      <th>1</th>\n      <td>284926400</td>\n      <td>Reversi</td>\n      <td>3.5</td>\n      <td>284.0</td>\n      <td>1.99</td>\n      <td>Kiss The Machine</td>\n      <td>4+</td>\n      <td>EN</td>\n      <td>12328960.0</td>\n      <td>Games</td>\n      <td>Games, Strategy, Board</td>\n      <td>11/07/2008</td>\n      <td>17/05/2018</td>\n    </tr>\n    <tr>\n      <th>2</th>\n      <td>284946595</td>\n      <td>Morocco</td>\n      <td>3.0</td>\n      <td>8376.0</td>\n      <td>0.00</td>\n      <td>Bayou Games</td>\n      <td>4+</td>\n      <td>EN</td>\n      <td>674816.0</td>\n      <td>Games</td>\n      <td>Games, Board, Strategy</td>\n      <td>11/07/2008</td>\n      <td>5/09/2017</td>\n    </tr>\n    <tr>\n      <th>3</th>\n      <td>285755462</td>\n      <td>Sudoku (Free)</td>\n      <td>3.5</td>\n      <td>190394.0</td>\n      <td>0.00</td>\n      <td>Mighty Mighty Good Games</td>\n      <td>4+</td>\n      <td>DA, NL, EN, FI, FR, DE, IT, JA, KO, NB, PL, PT...</td>\n      <td>21552128.0</td>\n      <td>Games</td>\n      <td>Games, Strategy, Puzzle</td>\n      <td>23/07/2008</td>\n      <td>30/05/2017</td>\n    </tr>\n    <tr>\n      <th>4</th>\n      <td>285831220</td>\n      <td>Senet Deluxe</td>\n      <td>3.5</td>\n      <td>28.0</td>\n      <td>2.99</td>\n      <td>RoGame Software</td>\n      <td>4+</td>\n      <td>DA, NL, EN, FR, DE, EL, IT, JA, KO, NO, PT, RU...</td>\n      <td>34689024.0</td>\n      <td>Games</td>\n      <td>Games, Strategy, Board, Education</td>\n      <td>18/07/2008</td>\n      <td>22/07/2018</td>\n    </tr>\n  </tbody>\n</table>\n</div>"
     },
     "execution_count": 16,
     "metadata": {},
     "output_type": "execute_result"
    }
   ],
   "source": [
    "df.head()"
   ],
   "metadata": {
    "collapsed": false,
    "ExecuteTime": {
     "end_time": "2024-02-09T12:16:17.572313700Z",
     "start_time": "2024-02-09T12:16:17.541068100Z"
    }
   },
   "id": "ace08da6fd9a0d7e"
  },
  {
   "cell_type": "code",
   "execution_count": 41,
   "outputs": [
    {
     "data": {
      "text/plain": "                    name  average_user_rating  user_rating_count  price  \\\nid                                                                        \n284921427         Sudoku                  4.0             3553.0   2.99   \n284926400        Reversi                  3.5              284.0   1.99   \n284946595        Morocco                  3.0             8376.0   0.00   \n285755462  Sudoku (Free)                  3.5           190394.0   0.00   \n285831220   Senet Deluxe                  3.5               28.0   2.99   \n\n                          developer age_rating  \\\nid                                               \n284921427  Mighty Mighty Good Games         4+   \n284926400          Kiss The Machine         4+   \n284946595               Bayou Games         4+   \n285755462  Mighty Mighty Good Games         4+   \n285831220           RoGame Software         4+   \n\n                                                   languages        size  \\\nid                                                                         \n284921427  DA, NL, EN, FI, FR, DE, IT, JA, KO, NB, PL, PT...  15853568.0   \n284926400                                                 EN  12328960.0   \n284946595                                                 EN    674816.0   \n285755462  DA, NL, EN, FI, FR, DE, IT, JA, KO, NB, PL, PT...  21552128.0   \n285831220  DA, NL, EN, FR, DE, EL, IT, JA, KO, NO, PT, RU...  34689024.0   \n\n          primary_genre                             genres  \\\nid                                                           \n284921427         Games            Games, Strategy, Puzzle   \n284926400         Games             Games, Strategy, Board   \n284946595         Games             Games, Board, Strategy   \n285755462         Games            Games, Strategy, Puzzle   \n285831220         Games  Games, Strategy, Board, Education   \n\n          original_release_date current_version_release_date  \nid                                                            \n284921427            11/07/2008                   30/05/2017  \n284926400            11/07/2008                   17/05/2018  \n284946595            11/07/2008                    5/09/2017  \n285755462            23/07/2008                   30/05/2017  \n285831220            18/07/2008                   22/07/2018  ",
      "text/html": "<div>\n<style scoped>\n    .dataframe tbody tr th:only-of-type {\n        vertical-align: middle;\n    }\n\n    .dataframe tbody tr th {\n        vertical-align: top;\n    }\n\n    .dataframe thead th {\n        text-align: right;\n    }\n</style>\n<table border=\"1\" class=\"dataframe\">\n  <thead>\n    <tr style=\"text-align: right;\">\n      <th></th>\n      <th>name</th>\n      <th>average_user_rating</th>\n      <th>user_rating_count</th>\n      <th>price</th>\n      <th>developer</th>\n      <th>age_rating</th>\n      <th>languages</th>\n      <th>size</th>\n      <th>primary_genre</th>\n      <th>genres</th>\n      <th>original_release_date</th>\n      <th>current_version_release_date</th>\n    </tr>\n    <tr>\n      <th>id</th>\n      <th></th>\n      <th></th>\n      <th></th>\n      <th></th>\n      <th></th>\n      <th></th>\n      <th></th>\n      <th></th>\n      <th></th>\n      <th></th>\n      <th></th>\n      <th></th>\n    </tr>\n  </thead>\n  <tbody>\n    <tr>\n      <th>284921427</th>\n      <td>Sudoku</td>\n      <td>4.0</td>\n      <td>3553.0</td>\n      <td>2.99</td>\n      <td>Mighty Mighty Good Games</td>\n      <td>4+</td>\n      <td>DA, NL, EN, FI, FR, DE, IT, JA, KO, NB, PL, PT...</td>\n      <td>15853568.0</td>\n      <td>Games</td>\n      <td>Games, Strategy, Puzzle</td>\n      <td>11/07/2008</td>\n      <td>30/05/2017</td>\n    </tr>\n    <tr>\n      <th>284926400</th>\n      <td>Reversi</td>\n      <td>3.5</td>\n      <td>284.0</td>\n      <td>1.99</td>\n      <td>Kiss The Machine</td>\n      <td>4+</td>\n      <td>EN</td>\n      <td>12328960.0</td>\n      <td>Games</td>\n      <td>Games, Strategy, Board</td>\n      <td>11/07/2008</td>\n      <td>17/05/2018</td>\n    </tr>\n    <tr>\n      <th>284946595</th>\n      <td>Morocco</td>\n      <td>3.0</td>\n      <td>8376.0</td>\n      <td>0.00</td>\n      <td>Bayou Games</td>\n      <td>4+</td>\n      <td>EN</td>\n      <td>674816.0</td>\n      <td>Games</td>\n      <td>Games, Board, Strategy</td>\n      <td>11/07/2008</td>\n      <td>5/09/2017</td>\n    </tr>\n    <tr>\n      <th>285755462</th>\n      <td>Sudoku (Free)</td>\n      <td>3.5</td>\n      <td>190394.0</td>\n      <td>0.00</td>\n      <td>Mighty Mighty Good Games</td>\n      <td>4+</td>\n      <td>DA, NL, EN, FI, FR, DE, IT, JA, KO, NB, PL, PT...</td>\n      <td>21552128.0</td>\n      <td>Games</td>\n      <td>Games, Strategy, Puzzle</td>\n      <td>23/07/2008</td>\n      <td>30/05/2017</td>\n    </tr>\n    <tr>\n      <th>285831220</th>\n      <td>Senet Deluxe</td>\n      <td>3.5</td>\n      <td>28.0</td>\n      <td>2.99</td>\n      <td>RoGame Software</td>\n      <td>4+</td>\n      <td>DA, NL, EN, FR, DE, EL, IT, JA, KO, NO, PT, RU...</td>\n      <td>34689024.0</td>\n      <td>Games</td>\n      <td>Games, Strategy, Board, Education</td>\n      <td>18/07/2008</td>\n      <td>22/07/2018</td>\n    </tr>\n  </tbody>\n</table>\n</div>"
     },
     "execution_count": 41,
     "metadata": {},
     "output_type": "execute_result"
    }
   ],
   "source": [
    "df = df.set_index('id')\n",
    "df.head()"
   ],
   "metadata": {
    "collapsed": false,
    "ExecuteTime": {
     "end_time": "2024-02-09T12:23:35.757566600Z",
     "start_time": "2024-02-09T12:23:35.722338500Z"
    }
   },
   "id": "4a8c53fe83cd3d13"
  },
  {
   "cell_type": "code",
   "execution_count": 42,
   "outputs": [
    {
     "data": {
      "text/plain": "                       count          mean           std      min         25%  \\\naverage_user_rating   7561.0  4.060905e+00  7.514275e-01      1.0         3.5   \nuser_rating_count     7561.0  3.306531e+03  4.232256e+04      5.0        12.0   \nprice                16983.0  8.134187e-01  7.835732e+00      0.0         0.0   \nsize                 17006.0  1.157064e+08  2.036477e+08  51328.0  22950144.0   \n\n                            50%          75%           max  \naverage_user_rating         4.5          4.5  5.000000e+00  \nuser_rating_count          46.0        309.0  3.032734e+06  \nprice                       0.0          0.0  1.799900e+02  \nsize                 56768954.0  133027072.0  4.005591e+09  ",
      "text/html": "<div>\n<style scoped>\n    .dataframe tbody tr th:only-of-type {\n        vertical-align: middle;\n    }\n\n    .dataframe tbody tr th {\n        vertical-align: top;\n    }\n\n    .dataframe thead th {\n        text-align: right;\n    }\n</style>\n<table border=\"1\" class=\"dataframe\">\n  <thead>\n    <tr style=\"text-align: right;\">\n      <th></th>\n      <th>count</th>\n      <th>mean</th>\n      <th>std</th>\n      <th>min</th>\n      <th>25%</th>\n      <th>50%</th>\n      <th>75%</th>\n      <th>max</th>\n    </tr>\n  </thead>\n  <tbody>\n    <tr>\n      <th>average_user_rating</th>\n      <td>7561.0</td>\n      <td>4.060905e+00</td>\n      <td>7.514275e-01</td>\n      <td>1.0</td>\n      <td>3.5</td>\n      <td>4.5</td>\n      <td>4.5</td>\n      <td>5.000000e+00</td>\n    </tr>\n    <tr>\n      <th>user_rating_count</th>\n      <td>7561.0</td>\n      <td>3.306531e+03</td>\n      <td>4.232256e+04</td>\n      <td>5.0</td>\n      <td>12.0</td>\n      <td>46.0</td>\n      <td>309.0</td>\n      <td>3.032734e+06</td>\n    </tr>\n    <tr>\n      <th>price</th>\n      <td>16983.0</td>\n      <td>8.134187e-01</td>\n      <td>7.835732e+00</td>\n      <td>0.0</td>\n      <td>0.0</td>\n      <td>0.0</td>\n      <td>0.0</td>\n      <td>1.799900e+02</td>\n    </tr>\n    <tr>\n      <th>size</th>\n      <td>17006.0</td>\n      <td>1.157064e+08</td>\n      <td>2.036477e+08</td>\n      <td>51328.0</td>\n      <td>22950144.0</td>\n      <td>56768954.0</td>\n      <td>133027072.0</td>\n      <td>4.005591e+09</td>\n    </tr>\n  </tbody>\n</table>\n</div>"
     },
     "execution_count": 42,
     "metadata": {},
     "output_type": "execute_result"
    }
   ],
   "source": [
    "df.describe().T"
   ],
   "metadata": {
    "collapsed": false,
    "ExecuteTime": {
     "end_time": "2024-02-09T12:23:37.543571400Z",
     "start_time": "2024-02-09T12:23:37.514953400Z"
    }
   },
   "id": "312881d0c4d67f66"
  },
  {
   "cell_type": "code",
   "execution_count": 43,
   "outputs": [
    {
     "data": {
      "text/plain": "                              count unique  \\\nname                          17007  16847   \ndeveloper                     17007   8693   \nage_rating                    17007      4   \nlanguages                     16947    990   \nprimary_genre                 17007     21   \ngenres                        17007   1004   \noriginal_release_date         17007   3084   \ncurrent_version_release_date  17007   2512   \n\n                                                                     top  \\\nname                                                           Additions   \ndeveloper                     Tapps Tecnologia da Informa\\xe7\\xe3o Ltda.   \nage_rating                                                            4+   \nlanguages                                                             EN   \nprimary_genre                                                      Games   \ngenres                                           Games, Strategy, Puzzle   \noriginal_release_date                                          2/09/2016   \ncurrent_version_release_date                                   1/08/2019   \n\n                               freq  \nname                              2  \ndeveloper                       123  \nage_rating                    11806  \nlanguages                     12467  \nprimary_genre                 16286  \ngenres                          778  \noriginal_release_date            75  \ncurrent_version_release_date    118  ",
      "text/html": "<div>\n<style scoped>\n    .dataframe tbody tr th:only-of-type {\n        vertical-align: middle;\n    }\n\n    .dataframe tbody tr th {\n        vertical-align: top;\n    }\n\n    .dataframe thead th {\n        text-align: right;\n    }\n</style>\n<table border=\"1\" class=\"dataframe\">\n  <thead>\n    <tr style=\"text-align: right;\">\n      <th></th>\n      <th>count</th>\n      <th>unique</th>\n      <th>top</th>\n      <th>freq</th>\n    </tr>\n  </thead>\n  <tbody>\n    <tr>\n      <th>name</th>\n      <td>17007</td>\n      <td>16847</td>\n      <td>Additions</td>\n      <td>2</td>\n    </tr>\n    <tr>\n      <th>developer</th>\n      <td>17007</td>\n      <td>8693</td>\n      <td>Tapps Tecnologia da Informa\\xe7\\xe3o Ltda.</td>\n      <td>123</td>\n    </tr>\n    <tr>\n      <th>age_rating</th>\n      <td>17007</td>\n      <td>4</td>\n      <td>4+</td>\n      <td>11806</td>\n    </tr>\n    <tr>\n      <th>languages</th>\n      <td>16947</td>\n      <td>990</td>\n      <td>EN</td>\n      <td>12467</td>\n    </tr>\n    <tr>\n      <th>primary_genre</th>\n      <td>17007</td>\n      <td>21</td>\n      <td>Games</td>\n      <td>16286</td>\n    </tr>\n    <tr>\n      <th>genres</th>\n      <td>17007</td>\n      <td>1004</td>\n      <td>Games, Strategy, Puzzle</td>\n      <td>778</td>\n    </tr>\n    <tr>\n      <th>original_release_date</th>\n      <td>17007</td>\n      <td>3084</td>\n      <td>2/09/2016</td>\n      <td>75</td>\n    </tr>\n    <tr>\n      <th>current_version_release_date</th>\n      <td>17007</td>\n      <td>2512</td>\n      <td>1/08/2019</td>\n      <td>118</td>\n    </tr>\n  </tbody>\n</table>\n</div>"
     },
     "execution_count": 43,
     "metadata": {},
     "output_type": "execute_result"
    }
   ],
   "source": [
    "df.describe(include=['object']).T # Pokazuje dane na temat poszczegolnych itemow w df"
   ],
   "metadata": {
    "collapsed": false,
    "ExecuteTime": {
     "end_time": "2024-02-09T12:23:38.453411600Z",
     "start_time": "2024-02-09T12:23:38.424741100Z"
    }
   },
   "id": "1574074739e47f73"
  },
  {
   "cell_type": "code",
   "execution_count": 44,
   "outputs": [
    {
     "data": {
      "text/plain": "Index(['name', 'average_user_rating', 'user_rating_count', 'price',\n       'developer', 'age_rating', 'languages', 'size', 'primary_genre',\n       'genres', 'original_release_date', 'current_version_release_date'],\n      dtype='object')"
     },
     "execution_count": 44,
     "metadata": {},
     "output_type": "execute_result"
    }
   ],
   "source": [
    "df.columns"
   ],
   "metadata": {
    "collapsed": false,
    "ExecuteTime": {
     "end_time": "2024-02-09T12:23:39.120567Z",
     "start_time": "2024-02-09T12:23:39.094864400Z"
    }
   },
   "id": "9746d62ea9dc1008"
  },
  {
   "cell_type": "code",
   "execution_count": 45,
   "outputs": [
    {
     "data": {
      "text/plain": "                    name  average_user_rating  user_rating_count  price  \\\nid                                                                        \n284921427         Sudoku                  4.0             3553.0   2.99   \n284926400        Reversi                  3.5              284.0   1.99   \n284946595        Morocco                  3.0             8376.0   0.00   \n285755462  Sudoku (Free)                  3.5           190394.0   0.00   \n285831220   Senet Deluxe                  3.5               28.0   2.99   \n\n                          developer age_rating  \\\nid                                               \n284921427  Mighty Mighty Good Games         4+   \n284926400          Kiss The Machine         4+   \n284946595               Bayou Games         4+   \n285755462  Mighty Mighty Good Games         4+   \n285831220           RoGame Software         4+   \n\n                                                   languages        size  \\\nid                                                                         \n284921427  DA, NL, EN, FI, FR, DE, IT, JA, KO, NB, PL, PT...  15853568.0   \n284926400                                                 EN  12328960.0   \n284946595                                                 EN    674816.0   \n285755462  DA, NL, EN, FI, FR, DE, IT, JA, KO, NB, PL, PT...  21552128.0   \n285831220  DA, NL, EN, FR, DE, EL, IT, JA, KO, NO, PT, RU...  34689024.0   \n\n          primary_genre                             genres  \\\nid                                                           \n284921427         Games            Games, Strategy, Puzzle   \n284926400         Games             Games, Strategy, Board   \n284946595         Games             Games, Board, Strategy   \n285755462         Games            Games, Strategy, Puzzle   \n285831220         Games  Games, Strategy, Board, Education   \n\n          original_release_date current_version_release_date  \nid                                                            \n284921427            11/07/2008                   30/05/2017  \n284926400            11/07/2008                   17/05/2018  \n284946595            11/07/2008                    5/09/2017  \n285755462            23/07/2008                   30/05/2017  \n285831220            18/07/2008                   22/07/2018  ",
      "text/html": "<div>\n<style scoped>\n    .dataframe tbody tr th:only-of-type {\n        vertical-align: middle;\n    }\n\n    .dataframe tbody tr th {\n        vertical-align: top;\n    }\n\n    .dataframe thead th {\n        text-align: right;\n    }\n</style>\n<table border=\"1\" class=\"dataframe\">\n  <thead>\n    <tr style=\"text-align: right;\">\n      <th></th>\n      <th>name</th>\n      <th>average_user_rating</th>\n      <th>user_rating_count</th>\n      <th>price</th>\n      <th>developer</th>\n      <th>age_rating</th>\n      <th>languages</th>\n      <th>size</th>\n      <th>primary_genre</th>\n      <th>genres</th>\n      <th>original_release_date</th>\n      <th>current_version_release_date</th>\n    </tr>\n    <tr>\n      <th>id</th>\n      <th></th>\n      <th></th>\n      <th></th>\n      <th></th>\n      <th></th>\n      <th></th>\n      <th></th>\n      <th></th>\n      <th></th>\n      <th></th>\n      <th></th>\n      <th></th>\n    </tr>\n  </thead>\n  <tbody>\n    <tr>\n      <th>284921427</th>\n      <td>Sudoku</td>\n      <td>4.0</td>\n      <td>3553.0</td>\n      <td>2.99</td>\n      <td>Mighty Mighty Good Games</td>\n      <td>4+</td>\n      <td>DA, NL, EN, FI, FR, DE, IT, JA, KO, NB, PL, PT...</td>\n      <td>15853568.0</td>\n      <td>Games</td>\n      <td>Games, Strategy, Puzzle</td>\n      <td>11/07/2008</td>\n      <td>30/05/2017</td>\n    </tr>\n    <tr>\n      <th>284926400</th>\n      <td>Reversi</td>\n      <td>3.5</td>\n      <td>284.0</td>\n      <td>1.99</td>\n      <td>Kiss The Machine</td>\n      <td>4+</td>\n      <td>EN</td>\n      <td>12328960.0</td>\n      <td>Games</td>\n      <td>Games, Strategy, Board</td>\n      <td>11/07/2008</td>\n      <td>17/05/2018</td>\n    </tr>\n    <tr>\n      <th>284946595</th>\n      <td>Morocco</td>\n      <td>3.0</td>\n      <td>8376.0</td>\n      <td>0.00</td>\n      <td>Bayou Games</td>\n      <td>4+</td>\n      <td>EN</td>\n      <td>674816.0</td>\n      <td>Games</td>\n      <td>Games, Board, Strategy</td>\n      <td>11/07/2008</td>\n      <td>5/09/2017</td>\n    </tr>\n    <tr>\n      <th>285755462</th>\n      <td>Sudoku (Free)</td>\n      <td>3.5</td>\n      <td>190394.0</td>\n      <td>0.00</td>\n      <td>Mighty Mighty Good Games</td>\n      <td>4+</td>\n      <td>DA, NL, EN, FI, FR, DE, IT, JA, KO, NB, PL, PT...</td>\n      <td>21552128.0</td>\n      <td>Games</td>\n      <td>Games, Strategy, Puzzle</td>\n      <td>23/07/2008</td>\n      <td>30/05/2017</td>\n    </tr>\n    <tr>\n      <th>285831220</th>\n      <td>Senet Deluxe</td>\n      <td>3.5</td>\n      <td>28.0</td>\n      <td>2.99</td>\n      <td>RoGame Software</td>\n      <td>4+</td>\n      <td>DA, NL, EN, FR, DE, EL, IT, JA, KO, NO, PT, RU...</td>\n      <td>34689024.0</td>\n      <td>Games</td>\n      <td>Games, Strategy, Board, Education</td>\n      <td>18/07/2008</td>\n      <td>22/07/2018</td>\n    </tr>\n  </tbody>\n</table>\n</div>"
     },
     "execution_count": 45,
     "metadata": {},
     "output_type": "execute_result"
    }
   ],
   "source": [
    "df.columns = [col.lower().replace(' ', '_') for col in df.columns] # Usuwanie spacji przy nazwach kolumn\n",
    "df.head()"
   ],
   "metadata": {
    "collapsed": false,
    "ExecuteTime": {
     "end_time": "2024-02-09T12:23:39.713260400Z",
     "start_time": "2024-02-09T12:23:39.702800100Z"
    }
   },
   "id": "a9c307b4ce9cb162"
  },
  {
   "cell_type": "code",
   "execution_count": 46,
   "outputs": [
    {
     "data": {
      "text/plain": "id\n284921427     4.0\n284926400     3.5\n284946595     3.0\n285755462     3.5\n285831220     3.5\n             ... \n1474626442    NaN\n1474919257    NaN\n1474962324    NaN\n1474963671    NaN\n1475076711    NaN\nName: average_user_rating, Length: 17007, dtype: float64"
     },
     "execution_count": 46,
     "metadata": {},
     "output_type": "execute_result"
    }
   ],
   "source": [
    "df.average_user_rating"
   ],
   "metadata": {
    "collapsed": false,
    "ExecuteTime": {
     "end_time": "2024-02-09T12:23:40.682017Z",
     "start_time": "2024-02-09T12:23:40.649506300Z"
    }
   },
   "id": "9604087a93f828d4"
  },
  {
   "cell_type": "markdown",
   "source": [
    "### Badanie rozkładu zmiennej"
   ],
   "metadata": {
    "collapsed": false
   },
   "id": "64ff6628e6b65868"
  },
  {
   "cell_type": "code",
   "execution_count": 47,
   "outputs": [
    {
     "data": {
      "text/plain": "              name  average_user_rating  user_rating_count  price  \\\nid                                                                  \n284921427   Sudoku                  4.0             3553.0   2.99   \n284926400  Reversi                  3.5              284.0   1.99   \n\n                          developer age_rating  \\\nid                                               \n284921427  Mighty Mighty Good Games         4+   \n284926400          Kiss The Machine         4+   \n\n                                                   languages        size  \\\nid                                                                         \n284921427  DA, NL, EN, FI, FR, DE, IT, JA, KO, NB, PL, PT...  15853568.0   \n284926400                                                 EN  12328960.0   \n\n          primary_genre                   genres original_release_date  \\\nid                                                                       \n284921427         Games  Games, Strategy, Puzzle            11/07/2008   \n284926400         Games   Games, Strategy, Board            11/07/2008   \n\n          current_version_release_date  \nid                                      \n284921427                   30/05/2017  \n284926400                   17/05/2018  ",
      "text/html": "<div>\n<style scoped>\n    .dataframe tbody tr th:only-of-type {\n        vertical-align: middle;\n    }\n\n    .dataframe tbody tr th {\n        vertical-align: top;\n    }\n\n    .dataframe thead th {\n        text-align: right;\n    }\n</style>\n<table border=\"1\" class=\"dataframe\">\n  <thead>\n    <tr style=\"text-align: right;\">\n      <th></th>\n      <th>name</th>\n      <th>average_user_rating</th>\n      <th>user_rating_count</th>\n      <th>price</th>\n      <th>developer</th>\n      <th>age_rating</th>\n      <th>languages</th>\n      <th>size</th>\n      <th>primary_genre</th>\n      <th>genres</th>\n      <th>original_release_date</th>\n      <th>current_version_release_date</th>\n    </tr>\n    <tr>\n      <th>id</th>\n      <th></th>\n      <th></th>\n      <th></th>\n      <th></th>\n      <th></th>\n      <th></th>\n      <th></th>\n      <th></th>\n      <th></th>\n      <th></th>\n      <th></th>\n      <th></th>\n    </tr>\n  </thead>\n  <tbody>\n    <tr>\n      <th>284921427</th>\n      <td>Sudoku</td>\n      <td>4.0</td>\n      <td>3553.0</td>\n      <td>2.99</td>\n      <td>Mighty Mighty Good Games</td>\n      <td>4+</td>\n      <td>DA, NL, EN, FI, FR, DE, IT, JA, KO, NB, PL, PT...</td>\n      <td>15853568.0</td>\n      <td>Games</td>\n      <td>Games, Strategy, Puzzle</td>\n      <td>11/07/2008</td>\n      <td>30/05/2017</td>\n    </tr>\n    <tr>\n      <th>284926400</th>\n      <td>Reversi</td>\n      <td>3.5</td>\n      <td>284.0</td>\n      <td>1.99</td>\n      <td>Kiss The Machine</td>\n      <td>4+</td>\n      <td>EN</td>\n      <td>12328960.0</td>\n      <td>Games</td>\n      <td>Games, Strategy, Board</td>\n      <td>11/07/2008</td>\n      <td>17/05/2018</td>\n    </tr>\n  </tbody>\n</table>\n</div>"
     },
     "execution_count": 47,
     "metadata": {},
     "output_type": "execute_result"
    }
   ],
   "source": [
    "df.head(2)"
   ],
   "metadata": {
    "collapsed": false,
    "ExecuteTime": {
     "end_time": "2024-02-09T12:24:21.561436800Z",
     "start_time": "2024-02-09T12:24:21.522072Z"
    }
   },
   "id": "3ffe91841236c36"
  },
  {
   "cell_type": "code",
   "execution_count": 49,
   "outputs": [
    {
     "data": {
      "text/plain": "primary_genre\nGames                16286\nEducation              222\nEntertainment          198\nUtilities               77\nSports                  60\nReference               32\nStickers                29\nFinance                 18\nBusiness                16\nProductivity            15\nLifestyle               10\nBook                     9\nSocial Networking        9\nNews                     7\nHealth & Fitness         5\nFood & Drink             4\nMusic                    3\nNavigation               3\nMedical                  2\nTravel                   1\nShopping                 1\nName: count, dtype: int64"
     },
     "execution_count": 49,
     "metadata": {},
     "output_type": "execute_result"
    }
   ],
   "source": [
    "df.primary_genre.value_counts() # Zlicza nam ilość wartości w dataframe"
   ],
   "metadata": {
    "collapsed": false,
    "ExecuteTime": {
     "end_time": "2024-02-09T12:24:51.090618600Z",
     "start_time": "2024-02-09T12:24:51.055175800Z"
    }
   },
   "id": "63fd61a0542daf8f"
  },
  {
   "cell_type": "code",
   "execution_count": 50,
   "outputs": [
    {
     "data": {
      "text/plain": "primary_genre\nGames            16286\nEducation          222\nEntertainment      198\nUtilities           77\nSports              60\nName: count, dtype: int64"
     },
     "execution_count": 50,
     "metadata": {},
     "output_type": "execute_result"
    }
   ],
   "source": [
    "df.primary_genre.value_counts().nlargest(5)"
   ],
   "metadata": {
    "collapsed": false,
    "ExecuteTime": {
     "end_time": "2024-02-09T12:25:35.491509800Z",
     "start_time": "2024-02-09T12:25:35.425204Z"
    }
   },
   "id": "e842aa420cbb1475"
  },
  {
   "cell_type": "code",
   "execution_count": 52,
   "outputs": [
    {
     "data": {
      "text/plain": "['Games', 'Education', 'Entertainment', 'Utilities', 'Sports']"
     },
     "execution_count": 52,
     "metadata": {},
     "output_type": "execute_result"
    }
   ],
   "source": [
    "list(df.primary_genre.value_counts().nlargest(5).index)"
   ],
   "metadata": {
    "collapsed": false,
    "ExecuteTime": {
     "end_time": "2024-02-09T12:26:00.188664100Z",
     "start_time": "2024-02-09T12:26:00.171147800Z"
    }
   },
   "id": "a89983e559d376d5"
  },
  {
   "cell_type": "code",
   "execution_count": 53,
   "outputs": [
    {
     "data": {
      "text/plain": "age_rating\n4+     11806\n9+      2481\n12+     2055\n17+      665\nName: count, dtype: int64"
     },
     "execution_count": 53,
     "metadata": {},
     "output_type": "execute_result"
    }
   ],
   "source": [
    "df.age_rating.value_counts()"
   ],
   "metadata": {
    "collapsed": false,
    "ExecuteTime": {
     "end_time": "2024-02-09T12:26:36.537925200Z",
     "start_time": "2024-02-09T12:26:36.510886900Z"
    }
   },
   "id": "40b29b8980621546"
  },
  {
   "cell_type": "code",
   "execution_count": 54,
   "outputs": [
    {
     "data": {
      "text/plain": "pandas.core.series.Series"
     },
     "execution_count": 54,
     "metadata": {},
     "output_type": "execute_result"
    }
   ],
   "source": [
    "type(df.age_rating.value_counts())"
   ],
   "metadata": {
    "collapsed": false,
    "ExecuteTime": {
     "end_time": "2024-02-09T12:27:04.728023500Z",
     "start_time": "2024-02-09T12:27:04.681823600Z"
    }
   },
   "id": "39b7283809cf188a"
  },
  {
   "cell_type": "code",
   "execution_count": 56,
   "outputs": [
    {
     "data": {
      "text/plain": "<Figure size 640x480 with 1 Axes>",
      "image/png": "[encoded data removed]"
     },
     "metadata": {},
     "output_type": "display_data"
    }
   ],
   "source": [
    "import seaborn as sns\n",
    "sns.set()\n",
    "\n",
    "_ = df.age_rating.value_counts().plot(kind='bar')"
   ],
   "metadata": {
    "collapsed": false,
    "ExecuteTime": {
     "end_time": "2024-02-09T12:27:41.255304800Z",
     "start_time": "2024-02-09T12:27:41.070281700Z"
    }
   },
   "id": "79883ae4c482eb30"
  },
  {
   "cell_type": "code",
   "execution_count": 57,
   "outputs": [
    {
     "data": {
      "text/plain": "<Figure size 640x480 with 1 Axes>",
      "image/png": "[encoded data removed]"
     },
     "metadata": {},
     "output_type": "display_data"
    }
   ],
   "source": [
    "_ = df.age_rating.value_counts().plot(kind='pie')"
   ],
   "metadata": {
    "collapsed": false,
    "ExecuteTime": {
     "end_time": "2024-02-09T12:27:54.284505100Z",
     "start_time": "2024-02-09T12:27:54.211368600Z"
    }
   },
   "id": "313a9e92255e9a60"
  },
  {
   "cell_type": "code",
   "execution_count": 58,
   "outputs": [
    {
     "data": {
      "text/plain": "price\n0.00      14212\n0.99       1078\n1.99        515\n2.99        471\n4.99        237\n3.99        163\n9.99         88\n11.99        59\n5.99         42\n6.99         32\n179.99       30\n7.99         17\n8.99         13\n19.99         9\n14.99         4\n12.99         3\n16.99         2\n29.99         2\n139.99        1\n99.99         1\n37.99         1\n36.99         1\n18.99         1\n59.99         1\nName: count, dtype: int64"
     },
     "execution_count": 58,
     "metadata": {},
     "output_type": "execute_result"
    }
   ],
   "source": [
    "df.price.value_counts()"
   ],
   "metadata": {
    "collapsed": false,
    "ExecuteTime": {
     "end_time": "2024-02-09T12:28:17.161491Z",
     "start_time": "2024-02-09T12:28:17.127875600Z"
    }
   },
   "id": "b342c1e936ada0e1"
  },
  {
   "cell_type": "code",
   "execution_count": 59,
   "outputs": [
    {
     "data": {
      "text/plain": "average_user_rating\n4.5    2861\n4.0    1722\n5.0     990\n3.5     925\n3.0     514\n2.5     317\n2.0     158\n1.5      60\n1.0      14\nName: count, dtype: int64"
     },
     "execution_count": 59,
     "metadata": {},
     "output_type": "execute_result"
    }
   ],
   "source": [
    "df.average_user_rating.value_counts()"
   ],
   "metadata": {
    "collapsed": false,
    "ExecuteTime": {
     "end_time": "2024-02-09T12:28:31.358889400Z",
     "start_time": "2024-02-09T12:28:31.320638600Z"
    }
   },
   "id": "95af70023745aca6"
  },
  {
   "cell_type": "code",
   "execution_count": 60,
   "outputs": [
    {
     "data": {
      "text/plain": "id\n284921427     DA, NL, EN, FI, FR, DE, IT, JA, KO, NB, PL, PT...\n284926400                                                    EN\n284946595                                                    EN\n285755462     DA, NL, EN, FI, FR, DE, IT, JA, KO, NB, PL, PT...\n285831220     DA, NL, EN, FR, DE, EL, IT, JA, KO, NO, PT, RU...\n                                    ...                        \n1474626442                                                   EN\n1474919257                                                   EN\n1474962324                                                   EN\n1474963671                                                   EN\n1475076711                                               EN, ZH\nName: languages, Length: 17007, dtype: object"
     },
     "execution_count": 60,
     "metadata": {},
     "output_type": "execute_result"
    }
   ],
   "source": [
    "df.languages"
   ],
   "metadata": {
    "collapsed": false,
    "ExecuteTime": {
     "end_time": "2024-02-09T12:29:08.217097600Z",
     "start_time": "2024-02-09T12:29:08.181201200Z"
    }
   },
   "id": "90eff5a06106d3bc"
  },
  {
   "cell_type": "code",
   "execution_count": 61,
   "outputs": [
    {
     "data": {
      "text/plain": "languages\nEN                                                                            12467\nEN, ZH                                                                          354\nCS, NL, EN, FR, DE, IT, JA, KO, PL, PT, RU, ZH, ES, SV, ZH, TR                  277\nEN, ZH, ZH                                                                      248\nEN, DE                                                                          147\n                                                                              ...  \nDA, NL, EN, FI, FR, DE, IT, JA, KO, NO, PL, PT, RU, ZH, ES, SV, ZH, TR, UK        1\nEN, FR, IT, JA, KO, PT, RU, ES, TR                                                1\nDA, NL, EN, FR, DE, IT, NB, PL, PT, ZH, ES, SV, ZH, TR                            1\nEN, PT, ZH                                                                        1\nAR, NL, EN, FR, DE, ID, IT, JA, KO, PT, RU, ZH, ES, SV, TH, ZH, TR, VI            1\nName: count, Length: 990, dtype: int64"
     },
     "execution_count": 61,
     "metadata": {},
     "output_type": "execute_result"
    }
   ],
   "source": [
    "df.languages.value_counts()"
   ],
   "metadata": {
    "collapsed": false,
    "ExecuteTime": {
     "end_time": "2024-02-09T12:29:25.545311Z",
     "start_time": "2024-02-09T12:29:25.491891300Z"
    }
   },
   "id": "f48ddf4a7a7e089"
  },
  {
   "cell_type": "code",
   "execution_count": 62,
   "outputs": [
    {
     "data": {
      "text/plain": "id\n284921427     [DA, NL, EN, FI, FR, DE, IT, JA, KO, NB, PL, P...\n284926400                                                  [EN]\n284946595                                                  [EN]\n285755462     [DA, NL, EN, FI, FR, DE, IT, JA, KO, NB, PL, P...\n285831220     [DA, NL, EN, FR, DE, EL, IT, JA, KO, NO, PT, R...\n                                    ...                        \n1474626442                                                 [EN]\n1474919257                                                 [EN]\n1474962324                                                 [EN]\n1474963671                                                 [EN]\n1475076711                                             [EN, ZH]\nName: languages, Length: 17007, dtype: object"
     },
     "execution_count": 62,
     "metadata": {},
     "output_type": "execute_result"
    }
   ],
   "source": [
    "df.languages.str.split(', ')"
   ],
   "metadata": {
    "collapsed": false,
    "ExecuteTime": {
     "end_time": "2024-02-09T12:30:06.631949300Z",
     "start_time": "2024-02-09T12:30:06.585562200Z"
    }
   },
   "id": "cc3899d0cc9eedc3"
  },
  {
   "cell_type": "code",
   "execution_count": 63,
   "outputs": [
    {
     "data": {
      "text/plain": "id\n284921427     17.0\n284926400      1.0\n284946595      1.0\n285755462     17.0\n285831220     15.0\n              ... \n1474626442     1.0\n1474919257     1.0\n1474962324     1.0\n1474963671     1.0\n1475076711     2.0\nName: languages, Length: 17007, dtype: float64"
     },
     "execution_count": 63,
     "metadata": {},
     "output_type": "execute_result"
    }
   ],
   "source": [
    "df.languages.str.split(', ').str.len()"
   ],
   "metadata": {
    "collapsed": false,
    "ExecuteTime": {
     "end_time": "2024-02-09T12:31:12.054461600Z",
     "start_time": "2024-02-09T12:31:11.978486300Z"
    }
   },
   "id": "98a7e58ae8571c7f"
  },
  {
   "cell_type": "code",
   "execution_count": 65,
   "outputs": [
    {
     "data": {
      "text/plain": "                    name  average_user_rating  user_rating_count  price  \\\nid                                                                        \n284921427         Sudoku                  4.0             3553.0   2.99   \n284926400        Reversi                  3.5              284.0   1.99   \n284946595        Morocco                  3.0             8376.0   0.00   \n285755462  Sudoku (Free)                  3.5           190394.0   0.00   \n285831220   Senet Deluxe                  3.5               28.0   2.99   \n\n                          developer age_rating  \\\nid                                               \n284921427  Mighty Mighty Good Games         4+   \n284926400          Kiss The Machine         4+   \n284946595               Bayou Games         4+   \n285755462  Mighty Mighty Good Games         4+   \n285831220           RoGame Software         4+   \n\n                                                   languages        size  \\\nid                                                                         \n284921427  DA, NL, EN, FI, FR, DE, IT, JA, KO, NB, PL, PT...  15853568.0   \n284926400                                                 EN  12328960.0   \n284946595                                                 EN    674816.0   \n285755462  DA, NL, EN, FI, FR, DE, IT, JA, KO, NB, PL, PT...  21552128.0   \n285831220  DA, NL, EN, FR, DE, EL, IT, JA, KO, NO, PT, RU...  34689024.0   \n\n          primary_genre                             genres  \\\nid                                                           \n284921427         Games            Games, Strategy, Puzzle   \n284926400         Games             Games, Strategy, Board   \n284946595         Games             Games, Board, Strategy   \n285755462         Games            Games, Strategy, Puzzle   \n285831220         Games  Games, Strategy, Board, Education   \n\n          original_release_date current_version_release_date  num_lang  \nid                                                                      \n284921427            11/07/2008                   30/05/2017      17.0  \n284926400            11/07/2008                   17/05/2018       1.0  \n284946595            11/07/2008                    5/09/2017       1.0  \n285755462            23/07/2008                   30/05/2017      17.0  \n285831220            18/07/2008                   22/07/2018      15.0  ",
      "text/html": "<div>\n<style scoped>\n    .dataframe tbody tr th:only-of-type {\n        vertical-align: middle;\n    }\n\n    .dataframe tbody tr th {\n        vertical-align: top;\n    }\n\n    .dataframe thead th {\n        text-align: right;\n    }\n</style>\n<table border=\"1\" class=\"dataframe\">\n  <thead>\n    <tr style=\"text-align: right;\">\n      <th></th>\n      <th>name</th>\n      <th>average_user_rating</th>\n      <th>user_rating_count</th>\n      <th>price</th>\n      <th>developer</th>\n      <th>age_rating</th>\n      <th>languages</th>\n      <th>size</th>\n      <th>primary_genre</th>\n      <th>genres</th>\n      <th>original_release_date</th>\n      <th>current_version_release_date</th>\n      <th>num_lang</th>\n    </tr>\n    <tr>\n      <th>id</th>\n      <th></th>\n      <th></th>\n      <th></th>\n      <th></th>\n      <th></th>\n      <th></th>\n      <th></th>\n      <th></th>\n      <th></th>\n      <th></th>\n      <th></th>\n      <th></th>\n      <th></th>\n    </tr>\n  </thead>\n  <tbody>\n    <tr>\n      <th>284921427</th>\n      <td>Sudoku</td>\n      <td>4.0</td>\n      <td>3553.0</td>\n      <td>2.99</td>\n      <td>Mighty Mighty Good Games</td>\n      <td>4+</td>\n      <td>DA, NL, EN, FI, FR, DE, IT, JA, KO, NB, PL, PT...</td>\n      <td>15853568.0</td>\n      <td>Games</td>\n      <td>Games, Strategy, Puzzle</td>\n      <td>11/07/2008</td>\n      <td>30/05/2017</td>\n      <td>17.0</td>\n    </tr>\n    <tr>\n      <th>284926400</th>\n      <td>Reversi</td>\n      <td>3.5</td>\n      <td>284.0</td>\n      <td>1.99</td>\n      <td>Kiss The Machine</td>\n      <td>4+</td>\n      <td>EN</td>\n      <td>12328960.0</td>\n      <td>Games</td>\n      <td>Games, Strategy, Board</td>\n      <td>11/07/2008</td>\n      <td>17/05/2018</td>\n      <td>1.0</td>\n    </tr>\n    <tr>\n      <th>284946595</th>\n      <td>Morocco</td>\n      <td>3.0</td>\n      <td>8376.0</td>\n      <td>0.00</td>\n      <td>Bayou Games</td>\n      <td>4+</td>\n      <td>EN</td>\n      <td>674816.0</td>\n      <td>Games</td>\n      <td>Games, Board, Strategy</td>\n      <td>11/07/2008</td>\n      <td>5/09/2017</td>\n      <td>1.0</td>\n    </tr>\n    <tr>\n      <th>285755462</th>\n      <td>Sudoku (Free)</td>\n      <td>3.5</td>\n      <td>190394.0</td>\n      <td>0.00</td>\n      <td>Mighty Mighty Good Games</td>\n      <td>4+</td>\n      <td>DA, NL, EN, FI, FR, DE, IT, JA, KO, NB, PL, PT...</td>\n      <td>21552128.0</td>\n      <td>Games</td>\n      <td>Games, Strategy, Puzzle</td>\n      <td>23/07/2008</td>\n      <td>30/05/2017</td>\n      <td>17.0</td>\n    </tr>\n    <tr>\n      <th>285831220</th>\n      <td>Senet Deluxe</td>\n      <td>3.5</td>\n      <td>28.0</td>\n      <td>2.99</td>\n      <td>RoGame Software</td>\n      <td>4+</td>\n      <td>DA, NL, EN, FR, DE, EL, IT, JA, KO, NO, PT, RU...</td>\n      <td>34689024.0</td>\n      <td>Games</td>\n      <td>Games, Strategy, Board, Education</td>\n      <td>18/07/2008</td>\n      <td>22/07/2018</td>\n      <td>15.0</td>\n    </tr>\n  </tbody>\n</table>\n</div>"
     },
     "execution_count": 65,
     "metadata": {},
     "output_type": "execute_result"
    }
   ],
   "source": [
    "df['num_lang'] = df.languages.str.split(', ').str.len()\n",
    "df.head()"
   ],
   "metadata": {
    "collapsed": false,
    "ExecuteTime": {
     "end_time": "2024-02-09T12:31:29.801406800Z",
     "start_time": "2024-02-09T12:31:29.788372700Z"
    }
   },
   "id": "30d6087b92a1f570"
  },
  {
   "cell_type": "code",
   "execution_count": 66,
   "outputs": [
    {
     "data": {
      "text/plain": "num_lang\n1.0      12566\n2.0       1102\n3.0        495\n16.0       316\n4.0        261\n5.0        247\n6.0        220\n25.0       171\n9.0        154\n11.0       147\n8.0        142\n7.0        140\n10.0       140\n31.0       133\n12.0        91\n21.0        77\n14.0        64\n13.0        64\n15.0        54\n17.0        37\n30.0        35\n19.0        34\n32.0        34\n33.0        33\n22.0        31\n18.0        24\n46.0        20\n26.0        18\n20.0        14\n24.0        13\n23.0        11\n27.0        11\n28.0         9\n29.0         8\n45.0         6\n44.0         5\n65.0         4\n42.0         3\n43.0         3\n36.0         2\n49.0         2\n48.0         1\n66.0         1\n35.0         1\n34.0         1\n111.0        1\n76.0         1\nName: count, dtype: int64"
     },
     "execution_count": 66,
     "metadata": {},
     "output_type": "execute_result"
    }
   ],
   "source": [
    "df.num_lang.value_counts()"
   ],
   "metadata": {
    "collapsed": false,
    "ExecuteTime": {
     "end_time": "2024-02-09T12:32:38.119844800Z",
     "start_time": "2024-02-09T12:32:38.077497Z"
    }
   },
   "id": "e5682b13a23cc302"
  },
  {
   "cell_type": "markdown",
   "source": [
    "### Sprawdzanie braków danych"
   ],
   "metadata": {
    "collapsed": false
   },
   "id": "b4871a9399f0e174"
  },
  {
   "cell_type": "code",
   "execution_count": 67,
   "outputs": [
    {
     "name": "stdout",
     "output_type": "stream",
     "text": [
      "<class 'pandas.core.frame.DataFrame'>\n",
      "Index: 17007 entries, 284921427 to 1475076711\n",
      "Data columns (total 13 columns):\n",
      " #   Column                        Non-Null Count  Dtype  \n",
      "---  ------                        --------------  -----  \n",
      " 0   name                          17007 non-null  object \n",
      " 1   average_user_rating           7561 non-null   float64\n",
      " 2   user_rating_count             7561 non-null   float64\n",
      " 3   price                         16983 non-null  float64\n",
      " 4   developer                     17007 non-null  object \n",
      " 5   age_rating                    17007 non-null  object \n",
      " 6   languages                     16947 non-null  object \n",
      " 7   size                          17006 non-null  float64\n",
      " 8   primary_genre                 17007 non-null  object \n",
      " 9   genres                        17007 non-null  object \n",
      " 10  original_release_date         17007 non-null  object \n",
      " 11  current_version_release_date  17007 non-null  object \n",
      " 12  num_lang                      16947 non-null  float64\n",
      "dtypes: float64(5), object(8)\n",
      "memory usage: 1.8+ MB\n"
     ]
    }
   ],
   "source": [
    "df.info()"
   ],
   "metadata": {
    "collapsed": false,
    "ExecuteTime": {
     "end_time": "2024-02-09T12:33:10.723299Z",
     "start_time": "2024-02-09T12:33:10.680562200Z"
    }
   },
   "id": "baeaa069075901a"
  },
  {
   "cell_type": "code",
   "execution_count": 68,
   "outputs": [
    {
     "data": {
      "text/plain": "average_user_rating\n4.5    2861\n4.0    1722\n5.0     990\n3.5     925\n3.0     514\n2.5     317\n2.0     158\n1.5      60\n1.0      14\nName: count, dtype: int64"
     },
     "execution_count": 68,
     "metadata": {},
     "output_type": "execute_result"
    }
   ],
   "source": [
    "df.average_user_rating.value_counts()"
   ],
   "metadata": {
    "collapsed": false,
    "ExecuteTime": {
     "end_time": "2024-02-09T12:33:46.534845700Z",
     "start_time": "2024-02-09T12:33:46.499777200Z"
    }
   },
   "id": "aea9142c7c955aea"
  },
  {
   "cell_type": "code",
   "execution_count": 69,
   "outputs": [
    {
     "data": {
      "text/plain": "average_user_rating\nNaN    9446\n4.5    2861\n4.0    1722\n5.0     990\n3.5     925\n3.0     514\n2.5     317\n2.0     158\n1.5      60\n1.0      14\nName: count, dtype: int64"
     },
     "execution_count": 69,
     "metadata": {},
     "output_type": "execute_result"
    }
   ],
   "source": [
    "df.average_user_rating.value_counts(dropna=False)"
   ],
   "metadata": {
    "collapsed": false,
    "ExecuteTime": {
     "end_time": "2024-02-09T12:34:16.548291500Z",
     "start_time": "2024-02-09T12:34:16.514634700Z"
    }
   },
   "id": "46125cef974691a"
  },
  {
   "cell_type": "code",
   "execution_count": 70,
   "outputs": [
    {
     "data": {
      "text/plain": "             name  average_user_rating  user_rating_count  price  developer  \\\nid                                                                            \n284921427   False                False              False  False      False   \n284926400   False                False              False  False      False   \n284946595   False                False              False  False      False   \n285755462   False                False              False  False      False   \n285831220   False                False              False  False      False   \n...           ...                  ...                ...    ...        ...   \n1474626442  False                 True               True  False      False   \n1474919257  False                 True               True  False      False   \n1474962324  False                 True               True  False      False   \n1474963671  False                 True               True  False      False   \n1475076711  False                 True               True  False      False   \n\n            age_rating  languages   size  primary_genre  genres  \\\nid                                                                \n284921427        False      False  False          False   False   \n284926400        False      False  False          False   False   \n284946595        False      False  False          False   False   \n285755462        False      False  False          False   False   \n285831220        False      False  False          False   False   \n...                ...        ...    ...            ...     ...   \n1474626442       False      False  False          False   False   \n1474919257       False      False  False          False   False   \n1474962324       False      False  False          False   False   \n1474963671       False      False  False          False   False   \n1475076711       False      False  False          False   False   \n\n            original_release_date  current_version_release_date  num_lang  \nid                                                                         \n284921427                   False                         False     False  \n284926400                   False                         False     False  \n284946595                   False                         False     False  \n285755462                   False                         False     False  \n285831220                   False                         False     False  \n...                           ...                           ...       ...  \n1474626442                  False                         False     False  \n1474919257                  False                         False     False  \n1474962324                  False                         False     False  \n1474963671                  False                         False     False  \n1475076711                  False                         False     False  \n\n[17007 rows x 13 columns]",
      "text/html": "<div>\n<style scoped>\n    .dataframe tbody tr th:only-of-type {\n        vertical-align: middle;\n    }\n\n    .dataframe tbody tr th {\n        vertical-align: top;\n    }\n\n    .dataframe thead th {\n        text-align: right;\n    }\n</style>\n<table border=\"1\" class=\"dataframe\">\n  <thead>\n    <tr style=\"text-align: right;\">\n      <th></th>\n      <th>name</th>\n      <th>average_user_rating</th>\n      <th>user_rating_count</th>\n      <th>price</th>\n      <th>developer</th>\n      <th>age_rating</th>\n      <th>languages</th>\n      <th>size</th>\n      <th>primary_genre</th>\n      <th>genres</th>\n      <th>original_release_date</th>\n      <th>current_version_release_date</th>\n      <th>num_lang</th>\n    </tr>\n    <tr>\n      <th>id</th>\n      <th></th>\n      <th></th>\n      <th></th>\n      <th></th>\n      <th></th>\n      <th></th>\n      <th></th>\n      <th></th>\n      <th></th>\n      <th></th>\n      <th></th>\n      <th></th>\n      <th></th>\n    </tr>\n  </thead>\n  <tbody>\n    <tr>\n      <th>284921427</th>\n      <td>False</td>\n      <td>False</td>\n      <td>False</td>\n      <td>False</td>\n      <td>False</td>\n      <td>False</td>\n      <td>False</td>\n      <td>False</td>\n      <td>False</td>\n      <td>False</td>\n      <td>False</td>\n      <td>False</td>\n      <td>False</td>\n    </tr>\n    <tr>\n      <th>284926400</th>\n      <td>False</td>\n      <td>False</td>\n      <td>False</td>\n      <td>False</td>\n      <td>False</td>\n      <td>False</td>\n      <td>False</td>\n      <td>False</td>\n      <td>False</td>\n      <td>False</td>\n      <td>False</td>\n      <td>False</td>\n      <td>False</td>\n    </tr>\n    <tr>\n      <th>284946595</th>\n      <td>False</td>\n      <td>False</td>\n      <td>False</td>\n      <td>False</td>\n      <td>False</td>\n      <td>False</td>\n      <td>False</td>\n      <td>False</td>\n      <td>False</td>\n      <td>False</td>\n      <td>False</td>\n      <td>False</td>\n      <td>False</td>\n    </tr>\n    <tr>\n      <th>285755462</th>\n      <td>False</td>\n      <td>False</td>\n      <td>False</td>\n      <td>False</td>\n      <td>False</td>\n      <td>False</td>\n      <td>False</td>\n      <td>False</td>\n      <td>False</td>\n      <td>False</td>\n      <td>False</td>\n      <td>False</td>\n      <td>False</td>\n    </tr>\n    <tr>\n      <th>285831220</th>\n      <td>False</td>\n      <td>False</td>\n      <td>False</td>\n      <td>False</td>\n      <td>False</td>\n      <td>False</td>\n      <td>False</td>\n      <td>False</td>\n      <td>False</td>\n      <td>False</td>\n      <td>False</td>\n      <td>False</td>\n      <td>False</td>\n    </tr>\n    <tr>\n      <th>...</th>\n      <td>...</td>\n      <td>...</td>\n      <td>...</td>\n      <td>...</td>\n      <td>...</td>\n      <td>...</td>\n      <td>...</td>\n      <td>...</td>\n      <td>...</td>\n      <td>...</td>\n      <td>...</td>\n      <td>...</td>\n      <td>...</td>\n    </tr>\n    <tr>\n      <th>1474626442</th>\n      <td>False</td>\n      <td>True</td>\n      <td>True</td>\n      <td>False</td>\n      <td>False</td>\n      <td>False</td>\n      <td>False</td>\n      <td>False</td>\n      <td>False</td>\n      <td>False</td>\n      <td>False</td>\n      <td>False</td>\n      <td>False</td>\n    </tr>\n    <tr>\n      <th>1474919257</th>\n      <td>False</td>\n      <td>True</td>\n      <td>True</td>\n      <td>False</td>\n      <td>False</td>\n      <td>False</td>\n      <td>False</td>\n      <td>False</td>\n      <td>False</td>\n      <td>False</td>\n      <td>False</td>\n      <td>False</td>\n      <td>False</td>\n    </tr>\n    <tr>\n      <th>1474962324</th>\n      <td>False</td>\n      <td>True</td>\n      <td>True</td>\n      <td>False</td>\n      <td>False</td>\n      <td>False</td>\n      <td>False</td>\n      <td>False</td>\n      <td>False</td>\n      <td>False</td>\n      <td>False</td>\n      <td>False</td>\n      <td>False</td>\n    </tr>\n    <tr>\n      <th>1474963671</th>\n      <td>False</td>\n      <td>True</td>\n      <td>True</td>\n      <td>False</td>\n      <td>False</td>\n      <td>False</td>\n      <td>False</td>\n      <td>False</td>\n      <td>False</td>\n      <td>False</td>\n      <td>False</td>\n      <td>False</td>\n      <td>False</td>\n    </tr>\n    <tr>\n      <th>1475076711</th>\n      <td>False</td>\n      <td>True</td>\n      <td>True</td>\n      <td>False</td>\n      <td>False</td>\n      <td>False</td>\n      <td>False</td>\n      <td>False</td>\n      <td>False</td>\n      <td>False</td>\n      <td>False</td>\n      <td>False</td>\n      <td>False</td>\n    </tr>\n  </tbody>\n</table>\n<p>17007 rows × 13 columns</p>\n</div>"
     },
     "execution_count": 70,
     "metadata": {},
     "output_type": "execute_result"
    }
   ],
   "source": [
    "df.isnull()"
   ],
   "metadata": {
    "collapsed": false,
    "ExecuteTime": {
     "end_time": "2024-02-09T12:34:27.602724800Z",
     "start_time": "2024-02-09T12:34:27.491342100Z"
    }
   },
   "id": "b7109dcedad0e5e"
  },
  {
   "cell_type": "code",
   "execution_count": 72,
   "outputs": [
    {
     "data": {
      "text/plain": "name                               0\naverage_user_rating             9446\nuser_rating_count               9446\nprice                             24\ndeveloper                          0\nage_rating                         0\nlanguages                         60\nsize                               1\nprimary_genre                      0\ngenres                             0\noriginal_release_date              0\ncurrent_version_release_date       0\nnum_lang                          60\ndtype: int64"
     },
     "execution_count": 72,
     "metadata": {},
     "output_type": "execute_result"
    }
   ],
   "source": [
    "df.isnull().sum()"
   ],
   "metadata": {
    "collapsed": false,
    "ExecuteTime": {
     "end_time": "2024-02-09T12:34:44.609495900Z",
     "start_time": "2024-02-09T12:34:44.572358Z"
    }
   },
   "id": "37002d387e71bf6c"
  },
  {
   "cell_type": "code",
   "execution_count": 73,
   "outputs": [],
   "source": [
    "df = df.dropna() # Usuwanie pustych danych"
   ],
   "metadata": {
    "collapsed": false,
    "ExecuteTime": {
     "end_time": "2024-02-09T12:35:05.554348500Z",
     "start_time": "2024-02-09T12:35:05.497518900Z"
    }
   },
   "id": "ac309e0effd1f44f"
  },
  {
   "cell_type": "code",
   "execution_count": 74,
   "outputs": [
    {
     "data": {
      "text/plain": "name                            0\naverage_user_rating             0\nuser_rating_count               0\nprice                           0\ndeveloper                       0\nage_rating                      0\nlanguages                       0\nsize                            0\nprimary_genre                   0\ngenres                          0\noriginal_release_date           0\ncurrent_version_release_date    0\nnum_lang                        0\ndtype: int64"
     },
     "execution_count": 74,
     "metadata": {},
     "output_type": "execute_result"
    }
   ],
   "source": [
    "df.isnull().sum()"
   ],
   "metadata": {
    "collapsed": false,
    "ExecuteTime": {
     "end_time": "2024-02-09T12:35:17.335072500Z",
     "start_time": "2024-02-09T12:35:17.285533800Z"
    }
   },
   "id": "870df367ad35452a"
  },
  {
   "cell_type": "code",
   "execution_count": 75,
   "outputs": [
    {
     "name": "stdout",
     "output_type": "stream",
     "text": [
      "<class 'pandas.core.frame.DataFrame'>\n",
      "Index: 7537 entries, 284921427 to 1474461379\n",
      "Data columns (total 13 columns):\n",
      " #   Column                        Non-Null Count  Dtype  \n",
      "---  ------                        --------------  -----  \n",
      " 0   name                          7537 non-null   object \n",
      " 1   average_user_rating           7537 non-null   float64\n",
      " 2   user_rating_count             7537 non-null   float64\n",
      " 3   price                         7537 non-null   float64\n",
      " 4   developer                     7537 non-null   object \n",
      " 5   age_rating                    7537 non-null   object \n",
      " 6   languages                     7537 non-null   object \n",
      " 7   size                          7537 non-null   float64\n",
      " 8   primary_genre                 7537 non-null   object \n",
      " 9   genres                        7537 non-null   object \n",
      " 10  original_release_date         7537 non-null   object \n",
      " 11  current_version_release_date  7537 non-null   object \n",
      " 12  num_lang                      7537 non-null   float64\n",
      "dtypes: float64(5), object(8)\n",
      "memory usage: 824.4+ KB\n"
     ]
    }
   ],
   "source": [
    "df.info()"
   ],
   "metadata": {
    "collapsed": false,
    "ExecuteTime": {
     "end_time": "2024-02-09T12:35:23.717776800Z",
     "start_time": "2024-02-09T12:35:23.672967200Z"
    }
   },
   "id": "67bdccd63fa6165f"
  },
  {
   "cell_type": "code",
   "execution_count": null,
   "outputs": [],
   "source": [],
   "metadata": {
    "collapsed": false
   },
   "id": "cd3587223c36241c"
  }
 ],
 "metadata": {
  "kernelspec": {
   "display_name": "Python 3",
   "language": "python",
   "name": "python3"
  },
  "language_info": {
   "codemirror_mode": {
    "name": "ipython",
    "version": 2
   },
   "file_extension": ".py",
   "mimetype": "text/x-python",
   "name": "python",
   "nbconvert_exporter": "python",
   "pygments_lexer": "ipython2",
   "version": "2.7.6"
  }
 },
 "nbformat": 4,
 "nbformat_minor": 5
}
