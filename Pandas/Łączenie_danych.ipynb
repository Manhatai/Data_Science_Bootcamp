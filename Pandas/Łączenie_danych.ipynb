{
 "cells": [
  {
   "cell_type": "markdown",
   "source": [
    "#### Wczytywanie danych"
   ],
   "metadata": {
    "collapsed": false
   },
   "id": "2c4ea0f31433ca4a"
  },
  {
   "cell_type": "code",
   "execution_count": 12,
   "outputs": [],
   "source": [
    "import numpy as np\n",
    "import pandas as pd\n",
    "import pandas_datareader"
   ],
   "metadata": {
    "collapsed": false,
    "ExecuteTime": {
     "end_time": "2024-02-05T17:25:43.912992700Z",
     "start_time": "2024-02-05T17:25:43.905965700Z"
    }
   },
   "id": "380fe837add60514"
  },
  {
   "cell_type": "code",
   "execution_count": 8,
   "id": "initial_id",
   "metadata": {
    "collapsed": true,
    "ExecuteTime": {
     "end_time": "2024-02-05T17:23:19.303905400Z",
     "start_time": "2024-02-05T17:23:16.877309600Z"
    }
   },
   "outputs": [],
   "source": [
    "def fetch_financial_data(company='AMZN'):\n",
    "    import pandas_datareader.data as web\n",
    "    return web.DataReader(name=company, data_source='stooq')\n",
    "\n",
    "apple = fetch_financial_data('AAPL')\n",
    "amazon = fetch_financial_data('AMZN')\n",
    "google = fetch_financial_data('GOOGL')\n",
    "uber = fetch_financial_data('UBER')"
   ]
  },
  {
   "cell_type": "code",
   "execution_count": 9,
   "outputs": [
    {
     "name": "stdout",
     "output_type": "stream",
     "text": [
      "<class 'pandas.core.frame.DataFrame'>\n",
      "DatetimeIndex: 1257 entries, 2024-02-02 to 2019-02-06\n",
      "Data columns (total 5 columns):\n",
      " #   Column  Non-Null Count  Dtype  \n",
      "---  ------  --------------  -----  \n",
      " 0   Open    1257 non-null   float64\n",
      " 1   High    1257 non-null   float64\n",
      " 2   Low     1257 non-null   float64\n",
      " 3   Close   1257 non-null   float64\n",
      " 4   Volume  1257 non-null   float64\n",
      "dtypes: float64(5)\n",
      "memory usage: 58.9 KB\n"
     ]
    }
   ],
   "source": [
    "apple.info()"
   ],
   "metadata": {
    "collapsed": false,
    "ExecuteTime": {
     "end_time": "2024-02-05T17:24:22.158469100Z",
     "start_time": "2024-02-05T17:24:22.150433100Z"
    }
   },
   "id": "7d2baa503359ffdb"
  },
  {
   "cell_type": "code",
   "execution_count": 10,
   "outputs": [
    {
     "name": "stdout",
     "output_type": "stream",
     "text": [
      "<class 'pandas.core.frame.DataFrame'>\n",
      "DatetimeIndex: 1192 entries, 2024-02-02 to 2019-05-10\n",
      "Data columns (total 5 columns):\n",
      " #   Column  Non-Null Count  Dtype  \n",
      "---  ------  --------------  -----  \n",
      " 0   Open    1192 non-null   float64\n",
      " 1   High    1192 non-null   float64\n",
      " 2   Low     1192 non-null   float64\n",
      " 3   Close   1192 non-null   float64\n",
      " 4   Volume  1192 non-null   int64  \n",
      "dtypes: float64(4), int64(1)\n",
      "memory usage: 55.9 KB\n"
     ]
    }
   ],
   "source": [
    "uber.info()"
   ],
   "metadata": {
    "collapsed": false,
    "ExecuteTime": {
     "end_time": "2024-02-05T17:24:25.971266400Z",
     "start_time": "2024-02-05T17:24:25.957752200Z"
    }
   },
   "id": "cb6072ac998d8a83"
  },
  {
   "cell_type": "code",
   "execution_count": 11,
   "outputs": [
    {
     "data": {
      "text/plain": "               Open     High     Low   Close       Volume\nDate                                                     \n2024-02-02  179.860  187.330  179.25  185.85  102551680.0\n2024-02-01  183.985  186.950  183.82  186.86   64885408.0\n2024-01-31  187.040  187.095  184.35  184.40   55467803.0\n2024-01-30  190.940  191.800  187.47  188.04   55859370.0\n2024-01-29  192.010  192.200  189.58  191.73   47145622.0",
      "text/html": "<div>\n<style scoped>\n    .dataframe tbody tr th:only-of-type {\n        vertical-align: middle;\n    }\n\n    .dataframe tbody tr th {\n        vertical-align: top;\n    }\n\n    .dataframe thead th {\n        text-align: right;\n    }\n</style>\n<table border=\"1\" class=\"dataframe\">\n  <thead>\n    <tr style=\"text-align: right;\">\n      <th></th>\n      <th>Open</th>\n      <th>High</th>\n      <th>Low</th>\n      <th>Close</th>\n      <th>Volume</th>\n    </tr>\n    <tr>\n      <th>Date</th>\n      <th></th>\n      <th></th>\n      <th></th>\n      <th></th>\n      <th></th>\n    </tr>\n  </thead>\n  <tbody>\n    <tr>\n      <th>2024-02-02</th>\n      <td>179.860</td>\n      <td>187.330</td>\n      <td>179.25</td>\n      <td>185.85</td>\n      <td>102551680.0</td>\n    </tr>\n    <tr>\n      <th>2024-02-01</th>\n      <td>183.985</td>\n      <td>186.950</td>\n      <td>183.82</td>\n      <td>186.86</td>\n      <td>64885408.0</td>\n    </tr>\n    <tr>\n      <th>2024-01-31</th>\n      <td>187.040</td>\n      <td>187.095</td>\n      <td>184.35</td>\n      <td>184.40</td>\n      <td>55467803.0</td>\n    </tr>\n    <tr>\n      <th>2024-01-30</th>\n      <td>190.940</td>\n      <td>191.800</td>\n      <td>187.47</td>\n      <td>188.04</td>\n      <td>55859370.0</td>\n    </tr>\n    <tr>\n      <th>2024-01-29</th>\n      <td>192.010</td>\n      <td>192.200</td>\n      <td>189.58</td>\n      <td>191.73</td>\n      <td>47145622.0</td>\n    </tr>\n  </tbody>\n</table>\n</div>"
     },
     "execution_count": 11,
     "metadata": {},
     "output_type": "execute_result"
    }
   ],
   "source": [
    "apple.head()"
   ],
   "metadata": {
    "collapsed": false,
    "ExecuteTime": {
     "end_time": "2024-02-05T17:24:51.474419700Z",
     "start_time": "2024-02-05T17:24:51.462588700Z"
    }
   },
   "id": "8846761c8dccbb2"
  },
  {
   "cell_type": "markdown",
   "source": [
    "### Preprocessing"
   ],
   "metadata": {
    "collapsed": false
   },
   "id": "688cd5ffdf9c142f"
  },
  {
   "cell_type": "code",
   "execution_count": 20,
   "outputs": [],
   "source": [
    "apple.columns = ['apple_' + col.lower() for col in apple.columns]\n",
    "amazon.columns = ['amazon_' + col.lower() for col in amazon.columns]\n",
    "google.columns = ['google_' + col.lower() for col in google.columns]\n",
    "uber.columns = ['apple_' + col.lower() for col in apple.columns]"
   ],
   "metadata": {
    "collapsed": false,
    "ExecuteTime": {
     "end_time": "2024-02-05T17:33:08.861666700Z",
     "start_time": "2024-02-05T17:33:08.844469500Z"
    }
   },
   "id": "99cdc33fe5472bd0"
  },
  {
   "cell_type": "code",
   "execution_count": 22,
   "outputs": [
    {
     "data": {
      "text/plain": "            apple_open  apple_high  apple_low  apple_close  apple_volume\nDate                                                                    \n2024-02-02    179.8600    187.3300   179.2500     185.8500  1.025517e+08\n2024-02-01    183.9850    186.9500   183.8200     186.8600  6.488541e+07\n2024-01-31    187.0400    187.0950   184.3500     184.4000  5.546780e+07\n2024-01-30    190.9400    191.8000   187.4700     188.0400  5.585937e+07\n2024-01-29    192.0100    192.2000   189.5800     191.7300  4.714562e+07\n...                ...         ...        ...          ...           ...\n2019-02-12     41.2202     41.4376    41.1246      41.4107  9.195574e+07\n2019-02-11     41.4495     41.4875    41.0149      41.0568  8.663199e+07\n2019-02-08     40.9501     41.3599    40.8105      41.2970  9.829607e+07\n2019-02-07     41.5981     41.9730    41.1026      41.2472  1.315478e+08\n2019-02-06     42.1375     42.3628    41.7098      42.0428  1.170340e+08\n\n[1257 rows x 5 columns]",
      "text/html": "<div>\n<style scoped>\n    .dataframe tbody tr th:only-of-type {\n        vertical-align: middle;\n    }\n\n    .dataframe tbody tr th {\n        vertical-align: top;\n    }\n\n    .dataframe thead th {\n        text-align: right;\n    }\n</style>\n<table border=\"1\" class=\"dataframe\">\n  <thead>\n    <tr style=\"text-align: right;\">\n      <th></th>\n      <th>apple_open</th>\n      <th>apple_high</th>\n      <th>apple_low</th>\n      <th>apple_close</th>\n      <th>apple_volume</th>\n    </tr>\n    <tr>\n      <th>Date</th>\n      <th></th>\n      <th></th>\n      <th></th>\n      <th></th>\n      <th></th>\n    </tr>\n  </thead>\n  <tbody>\n    <tr>\n      <th>2024-02-02</th>\n      <td>179.8600</td>\n      <td>187.3300</td>\n      <td>179.2500</td>\n      <td>185.8500</td>\n      <td>1.025517e+08</td>\n    </tr>\n    <tr>\n      <th>2024-02-01</th>\n      <td>183.9850</td>\n      <td>186.9500</td>\n      <td>183.8200</td>\n      <td>186.8600</td>\n      <td>6.488541e+07</td>\n    </tr>\n    <tr>\n      <th>2024-01-31</th>\n      <td>187.0400</td>\n      <td>187.0950</td>\n      <td>184.3500</td>\n      <td>184.4000</td>\n      <td>5.546780e+07</td>\n    </tr>\n    <tr>\n      <th>2024-01-30</th>\n      <td>190.9400</td>\n      <td>191.8000</td>\n      <td>187.4700</td>\n      <td>188.0400</td>\n      <td>5.585937e+07</td>\n    </tr>\n    <tr>\n      <th>2024-01-29</th>\n      <td>192.0100</td>\n      <td>192.2000</td>\n      <td>189.5800</td>\n      <td>191.7300</td>\n      <td>4.714562e+07</td>\n    </tr>\n    <tr>\n      <th>...</th>\n      <td>...</td>\n      <td>...</td>\n      <td>...</td>\n      <td>...</td>\n      <td>...</td>\n    </tr>\n    <tr>\n      <th>2019-02-12</th>\n      <td>41.2202</td>\n      <td>41.4376</td>\n      <td>41.1246</td>\n      <td>41.4107</td>\n      <td>9.195574e+07</td>\n    </tr>\n    <tr>\n      <th>2019-02-11</th>\n      <td>41.4495</td>\n      <td>41.4875</td>\n      <td>41.0149</td>\n      <td>41.0568</td>\n      <td>8.663199e+07</td>\n    </tr>\n    <tr>\n      <th>2019-02-08</th>\n      <td>40.9501</td>\n      <td>41.3599</td>\n      <td>40.8105</td>\n      <td>41.2970</td>\n      <td>9.829607e+07</td>\n    </tr>\n    <tr>\n      <th>2019-02-07</th>\n      <td>41.5981</td>\n      <td>41.9730</td>\n      <td>41.1026</td>\n      <td>41.2472</td>\n      <td>1.315478e+08</td>\n    </tr>\n    <tr>\n      <th>2019-02-06</th>\n      <td>42.1375</td>\n      <td>42.3628</td>\n      <td>41.7098</td>\n      <td>42.0428</td>\n      <td>1.170340e+08</td>\n    </tr>\n  </tbody>\n</table>\n<p>1257 rows × 5 columns</p>\n</div>"
     },
     "execution_count": 22,
     "metadata": {},
     "output_type": "execute_result"
    }
   ],
   "source": [
    "apple.columns = ['apple_open', 'apple_high', 'apple_low', 'apple_close', 'apple_volume']\n",
    "apple"
   ],
   "metadata": {
    "collapsed": false,
    "ExecuteTime": {
     "end_time": "2024-02-05T17:36:30.126338900Z",
     "start_time": "2024-02-05T17:36:30.104224700Z"
    }
   },
   "id": "741ad2029c068df0"
  },
  {
   "cell_type": "code",
   "execution_count": 18,
   "outputs": [
    {
     "data": {
      "text/plain": "            amazon_open  amazon_high  amazon_low  amazon_close  amazon_volume\nDate                                                                         \n2024-02-02       169.19       172.50      167.33        171.81      117218313\n2024-02-01       155.87       159.76      155.62        159.28       76542419\n2024-01-31       157.00       159.01      154.81        155.20       50284371\n2024-01-30       160.70       161.73      158.49        159.00       45207430\n2024-01-29       159.34       161.29      158.90        161.26       45270385",
      "text/html": "<div>\n<style scoped>\n    .dataframe tbody tr th:only-of-type {\n        vertical-align: middle;\n    }\n\n    .dataframe tbody tr th {\n        vertical-align: top;\n    }\n\n    .dataframe thead th {\n        text-align: right;\n    }\n</style>\n<table border=\"1\" class=\"dataframe\">\n  <thead>\n    <tr style=\"text-align: right;\">\n      <th></th>\n      <th>amazon_open</th>\n      <th>amazon_high</th>\n      <th>amazon_low</th>\n      <th>amazon_close</th>\n      <th>amazon_volume</th>\n    </tr>\n    <tr>\n      <th>Date</th>\n      <th></th>\n      <th></th>\n      <th></th>\n      <th></th>\n      <th></th>\n    </tr>\n  </thead>\n  <tbody>\n    <tr>\n      <th>2024-02-02</th>\n      <td>169.19</td>\n      <td>172.50</td>\n      <td>167.33</td>\n      <td>171.81</td>\n      <td>117218313</td>\n    </tr>\n    <tr>\n      <th>2024-02-01</th>\n      <td>155.87</td>\n      <td>159.76</td>\n      <td>155.62</td>\n      <td>159.28</td>\n      <td>76542419</td>\n    </tr>\n    <tr>\n      <th>2024-01-31</th>\n      <td>157.00</td>\n      <td>159.01</td>\n      <td>154.81</td>\n      <td>155.20</td>\n      <td>50284371</td>\n    </tr>\n    <tr>\n      <th>2024-01-30</th>\n      <td>160.70</td>\n      <td>161.73</td>\n      <td>158.49</td>\n      <td>159.00</td>\n      <td>45207430</td>\n    </tr>\n    <tr>\n      <th>2024-01-29</th>\n      <td>159.34</td>\n      <td>161.29</td>\n      <td>158.90</td>\n      <td>161.26</td>\n      <td>45270385</td>\n    </tr>\n  </tbody>\n</table>\n</div>"
     },
     "execution_count": 18,
     "metadata": {},
     "output_type": "execute_result"
    }
   ],
   "source": [
    "amazon.head()"
   ],
   "metadata": {
    "collapsed": false,
    "ExecuteTime": {
     "end_time": "2024-02-05T17:32:42.216056900Z",
     "start_time": "2024-02-05T17:32:42.191189900Z"
    }
   },
   "id": "4a4b7a28aec64adb"
  },
  {
   "cell_type": "code",
   "execution_count": 19,
   "outputs": [
    {
     "data": {
      "text/plain": "            google_open  google_high  google_low  google_close  google_volume\nDate                                                                         \n2024-02-02       139.26       142.62     136.500        142.38       62499574\n2024-02-01       142.12       143.06     140.790        141.16       40466549\n2024-01-31       143.62       144.00     139.870        140.10       71910044\n2024-01-30       152.80       153.62     151.185        151.46       36331833\n2024-01-29       152.06       153.78     151.430        153.51       27784259",
      "text/html": "<div>\n<style scoped>\n    .dataframe tbody tr th:only-of-type {\n        vertical-align: middle;\n    }\n\n    .dataframe tbody tr th {\n        vertical-align: top;\n    }\n\n    .dataframe thead th {\n        text-align: right;\n    }\n</style>\n<table border=\"1\" class=\"dataframe\">\n  <thead>\n    <tr style=\"text-align: right;\">\n      <th></th>\n      <th>google_open</th>\n      <th>google_high</th>\n      <th>google_low</th>\n      <th>google_close</th>\n      <th>google_volume</th>\n    </tr>\n    <tr>\n      <th>Date</th>\n      <th></th>\n      <th></th>\n      <th></th>\n      <th></th>\n      <th></th>\n    </tr>\n  </thead>\n  <tbody>\n    <tr>\n      <th>2024-02-02</th>\n      <td>139.26</td>\n      <td>142.62</td>\n      <td>136.500</td>\n      <td>142.38</td>\n      <td>62499574</td>\n    </tr>\n    <tr>\n      <th>2024-02-01</th>\n      <td>142.12</td>\n      <td>143.06</td>\n      <td>140.790</td>\n      <td>141.16</td>\n      <td>40466549</td>\n    </tr>\n    <tr>\n      <th>2024-01-31</th>\n      <td>143.62</td>\n      <td>144.00</td>\n      <td>139.870</td>\n      <td>140.10</td>\n      <td>71910044</td>\n    </tr>\n    <tr>\n      <th>2024-01-30</th>\n      <td>152.80</td>\n      <td>153.62</td>\n      <td>151.185</td>\n      <td>151.46</td>\n      <td>36331833</td>\n    </tr>\n    <tr>\n      <th>2024-01-29</th>\n      <td>152.06</td>\n      <td>153.78</td>\n      <td>151.430</td>\n      <td>153.51</td>\n      <td>27784259</td>\n    </tr>\n  </tbody>\n</table>\n</div>"
     },
     "execution_count": 19,
     "metadata": {},
     "output_type": "execute_result"
    }
   ],
   "source": [
    "google.head()"
   ],
   "metadata": {
    "collapsed": false,
    "ExecuteTime": {
     "end_time": "2024-02-05T17:32:49.083700Z",
     "start_time": "2024-02-05T17:32:49.047790800Z"
    }
   },
   "id": "b66667824166e998"
  },
  {
   "cell_type": "markdown",
   "source": [
    "### Konkatenacja danych"
   ],
   "metadata": {
    "collapsed": false
   },
   "id": "7860ba26f87b1967"
  },
  {
   "cell_type": "code",
   "execution_count": 23,
   "outputs": [
    {
     "data": {
      "text/plain": "            apple_open  apple_high  apple_low  apple_close  apple_volume  \\\nDate                                                                       \n2019-02-06     42.1375     42.3628    41.7098      42.0428  1.170340e+08   \n2019-02-07     41.5981     41.9730    41.1026      41.2472  1.315478e+08   \n2019-02-08     40.9501     41.3599    40.8105      41.2970  9.829607e+07   \n2019-02-11     41.4495     41.4875    41.0149      41.0568  8.663199e+07   \n2019-02-12     41.2202     41.4376    41.1246      41.4107  9.195574e+07   \n...                ...         ...        ...          ...           ...   \n2024-01-29    192.0100    192.2000   189.5800     191.7300  4.714562e+07   \n2024-01-30    190.9400    191.8000   187.4700     188.0400  5.585937e+07   \n2024-01-31    187.0400    187.0950   184.3500     184.4000  5.546780e+07   \n2024-02-01    183.9850    186.9500   183.8200     186.8600  6.488541e+07   \n2024-02-02    179.8600    187.3300   179.2500     185.8500  1.025517e+08   \n\n            amazon_amazon_open  amazon_amazon_high  amazon_amazon_low  \\\nDate                                                                    \n2019-02-06             83.5375             83.6130            81.6670   \n2019-02-07             81.2500             81.2770            79.6455   \n2019-02-08             79.3000             79.4295            78.3380   \n2019-02-11             80.0490             80.4645            79.3000   \n2019-02-12             80.2000             81.9700            79.9440   \n...                        ...                 ...                ...   \n2024-01-29            159.3400            161.2900           158.9000   \n2024-01-30            160.7000            161.7300           158.4900   \n2024-01-31            157.0000            159.0100           154.8100   \n2024-02-01            155.8700            159.7600           155.6200   \n2024-02-02            169.1900            172.5000           167.3300   \n\n            amazon_amazon_close  amazon_amazon_volume  google_google_open  \\\nDate                                                                        \n2019-02-06              82.0130              78797660             57.4635   \n2019-02-07              80.7185              92531780             55.5910   \n2019-02-08              79.4110             113149140             54.7440   \n2019-02-11              79.5500              66346560             55.1875   \n2019-02-12              81.9005              97172080             55.5505   \n...                         ...                   ...                 ...   \n2024-01-29             161.2600              45270385            152.0600   \n2024-01-30             159.0000              45207430            152.8000   \n2024-01-31             155.2000              50284371            143.6200   \n2024-02-01             159.2800              76542419            142.1200   \n2024-02-02             171.8100             117218313            139.2600   \n\n            google_google_high  google_google_low  google_google_close  \\\nDate                                                                     \n2019-02-06             57.7000            55.9180              56.1445   \n2019-02-07             55.5995            54.6795              55.2955   \n2019-02-08             55.2550            54.7120              55.1190   \n2019-02-11             55.6715            55.0000              55.1060   \n2019-02-12             56.6430            55.5505              56.3790   \n...                        ...                ...                  ...   \n2024-01-29            153.7800           151.4300             153.5100   \n2024-01-30            153.6200           151.1850             151.4600   \n2024-01-31            144.0000           139.8700             140.1000   \n2024-02-01            143.0600           140.7900             141.1600   \n2024-02-02            142.6200           136.5000             142.3800   \n\n            google_google_volume  apple_apple_apple_apple_apple_open  \\\nDate                                                                   \n2019-02-06              48256400                                 NaN   \n2019-02-07              38297540                                 NaN   \n2019-02-08              21766540                                 NaN   \n2019-02-11              18497620                                 NaN   \n2019-02-12              35035420                                 NaN   \n...                          ...                                 ...   \n2024-01-29              27784259                               65.60   \n2024-01-30              36331833                               66.90   \n2024-01-31              71910044                               65.70   \n2024-02-01              40466549                               66.12   \n2024-02-02              62499574                               66.98   \n\n            apple_apple_apple_apple_apple_high  \\\nDate                                             \n2019-02-06                                 NaN   \n2019-02-07                                 NaN   \n2019-02-08                                 NaN   \n2019-02-11                                 NaN   \n2019-02-12                                 NaN   \n...                                        ...   \n2024-01-29                               67.10   \n2024-01-30                               67.69   \n2024-01-31                               66.25   \n2024-02-01                               66.85   \n2024-02-02                               68.25   \n\n            apple_apple_apple_apple_apple_low  \\\nDate                                            \n2019-02-06                                NaN   \n2019-02-07                                NaN   \n2019-02-08                                NaN   \n2019-02-11                                NaN   \n2019-02-12                                NaN   \n...                                       ...   \n2024-01-29                             65.560   \n2024-01-30                             66.220   \n2024-01-31                             64.845   \n2024-02-01                             65.590   \n2024-02-02                             66.510   \n\n            apple_apple_apple_apple_apple_close  \\\nDate                                              \n2019-02-06                                  NaN   \n2019-02-07                                  NaN   \n2019-02-08                                  NaN   \n2019-02-11                                  NaN   \n2019-02-12                                  NaN   \n...                                         ...   \n2024-01-29                                66.98   \n2024-01-30                                66.84   \n2024-01-31                                65.27   \n2024-02-01                                66.73   \n2024-02-02                                68.07   \n\n            apple_apple_apple_apple_apple_volume  \nDate                                              \n2019-02-06                                   NaN  \n2019-02-07                                   NaN  \n2019-02-08                                   NaN  \n2019-02-11                                   NaN  \n2019-02-12                                   NaN  \n...                                          ...  \n2024-01-29                            15902036.0  \n2024-01-30                            17562145.0  \n2024-01-31                            17026414.0  \n2024-02-01                            12504225.0  \n2024-02-02                            18671765.0  \n\n[1257 rows x 20 columns]",
      "text/html": "<div>\n<style scoped>\n    .dataframe tbody tr th:only-of-type {\n        vertical-align: middle;\n    }\n\n    .dataframe tbody tr th {\n        vertical-align: top;\n    }\n\n    .dataframe thead th {\n        text-align: right;\n    }\n</style>\n<table border=\"1\" class=\"dataframe\">\n  <thead>\n    <tr style=\"text-align: right;\">\n      <th></th>\n      <th>apple_open</th>\n      <th>apple_high</th>\n      <th>apple_low</th>\n      <th>apple_close</th>\n      <th>apple_volume</th>\n      <th>amazon_amazon_open</th>\n      <th>amazon_amazon_high</th>\n      <th>amazon_amazon_low</th>\n      <th>amazon_amazon_close</th>\n      <th>amazon_amazon_volume</th>\n      <th>google_google_open</th>\n      <th>google_google_high</th>\n      <th>google_google_low</th>\n      <th>google_google_close</th>\n      <th>google_google_volume</th>\n      <th>apple_apple_apple_apple_apple_open</th>\n      <th>apple_apple_apple_apple_apple_high</th>\n      <th>apple_apple_apple_apple_apple_low</th>\n      <th>apple_apple_apple_apple_apple_close</th>\n      <th>apple_apple_apple_apple_apple_volume</th>\n    </tr>\n    <tr>\n      <th>Date</th>\n      <th></th>\n      <th></th>\n      <th></th>\n      <th></th>\n      <th></th>\n      <th></th>\n      <th></th>\n      <th></th>\n      <th></th>\n      <th></th>\n      <th></th>\n      <th></th>\n      <th></th>\n      <th></th>\n      <th></th>\n      <th></th>\n      <th></th>\n      <th></th>\n      <th></th>\n      <th></th>\n    </tr>\n  </thead>\n  <tbody>\n    <tr>\n      <th>2019-02-06</th>\n      <td>42.1375</td>\n      <td>42.3628</td>\n      <td>41.7098</td>\n      <td>42.0428</td>\n      <td>1.170340e+08</td>\n      <td>83.5375</td>\n      <td>83.6130</td>\n      <td>81.6670</td>\n      <td>82.0130</td>\n      <td>78797660</td>\n      <td>57.4635</td>\n      <td>57.7000</td>\n      <td>55.9180</td>\n      <td>56.1445</td>\n      <td>48256400</td>\n      <td>NaN</td>\n      <td>NaN</td>\n      <td>NaN</td>\n      <td>NaN</td>\n      <td>NaN</td>\n    </tr>\n    <tr>\n      <th>2019-02-07</th>\n      <td>41.5981</td>\n      <td>41.9730</td>\n      <td>41.1026</td>\n      <td>41.2472</td>\n      <td>1.315478e+08</td>\n      <td>81.2500</td>\n      <td>81.2770</td>\n      <td>79.6455</td>\n      <td>80.7185</td>\n      <td>92531780</td>\n      <td>55.5910</td>\n      <td>55.5995</td>\n      <td>54.6795</td>\n      <td>55.2955</td>\n      <td>38297540</td>\n      <td>NaN</td>\n      <td>NaN</td>\n      <td>NaN</td>\n      <td>NaN</td>\n      <td>NaN</td>\n    </tr>\n    <tr>\n      <th>2019-02-08</th>\n      <td>40.9501</td>\n      <td>41.3599</td>\n      <td>40.8105</td>\n      <td>41.2970</td>\n      <td>9.829607e+07</td>\n      <td>79.3000</td>\n      <td>79.4295</td>\n      <td>78.3380</td>\n      <td>79.4110</td>\n      <td>113149140</td>\n      <td>54.7440</td>\n      <td>55.2550</td>\n      <td>54.7120</td>\n      <td>55.1190</td>\n      <td>21766540</td>\n      <td>NaN</td>\n      <td>NaN</td>\n      <td>NaN</td>\n      <td>NaN</td>\n      <td>NaN</td>\n    </tr>\n    <tr>\n      <th>2019-02-11</th>\n      <td>41.4495</td>\n      <td>41.4875</td>\n      <td>41.0149</td>\n      <td>41.0568</td>\n      <td>8.663199e+07</td>\n      <td>80.0490</td>\n      <td>80.4645</td>\n      <td>79.3000</td>\n      <td>79.5500</td>\n      <td>66346560</td>\n      <td>55.1875</td>\n      <td>55.6715</td>\n      <td>55.0000</td>\n      <td>55.1060</td>\n      <td>18497620</td>\n      <td>NaN</td>\n      <td>NaN</td>\n      <td>NaN</td>\n      <td>NaN</td>\n      <td>NaN</td>\n    </tr>\n    <tr>\n      <th>2019-02-12</th>\n      <td>41.2202</td>\n      <td>41.4376</td>\n      <td>41.1246</td>\n      <td>41.4107</td>\n      <td>9.195574e+07</td>\n      <td>80.2000</td>\n      <td>81.9700</td>\n      <td>79.9440</td>\n      <td>81.9005</td>\n      <td>97172080</td>\n      <td>55.5505</td>\n      <td>56.6430</td>\n      <td>55.5505</td>\n      <td>56.3790</td>\n      <td>35035420</td>\n      <td>NaN</td>\n      <td>NaN</td>\n      <td>NaN</td>\n      <td>NaN</td>\n      <td>NaN</td>\n    </tr>\n    <tr>\n      <th>...</th>\n      <td>...</td>\n      <td>...</td>\n      <td>...</td>\n      <td>...</td>\n      <td>...</td>\n      <td>...</td>\n      <td>...</td>\n      <td>...</td>\n      <td>...</td>\n      <td>...</td>\n      <td>...</td>\n      <td>...</td>\n      <td>...</td>\n      <td>...</td>\n      <td>...</td>\n      <td>...</td>\n      <td>...</td>\n      <td>...</td>\n      <td>...</td>\n      <td>...</td>\n    </tr>\n    <tr>\n      <th>2024-01-29</th>\n      <td>192.0100</td>\n      <td>192.2000</td>\n      <td>189.5800</td>\n      <td>191.7300</td>\n      <td>4.714562e+07</td>\n      <td>159.3400</td>\n      <td>161.2900</td>\n      <td>158.9000</td>\n      <td>161.2600</td>\n      <td>45270385</td>\n      <td>152.0600</td>\n      <td>153.7800</td>\n      <td>151.4300</td>\n      <td>153.5100</td>\n      <td>27784259</td>\n      <td>65.60</td>\n      <td>67.10</td>\n      <td>65.560</td>\n      <td>66.98</td>\n      <td>15902036.0</td>\n    </tr>\n    <tr>\n      <th>2024-01-30</th>\n      <td>190.9400</td>\n      <td>191.8000</td>\n      <td>187.4700</td>\n      <td>188.0400</td>\n      <td>5.585937e+07</td>\n      <td>160.7000</td>\n      <td>161.7300</td>\n      <td>158.4900</td>\n      <td>159.0000</td>\n      <td>45207430</td>\n      <td>152.8000</td>\n      <td>153.6200</td>\n      <td>151.1850</td>\n      <td>151.4600</td>\n      <td>36331833</td>\n      <td>66.90</td>\n      <td>67.69</td>\n      <td>66.220</td>\n      <td>66.84</td>\n      <td>17562145.0</td>\n    </tr>\n    <tr>\n      <th>2024-01-31</th>\n      <td>187.0400</td>\n      <td>187.0950</td>\n      <td>184.3500</td>\n      <td>184.4000</td>\n      <td>5.546780e+07</td>\n      <td>157.0000</td>\n      <td>159.0100</td>\n      <td>154.8100</td>\n      <td>155.2000</td>\n      <td>50284371</td>\n      <td>143.6200</td>\n      <td>144.0000</td>\n      <td>139.8700</td>\n      <td>140.1000</td>\n      <td>71910044</td>\n      <td>65.70</td>\n      <td>66.25</td>\n      <td>64.845</td>\n      <td>65.27</td>\n      <td>17026414.0</td>\n    </tr>\n    <tr>\n      <th>2024-02-01</th>\n      <td>183.9850</td>\n      <td>186.9500</td>\n      <td>183.8200</td>\n      <td>186.8600</td>\n      <td>6.488541e+07</td>\n      <td>155.8700</td>\n      <td>159.7600</td>\n      <td>155.6200</td>\n      <td>159.2800</td>\n      <td>76542419</td>\n      <td>142.1200</td>\n      <td>143.0600</td>\n      <td>140.7900</td>\n      <td>141.1600</td>\n      <td>40466549</td>\n      <td>66.12</td>\n      <td>66.85</td>\n      <td>65.590</td>\n      <td>66.73</td>\n      <td>12504225.0</td>\n    </tr>\n    <tr>\n      <th>2024-02-02</th>\n      <td>179.8600</td>\n      <td>187.3300</td>\n      <td>179.2500</td>\n      <td>185.8500</td>\n      <td>1.025517e+08</td>\n      <td>169.1900</td>\n      <td>172.5000</td>\n      <td>167.3300</td>\n      <td>171.8100</td>\n      <td>117218313</td>\n      <td>139.2600</td>\n      <td>142.6200</td>\n      <td>136.5000</td>\n      <td>142.3800</td>\n      <td>62499574</td>\n      <td>66.98</td>\n      <td>68.25</td>\n      <td>66.510</td>\n      <td>68.07</td>\n      <td>18671765.0</td>\n    </tr>\n  </tbody>\n</table>\n<p>1257 rows × 20 columns</p>\n</div>"
     },
     "execution_count": 23,
     "metadata": {},
     "output_type": "execute_result"
    }
   ],
   "source": [
    "pd.concat(objs=[apple, amazon, google, uber], axis=1)"
   ],
   "metadata": {
    "collapsed": false,
    "ExecuteTime": {
     "end_time": "2024-02-05T17:38:33.813485700Z",
     "start_time": "2024-02-05T17:38:33.784422400Z"
    }
   },
   "id": "f3dd5d9b4fba7e80"
  },
  {
   "cell_type": "code",
   "execution_count": 24,
   "outputs": [
    {
     "data": {
      "text/plain": "            uber_open  uber_high  uber_low  uber_close  uber_volume\nDate                                                               \n2024-02-02      66.98      68.25    66.510       68.07     18671765\n2024-02-01      66.12      66.85    65.590       66.73     12504225\n2024-01-31      65.70      66.25    64.845       65.27     17026414\n2024-01-30      66.90      67.69    66.220       66.84     17562145\n2024-01-29      65.60      67.10    65.560       66.98     15902036\n...               ...        ...       ...         ...          ...\n2019-05-16      41.48      44.06    41.250       43.00     38115524\n2019-05-15      39.37      41.88    38.950       41.29     36086065\n2019-05-14      38.31      39.96    36.850       39.96     46661147\n2019-05-13      38.79      39.24    36.080       37.10     79442420\n2019-05-10      42.00      45.00    41.060       41.57    186322536\n\n[1192 rows x 5 columns]",
      "text/html": "<div>\n<style scoped>\n    .dataframe tbody tr th:only-of-type {\n        vertical-align: middle;\n    }\n\n    .dataframe tbody tr th {\n        vertical-align: top;\n    }\n\n    .dataframe thead th {\n        text-align: right;\n    }\n</style>\n<table border=\"1\" class=\"dataframe\">\n  <thead>\n    <tr style=\"text-align: right;\">\n      <th></th>\n      <th>uber_open</th>\n      <th>uber_high</th>\n      <th>uber_low</th>\n      <th>uber_close</th>\n      <th>uber_volume</th>\n    </tr>\n    <tr>\n      <th>Date</th>\n      <th></th>\n      <th></th>\n      <th></th>\n      <th></th>\n      <th></th>\n    </tr>\n  </thead>\n  <tbody>\n    <tr>\n      <th>2024-02-02</th>\n      <td>66.98</td>\n      <td>68.25</td>\n      <td>66.510</td>\n      <td>68.07</td>\n      <td>18671765</td>\n    </tr>\n    <tr>\n      <th>2024-02-01</th>\n      <td>66.12</td>\n      <td>66.85</td>\n      <td>65.590</td>\n      <td>66.73</td>\n      <td>12504225</td>\n    </tr>\n    <tr>\n      <th>2024-01-31</th>\n      <td>65.70</td>\n      <td>66.25</td>\n      <td>64.845</td>\n      <td>65.27</td>\n      <td>17026414</td>\n    </tr>\n    <tr>\n      <th>2024-01-30</th>\n      <td>66.90</td>\n      <td>67.69</td>\n      <td>66.220</td>\n      <td>66.84</td>\n      <td>17562145</td>\n    </tr>\n    <tr>\n      <th>2024-01-29</th>\n      <td>65.60</td>\n      <td>67.10</td>\n      <td>65.560</td>\n      <td>66.98</td>\n      <td>15902036</td>\n    </tr>\n    <tr>\n      <th>...</th>\n      <td>...</td>\n      <td>...</td>\n      <td>...</td>\n      <td>...</td>\n      <td>...</td>\n    </tr>\n    <tr>\n      <th>2019-05-16</th>\n      <td>41.48</td>\n      <td>44.06</td>\n      <td>41.250</td>\n      <td>43.00</td>\n      <td>38115524</td>\n    </tr>\n    <tr>\n      <th>2019-05-15</th>\n      <td>39.37</td>\n      <td>41.88</td>\n      <td>38.950</td>\n      <td>41.29</td>\n      <td>36086065</td>\n    </tr>\n    <tr>\n      <th>2019-05-14</th>\n      <td>38.31</td>\n      <td>39.96</td>\n      <td>36.850</td>\n      <td>39.96</td>\n      <td>46661147</td>\n    </tr>\n    <tr>\n      <th>2019-05-13</th>\n      <td>38.79</td>\n      <td>39.24</td>\n      <td>36.080</td>\n      <td>37.10</td>\n      <td>79442420</td>\n    </tr>\n    <tr>\n      <th>2019-05-10</th>\n      <td>42.00</td>\n      <td>45.00</td>\n      <td>41.060</td>\n      <td>41.57</td>\n      <td>186322536</td>\n    </tr>\n  </tbody>\n</table>\n<p>1192 rows × 5 columns</p>\n</div>"
     },
     "execution_count": 24,
     "metadata": {},
     "output_type": "execute_result"
    }
   ],
   "source": [
    "amazon.columns = ['amazon_open', 'amazon_high', 'amazon_low', 'amazon_close', 'amazon_volume']\n",
    "amazon\n",
    "google.columns = ['google_open', 'google_high', 'google_low', 'google_close', 'google_volume']\n",
    "google\n",
    "uber.columns = ['uber_open', 'uber_high', 'uber_low', 'uber_close', 'uber_volume']\n",
    "uber"
   ],
   "metadata": {
    "collapsed": false,
    "ExecuteTime": {
     "end_time": "2024-02-05T17:41:50.263299600Z",
     "start_time": "2024-02-05T17:41:50.231069400Z"
    }
   },
   "id": "138cd66220389219"
  },
  {
   "cell_type": "code",
   "execution_count": 29,
   "outputs": [
    {
     "data": {
      "text/plain": "            apple_open  apple_high  apple_low  apple_close  apple_volume  \\\nDate                                                                       \n2019-02-06     42.1375     42.3628    41.7098      42.0428  1.170340e+08   \n2019-02-07     41.5981     41.9730    41.1026      41.2472  1.315478e+08   \n2019-02-08     40.9501     41.3599    40.8105      41.2970  9.829607e+07   \n2019-02-11     41.4495     41.4875    41.0149      41.0568  8.663199e+07   \n2019-02-12     41.2202     41.4376    41.1246      41.4107  9.195574e+07   \n...                ...         ...        ...          ...           ...   \n2024-01-29    192.0100    192.2000   189.5800     191.7300  4.714562e+07   \n2024-01-30    190.9400    191.8000   187.4700     188.0400  5.585937e+07   \n2024-01-31    187.0400    187.0950   184.3500     184.4000  5.546780e+07   \n2024-02-01    183.9850    186.9500   183.8200     186.8600  6.488541e+07   \n2024-02-02    179.8600    187.3300   179.2500     185.8500  1.025517e+08   \n\n            amazon_open  amazon_high  amazon_low  amazon_close  amazon_volume  \\\nDate                                                                            \n2019-02-06      83.5375      83.6130     81.6670       82.0130       78797660   \n2019-02-07      81.2500      81.2770     79.6455       80.7185       92531780   \n2019-02-08      79.3000      79.4295     78.3380       79.4110      113149140   \n2019-02-11      80.0490      80.4645     79.3000       79.5500       66346560   \n2019-02-12      80.2000      81.9700     79.9440       81.9005       97172080   \n...                 ...          ...         ...           ...            ...   \n2024-01-29     159.3400     161.2900    158.9000      161.2600       45270385   \n2024-01-30     160.7000     161.7300    158.4900      159.0000       45207430   \n2024-01-31     157.0000     159.0100    154.8100      155.2000       50284371   \n2024-02-01     155.8700     159.7600    155.6200      159.2800       76542419   \n2024-02-02     169.1900     172.5000    167.3300      171.8100      117218313   \n\n            google_open  google_high  google_low  google_close  google_volume  \\\nDate                                                                            \n2019-02-06      57.4635      57.7000     55.9180       56.1445       48256400   \n2019-02-07      55.5910      55.5995     54.6795       55.2955       38297540   \n2019-02-08      54.7440      55.2550     54.7120       55.1190       21766540   \n2019-02-11      55.1875      55.6715     55.0000       55.1060       18497620   \n2019-02-12      55.5505      56.6430     55.5505       56.3790       35035420   \n...                 ...          ...         ...           ...            ...   \n2024-01-29     152.0600     153.7800    151.4300      153.5100       27784259   \n2024-01-30     152.8000     153.6200    151.1850      151.4600       36331833   \n2024-01-31     143.6200     144.0000    139.8700      140.1000       71910044   \n2024-02-01     142.1200     143.0600    140.7900      141.1600       40466549   \n2024-02-02     139.2600     142.6200    136.5000      142.3800       62499574   \n\n            uber_open  uber_high  uber_low  uber_close  uber_volume  \nDate                                                                 \n2019-02-06        NaN        NaN       NaN         NaN          NaN  \n2019-02-07        NaN        NaN       NaN         NaN          NaN  \n2019-02-08        NaN        NaN       NaN         NaN          NaN  \n2019-02-11        NaN        NaN       NaN         NaN          NaN  \n2019-02-12        NaN        NaN       NaN         NaN          NaN  \n...               ...        ...       ...         ...          ...  \n2024-01-29      65.60      67.10    65.560       66.98   15902036.0  \n2024-01-30      66.90      67.69    66.220       66.84   17562145.0  \n2024-01-31      65.70      66.25    64.845       65.27   17026414.0  \n2024-02-01      66.12      66.85    65.590       66.73   12504225.0  \n2024-02-02      66.98      68.25    66.510       68.07   18671765.0  \n\n[1257 rows x 20 columns]",
      "text/html": "<div>\n<style scoped>\n    .dataframe tbody tr th:only-of-type {\n        vertical-align: middle;\n    }\n\n    .dataframe tbody tr th {\n        vertical-align: top;\n    }\n\n    .dataframe thead th {\n        text-align: right;\n    }\n</style>\n<table border=\"1\" class=\"dataframe\">\n  <thead>\n    <tr style=\"text-align: right;\">\n      <th></th>\n      <th>apple_open</th>\n      <th>apple_high</th>\n      <th>apple_low</th>\n      <th>apple_close</th>\n      <th>apple_volume</th>\n      <th>amazon_open</th>\n      <th>amazon_high</th>\n      <th>amazon_low</th>\n      <th>amazon_close</th>\n      <th>amazon_volume</th>\n      <th>google_open</th>\n      <th>google_high</th>\n      <th>google_low</th>\n      <th>google_close</th>\n      <th>google_volume</th>\n      <th>uber_open</th>\n      <th>uber_high</th>\n      <th>uber_low</th>\n      <th>uber_close</th>\n      <th>uber_volume</th>\n    </tr>\n    <tr>\n      <th>Date</th>\n      <th></th>\n      <th></th>\n      <th></th>\n      <th></th>\n      <th></th>\n      <th></th>\n      <th></th>\n      <th></th>\n      <th></th>\n      <th></th>\n      <th></th>\n      <th></th>\n      <th></th>\n      <th></th>\n      <th></th>\n      <th></th>\n      <th></th>\n      <th></th>\n      <th></th>\n      <th></th>\n    </tr>\n  </thead>\n  <tbody>\n    <tr>\n      <th>2019-02-06</th>\n      <td>42.1375</td>\n      <td>42.3628</td>\n      <td>41.7098</td>\n      <td>42.0428</td>\n      <td>1.170340e+08</td>\n      <td>83.5375</td>\n      <td>83.6130</td>\n      <td>81.6670</td>\n      <td>82.0130</td>\n      <td>78797660</td>\n      <td>57.4635</td>\n      <td>57.7000</td>\n      <td>55.9180</td>\n      <td>56.1445</td>\n      <td>48256400</td>\n      <td>NaN</td>\n      <td>NaN</td>\n      <td>NaN</td>\n      <td>NaN</td>\n      <td>NaN</td>\n    </tr>\n    <tr>\n      <th>2019-02-07</th>\n      <td>41.5981</td>\n      <td>41.9730</td>\n      <td>41.1026</td>\n      <td>41.2472</td>\n      <td>1.315478e+08</td>\n      <td>81.2500</td>\n      <td>81.2770</td>\n      <td>79.6455</td>\n      <td>80.7185</td>\n      <td>92531780</td>\n      <td>55.5910</td>\n      <td>55.5995</td>\n      <td>54.6795</td>\n      <td>55.2955</td>\n      <td>38297540</td>\n      <td>NaN</td>\n      <td>NaN</td>\n      <td>NaN</td>\n      <td>NaN</td>\n      <td>NaN</td>\n    </tr>\n    <tr>\n      <th>2019-02-08</th>\n      <td>40.9501</td>\n      <td>41.3599</td>\n      <td>40.8105</td>\n      <td>41.2970</td>\n      <td>9.829607e+07</td>\n      <td>79.3000</td>\n      <td>79.4295</td>\n      <td>78.3380</td>\n      <td>79.4110</td>\n      <td>113149140</td>\n      <td>54.7440</td>\n      <td>55.2550</td>\n      <td>54.7120</td>\n      <td>55.1190</td>\n      <td>21766540</td>\n      <td>NaN</td>\n      <td>NaN</td>\n      <td>NaN</td>\n      <td>NaN</td>\n      <td>NaN</td>\n    </tr>\n    <tr>\n      <th>2019-02-11</th>\n      <td>41.4495</td>\n      <td>41.4875</td>\n      <td>41.0149</td>\n      <td>41.0568</td>\n      <td>8.663199e+07</td>\n      <td>80.0490</td>\n      <td>80.4645</td>\n      <td>79.3000</td>\n      <td>79.5500</td>\n      <td>66346560</td>\n      <td>55.1875</td>\n      <td>55.6715</td>\n      <td>55.0000</td>\n      <td>55.1060</td>\n      <td>18497620</td>\n      <td>NaN</td>\n      <td>NaN</td>\n      <td>NaN</td>\n      <td>NaN</td>\n      <td>NaN</td>\n    </tr>\n    <tr>\n      <th>2019-02-12</th>\n      <td>41.2202</td>\n      <td>41.4376</td>\n      <td>41.1246</td>\n      <td>41.4107</td>\n      <td>9.195574e+07</td>\n      <td>80.2000</td>\n      <td>81.9700</td>\n      <td>79.9440</td>\n      <td>81.9005</td>\n      <td>97172080</td>\n      <td>55.5505</td>\n      <td>56.6430</td>\n      <td>55.5505</td>\n      <td>56.3790</td>\n      <td>35035420</td>\n      <td>NaN</td>\n      <td>NaN</td>\n      <td>NaN</td>\n      <td>NaN</td>\n      <td>NaN</td>\n    </tr>\n    <tr>\n      <th>...</th>\n      <td>...</td>\n      <td>...</td>\n      <td>...</td>\n      <td>...</td>\n      <td>...</td>\n      <td>...</td>\n      <td>...</td>\n      <td>...</td>\n      <td>...</td>\n      <td>...</td>\n      <td>...</td>\n      <td>...</td>\n      <td>...</td>\n      <td>...</td>\n      <td>...</td>\n      <td>...</td>\n      <td>...</td>\n      <td>...</td>\n      <td>...</td>\n      <td>...</td>\n    </tr>\n    <tr>\n      <th>2024-01-29</th>\n      <td>192.0100</td>\n      <td>192.2000</td>\n      <td>189.5800</td>\n      <td>191.7300</td>\n      <td>4.714562e+07</td>\n      <td>159.3400</td>\n      <td>161.2900</td>\n      <td>158.9000</td>\n      <td>161.2600</td>\n      <td>45270385</td>\n      <td>152.0600</td>\n      <td>153.7800</td>\n      <td>151.4300</td>\n      <td>153.5100</td>\n      <td>27784259</td>\n      <td>65.60</td>\n      <td>67.10</td>\n      <td>65.560</td>\n      <td>66.98</td>\n      <td>15902036.0</td>\n    </tr>\n    <tr>\n      <th>2024-01-30</th>\n      <td>190.9400</td>\n      <td>191.8000</td>\n      <td>187.4700</td>\n      <td>188.0400</td>\n      <td>5.585937e+07</td>\n      <td>160.7000</td>\n      <td>161.7300</td>\n      <td>158.4900</td>\n      <td>159.0000</td>\n      <td>45207430</td>\n      <td>152.8000</td>\n      <td>153.6200</td>\n      <td>151.1850</td>\n      <td>151.4600</td>\n      <td>36331833</td>\n      <td>66.90</td>\n      <td>67.69</td>\n      <td>66.220</td>\n      <td>66.84</td>\n      <td>17562145.0</td>\n    </tr>\n    <tr>\n      <th>2024-01-31</th>\n      <td>187.0400</td>\n      <td>187.0950</td>\n      <td>184.3500</td>\n      <td>184.4000</td>\n      <td>5.546780e+07</td>\n      <td>157.0000</td>\n      <td>159.0100</td>\n      <td>154.8100</td>\n      <td>155.2000</td>\n      <td>50284371</td>\n      <td>143.6200</td>\n      <td>144.0000</td>\n      <td>139.8700</td>\n      <td>140.1000</td>\n      <td>71910044</td>\n      <td>65.70</td>\n      <td>66.25</td>\n      <td>64.845</td>\n      <td>65.27</td>\n      <td>17026414.0</td>\n    </tr>\n    <tr>\n      <th>2024-02-01</th>\n      <td>183.9850</td>\n      <td>186.9500</td>\n      <td>183.8200</td>\n      <td>186.8600</td>\n      <td>6.488541e+07</td>\n      <td>155.8700</td>\n      <td>159.7600</td>\n      <td>155.6200</td>\n      <td>159.2800</td>\n      <td>76542419</td>\n      <td>142.1200</td>\n      <td>143.0600</td>\n      <td>140.7900</td>\n      <td>141.1600</td>\n      <td>40466549</td>\n      <td>66.12</td>\n      <td>66.85</td>\n      <td>65.590</td>\n      <td>66.73</td>\n      <td>12504225.0</td>\n    </tr>\n    <tr>\n      <th>2024-02-02</th>\n      <td>179.8600</td>\n      <td>187.3300</td>\n      <td>179.2500</td>\n      <td>185.8500</td>\n      <td>1.025517e+08</td>\n      <td>169.1900</td>\n      <td>172.5000</td>\n      <td>167.3300</td>\n      <td>171.8100</td>\n      <td>117218313</td>\n      <td>139.2600</td>\n      <td>142.6200</td>\n      <td>136.5000</td>\n      <td>142.3800</td>\n      <td>62499574</td>\n      <td>66.98</td>\n      <td>68.25</td>\n      <td>66.510</td>\n      <td>68.07</td>\n      <td>18671765.0</td>\n    </tr>\n  </tbody>\n</table>\n<p>1257 rows × 20 columns</p>\n</div>"
     },
     "execution_count": 29,
     "metadata": {},
     "output_type": "execute_result"
    }
   ],
   "source": [
    "df = pd.concat(objs=[apple, amazon, google, uber], axis=1) # concat łączy dane z różnych dataframe\n",
    "df"
   ],
   "metadata": {
    "collapsed": false,
    "ExecuteTime": {
     "end_time": "2024-02-05T17:46:05.449199Z",
     "start_time": "2024-02-05T17:46:05.428037100Z"
    }
   },
   "id": "ab9445635a10445e"
  },
  {
   "cell_type": "code",
   "execution_count": 28,
   "outputs": [
    {
     "data": {
      "text/plain": "        apple_open   apple_high    apple_low  apple_close  apple_volume  \\\ncount  1257.000000  1257.000000  1257.000000  1257.000000  1.257000e+03   \nmean    124.821754   126.248812   123.506689   124.952078  1.011369e+08   \nstd      46.236567    46.645934    45.836181    46.262598  5.298357e+07   \nmin      40.950100    41.359900    40.810500    41.056800  2.404834e+07   \n25%      78.222400    78.993100    77.717000    78.309100  6.687878e+07   \n50%     135.626000   137.949000   134.147000   135.766000  8.846159e+07   \n75%     161.530000   164.010000   159.555000   162.145000  1.181496e+08   \nmax     198.020000   199.620000   197.000000   198.110000  4.347085e+08   \n\n       amazon_open  amazon_high   amazon_low  amazon_close  amazon_volume  \\\ncount  1257.000000  1257.000000  1257.000000   1257.000000   1.257000e+03   \nmean    129.040648   130.612470   127.374675    129.015459   7.435142e+07   \nstd      30.846450    31.133445    30.486203     30.772240   3.247990e+07   \nmin      79.300000    79.429500    78.338000     79.411000   1.762674e+07   \n25%      96.666500    97.780000    95.380000     96.790000   5.270428e+07   \n50%     129.500000   131.000000   127.370000    129.040000   6.531114e+07   \n75%     158.400000   160.100000   156.365000    158.139000   8.677418e+07   \nmax     187.200000   188.654000   184.840000    186.570000   3.113457e+08   \n\n       google_open  google_high   google_low  google_close  google_volume  \\\ncount  1257.000000  1257.000000  1257.000000   1257.000000   1.257000e+03   \nmean     99.793521   100.935225    98.727023     99.861098   3.354215e+07   \nstd      29.704415    29.985136    29.396211     29.684817   1.493657e+07   \nmin      52.224500    52.500000    50.443500     51.937000   9.312760e+06   \n25%      71.577000    72.131500    70.950000     71.586500   2.414552e+07   \n50%     101.590000   102.880000   100.272000    101.430000   2.979356e+07   \n75%     127.663000   129.040000   126.154000    127.310000   3.752472e+07   \nmax     152.800000   153.780000   151.430000    153.510000   1.331771e+08   \n\n         uber_open    uber_high     uber_low   uber_close   uber_volume  \ncount  1192.000000  1192.000000  1192.000000  1192.000000  1.192000e+03  \nmean     38.833014    39.597682    38.051215    38.837592  2.526071e+07  \nstd      10.328360    10.405644    10.245004    10.326269  1.862383e+07  \nmin      15.960000    17.800000    13.710000    14.820000  3.380003e+06  \n25%      30.947500    31.565000    30.256250    30.915000  1.583497e+07  \n50%      36.940000    37.590000    36.157500    36.995000  2.128660e+07  \n75%      45.470000    46.535000    44.852675    45.690000  2.950098e+07  \nmax      66.980000    68.250000    66.510000    68.070000  3.642612e+08  ",
      "text/html": "<div>\n<style scoped>\n    .dataframe tbody tr th:only-of-type {\n        vertical-align: middle;\n    }\n\n    .dataframe tbody tr th {\n        vertical-align: top;\n    }\n\n    .dataframe thead th {\n        text-align: right;\n    }\n</style>\n<table border=\"1\" class=\"dataframe\">\n  <thead>\n    <tr style=\"text-align: right;\">\n      <th></th>\n      <th>apple_open</th>\n      <th>apple_high</th>\n      <th>apple_low</th>\n      <th>apple_close</th>\n      <th>apple_volume</th>\n      <th>amazon_open</th>\n      <th>amazon_high</th>\n      <th>amazon_low</th>\n      <th>amazon_close</th>\n      <th>amazon_volume</th>\n      <th>google_open</th>\n      <th>google_high</th>\n      <th>google_low</th>\n      <th>google_close</th>\n      <th>google_volume</th>\n      <th>uber_open</th>\n      <th>uber_high</th>\n      <th>uber_low</th>\n      <th>uber_close</th>\n      <th>uber_volume</th>\n    </tr>\n  </thead>\n  <tbody>\n    <tr>\n      <th>count</th>\n      <td>1257.000000</td>\n      <td>1257.000000</td>\n      <td>1257.000000</td>\n      <td>1257.000000</td>\n      <td>1.257000e+03</td>\n      <td>1257.000000</td>\n      <td>1257.000000</td>\n      <td>1257.000000</td>\n      <td>1257.000000</td>\n      <td>1.257000e+03</td>\n      <td>1257.000000</td>\n      <td>1257.000000</td>\n      <td>1257.000000</td>\n      <td>1257.000000</td>\n      <td>1.257000e+03</td>\n      <td>1192.000000</td>\n      <td>1192.000000</td>\n      <td>1192.000000</td>\n      <td>1192.000000</td>\n      <td>1.192000e+03</td>\n    </tr>\n    <tr>\n      <th>mean</th>\n      <td>124.821754</td>\n      <td>126.248812</td>\n      <td>123.506689</td>\n      <td>124.952078</td>\n      <td>1.011369e+08</td>\n      <td>129.040648</td>\n      <td>130.612470</td>\n      <td>127.374675</td>\n      <td>129.015459</td>\n      <td>7.435142e+07</td>\n      <td>99.793521</td>\n      <td>100.935225</td>\n      <td>98.727023</td>\n      <td>99.861098</td>\n      <td>3.354215e+07</td>\n      <td>38.833014</td>\n      <td>39.597682</td>\n      <td>38.051215</td>\n      <td>38.837592</td>\n      <td>2.526071e+07</td>\n    </tr>\n    <tr>\n      <th>std</th>\n      <td>46.236567</td>\n      <td>46.645934</td>\n      <td>45.836181</td>\n      <td>46.262598</td>\n      <td>5.298357e+07</td>\n      <td>30.846450</td>\n      <td>31.133445</td>\n      <td>30.486203</td>\n      <td>30.772240</td>\n      <td>3.247990e+07</td>\n      <td>29.704415</td>\n      <td>29.985136</td>\n      <td>29.396211</td>\n      <td>29.684817</td>\n      <td>1.493657e+07</td>\n      <td>10.328360</td>\n      <td>10.405644</td>\n      <td>10.245004</td>\n      <td>10.326269</td>\n      <td>1.862383e+07</td>\n    </tr>\n    <tr>\n      <th>min</th>\n      <td>40.950100</td>\n      <td>41.359900</td>\n      <td>40.810500</td>\n      <td>41.056800</td>\n      <td>2.404834e+07</td>\n      <td>79.300000</td>\n      <td>79.429500</td>\n      <td>78.338000</td>\n      <td>79.411000</td>\n      <td>1.762674e+07</td>\n      <td>52.224500</td>\n      <td>52.500000</td>\n      <td>50.443500</td>\n      <td>51.937000</td>\n      <td>9.312760e+06</td>\n      <td>15.960000</td>\n      <td>17.800000</td>\n      <td>13.710000</td>\n      <td>14.820000</td>\n      <td>3.380003e+06</td>\n    </tr>\n    <tr>\n      <th>25%</th>\n      <td>78.222400</td>\n      <td>78.993100</td>\n      <td>77.717000</td>\n      <td>78.309100</td>\n      <td>6.687878e+07</td>\n      <td>96.666500</td>\n      <td>97.780000</td>\n      <td>95.380000</td>\n      <td>96.790000</td>\n      <td>5.270428e+07</td>\n      <td>71.577000</td>\n      <td>72.131500</td>\n      <td>70.950000</td>\n      <td>71.586500</td>\n      <td>2.414552e+07</td>\n      <td>30.947500</td>\n      <td>31.565000</td>\n      <td>30.256250</td>\n      <td>30.915000</td>\n      <td>1.583497e+07</td>\n    </tr>\n    <tr>\n      <th>50%</th>\n      <td>135.626000</td>\n      <td>137.949000</td>\n      <td>134.147000</td>\n      <td>135.766000</td>\n      <td>8.846159e+07</td>\n      <td>129.500000</td>\n      <td>131.000000</td>\n      <td>127.370000</td>\n      <td>129.040000</td>\n      <td>6.531114e+07</td>\n      <td>101.590000</td>\n      <td>102.880000</td>\n      <td>100.272000</td>\n      <td>101.430000</td>\n      <td>2.979356e+07</td>\n      <td>36.940000</td>\n      <td>37.590000</td>\n      <td>36.157500</td>\n      <td>36.995000</td>\n      <td>2.128660e+07</td>\n    </tr>\n    <tr>\n      <th>75%</th>\n      <td>161.530000</td>\n      <td>164.010000</td>\n      <td>159.555000</td>\n      <td>162.145000</td>\n      <td>1.181496e+08</td>\n      <td>158.400000</td>\n      <td>160.100000</td>\n      <td>156.365000</td>\n      <td>158.139000</td>\n      <td>8.677418e+07</td>\n      <td>127.663000</td>\n      <td>129.040000</td>\n      <td>126.154000</td>\n      <td>127.310000</td>\n      <td>3.752472e+07</td>\n      <td>45.470000</td>\n      <td>46.535000</td>\n      <td>44.852675</td>\n      <td>45.690000</td>\n      <td>2.950098e+07</td>\n    </tr>\n    <tr>\n      <th>max</th>\n      <td>198.020000</td>\n      <td>199.620000</td>\n      <td>197.000000</td>\n      <td>198.110000</td>\n      <td>4.347085e+08</td>\n      <td>187.200000</td>\n      <td>188.654000</td>\n      <td>184.840000</td>\n      <td>186.570000</td>\n      <td>3.113457e+08</td>\n      <td>152.800000</td>\n      <td>153.780000</td>\n      <td>151.430000</td>\n      <td>153.510000</td>\n      <td>1.331771e+08</td>\n      <td>66.980000</td>\n      <td>68.250000</td>\n      <td>66.510000</td>\n      <td>68.070000</td>\n      <td>3.642612e+08</td>\n    </tr>\n  </tbody>\n</table>\n</div>"
     },
     "execution_count": 28,
     "metadata": {},
     "output_type": "execute_result"
    }
   ],
   "source": [
    "df.describe()"
   ],
   "metadata": {
    "collapsed": false,
    "ExecuteTime": {
     "end_time": "2024-02-05T17:45:55.427494900Z",
     "start_time": "2024-02-05T17:45:55.401605100Z"
    }
   },
   "id": "6d2a9e26bdf1dcf9"
  },
  {
   "cell_type": "code",
   "execution_count": 31,
   "outputs": [
    {
     "data": {
      "text/plain": "                 count          mean          std          min          25%  \\\napple_open     1257.00        124.82        46.24        40.95        78.22   \napple_high     1257.00        126.25        46.65        41.36        78.99   \napple_low      1257.00        123.51        45.84        40.81        77.72   \napple_close    1257.00        124.95        46.26        41.06        78.31   \napple_volume   1257.00  101136922.23  52983568.07  24048344.00  66878782.27   \namazon_open    1257.00        129.04        30.85        79.30        96.67   \namazon_high    1257.00        130.61        31.13        79.43        97.78   \namazon_low     1257.00        127.37        30.49        78.34        95.38   \namazon_close   1257.00        129.02        30.77        79.41        96.79   \namazon_volume  1257.00   74351424.50  32479902.07  17626740.00  52704280.00   \ngoogle_open    1257.00         99.79        29.70        52.22        71.58   \ngoogle_high    1257.00        100.94        29.99        52.50        72.13   \ngoogle_low     1257.00         98.73        29.40        50.44        70.95   \ngoogle_close   1257.00         99.86        29.68        51.94        71.59   \ngoogle_volume  1257.00   33542146.31  14936567.45   9312760.00  24145520.00   \nuber_open      1192.00         38.83        10.33        15.96        30.95   \nuber_high      1192.00         39.60        10.41        17.80        31.57   \nuber_low       1192.00         38.05        10.25        13.71        30.26   \nuber_close     1192.00         38.84        10.33        14.82        30.91   \nuber_volume    1192.00   25260705.73  18623834.22   3380003.00  15834971.50   \n\n                       50%           75%           max  \napple_open          135.63        161.53        198.02  \napple_high          137.95        164.01        199.62  \napple_low           134.15        159.56        197.00  \napple_close         135.77        162.15        198.11  \napple_volume   88461586.25  118149644.81  434708544.96  \namazon_open         129.50        158.40        187.20  \namazon_high         131.00        160.10        188.65  \namazon_low          127.37        156.37        184.84  \namazon_close        129.04        158.14        186.57  \namazon_volume  65311140.00   86774185.00  311345660.00  \ngoogle_open         101.59        127.66        152.80  \ngoogle_high         102.88        129.04        153.78  \ngoogle_low          100.27        126.15        151.43  \ngoogle_close        101.43        127.31        153.51  \ngoogle_volume  29793560.00   37524720.00  133177100.00  \nuber_open            36.94         45.47         66.98  \nuber_high            37.59         46.53         68.25  \nuber_low             36.16         44.85         66.51  \nuber_close           37.00         45.69         68.07  \nuber_volume    21286596.50   29500978.00  364261230.00  ",
      "text/html": "<div>\n<style scoped>\n    .dataframe tbody tr th:only-of-type {\n        vertical-align: middle;\n    }\n\n    .dataframe tbody tr th {\n        vertical-align: top;\n    }\n\n    .dataframe thead th {\n        text-align: right;\n    }\n</style>\n<table border=\"1\" class=\"dataframe\">\n  <thead>\n    <tr style=\"text-align: right;\">\n      <th></th>\n      <th>count</th>\n      <th>mean</th>\n      <th>std</th>\n      <th>min</th>\n      <th>25%</th>\n      <th>50%</th>\n      <th>75%</th>\n      <th>max</th>\n    </tr>\n  </thead>\n  <tbody>\n    <tr>\n      <th>apple_open</th>\n      <td>1257.00</td>\n      <td>124.82</td>\n      <td>46.24</td>\n      <td>40.95</td>\n      <td>78.22</td>\n      <td>135.63</td>\n      <td>161.53</td>\n      <td>198.02</td>\n    </tr>\n    <tr>\n      <th>apple_high</th>\n      <td>1257.00</td>\n      <td>126.25</td>\n      <td>46.65</td>\n      <td>41.36</td>\n      <td>78.99</td>\n      <td>137.95</td>\n      <td>164.01</td>\n      <td>199.62</td>\n    </tr>\n    <tr>\n      <th>apple_low</th>\n      <td>1257.00</td>\n      <td>123.51</td>\n      <td>45.84</td>\n      <td>40.81</td>\n      <td>77.72</td>\n      <td>134.15</td>\n      <td>159.56</td>\n      <td>197.00</td>\n    </tr>\n    <tr>\n      <th>apple_close</th>\n      <td>1257.00</td>\n      <td>124.95</td>\n      <td>46.26</td>\n      <td>41.06</td>\n      <td>78.31</td>\n      <td>135.77</td>\n      <td>162.15</td>\n      <td>198.11</td>\n    </tr>\n    <tr>\n      <th>apple_volume</th>\n      <td>1257.00</td>\n      <td>101136922.23</td>\n      <td>52983568.07</td>\n      <td>24048344.00</td>\n      <td>66878782.27</td>\n      <td>88461586.25</td>\n      <td>118149644.81</td>\n      <td>434708544.96</td>\n    </tr>\n    <tr>\n      <th>amazon_open</th>\n      <td>1257.00</td>\n      <td>129.04</td>\n      <td>30.85</td>\n      <td>79.30</td>\n      <td>96.67</td>\n      <td>129.50</td>\n      <td>158.40</td>\n      <td>187.20</td>\n    </tr>\n    <tr>\n      <th>amazon_high</th>\n      <td>1257.00</td>\n      <td>130.61</td>\n      <td>31.13</td>\n      <td>79.43</td>\n      <td>97.78</td>\n      <td>131.00</td>\n      <td>160.10</td>\n      <td>188.65</td>\n    </tr>\n    <tr>\n      <th>amazon_low</th>\n      <td>1257.00</td>\n      <td>127.37</td>\n      <td>30.49</td>\n      <td>78.34</td>\n      <td>95.38</td>\n      <td>127.37</td>\n      <td>156.37</td>\n      <td>184.84</td>\n    </tr>\n    <tr>\n      <th>amazon_close</th>\n      <td>1257.00</td>\n      <td>129.02</td>\n      <td>30.77</td>\n      <td>79.41</td>\n      <td>96.79</td>\n      <td>129.04</td>\n      <td>158.14</td>\n      <td>186.57</td>\n    </tr>\n    <tr>\n      <th>amazon_volume</th>\n      <td>1257.00</td>\n      <td>74351424.50</td>\n      <td>32479902.07</td>\n      <td>17626740.00</td>\n      <td>52704280.00</td>\n      <td>65311140.00</td>\n      <td>86774185.00</td>\n      <td>311345660.00</td>\n    </tr>\n    <tr>\n      <th>google_open</th>\n      <td>1257.00</td>\n      <td>99.79</td>\n      <td>29.70</td>\n      <td>52.22</td>\n      <td>71.58</td>\n      <td>101.59</td>\n      <td>127.66</td>\n      <td>152.80</td>\n    </tr>\n    <tr>\n      <th>google_high</th>\n      <td>1257.00</td>\n      <td>100.94</td>\n      <td>29.99</td>\n      <td>52.50</td>\n      <td>72.13</td>\n      <td>102.88</td>\n      <td>129.04</td>\n      <td>153.78</td>\n    </tr>\n    <tr>\n      <th>google_low</th>\n      <td>1257.00</td>\n      <td>98.73</td>\n      <td>29.40</td>\n      <td>50.44</td>\n      <td>70.95</td>\n      <td>100.27</td>\n      <td>126.15</td>\n      <td>151.43</td>\n    </tr>\n    <tr>\n      <th>google_close</th>\n      <td>1257.00</td>\n      <td>99.86</td>\n      <td>29.68</td>\n      <td>51.94</td>\n      <td>71.59</td>\n      <td>101.43</td>\n      <td>127.31</td>\n      <td>153.51</td>\n    </tr>\n    <tr>\n      <th>google_volume</th>\n      <td>1257.00</td>\n      <td>33542146.31</td>\n      <td>14936567.45</td>\n      <td>9312760.00</td>\n      <td>24145520.00</td>\n      <td>29793560.00</td>\n      <td>37524720.00</td>\n      <td>133177100.00</td>\n    </tr>\n    <tr>\n      <th>uber_open</th>\n      <td>1192.00</td>\n      <td>38.83</td>\n      <td>10.33</td>\n      <td>15.96</td>\n      <td>30.95</td>\n      <td>36.94</td>\n      <td>45.47</td>\n      <td>66.98</td>\n    </tr>\n    <tr>\n      <th>uber_high</th>\n      <td>1192.00</td>\n      <td>39.60</td>\n      <td>10.41</td>\n      <td>17.80</td>\n      <td>31.57</td>\n      <td>37.59</td>\n      <td>46.53</td>\n      <td>68.25</td>\n    </tr>\n    <tr>\n      <th>uber_low</th>\n      <td>1192.00</td>\n      <td>38.05</td>\n      <td>10.25</td>\n      <td>13.71</td>\n      <td>30.26</td>\n      <td>36.16</td>\n      <td>44.85</td>\n      <td>66.51</td>\n    </tr>\n    <tr>\n      <th>uber_close</th>\n      <td>1192.00</td>\n      <td>38.84</td>\n      <td>10.33</td>\n      <td>14.82</td>\n      <td>30.91</td>\n      <td>37.00</td>\n      <td>45.69</td>\n      <td>68.07</td>\n    </tr>\n    <tr>\n      <th>uber_volume</th>\n      <td>1192.00</td>\n      <td>25260705.73</td>\n      <td>18623834.22</td>\n      <td>3380003.00</td>\n      <td>15834971.50</td>\n      <td>21286596.50</td>\n      <td>29500978.00</td>\n      <td>364261230.00</td>\n    </tr>\n  </tbody>\n</table>\n</div>"
     },
     "execution_count": 31,
     "metadata": {},
     "output_type": "execute_result"
    }
   ],
   "source": [
    "pd.set_option('display.float_format', lambda x: f'{x: .2f}')\n",
    "\n",
    "df.describe().T"
   ],
   "metadata": {
    "collapsed": false,
    "ExecuteTime": {
     "end_time": "2024-02-05T17:50:25.134551700Z",
     "start_time": "2024-02-05T17:50:25.089253500Z"
    }
   },
   "id": "98f29fa4e105234f"
  },
  {
   "cell_type": "code",
   "execution_count": 32,
   "outputs": [
    {
     "data": {
      "text/plain": "               apple_open  apple_high  apple_low  apple_close  apple_volume  \\\napple_open           1.00        1.00       1.00         1.00         -0.48   \napple_high           1.00        1.00       1.00         1.00         -0.47   \napple_low            1.00        1.00       1.00         1.00         -0.49   \napple_close          1.00        1.00       1.00         1.00         -0.48   \napple_volume        -0.48       -0.47      -0.49        -0.48          1.00   \namazon_open          0.54        0.54       0.54         0.54         -0.10   \namazon_high          0.55        0.55       0.55         0.55         -0.10   \namazon_low           0.54        0.54       0.54         0.54         -0.11   \namazon_close         0.54        0.54       0.54         0.54         -0.11   \namazon_volume       -0.27       -0.26      -0.28        -0.27          0.60   \ngoogle_open          0.90        0.90       0.90         0.90         -0.48   \ngoogle_high          0.90        0.90       0.91         0.90         -0.48   \ngoogle_low           0.90        0.90       0.90         0.90         -0.49   \ngoogle_close         0.90        0.90       0.90         0.90         -0.49   \ngoogle_volume       -0.08       -0.08      -0.09        -0.08          0.45   \nuber_open            0.28        0.27       0.28         0.28         -0.26   \nuber_high            0.28        0.27       0.28         0.28         -0.26   \nuber_low             0.28        0.28       0.29         0.28         -0.28   \nuber_close           0.28        0.28       0.29         0.28         -0.27   \nuber_volume          0.06        0.07       0.06         0.06          0.20   \n\n               amazon_open  amazon_high  amazon_low  amazon_close  \\\napple_open            0.54         0.55        0.54          0.54   \napple_high            0.54         0.55        0.54          0.54   \napple_low             0.54         0.55        0.54          0.54   \napple_close           0.54         0.55        0.54          0.54   \napple_volume         -0.10        -0.10       -0.11         -0.11   \namazon_open           1.00         1.00        1.00          1.00   \namazon_high           1.00         1.00        1.00          1.00   \namazon_low            1.00         1.00        1.00          1.00   \namazon_close          1.00         1.00        1.00          1.00   \namazon_volume        -0.09        -0.07       -0.10         -0.09   \ngoogle_open           0.66         0.66        0.66          0.66   \ngoogle_high           0.66         0.66        0.66          0.66   \ngoogle_low            0.66         0.67        0.66          0.66   \ngoogle_close          0.66         0.66        0.66          0.66   \ngoogle_volume        -0.09        -0.08       -0.11         -0.10   \nuber_open             0.57         0.56        0.58          0.57   \nuber_high             0.58         0.57        0.59          0.58   \nuber_low              0.57         0.56        0.58          0.57   \nuber_close            0.57         0.56        0.58          0.57   \nuber_volume          -0.02        -0.02       -0.03         -0.02   \n\n               amazon_volume  google_open  google_high  google_low  \\\napple_open             -0.27         0.90         0.90        0.90   \napple_high             -0.26         0.90         0.90        0.90   \napple_low              -0.28         0.90         0.91        0.90   \napple_close            -0.27         0.90         0.90        0.90   \napple_volume            0.60        -0.48        -0.48       -0.49   \namazon_open            -0.09         0.66         0.66        0.66   \namazon_high            -0.07         0.66         0.66        0.67   \namazon_low             -0.10         0.66         0.66        0.66   \namazon_close           -0.09         0.66         0.66        0.66   \namazon_volume           1.00        -0.30        -0.29       -0.31   \ngoogle_open            -0.30         1.00         1.00        1.00   \ngoogle_high            -0.29         1.00         1.00        1.00   \ngoogle_low             -0.31         1.00         1.00        1.00   \ngoogle_close           -0.30         1.00         1.00        1.00   \ngoogle_volume           0.54        -0.14        -0.13       -0.15   \nuber_open              -0.25         0.39         0.38        0.39   \nuber_high              -0.24         0.39         0.38        0.39   \nuber_low               -0.27         0.39         0.39        0.40   \nuber_close             -0.26         0.39         0.38        0.39   \nuber_volume             0.22         0.05         0.06        0.05   \n\n               google_close  google_volume  uber_open  uber_high  uber_low  \\\napple_open             0.90          -0.08       0.28       0.28      0.28   \napple_high             0.90          -0.08       0.27       0.27      0.28   \napple_low              0.90          -0.09       0.28       0.28      0.29   \napple_close            0.90          -0.08       0.28       0.28      0.28   \napple_volume          -0.49           0.45      -0.26      -0.26     -0.28   \namazon_open            0.66          -0.09       0.57       0.58      0.57   \namazon_high            0.66          -0.08       0.56       0.57      0.56   \namazon_low             0.66          -0.11       0.58       0.59      0.58   \namazon_close           0.66          -0.10       0.57       0.58      0.57   \namazon_volume         -0.30           0.54      -0.25      -0.24     -0.27   \ngoogle_open            1.00          -0.14       0.39       0.39      0.39   \ngoogle_high            1.00          -0.13       0.38       0.38      0.39   \ngoogle_low             1.00          -0.15       0.39       0.39      0.40   \ngoogle_close           1.00          -0.14       0.39       0.39      0.39   \ngoogle_volume         -0.14           1.00      -0.18      -0.17     -0.19   \nuber_open              0.39          -0.18       1.00       1.00      1.00   \nuber_high              0.39          -0.17       1.00       1.00      1.00   \nuber_low               0.39          -0.19       1.00       1.00      1.00   \nuber_close             0.39          -0.18       1.00       1.00      1.00   \nuber_volume            0.05           0.24      -0.12      -0.10     -0.14   \n\n               uber_close  uber_volume  \napple_open           0.28         0.06  \napple_high           0.28         0.07  \napple_low            0.29         0.06  \napple_close          0.28         0.06  \napple_volume        -0.27         0.20  \namazon_open          0.57        -0.02  \namazon_high          0.56        -0.02  \namazon_low           0.58        -0.03  \namazon_close         0.57        -0.02  \namazon_volume       -0.26         0.22  \ngoogle_open          0.39         0.05  \ngoogle_high          0.38         0.06  \ngoogle_low           0.39         0.05  \ngoogle_close         0.39         0.05  \ngoogle_volume       -0.18         0.24  \nuber_open            1.00        -0.12  \nuber_high            1.00        -0.10  \nuber_low             1.00        -0.14  \nuber_close           1.00        -0.12  \nuber_volume         -0.12         1.00  ",
      "text/html": "<div>\n<style scoped>\n    .dataframe tbody tr th:only-of-type {\n        vertical-align: middle;\n    }\n\n    .dataframe tbody tr th {\n        vertical-align: top;\n    }\n\n    .dataframe thead th {\n        text-align: right;\n    }\n</style>\n<table border=\"1\" class=\"dataframe\">\n  <thead>\n    <tr style=\"text-align: right;\">\n      <th></th>\n      <th>apple_open</th>\n      <th>apple_high</th>\n      <th>apple_low</th>\n      <th>apple_close</th>\n      <th>apple_volume</th>\n      <th>amazon_open</th>\n      <th>amazon_high</th>\n      <th>amazon_low</th>\n      <th>amazon_close</th>\n      <th>amazon_volume</th>\n      <th>google_open</th>\n      <th>google_high</th>\n      <th>google_low</th>\n      <th>google_close</th>\n      <th>google_volume</th>\n      <th>uber_open</th>\n      <th>uber_high</th>\n      <th>uber_low</th>\n      <th>uber_close</th>\n      <th>uber_volume</th>\n    </tr>\n  </thead>\n  <tbody>\n    <tr>\n      <th>apple_open</th>\n      <td>1.00</td>\n      <td>1.00</td>\n      <td>1.00</td>\n      <td>1.00</td>\n      <td>-0.48</td>\n      <td>0.54</td>\n      <td>0.55</td>\n      <td>0.54</td>\n      <td>0.54</td>\n      <td>-0.27</td>\n      <td>0.90</td>\n      <td>0.90</td>\n      <td>0.90</td>\n      <td>0.90</td>\n      <td>-0.08</td>\n      <td>0.28</td>\n      <td>0.28</td>\n      <td>0.28</td>\n      <td>0.28</td>\n      <td>0.06</td>\n    </tr>\n    <tr>\n      <th>apple_high</th>\n      <td>1.00</td>\n      <td>1.00</td>\n      <td>1.00</td>\n      <td>1.00</td>\n      <td>-0.47</td>\n      <td>0.54</td>\n      <td>0.55</td>\n      <td>0.54</td>\n      <td>0.54</td>\n      <td>-0.26</td>\n      <td>0.90</td>\n      <td>0.90</td>\n      <td>0.90</td>\n      <td>0.90</td>\n      <td>-0.08</td>\n      <td>0.27</td>\n      <td>0.27</td>\n      <td>0.28</td>\n      <td>0.28</td>\n      <td>0.07</td>\n    </tr>\n    <tr>\n      <th>apple_low</th>\n      <td>1.00</td>\n      <td>1.00</td>\n      <td>1.00</td>\n      <td>1.00</td>\n      <td>-0.49</td>\n      <td>0.54</td>\n      <td>0.55</td>\n      <td>0.54</td>\n      <td>0.54</td>\n      <td>-0.28</td>\n      <td>0.90</td>\n      <td>0.91</td>\n      <td>0.90</td>\n      <td>0.90</td>\n      <td>-0.09</td>\n      <td>0.28</td>\n      <td>0.28</td>\n      <td>0.29</td>\n      <td>0.29</td>\n      <td>0.06</td>\n    </tr>\n    <tr>\n      <th>apple_close</th>\n      <td>1.00</td>\n      <td>1.00</td>\n      <td>1.00</td>\n      <td>1.00</td>\n      <td>-0.48</td>\n      <td>0.54</td>\n      <td>0.55</td>\n      <td>0.54</td>\n      <td>0.54</td>\n      <td>-0.27</td>\n      <td>0.90</td>\n      <td>0.90</td>\n      <td>0.90</td>\n      <td>0.90</td>\n      <td>-0.08</td>\n      <td>0.28</td>\n      <td>0.28</td>\n      <td>0.28</td>\n      <td>0.28</td>\n      <td>0.06</td>\n    </tr>\n    <tr>\n      <th>apple_volume</th>\n      <td>-0.48</td>\n      <td>-0.47</td>\n      <td>-0.49</td>\n      <td>-0.48</td>\n      <td>1.00</td>\n      <td>-0.10</td>\n      <td>-0.10</td>\n      <td>-0.11</td>\n      <td>-0.11</td>\n      <td>0.60</td>\n      <td>-0.48</td>\n      <td>-0.48</td>\n      <td>-0.49</td>\n      <td>-0.49</td>\n      <td>0.45</td>\n      <td>-0.26</td>\n      <td>-0.26</td>\n      <td>-0.28</td>\n      <td>-0.27</td>\n      <td>0.20</td>\n    </tr>\n    <tr>\n      <th>amazon_open</th>\n      <td>0.54</td>\n      <td>0.54</td>\n      <td>0.54</td>\n      <td>0.54</td>\n      <td>-0.10</td>\n      <td>1.00</td>\n      <td>1.00</td>\n      <td>1.00</td>\n      <td>1.00</td>\n      <td>-0.09</td>\n      <td>0.66</td>\n      <td>0.66</td>\n      <td>0.66</td>\n      <td>0.66</td>\n      <td>-0.09</td>\n      <td>0.57</td>\n      <td>0.58</td>\n      <td>0.57</td>\n      <td>0.57</td>\n      <td>-0.02</td>\n    </tr>\n    <tr>\n      <th>amazon_high</th>\n      <td>0.55</td>\n      <td>0.55</td>\n      <td>0.55</td>\n      <td>0.55</td>\n      <td>-0.10</td>\n      <td>1.00</td>\n      <td>1.00</td>\n      <td>1.00</td>\n      <td>1.00</td>\n      <td>-0.07</td>\n      <td>0.66</td>\n      <td>0.66</td>\n      <td>0.67</td>\n      <td>0.66</td>\n      <td>-0.08</td>\n      <td>0.56</td>\n      <td>0.57</td>\n      <td>0.56</td>\n      <td>0.56</td>\n      <td>-0.02</td>\n    </tr>\n    <tr>\n      <th>amazon_low</th>\n      <td>0.54</td>\n      <td>0.54</td>\n      <td>0.54</td>\n      <td>0.54</td>\n      <td>-0.11</td>\n      <td>1.00</td>\n      <td>1.00</td>\n      <td>1.00</td>\n      <td>1.00</td>\n      <td>-0.10</td>\n      <td>0.66</td>\n      <td>0.66</td>\n      <td>0.66</td>\n      <td>0.66</td>\n      <td>-0.11</td>\n      <td>0.58</td>\n      <td>0.59</td>\n      <td>0.58</td>\n      <td>0.58</td>\n      <td>-0.03</td>\n    </tr>\n    <tr>\n      <th>amazon_close</th>\n      <td>0.54</td>\n      <td>0.54</td>\n      <td>0.54</td>\n      <td>0.54</td>\n      <td>-0.11</td>\n      <td>1.00</td>\n      <td>1.00</td>\n      <td>1.00</td>\n      <td>1.00</td>\n      <td>-0.09</td>\n      <td>0.66</td>\n      <td>0.66</td>\n      <td>0.66</td>\n      <td>0.66</td>\n      <td>-0.10</td>\n      <td>0.57</td>\n      <td>0.58</td>\n      <td>0.57</td>\n      <td>0.57</td>\n      <td>-0.02</td>\n    </tr>\n    <tr>\n      <th>amazon_volume</th>\n      <td>-0.27</td>\n      <td>-0.26</td>\n      <td>-0.28</td>\n      <td>-0.27</td>\n      <td>0.60</td>\n      <td>-0.09</td>\n      <td>-0.07</td>\n      <td>-0.10</td>\n      <td>-0.09</td>\n      <td>1.00</td>\n      <td>-0.30</td>\n      <td>-0.29</td>\n      <td>-0.31</td>\n      <td>-0.30</td>\n      <td>0.54</td>\n      <td>-0.25</td>\n      <td>-0.24</td>\n      <td>-0.27</td>\n      <td>-0.26</td>\n      <td>0.22</td>\n    </tr>\n    <tr>\n      <th>google_open</th>\n      <td>0.90</td>\n      <td>0.90</td>\n      <td>0.90</td>\n      <td>0.90</td>\n      <td>-0.48</td>\n      <td>0.66</td>\n      <td>0.66</td>\n      <td>0.66</td>\n      <td>0.66</td>\n      <td>-0.30</td>\n      <td>1.00</td>\n      <td>1.00</td>\n      <td>1.00</td>\n      <td>1.00</td>\n      <td>-0.14</td>\n      <td>0.39</td>\n      <td>0.39</td>\n      <td>0.39</td>\n      <td>0.39</td>\n      <td>0.05</td>\n    </tr>\n    <tr>\n      <th>google_high</th>\n      <td>0.90</td>\n      <td>0.90</td>\n      <td>0.91</td>\n      <td>0.90</td>\n      <td>-0.48</td>\n      <td>0.66</td>\n      <td>0.66</td>\n      <td>0.66</td>\n      <td>0.66</td>\n      <td>-0.29</td>\n      <td>1.00</td>\n      <td>1.00</td>\n      <td>1.00</td>\n      <td>1.00</td>\n      <td>-0.13</td>\n      <td>0.38</td>\n      <td>0.38</td>\n      <td>0.39</td>\n      <td>0.38</td>\n      <td>0.06</td>\n    </tr>\n    <tr>\n      <th>google_low</th>\n      <td>0.90</td>\n      <td>0.90</td>\n      <td>0.90</td>\n      <td>0.90</td>\n      <td>-0.49</td>\n      <td>0.66</td>\n      <td>0.67</td>\n      <td>0.66</td>\n      <td>0.66</td>\n      <td>-0.31</td>\n      <td>1.00</td>\n      <td>1.00</td>\n      <td>1.00</td>\n      <td>1.00</td>\n      <td>-0.15</td>\n      <td>0.39</td>\n      <td>0.39</td>\n      <td>0.40</td>\n      <td>0.39</td>\n      <td>0.05</td>\n    </tr>\n    <tr>\n      <th>google_close</th>\n      <td>0.90</td>\n      <td>0.90</td>\n      <td>0.90</td>\n      <td>0.90</td>\n      <td>-0.49</td>\n      <td>0.66</td>\n      <td>0.66</td>\n      <td>0.66</td>\n      <td>0.66</td>\n      <td>-0.30</td>\n      <td>1.00</td>\n      <td>1.00</td>\n      <td>1.00</td>\n      <td>1.00</td>\n      <td>-0.14</td>\n      <td>0.39</td>\n      <td>0.39</td>\n      <td>0.39</td>\n      <td>0.39</td>\n      <td>0.05</td>\n    </tr>\n    <tr>\n      <th>google_volume</th>\n      <td>-0.08</td>\n      <td>-0.08</td>\n      <td>-0.09</td>\n      <td>-0.08</td>\n      <td>0.45</td>\n      <td>-0.09</td>\n      <td>-0.08</td>\n      <td>-0.11</td>\n      <td>-0.10</td>\n      <td>0.54</td>\n      <td>-0.14</td>\n      <td>-0.13</td>\n      <td>-0.15</td>\n      <td>-0.14</td>\n      <td>1.00</td>\n      <td>-0.18</td>\n      <td>-0.17</td>\n      <td>-0.19</td>\n      <td>-0.18</td>\n      <td>0.24</td>\n    </tr>\n    <tr>\n      <th>uber_open</th>\n      <td>0.28</td>\n      <td>0.27</td>\n      <td>0.28</td>\n      <td>0.28</td>\n      <td>-0.26</td>\n      <td>0.57</td>\n      <td>0.56</td>\n      <td>0.58</td>\n      <td>0.57</td>\n      <td>-0.25</td>\n      <td>0.39</td>\n      <td>0.38</td>\n      <td>0.39</td>\n      <td>0.39</td>\n      <td>-0.18</td>\n      <td>1.00</td>\n      <td>1.00</td>\n      <td>1.00</td>\n      <td>1.00</td>\n      <td>-0.12</td>\n    </tr>\n    <tr>\n      <th>uber_high</th>\n      <td>0.28</td>\n      <td>0.27</td>\n      <td>0.28</td>\n      <td>0.28</td>\n      <td>-0.26</td>\n      <td>0.58</td>\n      <td>0.57</td>\n      <td>0.59</td>\n      <td>0.58</td>\n      <td>-0.24</td>\n      <td>0.39</td>\n      <td>0.38</td>\n      <td>0.39</td>\n      <td>0.39</td>\n      <td>-0.17</td>\n      <td>1.00</td>\n      <td>1.00</td>\n      <td>1.00</td>\n      <td>1.00</td>\n      <td>-0.10</td>\n    </tr>\n    <tr>\n      <th>uber_low</th>\n      <td>0.28</td>\n      <td>0.28</td>\n      <td>0.29</td>\n      <td>0.28</td>\n      <td>-0.28</td>\n      <td>0.57</td>\n      <td>0.56</td>\n      <td>0.58</td>\n      <td>0.57</td>\n      <td>-0.27</td>\n      <td>0.39</td>\n      <td>0.39</td>\n      <td>0.40</td>\n      <td>0.39</td>\n      <td>-0.19</td>\n      <td>1.00</td>\n      <td>1.00</td>\n      <td>1.00</td>\n      <td>1.00</td>\n      <td>-0.14</td>\n    </tr>\n    <tr>\n      <th>uber_close</th>\n      <td>0.28</td>\n      <td>0.28</td>\n      <td>0.29</td>\n      <td>0.28</td>\n      <td>-0.27</td>\n      <td>0.57</td>\n      <td>0.56</td>\n      <td>0.58</td>\n      <td>0.57</td>\n      <td>-0.26</td>\n      <td>0.39</td>\n      <td>0.38</td>\n      <td>0.39</td>\n      <td>0.39</td>\n      <td>-0.18</td>\n      <td>1.00</td>\n      <td>1.00</td>\n      <td>1.00</td>\n      <td>1.00</td>\n      <td>-0.12</td>\n    </tr>\n    <tr>\n      <th>uber_volume</th>\n      <td>0.06</td>\n      <td>0.07</td>\n      <td>0.06</td>\n      <td>0.06</td>\n      <td>0.20</td>\n      <td>-0.02</td>\n      <td>-0.02</td>\n      <td>-0.03</td>\n      <td>-0.02</td>\n      <td>0.22</td>\n      <td>0.05</td>\n      <td>0.06</td>\n      <td>0.05</td>\n      <td>0.05</td>\n      <td>0.24</td>\n      <td>-0.12</td>\n      <td>-0.10</td>\n      <td>-0.14</td>\n      <td>-0.12</td>\n      <td>1.00</td>\n    </tr>\n  </tbody>\n</table>\n</div>"
     },
     "execution_count": 32,
     "metadata": {},
     "output_type": "execute_result"
    }
   ],
   "source": [
    "df.corr()"
   ],
   "metadata": {
    "collapsed": false,
    "ExecuteTime": {
     "end_time": "2024-02-05T17:51:22.694214Z",
     "start_time": "2024-02-05T17:51:22.646622200Z"
    }
   },
   "id": "8be36d1b67f8927b"
  },
  {
   "cell_type": "code",
   "execution_count": 33,
   "outputs": [
    {
     "data": {
      "text/plain": "Index(['apple_open', 'apple_high', 'apple_low', 'apple_close', 'apple_volume',\n       'amazon_open', 'amazon_high', 'amazon_low', 'amazon_close',\n       'amazon_volume', 'google_open', 'google_high', 'google_low',\n       'google_close', 'google_volume', 'uber_open', 'uber_high', 'uber_low',\n       'uber_close', 'uber_volume'],\n      dtype='object')"
     },
     "execution_count": 33,
     "metadata": {},
     "output_type": "execute_result"
    }
   ],
   "source": [
    "df.columns"
   ],
   "metadata": {
    "collapsed": false,
    "ExecuteTime": {
     "end_time": "2024-02-05T17:51:43.247330400Z",
     "start_time": "2024-02-05T17:51:43.205180400Z"
    }
   },
   "id": "4c48fe07fb8d00bf"
  },
  {
   "cell_type": "code",
   "execution_count": 38,
   "outputs": [
    {
     "data": {
      "text/plain": "              apple_close  amazon_close  google_close  uber_close\napple_close          1.00          0.54          0.90        0.28\namazon_close         0.54          1.00          0.66        0.57\ngoogle_close         0.90          0.66          1.00        0.39\nuber_close           0.28          0.57          0.39        1.00",
      "text/html": "<div>\n<style scoped>\n    .dataframe tbody tr th:only-of-type {\n        vertical-align: middle;\n    }\n\n    .dataframe tbody tr th {\n        vertical-align: top;\n    }\n\n    .dataframe thead th {\n        text-align: right;\n    }\n</style>\n<table border=\"1\" class=\"dataframe\">\n  <thead>\n    <tr style=\"text-align: right;\">\n      <th></th>\n      <th>apple_close</th>\n      <th>amazon_close</th>\n      <th>google_close</th>\n      <th>uber_close</th>\n    </tr>\n  </thead>\n  <tbody>\n    <tr>\n      <th>apple_close</th>\n      <td>1.00</td>\n      <td>0.54</td>\n      <td>0.90</td>\n      <td>0.28</td>\n    </tr>\n    <tr>\n      <th>amazon_close</th>\n      <td>0.54</td>\n      <td>1.00</td>\n      <td>0.66</td>\n      <td>0.57</td>\n    </tr>\n    <tr>\n      <th>google_close</th>\n      <td>0.90</td>\n      <td>0.66</td>\n      <td>1.00</td>\n      <td>0.39</td>\n    </tr>\n    <tr>\n      <th>uber_close</th>\n      <td>0.28</td>\n      <td>0.57</td>\n      <td>0.39</td>\n      <td>1.00</td>\n    </tr>\n  </tbody>\n</table>\n</div>"
     },
     "execution_count": 38,
     "metadata": {},
     "output_type": "execute_result"
    }
   ],
   "source": [
    "df_close = pd.concat(objs=[apple.apple_close, amazon.amazon_close, google.google_close, uber.uber_close], axis=1)\n",
    "df_close.corr()"
   ],
   "metadata": {
    "collapsed": false,
    "ExecuteTime": {
     "end_time": "2024-02-05T17:56:01.776344200Z",
     "start_time": "2024-02-05T17:56:01.745903500Z"
    }
   },
   "id": "d8a74ce434e2c638"
  },
  {
   "cell_type": "code",
   "execution_count": 39,
   "outputs": [
    {
     "data": {
      "text/plain": "['apple_close', 'amazon_close', 'google_close', 'uber_close']"
     },
     "execution_count": 39,
     "metadata": {},
     "output_type": "execute_result"
    }
   ],
   "source": [
    "closes = [col for col in df.columns if col.endswith('close')]\n",
    "closes"
   ],
   "metadata": {
    "collapsed": false,
    "ExecuteTime": {
     "end_time": "2024-02-05T17:57:07.206278300Z",
     "start_time": "2024-02-05T17:57:07.184155900Z"
    }
   },
   "id": "af688eca27879f5"
  },
  {
   "cell_type": "code",
   "execution_count": 41,
   "outputs": [
    {
     "data": {
      "text/plain": "              apple_close  amazon_close  google_close  uber_close\napple_close          1.00          0.54          0.90        0.28\namazon_close         0.54          1.00          0.66        0.57\ngoogle_close         0.90          0.66          1.00        0.39\nuber_close           0.28          0.57          0.39        1.00",
      "text/html": "<div>\n<style scoped>\n    .dataframe tbody tr th:only-of-type {\n        vertical-align: middle;\n    }\n\n    .dataframe tbody tr th {\n        vertical-align: top;\n    }\n\n    .dataframe thead th {\n        text-align: right;\n    }\n</style>\n<table border=\"1\" class=\"dataframe\">\n  <thead>\n    <tr style=\"text-align: right;\">\n      <th></th>\n      <th>apple_close</th>\n      <th>amazon_close</th>\n      <th>google_close</th>\n      <th>uber_close</th>\n    </tr>\n  </thead>\n  <tbody>\n    <tr>\n      <th>apple_close</th>\n      <td>1.00</td>\n      <td>0.54</td>\n      <td>0.90</td>\n      <td>0.28</td>\n    </tr>\n    <tr>\n      <th>amazon_close</th>\n      <td>0.54</td>\n      <td>1.00</td>\n      <td>0.66</td>\n      <td>0.57</td>\n    </tr>\n    <tr>\n      <th>google_close</th>\n      <td>0.90</td>\n      <td>0.66</td>\n      <td>1.00</td>\n      <td>0.39</td>\n    </tr>\n    <tr>\n      <th>uber_close</th>\n      <td>0.28</td>\n      <td>0.57</td>\n      <td>0.39</td>\n      <td>1.00</td>\n    </tr>\n  </tbody>\n</table>\n</div>"
     },
     "execution_count": 41,
     "metadata": {},
     "output_type": "execute_result"
    }
   ],
   "source": [
    "df[closes].corr()"
   ],
   "metadata": {
    "collapsed": false,
    "ExecuteTime": {
     "end_time": "2024-02-05T17:57:31.037645100Z",
     "start_time": "2024-02-05T17:57:31.021687300Z"
    }
   },
   "id": "5e48a60310d37e5e"
  },
  {
   "cell_type": "code",
   "execution_count": 42,
   "outputs": [
    {
     "data": {
      "text/plain": "['apple_close',\n 'apple_volume',\n 'amazon_close',\n 'amazon_volume',\n 'google_close',\n 'google_volume',\n 'uber_close',\n 'uber_volume']"
     },
     "execution_count": 42,
     "metadata": {},
     "output_type": "execute_result"
    }
   ],
   "source": [
    "closes = [col for col in df.columns if col.endswith('close') or col.endswith('volume')]\n",
    "closes"
   ],
   "metadata": {
    "collapsed": false,
    "ExecuteTime": {
     "end_time": "2024-02-05T17:58:14.810615900Z",
     "start_time": "2024-02-05T17:58:14.786277900Z"
    }
   },
   "id": "10d6030130e38e2b"
  },
  {
   "cell_type": "code",
   "execution_count": 43,
   "outputs": [
    {
     "data": {
      "text/plain": "               apple_close  apple_volume  amazon_close  amazon_volume  \\\napple_close           1.00         -0.48          0.54          -0.27   \napple_volume         -0.48          1.00         -0.11           0.60   \namazon_close          0.54         -0.11          1.00          -0.09   \namazon_volume        -0.27          0.60         -0.09           1.00   \ngoogle_close          0.90         -0.49          0.66          -0.30   \ngoogle_volume        -0.08          0.45         -0.10           0.54   \nuber_close            0.28         -0.27          0.57          -0.26   \nuber_volume           0.06          0.20         -0.02           0.22   \n\n               google_close  google_volume  uber_close  uber_volume  \napple_close            0.90          -0.08        0.28         0.06  \napple_volume          -0.49           0.45       -0.27         0.20  \namazon_close           0.66          -0.10        0.57        -0.02  \namazon_volume         -0.30           0.54       -0.26         0.22  \ngoogle_close           1.00          -0.14        0.39         0.05  \ngoogle_volume         -0.14           1.00       -0.18         0.24  \nuber_close             0.39          -0.18        1.00        -0.12  \nuber_volume            0.05           0.24       -0.12         1.00  ",
      "text/html": "<div>\n<style scoped>\n    .dataframe tbody tr th:only-of-type {\n        vertical-align: middle;\n    }\n\n    .dataframe tbody tr th {\n        vertical-align: top;\n    }\n\n    .dataframe thead th {\n        text-align: right;\n    }\n</style>\n<table border=\"1\" class=\"dataframe\">\n  <thead>\n    <tr style=\"text-align: right;\">\n      <th></th>\n      <th>apple_close</th>\n      <th>apple_volume</th>\n      <th>amazon_close</th>\n      <th>amazon_volume</th>\n      <th>google_close</th>\n      <th>google_volume</th>\n      <th>uber_close</th>\n      <th>uber_volume</th>\n    </tr>\n  </thead>\n  <tbody>\n    <tr>\n      <th>apple_close</th>\n      <td>1.00</td>\n      <td>-0.48</td>\n      <td>0.54</td>\n      <td>-0.27</td>\n      <td>0.90</td>\n      <td>-0.08</td>\n      <td>0.28</td>\n      <td>0.06</td>\n    </tr>\n    <tr>\n      <th>apple_volume</th>\n      <td>-0.48</td>\n      <td>1.00</td>\n      <td>-0.11</td>\n      <td>0.60</td>\n      <td>-0.49</td>\n      <td>0.45</td>\n      <td>-0.27</td>\n      <td>0.20</td>\n    </tr>\n    <tr>\n      <th>amazon_close</th>\n      <td>0.54</td>\n      <td>-0.11</td>\n      <td>1.00</td>\n      <td>-0.09</td>\n      <td>0.66</td>\n      <td>-0.10</td>\n      <td>0.57</td>\n      <td>-0.02</td>\n    </tr>\n    <tr>\n      <th>amazon_volume</th>\n      <td>-0.27</td>\n      <td>0.60</td>\n      <td>-0.09</td>\n      <td>1.00</td>\n      <td>-0.30</td>\n      <td>0.54</td>\n      <td>-0.26</td>\n      <td>0.22</td>\n    </tr>\n    <tr>\n      <th>google_close</th>\n      <td>0.90</td>\n      <td>-0.49</td>\n      <td>0.66</td>\n      <td>-0.30</td>\n      <td>1.00</td>\n      <td>-0.14</td>\n      <td>0.39</td>\n      <td>0.05</td>\n    </tr>\n    <tr>\n      <th>google_volume</th>\n      <td>-0.08</td>\n      <td>0.45</td>\n      <td>-0.10</td>\n      <td>0.54</td>\n      <td>-0.14</td>\n      <td>1.00</td>\n      <td>-0.18</td>\n      <td>0.24</td>\n    </tr>\n    <tr>\n      <th>uber_close</th>\n      <td>0.28</td>\n      <td>-0.27</td>\n      <td>0.57</td>\n      <td>-0.26</td>\n      <td>0.39</td>\n      <td>-0.18</td>\n      <td>1.00</td>\n      <td>-0.12</td>\n    </tr>\n    <tr>\n      <th>uber_volume</th>\n      <td>0.06</td>\n      <td>0.20</td>\n      <td>-0.02</td>\n      <td>0.22</td>\n      <td>0.05</td>\n      <td>0.24</td>\n      <td>-0.12</td>\n      <td>1.00</td>\n    </tr>\n  </tbody>\n</table>\n</div>"
     },
     "execution_count": 43,
     "metadata": {},
     "output_type": "execute_result"
    }
   ],
   "source": [
    "df[closes].corr()"
   ],
   "metadata": {
    "collapsed": false,
    "ExecuteTime": {
     "end_time": "2024-02-05T17:58:20.005917600Z",
     "start_time": "2024-02-05T17:58:19.971963600Z"
    }
   },
   "id": "aeca99840aef8df7"
  },
  {
   "cell_type": "markdown",
   "source": [
    "### Metoda append"
   ],
   "metadata": {
    "collapsed": false
   },
   "id": "4819e99ad366198b"
  },
  {
   "cell_type": "code",
   "execution_count": 44,
   "outputs": [
    {
     "data": {
      "text/plain": "            uber_open  uber_high  uber_low  uber_close  uber_volume\nDate                                                               \n2024-02-02      66.98      68.25     66.51       68.07     18671765\n2024-02-01      66.12      66.85     65.59       66.73     12504225\n2024-01-31      65.70      66.25     64.84       65.27     17026414\n2024-01-30      66.90      67.69     66.22       66.84     17562145\n2024-01-29      65.60      67.10     65.56       66.98     15902036",
      "text/html": "<div>\n<style scoped>\n    .dataframe tbody tr th:only-of-type {\n        vertical-align: middle;\n    }\n\n    .dataframe tbody tr th {\n        vertical-align: top;\n    }\n\n    .dataframe thead th {\n        text-align: right;\n    }\n</style>\n<table border=\"1\" class=\"dataframe\">\n  <thead>\n    <tr style=\"text-align: right;\">\n      <th></th>\n      <th>uber_open</th>\n      <th>uber_high</th>\n      <th>uber_low</th>\n      <th>uber_close</th>\n      <th>uber_volume</th>\n    </tr>\n    <tr>\n      <th>Date</th>\n      <th></th>\n      <th></th>\n      <th></th>\n      <th></th>\n      <th></th>\n    </tr>\n  </thead>\n  <tbody>\n    <tr>\n      <th>2024-02-02</th>\n      <td>66.98</td>\n      <td>68.25</td>\n      <td>66.51</td>\n      <td>68.07</td>\n      <td>18671765</td>\n    </tr>\n    <tr>\n      <th>2024-02-01</th>\n      <td>66.12</td>\n      <td>66.85</td>\n      <td>65.59</td>\n      <td>66.73</td>\n      <td>12504225</td>\n    </tr>\n    <tr>\n      <th>2024-01-31</th>\n      <td>65.70</td>\n      <td>66.25</td>\n      <td>64.84</td>\n      <td>65.27</td>\n      <td>17026414</td>\n    </tr>\n    <tr>\n      <th>2024-01-30</th>\n      <td>66.90</td>\n      <td>67.69</td>\n      <td>66.22</td>\n      <td>66.84</td>\n      <td>17562145</td>\n    </tr>\n    <tr>\n      <th>2024-01-29</th>\n      <td>65.60</td>\n      <td>67.10</td>\n      <td>65.56</td>\n      <td>66.98</td>\n      <td>15902036</td>\n    </tr>\n  </tbody>\n</table>\n</div>"
     },
     "execution_count": 44,
     "metadata": {},
     "output_type": "execute_result"
    }
   ],
   "source": [
    "uber.head()"
   ],
   "metadata": {
    "collapsed": false,
    "ExecuteTime": {
     "end_time": "2024-02-05T18:04:59.894367400Z",
     "start_time": "2024-02-05T18:04:59.870991Z"
    }
   },
   "id": "1e6fb63130d5d8e"
  },
  {
   "cell_type": "code",
   "execution_count": 49,
   "outputs": [
    {
     "data": {
      "text/plain": "            uber_open  uber_high  uber_low  uber_close  uber_volume\nDate                                                               \n2023-06-30      43.11      43.43     42.92       43.17     17589240\n2023-06-29      44.09      44.28     42.11       42.58     28595285\n2023-06-28      43.50      45.24     43.32       44.24     28187374\n2023-06-27      44.69      44.83     43.75       43.83     29652066\n2023-06-26      43.75      45.04     43.68       44.42     33692974\n...               ...        ...       ...         ...          ...\n2019-06-07      44.92      45.67     44.13       44.16     12654670\n2019-06-06      45.00      45.75     44.28       44.92     16403691\n2019-06-05      42.87      45.66     42.50       45.00     28609604\n2019-06-04      42.56      42.88     40.70       42.75     23432141\n2019-06-03      40.74      41.85     40.24       41.25     16605261\n\n[106 rows x 5 columns]",
      "text/html": "<div>\n<style scoped>\n    .dataframe tbody tr th:only-of-type {\n        vertical-align: middle;\n    }\n\n    .dataframe tbody tr th {\n        vertical-align: top;\n    }\n\n    .dataframe thead th {\n        text-align: right;\n    }\n</style>\n<table border=\"1\" class=\"dataframe\">\n  <thead>\n    <tr style=\"text-align: right;\">\n      <th></th>\n      <th>uber_open</th>\n      <th>uber_high</th>\n      <th>uber_low</th>\n      <th>uber_close</th>\n      <th>uber_volume</th>\n    </tr>\n    <tr>\n      <th>Date</th>\n      <th></th>\n      <th></th>\n      <th></th>\n      <th></th>\n      <th></th>\n    </tr>\n  </thead>\n  <tbody>\n    <tr>\n      <th>2023-06-30</th>\n      <td>43.11</td>\n      <td>43.43</td>\n      <td>42.92</td>\n      <td>43.17</td>\n      <td>17589240</td>\n    </tr>\n    <tr>\n      <th>2023-06-29</th>\n      <td>44.09</td>\n      <td>44.28</td>\n      <td>42.11</td>\n      <td>42.58</td>\n      <td>28595285</td>\n    </tr>\n    <tr>\n      <th>2023-06-28</th>\n      <td>43.50</td>\n      <td>45.24</td>\n      <td>43.32</td>\n      <td>44.24</td>\n      <td>28187374</td>\n    </tr>\n    <tr>\n      <th>2023-06-27</th>\n      <td>44.69</td>\n      <td>44.83</td>\n      <td>43.75</td>\n      <td>43.83</td>\n      <td>29652066</td>\n    </tr>\n    <tr>\n      <th>2023-06-26</th>\n      <td>43.75</td>\n      <td>45.04</td>\n      <td>43.68</td>\n      <td>44.42</td>\n      <td>33692974</td>\n    </tr>\n    <tr>\n      <th>...</th>\n      <td>...</td>\n      <td>...</td>\n      <td>...</td>\n      <td>...</td>\n      <td>...</td>\n    </tr>\n    <tr>\n      <th>2019-06-07</th>\n      <td>44.92</td>\n      <td>45.67</td>\n      <td>44.13</td>\n      <td>44.16</td>\n      <td>12654670</td>\n    </tr>\n    <tr>\n      <th>2019-06-06</th>\n      <td>45.00</td>\n      <td>45.75</td>\n      <td>44.28</td>\n      <td>44.92</td>\n      <td>16403691</td>\n    </tr>\n    <tr>\n      <th>2019-06-05</th>\n      <td>42.87</td>\n      <td>45.66</td>\n      <td>42.50</td>\n      <td>45.00</td>\n      <td>28609604</td>\n    </tr>\n    <tr>\n      <th>2019-06-04</th>\n      <td>42.56</td>\n      <td>42.88</td>\n      <td>40.70</td>\n      <td>42.75</td>\n      <td>23432141</td>\n    </tr>\n    <tr>\n      <th>2019-06-03</th>\n      <td>40.74</td>\n      <td>41.85</td>\n      <td>40.24</td>\n      <td>41.25</td>\n      <td>16605261</td>\n    </tr>\n  </tbody>\n</table>\n<p>106 rows × 5 columns</p>\n</div>"
     },
     "execution_count": 49,
     "metadata": {},
     "output_type": "execute_result"
    }
   ],
   "source": [
    "uber_6 = uber[uber.index.month == 6]\n",
    "uber_6"
   ],
   "metadata": {
    "collapsed": false,
    "ExecuteTime": {
     "end_time": "2024-02-05T18:08:01.098295500Z",
     "start_time": "2024-02-05T18:08:01.079925500Z"
    }
   },
   "id": "e4b0c9d42a9b07f3"
  },
  {
   "cell_type": "code",
   "execution_count": 54,
   "outputs": [
    {
     "data": {
      "text/plain": "            uber_open  uber_high  uber_low  uber_close  uber_volume\nDate                                                               \n2023-07-31      48.85      49.49     48.15       49.46     38736789\n2023-07-28      47.14      48.43     46.71       48.14     17154631\n2023-07-27      48.00      48.09     46.35       46.61     17991953\n2023-07-26      47.05      47.55     46.62       47.31     16666161\n2023-07-25      47.20      47.73     46.93       47.17     14188200\n...               ...        ...       ...         ...          ...\n2019-07-08      43.59      43.85     42.75       42.95      9304101\n2019-07-05      44.31      44.55     43.01       43.53      8239452\n2019-07-03      44.00      44.46     43.79       44.23      3380003\n2019-07-02      44.55      44.68     43.75       44.00     11881274\n2019-07-01      46.98      47.04     44.06       44.27     17739998\n\n[105 rows x 5 columns]",
      "text/html": "<div>\n<style scoped>\n    .dataframe tbody tr th:only-of-type {\n        vertical-align: middle;\n    }\n\n    .dataframe tbody tr th {\n        vertical-align: top;\n    }\n\n    .dataframe thead th {\n        text-align: right;\n    }\n</style>\n<table border=\"1\" class=\"dataframe\">\n  <thead>\n    <tr style=\"text-align: right;\">\n      <th></th>\n      <th>uber_open</th>\n      <th>uber_high</th>\n      <th>uber_low</th>\n      <th>uber_close</th>\n      <th>uber_volume</th>\n    </tr>\n    <tr>\n      <th>Date</th>\n      <th></th>\n      <th></th>\n      <th></th>\n      <th></th>\n      <th></th>\n    </tr>\n  </thead>\n  <tbody>\n    <tr>\n      <th>2023-07-31</th>\n      <td>48.85</td>\n      <td>49.49</td>\n      <td>48.15</td>\n      <td>49.46</td>\n      <td>38736789</td>\n    </tr>\n    <tr>\n      <th>2023-07-28</th>\n      <td>47.14</td>\n      <td>48.43</td>\n      <td>46.71</td>\n      <td>48.14</td>\n      <td>17154631</td>\n    </tr>\n    <tr>\n      <th>2023-07-27</th>\n      <td>48.00</td>\n      <td>48.09</td>\n      <td>46.35</td>\n      <td>46.61</td>\n      <td>17991953</td>\n    </tr>\n    <tr>\n      <th>2023-07-26</th>\n      <td>47.05</td>\n      <td>47.55</td>\n      <td>46.62</td>\n      <td>47.31</td>\n      <td>16666161</td>\n    </tr>\n    <tr>\n      <th>2023-07-25</th>\n      <td>47.20</td>\n      <td>47.73</td>\n      <td>46.93</td>\n      <td>47.17</td>\n      <td>14188200</td>\n    </tr>\n    <tr>\n      <th>...</th>\n      <td>...</td>\n      <td>...</td>\n      <td>...</td>\n      <td>...</td>\n      <td>...</td>\n    </tr>\n    <tr>\n      <th>2019-07-08</th>\n      <td>43.59</td>\n      <td>43.85</td>\n      <td>42.75</td>\n      <td>42.95</td>\n      <td>9304101</td>\n    </tr>\n    <tr>\n      <th>2019-07-05</th>\n      <td>44.31</td>\n      <td>44.55</td>\n      <td>43.01</td>\n      <td>43.53</td>\n      <td>8239452</td>\n    </tr>\n    <tr>\n      <th>2019-07-03</th>\n      <td>44.00</td>\n      <td>44.46</td>\n      <td>43.79</td>\n      <td>44.23</td>\n      <td>3380003</td>\n    </tr>\n    <tr>\n      <th>2019-07-02</th>\n      <td>44.55</td>\n      <td>44.68</td>\n      <td>43.75</td>\n      <td>44.00</td>\n      <td>11881274</td>\n    </tr>\n    <tr>\n      <th>2019-07-01</th>\n      <td>46.98</td>\n      <td>47.04</td>\n      <td>44.06</td>\n      <td>44.27</td>\n      <td>17739998</td>\n    </tr>\n  </tbody>\n</table>\n<p>105 rows × 5 columns</p>\n</div>"
     },
     "execution_count": 54,
     "metadata": {},
     "output_type": "execute_result"
    }
   ],
   "source": [
    "uber_7 = uber[uber.index.month == 7]\n",
    "uber_7"
   ],
   "metadata": {
    "collapsed": false,
    "ExecuteTime": {
     "end_time": "2024-02-05T18:11:19.281549900Z",
     "start_time": "2024-02-05T18:11:19.248594400Z"
    }
   },
   "id": "853b33bd45a44ec9"
  },
  {
   "cell_type": "code",
   "execution_count": 58,
   "outputs": [
    {
     "data": {
      "text/plain": "            uber_open  uber_high  uber_low  uber_close  uber_volume\nDate                                                               \n2023-06-30      43.11      43.43     42.92       43.17     17589240\n2023-06-29      44.09      44.28     42.11       42.58     28595285\n2023-06-28      43.50      45.24     43.32       44.24     28187374\n2023-06-27      44.69      44.83     43.75       43.83     29652066\n2023-06-26      43.75      45.04     43.68       44.42     33692974\n...               ...        ...       ...         ...          ...\n2019-07-08      43.59      43.85     42.75       42.95      9304101\n2019-07-05      44.31      44.55     43.01       43.53      8239452\n2019-07-03      44.00      44.46     43.79       44.23      3380003\n2019-07-02      44.55      44.68     43.75       44.00     11881274\n2019-07-01      46.98      47.04     44.06       44.27     17739998\n\n[211 rows x 5 columns]",
      "text/html": "<div>\n<style scoped>\n    .dataframe tbody tr th:only-of-type {\n        vertical-align: middle;\n    }\n\n    .dataframe tbody tr th {\n        vertical-align: top;\n    }\n\n    .dataframe thead th {\n        text-align: right;\n    }\n</style>\n<table border=\"1\" class=\"dataframe\">\n  <thead>\n    <tr style=\"text-align: right;\">\n      <th></th>\n      <th>uber_open</th>\n      <th>uber_high</th>\n      <th>uber_low</th>\n      <th>uber_close</th>\n      <th>uber_volume</th>\n    </tr>\n    <tr>\n      <th>Date</th>\n      <th></th>\n      <th></th>\n      <th></th>\n      <th></th>\n      <th></th>\n    </tr>\n  </thead>\n  <tbody>\n    <tr>\n      <th>2023-06-30</th>\n      <td>43.11</td>\n      <td>43.43</td>\n      <td>42.92</td>\n      <td>43.17</td>\n      <td>17589240</td>\n    </tr>\n    <tr>\n      <th>2023-06-29</th>\n      <td>44.09</td>\n      <td>44.28</td>\n      <td>42.11</td>\n      <td>42.58</td>\n      <td>28595285</td>\n    </tr>\n    <tr>\n      <th>2023-06-28</th>\n      <td>43.50</td>\n      <td>45.24</td>\n      <td>43.32</td>\n      <td>44.24</td>\n      <td>28187374</td>\n    </tr>\n    <tr>\n      <th>2023-06-27</th>\n      <td>44.69</td>\n      <td>44.83</td>\n      <td>43.75</td>\n      <td>43.83</td>\n      <td>29652066</td>\n    </tr>\n    <tr>\n      <th>2023-06-26</th>\n      <td>43.75</td>\n      <td>45.04</td>\n      <td>43.68</td>\n      <td>44.42</td>\n      <td>33692974</td>\n    </tr>\n    <tr>\n      <th>...</th>\n      <td>...</td>\n      <td>...</td>\n      <td>...</td>\n      <td>...</td>\n      <td>...</td>\n    </tr>\n    <tr>\n      <th>2019-07-08</th>\n      <td>43.59</td>\n      <td>43.85</td>\n      <td>42.75</td>\n      <td>42.95</td>\n      <td>9304101</td>\n    </tr>\n    <tr>\n      <th>2019-07-05</th>\n      <td>44.31</td>\n      <td>44.55</td>\n      <td>43.01</td>\n      <td>43.53</td>\n      <td>8239452</td>\n    </tr>\n    <tr>\n      <th>2019-07-03</th>\n      <td>44.00</td>\n      <td>44.46</td>\n      <td>43.79</td>\n      <td>44.23</td>\n      <td>3380003</td>\n    </tr>\n    <tr>\n      <th>2019-07-02</th>\n      <td>44.55</td>\n      <td>44.68</td>\n      <td>43.75</td>\n      <td>44.00</td>\n      <td>11881274</td>\n    </tr>\n    <tr>\n      <th>2019-07-01</th>\n      <td>46.98</td>\n      <td>47.04</td>\n      <td>44.06</td>\n      <td>44.27</td>\n      <td>17739998</td>\n    </tr>\n  </tbody>\n</table>\n<p>211 rows × 5 columns</p>\n</div>"
     },
     "execution_count": 58,
     "metadata": {},
     "output_type": "execute_result"
    }
   ],
   "source": [
    "uber_6_7 = pd.concat([uber_6,uber_7]) # usunięto metodę \"append\". Teraz używamy 'concat' w ten sposób\n",
    "uber_6_7"
   ],
   "metadata": {
    "collapsed": false,
    "ExecuteTime": {
     "end_time": "2024-02-05T18:12:20.470003500Z",
     "start_time": "2024-02-05T18:12:20.455088300Z"
    }
   },
   "id": "9c1646e049968d83"
  },
  {
   "cell_type": "code",
   "execution_count": null,
   "outputs": [],
   "source": [],
   "metadata": {
    "collapsed": false
   },
   "id": "75e443224d4e5fa8"
  }
 ],
 "metadata": {
  "kernelspec": {
   "display_name": "Python 3",
   "language": "python",
   "name": "python3"
  },
  "language_info": {
   "codemirror_mode": {
    "name": "ipython",
    "version": 2
   },
   "file_extension": ".py",
   "mimetype": "text/x-python",
   "name": "python",
   "nbconvert_exporter": "python",
   "pygments_lexer": "ipython2",
   "version": "2.7.6"
  }
 },
 "nbformat": 4,
 "nbformat_minor": 5
}
