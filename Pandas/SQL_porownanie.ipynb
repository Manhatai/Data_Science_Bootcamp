{
 "cells": [
  {
   "cell_type": "markdown",
   "source": [
    "### Import bibliotek"
   ],
   "metadata": {
    "collapsed": false
   },
   "id": "7550f02fa7ef59d1"
  },
  {
   "cell_type": "code",
   "execution_count": 1,
   "id": "initial_id",
   "metadata": {
    "collapsed": true,
    "ExecuteTime": {
     "end_time": "2024-02-07T18:08:45.601626800Z",
     "start_time": "2024-02-07T18:08:45.600116Z"
    }
   },
   "outputs": [],
   "source": [
    "import numpy as np\n",
    "import pandas as pd"
   ]
  },
  {
   "cell_type": "code",
   "execution_count": 2,
   "outputs": [],
   "source": [
    "retail_raw = pd.read_excel('online_retail.xlsx')"
   ],
   "metadata": {
    "collapsed": false,
    "ExecuteTime": {
     "end_time": "2024-02-07T18:10:15.479107300Z",
     "start_time": "2024-02-07T18:09:33.940804300Z"
    }
   },
   "id": "f1f034d09cbf7416"
  },
  {
   "cell_type": "code",
   "execution_count": 3,
   "outputs": [
    {
     "data": {
      "text/plain": "  InvoiceNo StockCode                          Description  Quantity  \\\n0    536365    85123A   WHITE HANGING HEART T-LIGHT HOLDER         6   \n1    536365     71053                  WHITE METAL LANTERN         6   \n2    536365    84406B       CREAM CUPID HEARTS COAT HANGER         8   \n3    536365    84029G  KNITTED UNION FLAG HOT WATER BOTTLE         6   \n4    536365    84029E       RED WOOLLY HOTTIE WHITE HEART.         6   \n\n          InvoiceDate  UnitPrice  CustomerID         Country  \n0 2010-12-01 08:26:00       2.55     17850.0  United Kingdom  \n1 2010-12-01 08:26:00       3.39     17850.0  United Kingdom  \n2 2010-12-01 08:26:00       2.75     17850.0  United Kingdom  \n3 2010-12-01 08:26:00       3.39     17850.0  United Kingdom  \n4 2010-12-01 08:26:00       3.39     17850.0  United Kingdom  ",
      "text/html": "<div>\n<style scoped>\n    .dataframe tbody tr th:only-of-type {\n        vertical-align: middle;\n    }\n\n    .dataframe tbody tr th {\n        vertical-align: top;\n    }\n\n    .dataframe thead th {\n        text-align: right;\n    }\n</style>\n<table border=\"1\" class=\"dataframe\">\n  <thead>\n    <tr style=\"text-align: right;\">\n      <th></th>\n      <th>InvoiceNo</th>\n      <th>StockCode</th>\n      <th>Description</th>\n      <th>Quantity</th>\n      <th>InvoiceDate</th>\n      <th>UnitPrice</th>\n      <th>CustomerID</th>\n      <th>Country</th>\n    </tr>\n  </thead>\n  <tbody>\n    <tr>\n      <th>0</th>\n      <td>536365</td>\n      <td>85123A</td>\n      <td>WHITE HANGING HEART T-LIGHT HOLDER</td>\n      <td>6</td>\n      <td>2010-12-01 08:26:00</td>\n      <td>2.55</td>\n      <td>17850.0</td>\n      <td>United Kingdom</td>\n    </tr>\n    <tr>\n      <th>1</th>\n      <td>536365</td>\n      <td>71053</td>\n      <td>WHITE METAL LANTERN</td>\n      <td>6</td>\n      <td>2010-12-01 08:26:00</td>\n      <td>3.39</td>\n      <td>17850.0</td>\n      <td>United Kingdom</td>\n    </tr>\n    <tr>\n      <th>2</th>\n      <td>536365</td>\n      <td>84406B</td>\n      <td>CREAM CUPID HEARTS COAT HANGER</td>\n      <td>8</td>\n      <td>2010-12-01 08:26:00</td>\n      <td>2.75</td>\n      <td>17850.0</td>\n      <td>United Kingdom</td>\n    </tr>\n    <tr>\n      <th>3</th>\n      <td>536365</td>\n      <td>84029G</td>\n      <td>KNITTED UNION FLAG HOT WATER BOTTLE</td>\n      <td>6</td>\n      <td>2010-12-01 08:26:00</td>\n      <td>3.39</td>\n      <td>17850.0</td>\n      <td>United Kingdom</td>\n    </tr>\n    <tr>\n      <th>4</th>\n      <td>536365</td>\n      <td>84029E</td>\n      <td>RED WOOLLY HOTTIE WHITE HEART.</td>\n      <td>6</td>\n      <td>2010-12-01 08:26:00</td>\n      <td>3.39</td>\n      <td>17850.0</td>\n      <td>United Kingdom</td>\n    </tr>\n  </tbody>\n</table>\n</div>"
     },
     "execution_count": 3,
     "metadata": {},
     "output_type": "execute_result"
    }
   ],
   "source": [
    "retail_raw.head()"
   ],
   "metadata": {
    "collapsed": false,
    "ExecuteTime": {
     "end_time": "2024-02-07T18:10:30.343434600Z",
     "start_time": "2024-02-07T18:10:30.327403Z"
    }
   },
   "id": "b43b09948f60c559"
  },
  {
   "cell_type": "code",
   "execution_count": 5,
   "outputs": [
    {
     "name": "stdout",
     "output_type": "stream",
     "text": [
      "<class 'pandas.core.frame.DataFrame'>\n",
      "RangeIndex: 541909 entries, 0 to 541908\n",
      "Data columns (total 8 columns):\n",
      " #   Column       Non-Null Count   Dtype         \n",
      "---  ------       --------------   -----         \n",
      " 0   InvoiceNo    541909 non-null  object        \n",
      " 1   StockCode    541909 non-null  object        \n",
      " 2   Description  540455 non-null  object        \n",
      " 3   Quantity     541909 non-null  int64         \n",
      " 4   InvoiceDate  541909 non-null  datetime64[ns]\n",
      " 5   UnitPrice    541909 non-null  float64       \n",
      " 6   CustomerID   406829 non-null  float64       \n",
      " 7   Country      541909 non-null  object        \n",
      "dtypes: datetime64[ns](1), float64(2), int64(1), object(4)\n",
      "memory usage: 33.1+ MB\n"
     ]
    }
   ],
   "source": [
    "retail = retail_raw.copy() # Dobra praktyka\n",
    "retail.info() # object - kolumny tekstowe, int - kolumna liczb całkowity, float - liczby poprzecinkowe"
   ],
   "metadata": {
    "collapsed": false,
    "ExecuteTime": {
     "end_time": "2024-02-07T18:17:36.311983400Z",
     "start_time": "2024-02-07T18:17:36.236275300Z"
    }
   },
   "id": "1581b8564f913be"
  },
  {
   "cell_type": "code",
   "execution_count": 8,
   "outputs": [
    {
     "data": {
      "text/plain": "            Quantity                    InvoiceDate      UnitPrice  \\\ncount  541909.000000                         541909  541909.000000   \nmean        9.552250  2011-07-04 13:34:57.156386048       4.611114   \nmin    -80995.000000            2010-12-01 08:26:00  -11062.060000   \n25%         1.000000            2011-03-28 11:34:00       1.250000   \n50%         3.000000            2011-07-19 17:17:00       2.080000   \n75%        10.000000            2011-10-19 11:27:00       4.130000   \nmax     80995.000000            2011-12-09 12:50:00   38970.000000   \nstd       218.081158                            NaN      96.759853   \n\n          CustomerID  \ncount  406829.000000  \nmean    15287.690570  \nmin     12346.000000  \n25%     13953.000000  \n50%     15152.000000  \n75%     16791.000000  \nmax     18287.000000  \nstd      1713.600303  ",
      "text/html": "<div>\n<style scoped>\n    .dataframe tbody tr th:only-of-type {\n        vertical-align: middle;\n    }\n\n    .dataframe tbody tr th {\n        vertical-align: top;\n    }\n\n    .dataframe thead th {\n        text-align: right;\n    }\n</style>\n<table border=\"1\" class=\"dataframe\">\n  <thead>\n    <tr style=\"text-align: right;\">\n      <th></th>\n      <th>Quantity</th>\n      <th>InvoiceDate</th>\n      <th>UnitPrice</th>\n      <th>CustomerID</th>\n    </tr>\n  </thead>\n  <tbody>\n    <tr>\n      <th>count</th>\n      <td>541909.000000</td>\n      <td>541909</td>\n      <td>541909.000000</td>\n      <td>406829.000000</td>\n    </tr>\n    <tr>\n      <th>mean</th>\n      <td>9.552250</td>\n      <td>2011-07-04 13:34:57.156386048</td>\n      <td>4.611114</td>\n      <td>15287.690570</td>\n    </tr>\n    <tr>\n      <th>min</th>\n      <td>-80995.000000</td>\n      <td>2010-12-01 08:26:00</td>\n      <td>-11062.060000</td>\n      <td>12346.000000</td>\n    </tr>\n    <tr>\n      <th>25%</th>\n      <td>1.000000</td>\n      <td>2011-03-28 11:34:00</td>\n      <td>1.250000</td>\n      <td>13953.000000</td>\n    </tr>\n    <tr>\n      <th>50%</th>\n      <td>3.000000</td>\n      <td>2011-07-19 17:17:00</td>\n      <td>2.080000</td>\n      <td>15152.000000</td>\n    </tr>\n    <tr>\n      <th>75%</th>\n      <td>10.000000</td>\n      <td>2011-10-19 11:27:00</td>\n      <td>4.130000</td>\n      <td>16791.000000</td>\n    </tr>\n    <tr>\n      <th>max</th>\n      <td>80995.000000</td>\n      <td>2011-12-09 12:50:00</td>\n      <td>38970.000000</td>\n      <td>18287.000000</td>\n    </tr>\n    <tr>\n      <th>std</th>\n      <td>218.081158</td>\n      <td>NaN</td>\n      <td>96.759853</td>\n      <td>1713.600303</td>\n    </tr>\n  </tbody>\n</table>\n</div>"
     },
     "execution_count": 8,
     "metadata": {},
     "output_type": "execute_result"
    }
   ],
   "source": [
    "retail.describe()"
   ],
   "metadata": {
    "collapsed": false,
    "ExecuteTime": {
     "end_time": "2024-02-07T18:18:19.914348900Z",
     "start_time": "2024-02-07T18:18:19.868501Z"
    }
   },
   "id": "4398911c4dc85b4"
  },
  {
   "cell_type": "code",
   "execution_count": 9,
   "outputs": [
    {
     "data": {
      "text/plain": "InvoiceNo           0\nStockCode           0\nDescription      1454\nQuantity            0\nInvoiceDate         0\nUnitPrice           0\nCustomerID     135080\nCountry             0\ndtype: int64"
     },
     "execution_count": 9,
     "metadata": {},
     "output_type": "execute_result"
    }
   ],
   "source": [
    "retail.isnull().sum()"
   ],
   "metadata": {
    "collapsed": false,
    "ExecuteTime": {
     "end_time": "2024-02-07T18:23:42.428543300Z",
     "start_time": "2024-02-07T18:23:42.371171300Z"
    }
   },
   "id": "f46f40537399f973"
  },
  {
   "cell_type": "code",
   "execution_count": 10,
   "outputs": [],
   "source": [
    "retail = retail.dropna()"
   ],
   "metadata": {
    "collapsed": false,
    "ExecuteTime": {
     "end_time": "2024-02-07T18:24:05.089605300Z",
     "start_time": "2024-02-07T18:24:05.021370300Z"
    }
   },
   "id": "db9716b5347fe095"
  },
  {
   "cell_type": "code",
   "execution_count": 11,
   "outputs": [
    {
     "data": {
      "text/plain": "InvoiceNo      0\nStockCode      0\nDescription    0\nQuantity       0\nInvoiceDate    0\nUnitPrice      0\nCustomerID     0\nCountry        0\ndtype: int64"
     },
     "execution_count": 11,
     "metadata": {},
     "output_type": "execute_result"
    }
   ],
   "source": [
    "retail.isnull().sum()"
   ],
   "metadata": {
    "collapsed": false,
    "ExecuteTime": {
     "end_time": "2024-02-07T18:24:30.709376200Z",
     "start_time": "2024-02-07T18:24:30.670647900Z"
    }
   },
   "id": "59facdcb35c57385"
  },
  {
   "cell_type": "code",
   "execution_count": 16,
   "outputs": [
    {
     "name": "stdout",
     "output_type": "stream",
     "text": [
      "<class 'pandas.core.frame.DataFrame'>\n",
      "Index: 397924 entries, 0 to 541908\n",
      "Data columns (total 8 columns):\n",
      " #   Column       Non-Null Count   Dtype         \n",
      "---  ------       --------------   -----         \n",
      " 0   InvoiceNo    397924 non-null  object        \n",
      " 1   StockCode    397924 non-null  object        \n",
      " 2   Description  397924 non-null  object        \n",
      " 3   Quantity     397924 non-null  int64         \n",
      " 4   InvoiceDate  397924 non-null  datetime64[ns]\n",
      " 5   UnitPrice    397924 non-null  float64       \n",
      " 6   CustomerID   397924 non-null  float64       \n",
      " 7   Country      397924 non-null  object        \n",
      "dtypes: datetime64[ns](1), float64(2), int64(1), object(4)\n",
      "memory usage: 27.3+ MB\n"
     ]
    }
   ],
   "source": [
    "retail = retail[retail.Quantity >= 0]\n",
    "retail.info()"
   ],
   "metadata": {
    "collapsed": false,
    "ExecuteTime": {
     "end_time": "2024-02-07T18:26:12.141643Z",
     "start_time": "2024-02-07T18:26:12.091918Z"
    }
   },
   "id": "9ee28d9928548e28"
  },
  {
   "cell_type": "code",
   "execution_count": 17,
   "outputs": [
    {
     "data": {
      "text/plain": "       InvoiceNo StockCode                          Description  Quantity  \\\n0         536365    85123A   WHITE HANGING HEART T-LIGHT HOLDER         6   \n1         536365     71053                  WHITE METAL LANTERN         6   \n2         536365    84406B       CREAM CUPID HEARTS COAT HANGER         8   \n3         536365    84029G  KNITTED UNION FLAG HOT WATER BOTTLE         6   \n4         536365    84029E       RED WOOLLY HOTTIE WHITE HEART.         6   \n...          ...       ...                                  ...       ...   \n541904    581587     22613          PACK OF 20 SPACEBOY NAPKINS        12   \n541905    581587     22899         CHILDREN'S APRON DOLLY GIRL          6   \n541906    581587     23254        CHILDRENS CUTLERY DOLLY GIRL          4   \n541907    581587     23255      CHILDRENS CUTLERY CIRCUS PARADE         4   \n541908    581587     22138        BAKING SET 9 PIECE RETROSPOT          3   \n\n               InvoiceDate  UnitPrice  CustomerID         Country  \n0      2010-12-01 08:26:00       2.55     17850.0  United Kingdom  \n1      2010-12-01 08:26:00       3.39     17850.0  United Kingdom  \n2      2010-12-01 08:26:00       2.75     17850.0  United Kingdom  \n3      2010-12-01 08:26:00       3.39     17850.0  United Kingdom  \n4      2010-12-01 08:26:00       3.39     17850.0  United Kingdom  \n...                    ...        ...         ...             ...  \n541904 2011-12-09 12:50:00       0.85     12680.0          France  \n541905 2011-12-09 12:50:00       2.10     12680.0          France  \n541906 2011-12-09 12:50:00       4.15     12680.0          France  \n541907 2011-12-09 12:50:00       4.15     12680.0          France  \n541908 2011-12-09 12:50:00       4.95     12680.0          France  \n\n[397924 rows x 8 columns]",
      "text/html": "<div>\n<style scoped>\n    .dataframe tbody tr th:only-of-type {\n        vertical-align: middle;\n    }\n\n    .dataframe tbody tr th {\n        vertical-align: top;\n    }\n\n    .dataframe thead th {\n        text-align: right;\n    }\n</style>\n<table border=\"1\" class=\"dataframe\">\n  <thead>\n    <tr style=\"text-align: right;\">\n      <th></th>\n      <th>InvoiceNo</th>\n      <th>StockCode</th>\n      <th>Description</th>\n      <th>Quantity</th>\n      <th>InvoiceDate</th>\n      <th>UnitPrice</th>\n      <th>CustomerID</th>\n      <th>Country</th>\n    </tr>\n  </thead>\n  <tbody>\n    <tr>\n      <th>0</th>\n      <td>536365</td>\n      <td>85123A</td>\n      <td>WHITE HANGING HEART T-LIGHT HOLDER</td>\n      <td>6</td>\n      <td>2010-12-01 08:26:00</td>\n      <td>2.55</td>\n      <td>17850.0</td>\n      <td>United Kingdom</td>\n    </tr>\n    <tr>\n      <th>1</th>\n      <td>536365</td>\n      <td>71053</td>\n      <td>WHITE METAL LANTERN</td>\n      <td>6</td>\n      <td>2010-12-01 08:26:00</td>\n      <td>3.39</td>\n      <td>17850.0</td>\n      <td>United Kingdom</td>\n    </tr>\n    <tr>\n      <th>2</th>\n      <td>536365</td>\n      <td>84406B</td>\n      <td>CREAM CUPID HEARTS COAT HANGER</td>\n      <td>8</td>\n      <td>2010-12-01 08:26:00</td>\n      <td>2.75</td>\n      <td>17850.0</td>\n      <td>United Kingdom</td>\n    </tr>\n    <tr>\n      <th>3</th>\n      <td>536365</td>\n      <td>84029G</td>\n      <td>KNITTED UNION FLAG HOT WATER BOTTLE</td>\n      <td>6</td>\n      <td>2010-12-01 08:26:00</td>\n      <td>3.39</td>\n      <td>17850.0</td>\n      <td>United Kingdom</td>\n    </tr>\n    <tr>\n      <th>4</th>\n      <td>536365</td>\n      <td>84029E</td>\n      <td>RED WOOLLY HOTTIE WHITE HEART.</td>\n      <td>6</td>\n      <td>2010-12-01 08:26:00</td>\n      <td>3.39</td>\n      <td>17850.0</td>\n      <td>United Kingdom</td>\n    </tr>\n    <tr>\n      <th>...</th>\n      <td>...</td>\n      <td>...</td>\n      <td>...</td>\n      <td>...</td>\n      <td>...</td>\n      <td>...</td>\n      <td>...</td>\n      <td>...</td>\n    </tr>\n    <tr>\n      <th>541904</th>\n      <td>581587</td>\n      <td>22613</td>\n      <td>PACK OF 20 SPACEBOY NAPKINS</td>\n      <td>12</td>\n      <td>2011-12-09 12:50:00</td>\n      <td>0.85</td>\n      <td>12680.0</td>\n      <td>France</td>\n    </tr>\n    <tr>\n      <th>541905</th>\n      <td>581587</td>\n      <td>22899</td>\n      <td>CHILDREN'S APRON DOLLY GIRL</td>\n      <td>6</td>\n      <td>2011-12-09 12:50:00</td>\n      <td>2.10</td>\n      <td>12680.0</td>\n      <td>France</td>\n    </tr>\n    <tr>\n      <th>541906</th>\n      <td>581587</td>\n      <td>23254</td>\n      <td>CHILDRENS CUTLERY DOLLY GIRL</td>\n      <td>4</td>\n      <td>2011-12-09 12:50:00</td>\n      <td>4.15</td>\n      <td>12680.0</td>\n      <td>France</td>\n    </tr>\n    <tr>\n      <th>541907</th>\n      <td>581587</td>\n      <td>23255</td>\n      <td>CHILDRENS CUTLERY CIRCUS PARADE</td>\n      <td>4</td>\n      <td>2011-12-09 12:50:00</td>\n      <td>4.15</td>\n      <td>12680.0</td>\n      <td>France</td>\n    </tr>\n    <tr>\n      <th>541908</th>\n      <td>581587</td>\n      <td>22138</td>\n      <td>BAKING SET 9 PIECE RETROSPOT</td>\n      <td>3</td>\n      <td>2011-12-09 12:50:00</td>\n      <td>4.95</td>\n      <td>12680.0</td>\n      <td>France</td>\n    </tr>\n  </tbody>\n</table>\n<p>397924 rows × 8 columns</p>\n</div>"
     },
     "execution_count": 17,
     "metadata": {},
     "output_type": "execute_result"
    }
   ],
   "source": [
    "retail"
   ],
   "metadata": {
    "collapsed": false,
    "ExecuteTime": {
     "end_time": "2024-02-07T18:26:29.558137100Z",
     "start_time": "2024-02-07T18:26:29.543092600Z"
    }
   },
   "id": "1212fbf7dd655042"
  },
  {
   "cell_type": "code",
   "execution_count": 18,
   "outputs": [
    {
     "name": "stdout",
     "output_type": "stream",
     "text": [
      "<class 'pandas.core.frame.DataFrame'>\n",
      "Index: 397924 entries, 0 to 541908\n",
      "Data columns (total 8 columns):\n",
      " #   Column       Non-Null Count   Dtype         \n",
      "---  ------       --------------   -----         \n",
      " 0   InvoiceNo    397924 non-null  object        \n",
      " 1   StockCode    397924 non-null  object        \n",
      " 2   Description  397924 non-null  object        \n",
      " 3   Quantity     397924 non-null  int64         \n",
      " 4   InvoiceDate  397924 non-null  datetime64[ns]\n",
      " 5   UnitPrice    397924 non-null  float64       \n",
      " 6   CustomerID   397924 non-null  object        \n",
      " 7   Country      397924 non-null  object        \n",
      "dtypes: datetime64[ns](1), float64(1), int64(1), object(5)\n",
      "memory usage: 27.3+ MB\n"
     ]
    }
   ],
   "source": [
    "retail.CustomerID = retail.CustomerID.apply(lambda x: str(int(x)))\n",
    "retail.info()"
   ],
   "metadata": {
    "collapsed": false,
    "ExecuteTime": {
     "end_time": "2024-02-07T18:27:36.305595900Z",
     "start_time": "2024-02-07T18:27:36.156157600Z"
    }
   },
   "id": "99da22b07d790e31"
  },
  {
   "cell_type": "code",
   "execution_count": 19,
   "outputs": [
    {
     "data": {
      "text/plain": "  InvoiceNo StockCode                          Description  Quantity  \\\n0    536365    85123A   WHITE HANGING HEART T-LIGHT HOLDER         6   \n1    536365     71053                  WHITE METAL LANTERN         6   \n2    536365    84406B       CREAM CUPID HEARTS COAT HANGER         8   \n3    536365    84029G  KNITTED UNION FLAG HOT WATER BOTTLE         6   \n4    536365    84029E       RED WOOLLY HOTTIE WHITE HEART.         6   \n\n          InvoiceDate  UnitPrice CustomerID         Country  \n0 2010-12-01 08:26:00       2.55      17850  United Kingdom  \n1 2010-12-01 08:26:00       3.39      17850  United Kingdom  \n2 2010-12-01 08:26:00       2.75      17850  United Kingdom  \n3 2010-12-01 08:26:00       3.39      17850  United Kingdom  \n4 2010-12-01 08:26:00       3.39      17850  United Kingdom  ",
      "text/html": "<div>\n<style scoped>\n    .dataframe tbody tr th:only-of-type {\n        vertical-align: middle;\n    }\n\n    .dataframe tbody tr th {\n        vertical-align: top;\n    }\n\n    .dataframe thead th {\n        text-align: right;\n    }\n</style>\n<table border=\"1\" class=\"dataframe\">\n  <thead>\n    <tr style=\"text-align: right;\">\n      <th></th>\n      <th>InvoiceNo</th>\n      <th>StockCode</th>\n      <th>Description</th>\n      <th>Quantity</th>\n      <th>InvoiceDate</th>\n      <th>UnitPrice</th>\n      <th>CustomerID</th>\n      <th>Country</th>\n    </tr>\n  </thead>\n  <tbody>\n    <tr>\n      <th>0</th>\n      <td>536365</td>\n      <td>85123A</td>\n      <td>WHITE HANGING HEART T-LIGHT HOLDER</td>\n      <td>6</td>\n      <td>2010-12-01 08:26:00</td>\n      <td>2.55</td>\n      <td>17850</td>\n      <td>United Kingdom</td>\n    </tr>\n    <tr>\n      <th>1</th>\n      <td>536365</td>\n      <td>71053</td>\n      <td>WHITE METAL LANTERN</td>\n      <td>6</td>\n      <td>2010-12-01 08:26:00</td>\n      <td>3.39</td>\n      <td>17850</td>\n      <td>United Kingdom</td>\n    </tr>\n    <tr>\n      <th>2</th>\n      <td>536365</td>\n      <td>84406B</td>\n      <td>CREAM CUPID HEARTS COAT HANGER</td>\n      <td>8</td>\n      <td>2010-12-01 08:26:00</td>\n      <td>2.75</td>\n      <td>17850</td>\n      <td>United Kingdom</td>\n    </tr>\n    <tr>\n      <th>3</th>\n      <td>536365</td>\n      <td>84029G</td>\n      <td>KNITTED UNION FLAG HOT WATER BOTTLE</td>\n      <td>6</td>\n      <td>2010-12-01 08:26:00</td>\n      <td>3.39</td>\n      <td>17850</td>\n      <td>United Kingdom</td>\n    </tr>\n    <tr>\n      <th>4</th>\n      <td>536365</td>\n      <td>84029E</td>\n      <td>RED WOOLLY HOTTIE WHITE HEART.</td>\n      <td>6</td>\n      <td>2010-12-01 08:26:00</td>\n      <td>3.39</td>\n      <td>17850</td>\n      <td>United Kingdom</td>\n    </tr>\n  </tbody>\n</table>\n</div>"
     },
     "execution_count": 19,
     "metadata": {},
     "output_type": "execute_result"
    }
   ],
   "source": [
    "retail.head()"
   ],
   "metadata": {
    "collapsed": false,
    "ExecuteTime": {
     "end_time": "2024-02-07T18:27:57.372109Z",
     "start_time": "2024-02-07T18:27:57.357325700Z"
    }
   },
   "id": "35462d17d7a323ed"
  },
  {
   "cell_type": "markdown",
   "source": [
    "### Porównanie do SQL"
   ],
   "metadata": {
    "collapsed": false
   },
   "id": "639e59376525e"
  },
  {
   "cell_type": "code",
   "execution_count": 20,
   "outputs": [
    {
     "data": {
      "text/plain": "       InvoiceNo StockCode                          Description  Quantity  \\\n0         536365    85123A   WHITE HANGING HEART T-LIGHT HOLDER         6   \n1         536365     71053                  WHITE METAL LANTERN         6   \n2         536365    84406B       CREAM CUPID HEARTS COAT HANGER         8   \n3         536365    84029G  KNITTED UNION FLAG HOT WATER BOTTLE         6   \n4         536365    84029E       RED WOOLLY HOTTIE WHITE HEART.         6   \n...          ...       ...                                  ...       ...   \n541904    581587     22613          PACK OF 20 SPACEBOY NAPKINS        12   \n541905    581587     22899         CHILDREN'S APRON DOLLY GIRL          6   \n541906    581587     23254        CHILDRENS CUTLERY DOLLY GIRL          4   \n541907    581587     23255      CHILDRENS CUTLERY CIRCUS PARADE         4   \n541908    581587     22138        BAKING SET 9 PIECE RETROSPOT          3   \n\n               InvoiceDate  UnitPrice CustomerID         Country  \n0      2010-12-01 08:26:00       2.55      17850  United Kingdom  \n1      2010-12-01 08:26:00       3.39      17850  United Kingdom  \n2      2010-12-01 08:26:00       2.75      17850  United Kingdom  \n3      2010-12-01 08:26:00       3.39      17850  United Kingdom  \n4      2010-12-01 08:26:00       3.39      17850  United Kingdom  \n...                    ...        ...        ...             ...  \n541904 2011-12-09 12:50:00       0.85      12680          France  \n541905 2011-12-09 12:50:00       2.10      12680          France  \n541906 2011-12-09 12:50:00       4.15      12680          France  \n541907 2011-12-09 12:50:00       4.15      12680          France  \n541908 2011-12-09 12:50:00       4.95      12680          France  \n\n[397924 rows x 8 columns]",
      "text/html": "<div>\n<style scoped>\n    .dataframe tbody tr th:only-of-type {\n        vertical-align: middle;\n    }\n\n    .dataframe tbody tr th {\n        vertical-align: top;\n    }\n\n    .dataframe thead th {\n        text-align: right;\n    }\n</style>\n<table border=\"1\" class=\"dataframe\">\n  <thead>\n    <tr style=\"text-align: right;\">\n      <th></th>\n      <th>InvoiceNo</th>\n      <th>StockCode</th>\n      <th>Description</th>\n      <th>Quantity</th>\n      <th>InvoiceDate</th>\n      <th>UnitPrice</th>\n      <th>CustomerID</th>\n      <th>Country</th>\n    </tr>\n  </thead>\n  <tbody>\n    <tr>\n      <th>0</th>\n      <td>536365</td>\n      <td>85123A</td>\n      <td>WHITE HANGING HEART T-LIGHT HOLDER</td>\n      <td>6</td>\n      <td>2010-12-01 08:26:00</td>\n      <td>2.55</td>\n      <td>17850</td>\n      <td>United Kingdom</td>\n    </tr>\n    <tr>\n      <th>1</th>\n      <td>536365</td>\n      <td>71053</td>\n      <td>WHITE METAL LANTERN</td>\n      <td>6</td>\n      <td>2010-12-01 08:26:00</td>\n      <td>3.39</td>\n      <td>17850</td>\n      <td>United Kingdom</td>\n    </tr>\n    <tr>\n      <th>2</th>\n      <td>536365</td>\n      <td>84406B</td>\n      <td>CREAM CUPID HEARTS COAT HANGER</td>\n      <td>8</td>\n      <td>2010-12-01 08:26:00</td>\n      <td>2.75</td>\n      <td>17850</td>\n      <td>United Kingdom</td>\n    </tr>\n    <tr>\n      <th>3</th>\n      <td>536365</td>\n      <td>84029G</td>\n      <td>KNITTED UNION FLAG HOT WATER BOTTLE</td>\n      <td>6</td>\n      <td>2010-12-01 08:26:00</td>\n      <td>3.39</td>\n      <td>17850</td>\n      <td>United Kingdom</td>\n    </tr>\n    <tr>\n      <th>4</th>\n      <td>536365</td>\n      <td>84029E</td>\n      <td>RED WOOLLY HOTTIE WHITE HEART.</td>\n      <td>6</td>\n      <td>2010-12-01 08:26:00</td>\n      <td>3.39</td>\n      <td>17850</td>\n      <td>United Kingdom</td>\n    </tr>\n    <tr>\n      <th>...</th>\n      <td>...</td>\n      <td>...</td>\n      <td>...</td>\n      <td>...</td>\n      <td>...</td>\n      <td>...</td>\n      <td>...</td>\n      <td>...</td>\n    </tr>\n    <tr>\n      <th>541904</th>\n      <td>581587</td>\n      <td>22613</td>\n      <td>PACK OF 20 SPACEBOY NAPKINS</td>\n      <td>12</td>\n      <td>2011-12-09 12:50:00</td>\n      <td>0.85</td>\n      <td>12680</td>\n      <td>France</td>\n    </tr>\n    <tr>\n      <th>541905</th>\n      <td>581587</td>\n      <td>22899</td>\n      <td>CHILDREN'S APRON DOLLY GIRL</td>\n      <td>6</td>\n      <td>2011-12-09 12:50:00</td>\n      <td>2.10</td>\n      <td>12680</td>\n      <td>France</td>\n    </tr>\n    <tr>\n      <th>541906</th>\n      <td>581587</td>\n      <td>23254</td>\n      <td>CHILDRENS CUTLERY DOLLY GIRL</td>\n      <td>4</td>\n      <td>2011-12-09 12:50:00</td>\n      <td>4.15</td>\n      <td>12680</td>\n      <td>France</td>\n    </tr>\n    <tr>\n      <th>541907</th>\n      <td>581587</td>\n      <td>23255</td>\n      <td>CHILDRENS CUTLERY CIRCUS PARADE</td>\n      <td>4</td>\n      <td>2011-12-09 12:50:00</td>\n      <td>4.15</td>\n      <td>12680</td>\n      <td>France</td>\n    </tr>\n    <tr>\n      <th>541908</th>\n      <td>581587</td>\n      <td>22138</td>\n      <td>BAKING SET 9 PIECE RETROSPOT</td>\n      <td>3</td>\n      <td>2011-12-09 12:50:00</td>\n      <td>4.95</td>\n      <td>12680</td>\n      <td>France</td>\n    </tr>\n  </tbody>\n</table>\n<p>397924 rows × 8 columns</p>\n</div>"
     },
     "execution_count": 20,
     "metadata": {},
     "output_type": "execute_result"
    }
   ],
   "source": [
    "# SELECT * FROM retail;\n",
    "retail"
   ],
   "metadata": {
    "collapsed": false,
    "ExecuteTime": {
     "end_time": "2024-02-07T19:10:26.425342600Z",
     "start_time": "2024-02-07T19:10:26.398555400Z"
    }
   },
   "id": "5880dabe89e610ef"
  },
  {
   "cell_type": "code",
   "execution_count": 21,
   "outputs": [
    {
     "data": {
      "text/plain": "        Quantity  UnitPrice CustomerID\n0              6       2.55      17850\n1              6       3.39      17850\n2              8       2.75      17850\n3              6       3.39      17850\n4              6       3.39      17850\n...          ...        ...        ...\n541904        12       0.85      12680\n541905         6       2.10      12680\n541906         4       4.15      12680\n541907         4       4.15      12680\n541908         3       4.95      12680\n\n[397924 rows x 3 columns]",
      "text/html": "<div>\n<style scoped>\n    .dataframe tbody tr th:only-of-type {\n        vertical-align: middle;\n    }\n\n    .dataframe tbody tr th {\n        vertical-align: top;\n    }\n\n    .dataframe thead th {\n        text-align: right;\n    }\n</style>\n<table border=\"1\" class=\"dataframe\">\n  <thead>\n    <tr style=\"text-align: right;\">\n      <th></th>\n      <th>Quantity</th>\n      <th>UnitPrice</th>\n      <th>CustomerID</th>\n    </tr>\n  </thead>\n  <tbody>\n    <tr>\n      <th>0</th>\n      <td>6</td>\n      <td>2.55</td>\n      <td>17850</td>\n    </tr>\n    <tr>\n      <th>1</th>\n      <td>6</td>\n      <td>3.39</td>\n      <td>17850</td>\n    </tr>\n    <tr>\n      <th>2</th>\n      <td>8</td>\n      <td>2.75</td>\n      <td>17850</td>\n    </tr>\n    <tr>\n      <th>3</th>\n      <td>6</td>\n      <td>3.39</td>\n      <td>17850</td>\n    </tr>\n    <tr>\n      <th>4</th>\n      <td>6</td>\n      <td>3.39</td>\n      <td>17850</td>\n    </tr>\n    <tr>\n      <th>...</th>\n      <td>...</td>\n      <td>...</td>\n      <td>...</td>\n    </tr>\n    <tr>\n      <th>541904</th>\n      <td>12</td>\n      <td>0.85</td>\n      <td>12680</td>\n    </tr>\n    <tr>\n      <th>541905</th>\n      <td>6</td>\n      <td>2.10</td>\n      <td>12680</td>\n    </tr>\n    <tr>\n      <th>541906</th>\n      <td>4</td>\n      <td>4.15</td>\n      <td>12680</td>\n    </tr>\n    <tr>\n      <th>541907</th>\n      <td>4</td>\n      <td>4.15</td>\n      <td>12680</td>\n    </tr>\n    <tr>\n      <th>541908</th>\n      <td>3</td>\n      <td>4.95</td>\n      <td>12680</td>\n    </tr>\n  </tbody>\n</table>\n<p>397924 rows × 3 columns</p>\n</div>"
     },
     "execution_count": 21,
     "metadata": {},
     "output_type": "execute_result"
    }
   ],
   "source": [
    "# SELECT Quantity, UnitPrice, CustomerID FROM retail;\n",
    "retail[['Quantity', 'UnitPrice', 'CustomerID']]"
   ],
   "metadata": {
    "collapsed": false,
    "ExecuteTime": {
     "end_time": "2024-02-07T19:11:53.217888700Z",
     "start_time": "2024-02-07T19:11:53.211871800Z"
    }
   },
   "id": "6e45d5a54587e32e"
  },
  {
   "cell_type": "code",
   "execution_count": 23,
   "outputs": [
    {
     "data": {
      "text/plain": "   Quantity  UnitPrice CustomerID\n0         6       2.55      17850\n1         6       3.39      17850\n2         8       2.75      17850\n3         6       3.39      17850\n4         6       3.39      17850\n5         2       7.65      17850\n6         6       4.25      17850\n7         6       1.85      17850\n8         6       1.85      17850\n9        32       1.69      13047",
      "text/html": "<div>\n<style scoped>\n    .dataframe tbody tr th:only-of-type {\n        vertical-align: middle;\n    }\n\n    .dataframe tbody tr th {\n        vertical-align: top;\n    }\n\n    .dataframe thead th {\n        text-align: right;\n    }\n</style>\n<table border=\"1\" class=\"dataframe\">\n  <thead>\n    <tr style=\"text-align: right;\">\n      <th></th>\n      <th>Quantity</th>\n      <th>UnitPrice</th>\n      <th>CustomerID</th>\n    </tr>\n  </thead>\n  <tbody>\n    <tr>\n      <th>0</th>\n      <td>6</td>\n      <td>2.55</td>\n      <td>17850</td>\n    </tr>\n    <tr>\n      <th>1</th>\n      <td>6</td>\n      <td>3.39</td>\n      <td>17850</td>\n    </tr>\n    <tr>\n      <th>2</th>\n      <td>8</td>\n      <td>2.75</td>\n      <td>17850</td>\n    </tr>\n    <tr>\n      <th>3</th>\n      <td>6</td>\n      <td>3.39</td>\n      <td>17850</td>\n    </tr>\n    <tr>\n      <th>4</th>\n      <td>6</td>\n      <td>3.39</td>\n      <td>17850</td>\n    </tr>\n    <tr>\n      <th>5</th>\n      <td>2</td>\n      <td>7.65</td>\n      <td>17850</td>\n    </tr>\n    <tr>\n      <th>6</th>\n      <td>6</td>\n      <td>4.25</td>\n      <td>17850</td>\n    </tr>\n    <tr>\n      <th>7</th>\n      <td>6</td>\n      <td>1.85</td>\n      <td>17850</td>\n    </tr>\n    <tr>\n      <th>8</th>\n      <td>6</td>\n      <td>1.85</td>\n      <td>17850</td>\n    </tr>\n    <tr>\n      <th>9</th>\n      <td>32</td>\n      <td>1.69</td>\n      <td>13047</td>\n    </tr>\n  </tbody>\n</table>\n</div>"
     },
     "execution_count": 23,
     "metadata": {},
     "output_type": "execute_result"
    }
   ],
   "source": [
    "# SELECT Quantity, UnitPrice, CustomerID FROM retail LIMIT 10;\n",
    "retail[['Quantity', 'UnitPrice', 'CustomerID']][:10] # lub .head(10)"
   ],
   "metadata": {
    "collapsed": false,
    "ExecuteTime": {
     "end_time": "2024-02-07T19:13:04.152604600Z",
     "start_time": "2024-02-07T19:13:04.135928400Z"
    }
   },
   "id": "bca03daed992b50b"
  },
  {
   "cell_type": "code",
   "execution_count": 27,
   "outputs": [
    {
     "data": {
      "text/plain": "     InvoiceNo StockCode                          Description  Quantity  \\\n0       536365    85123A   WHITE HANGING HEART T-LIGHT HOLDER         6   \n1       536365     71053                  WHITE METAL LANTERN         6   \n2       536365    84406B       CREAM CUPID HEARTS COAT HANGER         8   \n3       536365    84029G  KNITTED UNION FLAG HOT WATER BOTTLE         6   \n4       536365    84029E       RED WOOLLY HOTTIE WHITE HEART.         6   \n...        ...       ...                                  ...       ...   \n4540    536790     22752         SET 7 BABUSHKA NESTING BOXES         4   \n4541    536790     22803             IVORY EMBROIDERED QUILT          3   \n4542    536790     21730    GLASS STAR FROSTED T-LIGHT HOLDER        12   \n4543    536791     22632            HAND WARMER RED POLKA DOT        12   \n4544    536791     22633               HAND WARMER UNION JACK        12   \n\n             InvoiceDate  UnitPrice CustomerID         Country  \n0    2010-12-01 08:26:00       2.55      17850  United Kingdom  \n1    2010-12-01 08:26:00       3.39      17850  United Kingdom  \n2    2010-12-01 08:26:00       2.75      17850  United Kingdom  \n3    2010-12-01 08:26:00       3.39      17850  United Kingdom  \n4    2010-12-01 08:26:00       3.39      17850  United Kingdom  \n...                  ...        ...        ...             ...  \n4540 2010-12-02 15:26:00       7.65      17850  United Kingdom  \n4541 2010-12-02 15:26:00      35.75      17850  United Kingdom  \n4542 2010-12-02 15:26:00       4.25      17850  United Kingdom  \n4543 2010-12-02 15:27:00       1.85      17850  United Kingdom  \n4544 2010-12-02 15:27:00       1.85      17850  United Kingdom  \n\n[297 rows x 8 columns]",
      "text/html": "<div>\n<style scoped>\n    .dataframe tbody tr th:only-of-type {\n        vertical-align: middle;\n    }\n\n    .dataframe tbody tr th {\n        vertical-align: top;\n    }\n\n    .dataframe thead th {\n        text-align: right;\n    }\n</style>\n<table border=\"1\" class=\"dataframe\">\n  <thead>\n    <tr style=\"text-align: right;\">\n      <th></th>\n      <th>InvoiceNo</th>\n      <th>StockCode</th>\n      <th>Description</th>\n      <th>Quantity</th>\n      <th>InvoiceDate</th>\n      <th>UnitPrice</th>\n      <th>CustomerID</th>\n      <th>Country</th>\n    </tr>\n  </thead>\n  <tbody>\n    <tr>\n      <th>0</th>\n      <td>536365</td>\n      <td>85123A</td>\n      <td>WHITE HANGING HEART T-LIGHT HOLDER</td>\n      <td>6</td>\n      <td>2010-12-01 08:26:00</td>\n      <td>2.55</td>\n      <td>17850</td>\n      <td>United Kingdom</td>\n    </tr>\n    <tr>\n      <th>1</th>\n      <td>536365</td>\n      <td>71053</td>\n      <td>WHITE METAL LANTERN</td>\n      <td>6</td>\n      <td>2010-12-01 08:26:00</td>\n      <td>3.39</td>\n      <td>17850</td>\n      <td>United Kingdom</td>\n    </tr>\n    <tr>\n      <th>2</th>\n      <td>536365</td>\n      <td>84406B</td>\n      <td>CREAM CUPID HEARTS COAT HANGER</td>\n      <td>8</td>\n      <td>2010-12-01 08:26:00</td>\n      <td>2.75</td>\n      <td>17850</td>\n      <td>United Kingdom</td>\n    </tr>\n    <tr>\n      <th>3</th>\n      <td>536365</td>\n      <td>84029G</td>\n      <td>KNITTED UNION FLAG HOT WATER BOTTLE</td>\n      <td>6</td>\n      <td>2010-12-01 08:26:00</td>\n      <td>3.39</td>\n      <td>17850</td>\n      <td>United Kingdom</td>\n    </tr>\n    <tr>\n      <th>4</th>\n      <td>536365</td>\n      <td>84029E</td>\n      <td>RED WOOLLY HOTTIE WHITE HEART.</td>\n      <td>6</td>\n      <td>2010-12-01 08:26:00</td>\n      <td>3.39</td>\n      <td>17850</td>\n      <td>United Kingdom</td>\n    </tr>\n    <tr>\n      <th>...</th>\n      <td>...</td>\n      <td>...</td>\n      <td>...</td>\n      <td>...</td>\n      <td>...</td>\n      <td>...</td>\n      <td>...</td>\n      <td>...</td>\n    </tr>\n    <tr>\n      <th>4540</th>\n      <td>536790</td>\n      <td>22752</td>\n      <td>SET 7 BABUSHKA NESTING BOXES</td>\n      <td>4</td>\n      <td>2010-12-02 15:26:00</td>\n      <td>7.65</td>\n      <td>17850</td>\n      <td>United Kingdom</td>\n    </tr>\n    <tr>\n      <th>4541</th>\n      <td>536790</td>\n      <td>22803</td>\n      <td>IVORY EMBROIDERED QUILT</td>\n      <td>3</td>\n      <td>2010-12-02 15:26:00</td>\n      <td>35.75</td>\n      <td>17850</td>\n      <td>United Kingdom</td>\n    </tr>\n    <tr>\n      <th>4542</th>\n      <td>536790</td>\n      <td>21730</td>\n      <td>GLASS STAR FROSTED T-LIGHT HOLDER</td>\n      <td>12</td>\n      <td>2010-12-02 15:26:00</td>\n      <td>4.25</td>\n      <td>17850</td>\n      <td>United Kingdom</td>\n    </tr>\n    <tr>\n      <th>4543</th>\n      <td>536791</td>\n      <td>22632</td>\n      <td>HAND WARMER RED POLKA DOT</td>\n      <td>12</td>\n      <td>2010-12-02 15:27:00</td>\n      <td>1.85</td>\n      <td>17850</td>\n      <td>United Kingdom</td>\n    </tr>\n    <tr>\n      <th>4544</th>\n      <td>536791</td>\n      <td>22633</td>\n      <td>HAND WARMER UNION JACK</td>\n      <td>12</td>\n      <td>2010-12-02 15:27:00</td>\n      <td>1.85</td>\n      <td>17850</td>\n      <td>United Kingdom</td>\n    </tr>\n  </tbody>\n</table>\n<p>297 rows × 8 columns</p>\n</div>"
     },
     "execution_count": 27,
     "metadata": {},
     "output_type": "execute_result"
    }
   ],
   "source": [
    "# SELECT * FROM retail WHERE CustomerID='17850';\n",
    "retail[retail.CustomerID == '17850']"
   ],
   "metadata": {
    "collapsed": false,
    "ExecuteTime": {
     "end_time": "2024-02-07T19:14:54.435743Z",
     "start_time": "2024-02-07T19:14:54.404209Z"
    }
   },
   "id": "ff2fa0e789be8325"
  },
  {
   "cell_type": "code",
   "execution_count": 28,
   "outputs": [
    {
     "data": {
      "text/plain": "     InvoiceNo StockCode                          Description  Quantity  \\\n0       536365    85123A   WHITE HANGING HEART T-LIGHT HOLDER         6   \n1       536365     71053                  WHITE METAL LANTERN         6   \n2       536365    84406B       CREAM CUPID HEARTS COAT HANGER         8   \n3       536365    84029G  KNITTED UNION FLAG HOT WATER BOTTLE         6   \n4       536365    84029E       RED WOOLLY HOTTIE WHITE HEART.         6   \n...        ...       ...                                  ...       ...   \n4540    536790     22752         SET 7 BABUSHKA NESTING BOXES         4   \n4541    536790     22803             IVORY EMBROIDERED QUILT          3   \n4542    536790     21730    GLASS STAR FROSTED T-LIGHT HOLDER        12   \n4543    536791     22632            HAND WARMER RED POLKA DOT        12   \n4544    536791     22633               HAND WARMER UNION JACK        12   \n\n             InvoiceDate  UnitPrice CustomerID         Country  \n0    2010-12-01 08:26:00       2.55      17850  United Kingdom  \n1    2010-12-01 08:26:00       3.39      17850  United Kingdom  \n2    2010-12-01 08:26:00       2.75      17850  United Kingdom  \n3    2010-12-01 08:26:00       3.39      17850  United Kingdom  \n4    2010-12-01 08:26:00       3.39      17850  United Kingdom  \n...                  ...        ...        ...             ...  \n4540 2010-12-02 15:26:00       7.65      17850  United Kingdom  \n4541 2010-12-02 15:26:00      35.75      17850  United Kingdom  \n4542 2010-12-02 15:26:00       4.25      17850  United Kingdom  \n4543 2010-12-02 15:27:00       1.85      17850  United Kingdom  \n4544 2010-12-02 15:27:00       1.85      17850  United Kingdom  \n\n[297 rows x 8 columns]",
      "text/html": "<div>\n<style scoped>\n    .dataframe tbody tr th:only-of-type {\n        vertical-align: middle;\n    }\n\n    .dataframe tbody tr th {\n        vertical-align: top;\n    }\n\n    .dataframe thead th {\n        text-align: right;\n    }\n</style>\n<table border=\"1\" class=\"dataframe\">\n  <thead>\n    <tr style=\"text-align: right;\">\n      <th></th>\n      <th>InvoiceNo</th>\n      <th>StockCode</th>\n      <th>Description</th>\n      <th>Quantity</th>\n      <th>InvoiceDate</th>\n      <th>UnitPrice</th>\n      <th>CustomerID</th>\n      <th>Country</th>\n    </tr>\n  </thead>\n  <tbody>\n    <tr>\n      <th>0</th>\n      <td>536365</td>\n      <td>85123A</td>\n      <td>WHITE HANGING HEART T-LIGHT HOLDER</td>\n      <td>6</td>\n      <td>2010-12-01 08:26:00</td>\n      <td>2.55</td>\n      <td>17850</td>\n      <td>United Kingdom</td>\n    </tr>\n    <tr>\n      <th>1</th>\n      <td>536365</td>\n      <td>71053</td>\n      <td>WHITE METAL LANTERN</td>\n      <td>6</td>\n      <td>2010-12-01 08:26:00</td>\n      <td>3.39</td>\n      <td>17850</td>\n      <td>United Kingdom</td>\n    </tr>\n    <tr>\n      <th>2</th>\n      <td>536365</td>\n      <td>84406B</td>\n      <td>CREAM CUPID HEARTS COAT HANGER</td>\n      <td>8</td>\n      <td>2010-12-01 08:26:00</td>\n      <td>2.75</td>\n      <td>17850</td>\n      <td>United Kingdom</td>\n    </tr>\n    <tr>\n      <th>3</th>\n      <td>536365</td>\n      <td>84029G</td>\n      <td>KNITTED UNION FLAG HOT WATER BOTTLE</td>\n      <td>6</td>\n      <td>2010-12-01 08:26:00</td>\n      <td>3.39</td>\n      <td>17850</td>\n      <td>United Kingdom</td>\n    </tr>\n    <tr>\n      <th>4</th>\n      <td>536365</td>\n      <td>84029E</td>\n      <td>RED WOOLLY HOTTIE WHITE HEART.</td>\n      <td>6</td>\n      <td>2010-12-01 08:26:00</td>\n      <td>3.39</td>\n      <td>17850</td>\n      <td>United Kingdom</td>\n    </tr>\n    <tr>\n      <th>...</th>\n      <td>...</td>\n      <td>...</td>\n      <td>...</td>\n      <td>...</td>\n      <td>...</td>\n      <td>...</td>\n      <td>...</td>\n      <td>...</td>\n    </tr>\n    <tr>\n      <th>4540</th>\n      <td>536790</td>\n      <td>22752</td>\n      <td>SET 7 BABUSHKA NESTING BOXES</td>\n      <td>4</td>\n      <td>2010-12-02 15:26:00</td>\n      <td>7.65</td>\n      <td>17850</td>\n      <td>United Kingdom</td>\n    </tr>\n    <tr>\n      <th>4541</th>\n      <td>536790</td>\n      <td>22803</td>\n      <td>IVORY EMBROIDERED QUILT</td>\n      <td>3</td>\n      <td>2010-12-02 15:26:00</td>\n      <td>35.75</td>\n      <td>17850</td>\n      <td>United Kingdom</td>\n    </tr>\n    <tr>\n      <th>4542</th>\n      <td>536790</td>\n      <td>21730</td>\n      <td>GLASS STAR FROSTED T-LIGHT HOLDER</td>\n      <td>12</td>\n      <td>2010-12-02 15:26:00</td>\n      <td>4.25</td>\n      <td>17850</td>\n      <td>United Kingdom</td>\n    </tr>\n    <tr>\n      <th>4543</th>\n      <td>536791</td>\n      <td>22632</td>\n      <td>HAND WARMER RED POLKA DOT</td>\n      <td>12</td>\n      <td>2010-12-02 15:27:00</td>\n      <td>1.85</td>\n      <td>17850</td>\n      <td>United Kingdom</td>\n    </tr>\n    <tr>\n      <th>4544</th>\n      <td>536791</td>\n      <td>22633</td>\n      <td>HAND WARMER UNION JACK</td>\n      <td>12</td>\n      <td>2010-12-02 15:27:00</td>\n      <td>1.85</td>\n      <td>17850</td>\n      <td>United Kingdom</td>\n    </tr>\n  </tbody>\n</table>\n<p>297 rows × 8 columns</p>\n</div>"
     },
     "execution_count": 28,
     "metadata": {},
     "output_type": "execute_result"
    }
   ],
   "source": [
    "retail.query('CustomerID == \"17850\"') # "
   ],
   "metadata": {
    "collapsed": false,
    "ExecuteTime": {
     "end_time": "2024-02-07T19:15:34.197477200Z",
     "start_time": "2024-02-07T19:15:34.146099500Z"
    }
   },
   "id": "f1625a777e68a92b"
  },
  {
   "cell_type": "code",
   "execution_count": 29,
   "outputs": [
    {
     "data": {
      "text/plain": "     InvoiceNo StockCode                        Description  Quantity  \\\n5       536365     22752       SET 7 BABUSHKA NESTING BOXES         2   \n58      536373     82486  WOOD S/3 CABINET ANT WHITE FINISH         4   \n63      536373     22752       SET 7 BABUSHKA NESTING BOXES         2   \n75      536375     82486  WOOD S/3 CABINET ANT WHITE FINISH         4   \n80      536375     22752       SET 7 BABUSHKA NESTING BOXES         2   \n288     536396     82486  WOOD S/3 CABINET ANT WHITE FINISH         4   \n293     536396     22752       SET 7 BABUSHKA NESTING BOXES         2   \n294     536396     22803           IVORY EMBROIDERED QUILT          2   \n425     536406     82486  WOOD S/3 CABINET ANT WHITE FINISH         4   \n430     536406     22752       SET 7 BABUSHKA NESTING BOXES         2   \n431     536406     22803           IVORY EMBROIDERED QUILT          2   \n3121    536600     82486  WOOD S/3 CABINET ANT WHITE FINISH         2   \n3127    536600     22752       SET 7 BABUSHKA NESTING BOXES         2   \n3128    536600     22803           IVORY EMBROIDERED QUILT          2   \n3141    536602     22752       SET 7 BABUSHKA NESTING BOXES         2   \n3200    536609     82486  WOOD S/3 CABINET ANT WHITE FINISH         4   \n3206    536609     22752       SET 7 BABUSHKA NESTING BOXES         2   \n3232    536612     82486  WOOD S/3 CABINET ANT WHITE FINISH         2   \n3433    536628     82486  WOOD S/3 CABINET ANT WHITE FINISH         2   \n3439    536628     22752       SET 7 BABUSHKA NESTING BOXES         2   \n3451    536630     82486  WOOD S/3 CABINET ANT WHITE FINISH         4   \n3457    536630     22752       SET 7 BABUSHKA NESTING BOXES         2   \n3805    536685     22752       SET 7 BABUSHKA NESTING BOXES         4   \n3806    536685     22803           IVORY EMBROIDERED QUILT          2   \n3816    536685     82486  WOOD S/3 CABINET ANT WHITE FINISH         4   \n3831    536690     82486  WOOD S/3 CABINET ANT WHITE FINISH         4   \n3837    536690     22752       SET 7 BABUSHKA NESTING BOXES         4   \n3838    536690     22803           IVORY EMBROIDERED QUILT          2   \n4171    536750     82486  WOOD S/3 CABINET ANT WHITE FINISH         4   \n4177    536750     22752       SET 7 BABUSHKA NESTING BOXES         4   \n4178    536750     22803           IVORY EMBROIDERED QUILT          2   \n4192    536752     82486  WOOD S/3 CABINET ANT WHITE FINISH         4   \n4198    536752     22752       SET 7 BABUSHKA NESTING BOXES         4   \n4199    536752     22803           IVORY EMBROIDERED QUILT          2   \n4521    536787     22752       SET 7 BABUSHKA NESTING BOXES         2   \n4535    536790     82486  WOOD S/3 CABINET ANT WHITE FINISH         4   \n4540    536790     22752       SET 7 BABUSHKA NESTING BOXES         4   \n4541    536790     22803           IVORY EMBROIDERED QUILT          3   \n\n             InvoiceDate  UnitPrice CustomerID         Country  \n5    2010-12-01 08:26:00       7.65      17850  United Kingdom  \n58   2010-12-01 09:02:00       6.95      17850  United Kingdom  \n63   2010-12-01 09:02:00       7.65      17850  United Kingdom  \n75   2010-12-01 09:32:00       6.95      17850  United Kingdom  \n80   2010-12-01 09:32:00       7.65      17850  United Kingdom  \n288  2010-12-01 10:51:00       6.95      17850  United Kingdom  \n293  2010-12-01 10:51:00       7.65      17850  United Kingdom  \n294  2010-12-01 10:51:00      35.75      17850  United Kingdom  \n425  2010-12-01 11:33:00       6.95      17850  United Kingdom  \n430  2010-12-01 11:33:00       7.65      17850  United Kingdom  \n431  2010-12-01 11:33:00      35.75      17850  United Kingdom  \n3121 2010-12-02 08:32:00       6.95      17850  United Kingdom  \n3127 2010-12-02 08:32:00       7.65      17850  United Kingdom  \n3128 2010-12-02 08:32:00      35.75      17850  United Kingdom  \n3141 2010-12-02 08:34:00       7.65      17850  United Kingdom  \n3200 2010-12-02 09:41:00       6.95      17850  United Kingdom  \n3206 2010-12-02 09:41:00       7.65      17850  United Kingdom  \n3232 2010-12-02 09:44:00       6.95      17850  United Kingdom  \n3433 2010-12-02 10:54:00       6.95      17850  United Kingdom  \n3439 2010-12-02 10:54:00       7.65      17850  United Kingdom  \n3451 2010-12-02 10:56:00       6.95      17850  United Kingdom  \n3457 2010-12-02 10:56:00       7.65      17850  United Kingdom  \n3805 2010-12-02 12:23:00       7.65      17850  United Kingdom  \n3806 2010-12-02 12:23:00      35.75      17850  United Kingdom  \n3816 2010-12-02 12:23:00       6.95      17850  United Kingdom  \n3831 2010-12-02 12:25:00       6.95      17850  United Kingdom  \n3837 2010-12-02 12:25:00       7.65      17850  United Kingdom  \n3838 2010-12-02 12:25:00      35.75      17850  United Kingdom  \n4171 2010-12-02 14:04:00       6.95      17850  United Kingdom  \n4177 2010-12-02 14:04:00       7.65      17850  United Kingdom  \n4178 2010-12-02 14:04:00      35.75      17850  United Kingdom  \n4192 2010-12-02 14:06:00       6.95      17850  United Kingdom  \n4198 2010-12-02 14:06:00       7.65      17850  United Kingdom  \n4199 2010-12-02 14:06:00      35.75      17850  United Kingdom  \n4521 2010-12-02 15:24:00       7.65      17850  United Kingdom  \n4535 2010-12-02 15:26:00       6.95      17850  United Kingdom  \n4540 2010-12-02 15:26:00       7.65      17850  United Kingdom  \n4541 2010-12-02 15:26:00      35.75      17850  United Kingdom  ",
      "text/html": "<div>\n<style scoped>\n    .dataframe tbody tr th:only-of-type {\n        vertical-align: middle;\n    }\n\n    .dataframe tbody tr th {\n        vertical-align: top;\n    }\n\n    .dataframe thead th {\n        text-align: right;\n    }\n</style>\n<table border=\"1\" class=\"dataframe\">\n  <thead>\n    <tr style=\"text-align: right;\">\n      <th></th>\n      <th>InvoiceNo</th>\n      <th>StockCode</th>\n      <th>Description</th>\n      <th>Quantity</th>\n      <th>InvoiceDate</th>\n      <th>UnitPrice</th>\n      <th>CustomerID</th>\n      <th>Country</th>\n    </tr>\n  </thead>\n  <tbody>\n    <tr>\n      <th>5</th>\n      <td>536365</td>\n      <td>22752</td>\n      <td>SET 7 BABUSHKA NESTING BOXES</td>\n      <td>2</td>\n      <td>2010-12-01 08:26:00</td>\n      <td>7.65</td>\n      <td>17850</td>\n      <td>United Kingdom</td>\n    </tr>\n    <tr>\n      <th>58</th>\n      <td>536373</td>\n      <td>82486</td>\n      <td>WOOD S/3 CABINET ANT WHITE FINISH</td>\n      <td>4</td>\n      <td>2010-12-01 09:02:00</td>\n      <td>6.95</td>\n      <td>17850</td>\n      <td>United Kingdom</td>\n    </tr>\n    <tr>\n      <th>63</th>\n      <td>536373</td>\n      <td>22752</td>\n      <td>SET 7 BABUSHKA NESTING BOXES</td>\n      <td>2</td>\n      <td>2010-12-01 09:02:00</td>\n      <td>7.65</td>\n      <td>17850</td>\n      <td>United Kingdom</td>\n    </tr>\n    <tr>\n      <th>75</th>\n      <td>536375</td>\n      <td>82486</td>\n      <td>WOOD S/3 CABINET ANT WHITE FINISH</td>\n      <td>4</td>\n      <td>2010-12-01 09:32:00</td>\n      <td>6.95</td>\n      <td>17850</td>\n      <td>United Kingdom</td>\n    </tr>\n    <tr>\n      <th>80</th>\n      <td>536375</td>\n      <td>22752</td>\n      <td>SET 7 BABUSHKA NESTING BOXES</td>\n      <td>2</td>\n      <td>2010-12-01 09:32:00</td>\n      <td>7.65</td>\n      <td>17850</td>\n      <td>United Kingdom</td>\n    </tr>\n    <tr>\n      <th>288</th>\n      <td>536396</td>\n      <td>82486</td>\n      <td>WOOD S/3 CABINET ANT WHITE FINISH</td>\n      <td>4</td>\n      <td>2010-12-01 10:51:00</td>\n      <td>6.95</td>\n      <td>17850</td>\n      <td>United Kingdom</td>\n    </tr>\n    <tr>\n      <th>293</th>\n      <td>536396</td>\n      <td>22752</td>\n      <td>SET 7 BABUSHKA NESTING BOXES</td>\n      <td>2</td>\n      <td>2010-12-01 10:51:00</td>\n      <td>7.65</td>\n      <td>17850</td>\n      <td>United Kingdom</td>\n    </tr>\n    <tr>\n      <th>294</th>\n      <td>536396</td>\n      <td>22803</td>\n      <td>IVORY EMBROIDERED QUILT</td>\n      <td>2</td>\n      <td>2010-12-01 10:51:00</td>\n      <td>35.75</td>\n      <td>17850</td>\n      <td>United Kingdom</td>\n    </tr>\n    <tr>\n      <th>425</th>\n      <td>536406</td>\n      <td>82486</td>\n      <td>WOOD S/3 CABINET ANT WHITE FINISH</td>\n      <td>4</td>\n      <td>2010-12-01 11:33:00</td>\n      <td>6.95</td>\n      <td>17850</td>\n      <td>United Kingdom</td>\n    </tr>\n    <tr>\n      <th>430</th>\n      <td>536406</td>\n      <td>22752</td>\n      <td>SET 7 BABUSHKA NESTING BOXES</td>\n      <td>2</td>\n      <td>2010-12-01 11:33:00</td>\n      <td>7.65</td>\n      <td>17850</td>\n      <td>United Kingdom</td>\n    </tr>\n    <tr>\n      <th>431</th>\n      <td>536406</td>\n      <td>22803</td>\n      <td>IVORY EMBROIDERED QUILT</td>\n      <td>2</td>\n      <td>2010-12-01 11:33:00</td>\n      <td>35.75</td>\n      <td>17850</td>\n      <td>United Kingdom</td>\n    </tr>\n    <tr>\n      <th>3121</th>\n      <td>536600</td>\n      <td>82486</td>\n      <td>WOOD S/3 CABINET ANT WHITE FINISH</td>\n      <td>2</td>\n      <td>2010-12-02 08:32:00</td>\n      <td>6.95</td>\n      <td>17850</td>\n      <td>United Kingdom</td>\n    </tr>\n    <tr>\n      <th>3127</th>\n      <td>536600</td>\n      <td>22752</td>\n      <td>SET 7 BABUSHKA NESTING BOXES</td>\n      <td>2</td>\n      <td>2010-12-02 08:32:00</td>\n      <td>7.65</td>\n      <td>17850</td>\n      <td>United Kingdom</td>\n    </tr>\n    <tr>\n      <th>3128</th>\n      <td>536600</td>\n      <td>22803</td>\n      <td>IVORY EMBROIDERED QUILT</td>\n      <td>2</td>\n      <td>2010-12-02 08:32:00</td>\n      <td>35.75</td>\n      <td>17850</td>\n      <td>United Kingdom</td>\n    </tr>\n    <tr>\n      <th>3141</th>\n      <td>536602</td>\n      <td>22752</td>\n      <td>SET 7 BABUSHKA NESTING BOXES</td>\n      <td>2</td>\n      <td>2010-12-02 08:34:00</td>\n      <td>7.65</td>\n      <td>17850</td>\n      <td>United Kingdom</td>\n    </tr>\n    <tr>\n      <th>3200</th>\n      <td>536609</td>\n      <td>82486</td>\n      <td>WOOD S/3 CABINET ANT WHITE FINISH</td>\n      <td>4</td>\n      <td>2010-12-02 09:41:00</td>\n      <td>6.95</td>\n      <td>17850</td>\n      <td>United Kingdom</td>\n    </tr>\n    <tr>\n      <th>3206</th>\n      <td>536609</td>\n      <td>22752</td>\n      <td>SET 7 BABUSHKA NESTING BOXES</td>\n      <td>2</td>\n      <td>2010-12-02 09:41:00</td>\n      <td>7.65</td>\n      <td>17850</td>\n      <td>United Kingdom</td>\n    </tr>\n    <tr>\n      <th>3232</th>\n      <td>536612</td>\n      <td>82486</td>\n      <td>WOOD S/3 CABINET ANT WHITE FINISH</td>\n      <td>2</td>\n      <td>2010-12-02 09:44:00</td>\n      <td>6.95</td>\n      <td>17850</td>\n      <td>United Kingdom</td>\n    </tr>\n    <tr>\n      <th>3433</th>\n      <td>536628</td>\n      <td>82486</td>\n      <td>WOOD S/3 CABINET ANT WHITE FINISH</td>\n      <td>2</td>\n      <td>2010-12-02 10:54:00</td>\n      <td>6.95</td>\n      <td>17850</td>\n      <td>United Kingdom</td>\n    </tr>\n    <tr>\n      <th>3439</th>\n      <td>536628</td>\n      <td>22752</td>\n      <td>SET 7 BABUSHKA NESTING BOXES</td>\n      <td>2</td>\n      <td>2010-12-02 10:54:00</td>\n      <td>7.65</td>\n      <td>17850</td>\n      <td>United Kingdom</td>\n    </tr>\n    <tr>\n      <th>3451</th>\n      <td>536630</td>\n      <td>82486</td>\n      <td>WOOD S/3 CABINET ANT WHITE FINISH</td>\n      <td>4</td>\n      <td>2010-12-02 10:56:00</td>\n      <td>6.95</td>\n      <td>17850</td>\n      <td>United Kingdom</td>\n    </tr>\n    <tr>\n      <th>3457</th>\n      <td>536630</td>\n      <td>22752</td>\n      <td>SET 7 BABUSHKA NESTING BOXES</td>\n      <td>2</td>\n      <td>2010-12-02 10:56:00</td>\n      <td>7.65</td>\n      <td>17850</td>\n      <td>United Kingdom</td>\n    </tr>\n    <tr>\n      <th>3805</th>\n      <td>536685</td>\n      <td>22752</td>\n      <td>SET 7 BABUSHKA NESTING BOXES</td>\n      <td>4</td>\n      <td>2010-12-02 12:23:00</td>\n      <td>7.65</td>\n      <td>17850</td>\n      <td>United Kingdom</td>\n    </tr>\n    <tr>\n      <th>3806</th>\n      <td>536685</td>\n      <td>22803</td>\n      <td>IVORY EMBROIDERED QUILT</td>\n      <td>2</td>\n      <td>2010-12-02 12:23:00</td>\n      <td>35.75</td>\n      <td>17850</td>\n      <td>United Kingdom</td>\n    </tr>\n    <tr>\n      <th>3816</th>\n      <td>536685</td>\n      <td>82486</td>\n      <td>WOOD S/3 CABINET ANT WHITE FINISH</td>\n      <td>4</td>\n      <td>2010-12-02 12:23:00</td>\n      <td>6.95</td>\n      <td>17850</td>\n      <td>United Kingdom</td>\n    </tr>\n    <tr>\n      <th>3831</th>\n      <td>536690</td>\n      <td>82486</td>\n      <td>WOOD S/3 CABINET ANT WHITE FINISH</td>\n      <td>4</td>\n      <td>2010-12-02 12:25:00</td>\n      <td>6.95</td>\n      <td>17850</td>\n      <td>United Kingdom</td>\n    </tr>\n    <tr>\n      <th>3837</th>\n      <td>536690</td>\n      <td>22752</td>\n      <td>SET 7 BABUSHKA NESTING BOXES</td>\n      <td>4</td>\n      <td>2010-12-02 12:25:00</td>\n      <td>7.65</td>\n      <td>17850</td>\n      <td>United Kingdom</td>\n    </tr>\n    <tr>\n      <th>3838</th>\n      <td>536690</td>\n      <td>22803</td>\n      <td>IVORY EMBROIDERED QUILT</td>\n      <td>2</td>\n      <td>2010-12-02 12:25:00</td>\n      <td>35.75</td>\n      <td>17850</td>\n      <td>United Kingdom</td>\n    </tr>\n    <tr>\n      <th>4171</th>\n      <td>536750</td>\n      <td>82486</td>\n      <td>WOOD S/3 CABINET ANT WHITE FINISH</td>\n      <td>4</td>\n      <td>2010-12-02 14:04:00</td>\n      <td>6.95</td>\n      <td>17850</td>\n      <td>United Kingdom</td>\n    </tr>\n    <tr>\n      <th>4177</th>\n      <td>536750</td>\n      <td>22752</td>\n      <td>SET 7 BABUSHKA NESTING BOXES</td>\n      <td>4</td>\n      <td>2010-12-02 14:04:00</td>\n      <td>7.65</td>\n      <td>17850</td>\n      <td>United Kingdom</td>\n    </tr>\n    <tr>\n      <th>4178</th>\n      <td>536750</td>\n      <td>22803</td>\n      <td>IVORY EMBROIDERED QUILT</td>\n      <td>2</td>\n      <td>2010-12-02 14:04:00</td>\n      <td>35.75</td>\n      <td>17850</td>\n      <td>United Kingdom</td>\n    </tr>\n    <tr>\n      <th>4192</th>\n      <td>536752</td>\n      <td>82486</td>\n      <td>WOOD S/3 CABINET ANT WHITE FINISH</td>\n      <td>4</td>\n      <td>2010-12-02 14:06:00</td>\n      <td>6.95</td>\n      <td>17850</td>\n      <td>United Kingdom</td>\n    </tr>\n    <tr>\n      <th>4198</th>\n      <td>536752</td>\n      <td>22752</td>\n      <td>SET 7 BABUSHKA NESTING BOXES</td>\n      <td>4</td>\n      <td>2010-12-02 14:06:00</td>\n      <td>7.65</td>\n      <td>17850</td>\n      <td>United Kingdom</td>\n    </tr>\n    <tr>\n      <th>4199</th>\n      <td>536752</td>\n      <td>22803</td>\n      <td>IVORY EMBROIDERED QUILT</td>\n      <td>2</td>\n      <td>2010-12-02 14:06:00</td>\n      <td>35.75</td>\n      <td>17850</td>\n      <td>United Kingdom</td>\n    </tr>\n    <tr>\n      <th>4521</th>\n      <td>536787</td>\n      <td>22752</td>\n      <td>SET 7 BABUSHKA NESTING BOXES</td>\n      <td>2</td>\n      <td>2010-12-02 15:24:00</td>\n      <td>7.65</td>\n      <td>17850</td>\n      <td>United Kingdom</td>\n    </tr>\n    <tr>\n      <th>4535</th>\n      <td>536790</td>\n      <td>82486</td>\n      <td>WOOD S/3 CABINET ANT WHITE FINISH</td>\n      <td>4</td>\n      <td>2010-12-02 15:26:00</td>\n      <td>6.95</td>\n      <td>17850</td>\n      <td>United Kingdom</td>\n    </tr>\n    <tr>\n      <th>4540</th>\n      <td>536790</td>\n      <td>22752</td>\n      <td>SET 7 BABUSHKA NESTING BOXES</td>\n      <td>4</td>\n      <td>2010-12-02 15:26:00</td>\n      <td>7.65</td>\n      <td>17850</td>\n      <td>United Kingdom</td>\n    </tr>\n    <tr>\n      <th>4541</th>\n      <td>536790</td>\n      <td>22803</td>\n      <td>IVORY EMBROIDERED QUILT</td>\n      <td>3</td>\n      <td>2010-12-02 15:26:00</td>\n      <td>35.75</td>\n      <td>17850</td>\n      <td>United Kingdom</td>\n    </tr>\n  </tbody>\n</table>\n</div>"
     },
     "execution_count": 29,
     "metadata": {},
     "output_type": "execute_result"
    }
   ],
   "source": [
    "# SELECT * FROM retail WHERE CustomerID='17850' and UnitPrice > 5\n",
    "retail[(retail.CustomerID == '17850') & (retail.UnitPrice > 5)]"
   ],
   "metadata": {
    "collapsed": false,
    "ExecuteTime": {
     "end_time": "2024-02-07T19:21:36.414556100Z",
     "start_time": "2024-02-07T19:21:36.377798400Z"
    }
   },
   "id": "3a40dcca80fe1f04"
  },
  {
   "cell_type": "code",
   "execution_count": 32,
   "outputs": [
    {
     "data": {
      "text/plain": "       InvoiceNo StockCode                          Description  Quantity  \\\n0         536365    85123A   WHITE HANGING HEART T-LIGHT HOLDER         6   \n1         536365     71053                  WHITE METAL LANTERN         6   \n2         536365    84406B       CREAM CUPID HEARTS COAT HANGER         8   \n3         536365    84029G  KNITTED UNION FLAG HOT WATER BOTTLE         6   \n4         536365    84029E       RED WOOLLY HOTTIE WHITE HEART.         6   \n...          ...       ...                                  ...       ...   \n541904    581587     22613          PACK OF 20 SPACEBOY NAPKINS        12   \n541905    581587     22899         CHILDREN'S APRON DOLLY GIRL          6   \n541906    581587     23254        CHILDRENS CUTLERY DOLLY GIRL          4   \n541907    581587     23255      CHILDRENS CUTLERY CIRCUS PARADE         4   \n541908    581587     22138        BAKING SET 9 PIECE RETROSPOT          3   \n\n               InvoiceDate  UnitPrice CustomerID         Country  \n0      2010-12-01 08:26:00       2.55      17850  United Kingdom  \n1      2010-12-01 08:26:00       3.39      17850  United Kingdom  \n2      2010-12-01 08:26:00       2.75      17850  United Kingdom  \n3      2010-12-01 08:26:00       3.39      17850  United Kingdom  \n4      2010-12-01 08:26:00       3.39      17850  United Kingdom  \n...                    ...        ...        ...             ...  \n541904 2011-12-09 12:50:00       0.85      12680          France  \n541905 2011-12-09 12:50:00       2.10      12680          France  \n541906 2011-12-09 12:50:00       4.15      12680          France  \n541907 2011-12-09 12:50:00       4.15      12680          France  \n541908 2011-12-09 12:50:00       4.95      12680          France  \n\n[8639 rows x 8 columns]",
      "text/html": "<div>\n<style scoped>\n    .dataframe tbody tr th:only-of-type {\n        vertical-align: middle;\n    }\n\n    .dataframe tbody tr th {\n        vertical-align: top;\n    }\n\n    .dataframe thead th {\n        text-align: right;\n    }\n</style>\n<table border=\"1\" class=\"dataframe\">\n  <thead>\n    <tr style=\"text-align: right;\">\n      <th></th>\n      <th>InvoiceNo</th>\n      <th>StockCode</th>\n      <th>Description</th>\n      <th>Quantity</th>\n      <th>InvoiceDate</th>\n      <th>UnitPrice</th>\n      <th>CustomerID</th>\n      <th>Country</th>\n    </tr>\n  </thead>\n  <tbody>\n    <tr>\n      <th>0</th>\n      <td>536365</td>\n      <td>85123A</td>\n      <td>WHITE HANGING HEART T-LIGHT HOLDER</td>\n      <td>6</td>\n      <td>2010-12-01 08:26:00</td>\n      <td>2.55</td>\n      <td>17850</td>\n      <td>United Kingdom</td>\n    </tr>\n    <tr>\n      <th>1</th>\n      <td>536365</td>\n      <td>71053</td>\n      <td>WHITE METAL LANTERN</td>\n      <td>6</td>\n      <td>2010-12-01 08:26:00</td>\n      <td>3.39</td>\n      <td>17850</td>\n      <td>United Kingdom</td>\n    </tr>\n    <tr>\n      <th>2</th>\n      <td>536365</td>\n      <td>84406B</td>\n      <td>CREAM CUPID HEARTS COAT HANGER</td>\n      <td>8</td>\n      <td>2010-12-01 08:26:00</td>\n      <td>2.75</td>\n      <td>17850</td>\n      <td>United Kingdom</td>\n    </tr>\n    <tr>\n      <th>3</th>\n      <td>536365</td>\n      <td>84029G</td>\n      <td>KNITTED UNION FLAG HOT WATER BOTTLE</td>\n      <td>6</td>\n      <td>2010-12-01 08:26:00</td>\n      <td>3.39</td>\n      <td>17850</td>\n      <td>United Kingdom</td>\n    </tr>\n    <tr>\n      <th>4</th>\n      <td>536365</td>\n      <td>84029E</td>\n      <td>RED WOOLLY HOTTIE WHITE HEART.</td>\n      <td>6</td>\n      <td>2010-12-01 08:26:00</td>\n      <td>3.39</td>\n      <td>17850</td>\n      <td>United Kingdom</td>\n    </tr>\n    <tr>\n      <th>...</th>\n      <td>...</td>\n      <td>...</td>\n      <td>...</td>\n      <td>...</td>\n      <td>...</td>\n      <td>...</td>\n      <td>...</td>\n      <td>...</td>\n    </tr>\n    <tr>\n      <th>541904</th>\n      <td>581587</td>\n      <td>22613</td>\n      <td>PACK OF 20 SPACEBOY NAPKINS</td>\n      <td>12</td>\n      <td>2011-12-09 12:50:00</td>\n      <td>0.85</td>\n      <td>12680</td>\n      <td>France</td>\n    </tr>\n    <tr>\n      <th>541905</th>\n      <td>581587</td>\n      <td>22899</td>\n      <td>CHILDREN'S APRON DOLLY GIRL</td>\n      <td>6</td>\n      <td>2011-12-09 12:50:00</td>\n      <td>2.10</td>\n      <td>12680</td>\n      <td>France</td>\n    </tr>\n    <tr>\n      <th>541906</th>\n      <td>581587</td>\n      <td>23254</td>\n      <td>CHILDRENS CUTLERY DOLLY GIRL</td>\n      <td>4</td>\n      <td>2011-12-09 12:50:00</td>\n      <td>4.15</td>\n      <td>12680</td>\n      <td>France</td>\n    </tr>\n    <tr>\n      <th>541907</th>\n      <td>581587</td>\n      <td>23255</td>\n      <td>CHILDRENS CUTLERY CIRCUS PARADE</td>\n      <td>4</td>\n      <td>2011-12-09 12:50:00</td>\n      <td>4.15</td>\n      <td>12680</td>\n      <td>France</td>\n    </tr>\n    <tr>\n      <th>541908</th>\n      <td>581587</td>\n      <td>22138</td>\n      <td>BAKING SET 9 PIECE RETROSPOT</td>\n      <td>3</td>\n      <td>2011-12-09 12:50:00</td>\n      <td>4.95</td>\n      <td>12680</td>\n      <td>France</td>\n    </tr>\n  </tbody>\n</table>\n<p>8639 rows × 8 columns</p>\n</div>"
     },
     "execution_count": 32,
     "metadata": {},
     "output_type": "execute_result"
    }
   ],
   "source": [
    "# SELECT * FROM retail WHERE CustomerID='17850' or Country='France';\n",
    "retail[(retail.CustomerID == '17850') | (retail.Country == 'France')] # | = or"
   ],
   "metadata": {
    "collapsed": false,
    "ExecuteTime": {
     "end_time": "2024-02-07T19:26:50.101079Z",
     "start_time": "2024-02-07T19:26:50.048586900Z"
    }
   },
   "id": "262572a81be3840e"
  },
  {
   "cell_type": "code",
   "execution_count": 34,
   "outputs": [
    {
     "data": {
      "text/plain": "       InvoiceNo StockCode                          Description  Quantity  \\\n0         536365    85123A   WHITE HANGING HEART T-LIGHT HOLDER         6   \n1         536365     71053                  WHITE METAL LANTERN         6   \n2         536365    84406B       CREAM CUPID HEARTS COAT HANGER         8   \n3         536365    84029G  KNITTED UNION FLAG HOT WATER BOTTLE         6   \n4         536365    84029E       RED WOOLLY HOTTIE WHITE HEART.         6   \n...          ...       ...                                  ...       ...   \n541904    581587     22613          PACK OF 20 SPACEBOY NAPKINS        12   \n541905    581587     22899         CHILDREN'S APRON DOLLY GIRL          6   \n541906    581587     23254        CHILDRENS CUTLERY DOLLY GIRL          4   \n541907    581587     23255      CHILDRENS CUTLERY CIRCUS PARADE         4   \n541908    581587     22138        BAKING SET 9 PIECE RETROSPOT          3   \n\n               InvoiceDate  UnitPrice CustomerID         Country  \n0      2010-12-01 08:26:00       2.55      17850  United Kingdom  \n1      2010-12-01 08:26:00       3.39      17850  United Kingdom  \n2      2010-12-01 08:26:00       2.75      17850  United Kingdom  \n3      2010-12-01 08:26:00       3.39      17850  United Kingdom  \n4      2010-12-01 08:26:00       3.39      17850  United Kingdom  \n...                    ...        ...        ...             ...  \n541904 2011-12-09 12:50:00       0.85      12680          France  \n541905 2011-12-09 12:50:00       2.10      12680          France  \n541906 2011-12-09 12:50:00       4.15      12680          France  \n541907 2011-12-09 12:50:00       4.15      12680          France  \n541908 2011-12-09 12:50:00       4.95      12680          France  \n\n[397924 rows x 8 columns]",
      "text/html": "<div>\n<style scoped>\n    .dataframe tbody tr th:only-of-type {\n        vertical-align: middle;\n    }\n\n    .dataframe tbody tr th {\n        vertical-align: top;\n    }\n\n    .dataframe thead th {\n        text-align: right;\n    }\n</style>\n<table border=\"1\" class=\"dataframe\">\n  <thead>\n    <tr style=\"text-align: right;\">\n      <th></th>\n      <th>InvoiceNo</th>\n      <th>StockCode</th>\n      <th>Description</th>\n      <th>Quantity</th>\n      <th>InvoiceDate</th>\n      <th>UnitPrice</th>\n      <th>CustomerID</th>\n      <th>Country</th>\n    </tr>\n  </thead>\n  <tbody>\n    <tr>\n      <th>0</th>\n      <td>536365</td>\n      <td>85123A</td>\n      <td>WHITE HANGING HEART T-LIGHT HOLDER</td>\n      <td>6</td>\n      <td>2010-12-01 08:26:00</td>\n      <td>2.55</td>\n      <td>17850</td>\n      <td>United Kingdom</td>\n    </tr>\n    <tr>\n      <th>1</th>\n      <td>536365</td>\n      <td>71053</td>\n      <td>WHITE METAL LANTERN</td>\n      <td>6</td>\n      <td>2010-12-01 08:26:00</td>\n      <td>3.39</td>\n      <td>17850</td>\n      <td>United Kingdom</td>\n    </tr>\n    <tr>\n      <th>2</th>\n      <td>536365</td>\n      <td>84406B</td>\n      <td>CREAM CUPID HEARTS COAT HANGER</td>\n      <td>8</td>\n      <td>2010-12-01 08:26:00</td>\n      <td>2.75</td>\n      <td>17850</td>\n      <td>United Kingdom</td>\n    </tr>\n    <tr>\n      <th>3</th>\n      <td>536365</td>\n      <td>84029G</td>\n      <td>KNITTED UNION FLAG HOT WATER BOTTLE</td>\n      <td>6</td>\n      <td>2010-12-01 08:26:00</td>\n      <td>3.39</td>\n      <td>17850</td>\n      <td>United Kingdom</td>\n    </tr>\n    <tr>\n      <th>4</th>\n      <td>536365</td>\n      <td>84029E</td>\n      <td>RED WOOLLY HOTTIE WHITE HEART.</td>\n      <td>6</td>\n      <td>2010-12-01 08:26:00</td>\n      <td>3.39</td>\n      <td>17850</td>\n      <td>United Kingdom</td>\n    </tr>\n    <tr>\n      <th>...</th>\n      <td>...</td>\n      <td>...</td>\n      <td>...</td>\n      <td>...</td>\n      <td>...</td>\n      <td>...</td>\n      <td>...</td>\n      <td>...</td>\n    </tr>\n    <tr>\n      <th>541904</th>\n      <td>581587</td>\n      <td>22613</td>\n      <td>PACK OF 20 SPACEBOY NAPKINS</td>\n      <td>12</td>\n      <td>2011-12-09 12:50:00</td>\n      <td>0.85</td>\n      <td>12680</td>\n      <td>France</td>\n    </tr>\n    <tr>\n      <th>541905</th>\n      <td>581587</td>\n      <td>22899</td>\n      <td>CHILDREN'S APRON DOLLY GIRL</td>\n      <td>6</td>\n      <td>2011-12-09 12:50:00</td>\n      <td>2.10</td>\n      <td>12680</td>\n      <td>France</td>\n    </tr>\n    <tr>\n      <th>541906</th>\n      <td>581587</td>\n      <td>23254</td>\n      <td>CHILDRENS CUTLERY DOLLY GIRL</td>\n      <td>4</td>\n      <td>2011-12-09 12:50:00</td>\n      <td>4.15</td>\n      <td>12680</td>\n      <td>France</td>\n    </tr>\n    <tr>\n      <th>541907</th>\n      <td>581587</td>\n      <td>23255</td>\n      <td>CHILDRENS CUTLERY CIRCUS PARADE</td>\n      <td>4</td>\n      <td>2011-12-09 12:50:00</td>\n      <td>4.15</td>\n      <td>12680</td>\n      <td>France</td>\n    </tr>\n    <tr>\n      <th>541908</th>\n      <td>581587</td>\n      <td>22138</td>\n      <td>BAKING SET 9 PIECE RETROSPOT</td>\n      <td>3</td>\n      <td>2011-12-09 12:50:00</td>\n      <td>4.95</td>\n      <td>12680</td>\n      <td>France</td>\n    </tr>\n  </tbody>\n</table>\n<p>397924 rows × 8 columns</p>\n</div>"
     },
     "execution_count": 34,
     "metadata": {},
     "output_type": "execute_result"
    }
   ],
   "source": [
    "# SELECT * FROM retail WHERE InvoiceNo is not null;\n",
    "retail[retail.InvoiceNo.notnull()]"
   ],
   "metadata": {
    "collapsed": false,
    "ExecuteTime": {
     "end_time": "2024-02-07T19:30:02.175605500Z",
     "start_time": "2024-02-07T19:30:02.127799900Z"
    }
   },
   "id": "d5b60eb5f414e38f"
  },
  {
   "cell_type": "code",
   "execution_count": 43,
   "outputs": [
    {
     "data": {
      "text/plain": "CustomerID\n12346      1\n12347    182\n12348     31\n12349     73\n12350     17\n        ... \n18280     10\n18281      7\n18282     12\n18283    756\n18287     70\nLength: 4339, dtype: int64"
     },
     "execution_count": 43,
     "metadata": {},
     "output_type": "execute_result"
    }
   ],
   "source": [
    "# SELECT CustomerID, count(*) FROM retail GROUP BY customerID;\n",
    "retail.groupby('CustomerID').size()"
   ],
   "metadata": {
    "collapsed": false,
    "ExecuteTime": {
     "end_time": "2024-02-07T19:39:41.572396100Z",
     "start_time": "2024-02-07T19:39:41.494459800Z"
    }
   },
   "id": "f85ea058e59c493"
  },
  {
   "cell_type": "code",
   "execution_count": 44,
   "outputs": [
    {
     "data": {
      "text/plain": "  InvoiceNo StockCode                         Description  Quantity  \\\n0    536365    85123A  WHITE HANGING HEART T-LIGHT HOLDER         6   \n\n          InvoiceDate  UnitPrice CustomerID         Country  \n0 2010-12-01 08:26:00       2.55      17850  United Kingdom  ",
      "text/html": "<div>\n<style scoped>\n    .dataframe tbody tr th:only-of-type {\n        vertical-align: middle;\n    }\n\n    .dataframe tbody tr th {\n        vertical-align: top;\n    }\n\n    .dataframe thead th {\n        text-align: right;\n    }\n</style>\n<table border=\"1\" class=\"dataframe\">\n  <thead>\n    <tr style=\"text-align: right;\">\n      <th></th>\n      <th>InvoiceNo</th>\n      <th>StockCode</th>\n      <th>Description</th>\n      <th>Quantity</th>\n      <th>InvoiceDate</th>\n      <th>UnitPrice</th>\n      <th>CustomerID</th>\n      <th>Country</th>\n    </tr>\n  </thead>\n  <tbody>\n    <tr>\n      <th>0</th>\n      <td>536365</td>\n      <td>85123A</td>\n      <td>WHITE HANGING HEART T-LIGHT HOLDER</td>\n      <td>6</td>\n      <td>2010-12-01 08:26:00</td>\n      <td>2.55</td>\n      <td>17850</td>\n      <td>United Kingdom</td>\n    </tr>\n  </tbody>\n</table>\n</div>"
     },
     "execution_count": 44,
     "metadata": {},
     "output_type": "execute_result"
    }
   ],
   "source": [
    "retail.head(1)"
   ],
   "metadata": {
    "collapsed": false,
    "ExecuteTime": {
     "end_time": "2024-02-07T19:39:50.187764Z",
     "start_time": "2024-02-07T19:39:50.163719400Z"
    }
   },
   "id": "6df218f4e8f39549"
  },
  {
   "cell_type": "code",
   "execution_count": 45,
   "outputs": [],
   "source": [
    "retail['Revenue'] = retail.Quantity * retail.UnitPrice"
   ],
   "metadata": {
    "collapsed": false,
    "ExecuteTime": {
     "end_time": "2024-02-07T19:40:23.886432500Z",
     "start_time": "2024-02-07T19:40:23.864551Z"
    }
   },
   "id": "5cb99112844b8a42"
  },
  {
   "cell_type": "code",
   "execution_count": 46,
   "outputs": [
    {
     "data": {
      "text/plain": "       InvoiceNo StockCode                          Description  Quantity  \\\n0         536365    85123A   WHITE HANGING HEART T-LIGHT HOLDER         6   \n1         536365     71053                  WHITE METAL LANTERN         6   \n2         536365    84406B       CREAM CUPID HEARTS COAT HANGER         8   \n3         536365    84029G  KNITTED UNION FLAG HOT WATER BOTTLE         6   \n4         536365    84029E       RED WOOLLY HOTTIE WHITE HEART.         6   \n...          ...       ...                                  ...       ...   \n541904    581587     22613          PACK OF 20 SPACEBOY NAPKINS        12   \n541905    581587     22899         CHILDREN'S APRON DOLLY GIRL          6   \n541906    581587     23254        CHILDRENS CUTLERY DOLLY GIRL          4   \n541907    581587     23255      CHILDRENS CUTLERY CIRCUS PARADE         4   \n541908    581587     22138        BAKING SET 9 PIECE RETROSPOT          3   \n\n               InvoiceDate  UnitPrice CustomerID         Country  Revenue  \n0      2010-12-01 08:26:00       2.55      17850  United Kingdom    15.30  \n1      2010-12-01 08:26:00       3.39      17850  United Kingdom    20.34  \n2      2010-12-01 08:26:00       2.75      17850  United Kingdom    22.00  \n3      2010-12-01 08:26:00       3.39      17850  United Kingdom    20.34  \n4      2010-12-01 08:26:00       3.39      17850  United Kingdom    20.34  \n...                    ...        ...        ...             ...      ...  \n541904 2011-12-09 12:50:00       0.85      12680          France    10.20  \n541905 2011-12-09 12:50:00       2.10      12680          France    12.60  \n541906 2011-12-09 12:50:00       4.15      12680          France    16.60  \n541907 2011-12-09 12:50:00       4.15      12680          France    16.60  \n541908 2011-12-09 12:50:00       4.95      12680          France    14.85  \n\n[397924 rows x 9 columns]",
      "text/html": "<div>\n<style scoped>\n    .dataframe tbody tr th:only-of-type {\n        vertical-align: middle;\n    }\n\n    .dataframe tbody tr th {\n        vertical-align: top;\n    }\n\n    .dataframe thead th {\n        text-align: right;\n    }\n</style>\n<table border=\"1\" class=\"dataframe\">\n  <thead>\n    <tr style=\"text-align: right;\">\n      <th></th>\n      <th>InvoiceNo</th>\n      <th>StockCode</th>\n      <th>Description</th>\n      <th>Quantity</th>\n      <th>InvoiceDate</th>\n      <th>UnitPrice</th>\n      <th>CustomerID</th>\n      <th>Country</th>\n      <th>Revenue</th>\n    </tr>\n  </thead>\n  <tbody>\n    <tr>\n      <th>0</th>\n      <td>536365</td>\n      <td>85123A</td>\n      <td>WHITE HANGING HEART T-LIGHT HOLDER</td>\n      <td>6</td>\n      <td>2010-12-01 08:26:00</td>\n      <td>2.55</td>\n      <td>17850</td>\n      <td>United Kingdom</td>\n      <td>15.30</td>\n    </tr>\n    <tr>\n      <th>1</th>\n      <td>536365</td>\n      <td>71053</td>\n      <td>WHITE METAL LANTERN</td>\n      <td>6</td>\n      <td>2010-12-01 08:26:00</td>\n      <td>3.39</td>\n      <td>17850</td>\n      <td>United Kingdom</td>\n      <td>20.34</td>\n    </tr>\n    <tr>\n      <th>2</th>\n      <td>536365</td>\n      <td>84406B</td>\n      <td>CREAM CUPID HEARTS COAT HANGER</td>\n      <td>8</td>\n      <td>2010-12-01 08:26:00</td>\n      <td>2.75</td>\n      <td>17850</td>\n      <td>United Kingdom</td>\n      <td>22.00</td>\n    </tr>\n    <tr>\n      <th>3</th>\n      <td>536365</td>\n      <td>84029G</td>\n      <td>KNITTED UNION FLAG HOT WATER BOTTLE</td>\n      <td>6</td>\n      <td>2010-12-01 08:26:00</td>\n      <td>3.39</td>\n      <td>17850</td>\n      <td>United Kingdom</td>\n      <td>20.34</td>\n    </tr>\n    <tr>\n      <th>4</th>\n      <td>536365</td>\n      <td>84029E</td>\n      <td>RED WOOLLY HOTTIE WHITE HEART.</td>\n      <td>6</td>\n      <td>2010-12-01 08:26:00</td>\n      <td>3.39</td>\n      <td>17850</td>\n      <td>United Kingdom</td>\n      <td>20.34</td>\n    </tr>\n    <tr>\n      <th>...</th>\n      <td>...</td>\n      <td>...</td>\n      <td>...</td>\n      <td>...</td>\n      <td>...</td>\n      <td>...</td>\n      <td>...</td>\n      <td>...</td>\n      <td>...</td>\n    </tr>\n    <tr>\n      <th>541904</th>\n      <td>581587</td>\n      <td>22613</td>\n      <td>PACK OF 20 SPACEBOY NAPKINS</td>\n      <td>12</td>\n      <td>2011-12-09 12:50:00</td>\n      <td>0.85</td>\n      <td>12680</td>\n      <td>France</td>\n      <td>10.20</td>\n    </tr>\n    <tr>\n      <th>541905</th>\n      <td>581587</td>\n      <td>22899</td>\n      <td>CHILDREN'S APRON DOLLY GIRL</td>\n      <td>6</td>\n      <td>2011-12-09 12:50:00</td>\n      <td>2.10</td>\n      <td>12680</td>\n      <td>France</td>\n      <td>12.60</td>\n    </tr>\n    <tr>\n      <th>541906</th>\n      <td>581587</td>\n      <td>23254</td>\n      <td>CHILDRENS CUTLERY DOLLY GIRL</td>\n      <td>4</td>\n      <td>2011-12-09 12:50:00</td>\n      <td>4.15</td>\n      <td>12680</td>\n      <td>France</td>\n      <td>16.60</td>\n    </tr>\n    <tr>\n      <th>541907</th>\n      <td>581587</td>\n      <td>23255</td>\n      <td>CHILDRENS CUTLERY CIRCUS PARADE</td>\n      <td>4</td>\n      <td>2011-12-09 12:50:00</td>\n      <td>4.15</td>\n      <td>12680</td>\n      <td>France</td>\n      <td>16.60</td>\n    </tr>\n    <tr>\n      <th>541908</th>\n      <td>581587</td>\n      <td>22138</td>\n      <td>BAKING SET 9 PIECE RETROSPOT</td>\n      <td>3</td>\n      <td>2011-12-09 12:50:00</td>\n      <td>4.95</td>\n      <td>12680</td>\n      <td>France</td>\n      <td>14.85</td>\n    </tr>\n  </tbody>\n</table>\n<p>397924 rows × 9 columns</p>\n</div>"
     },
     "execution_count": 46,
     "metadata": {},
     "output_type": "execute_result"
    }
   ],
   "source": [
    "retail"
   ],
   "metadata": {
    "collapsed": false,
    "ExecuteTime": {
     "end_time": "2024-02-07T19:40:26.084287800Z",
     "start_time": "2024-02-07T19:40:26.052169400Z"
    }
   },
   "id": "1c6888c6f03100b2"
  },
  {
   "cell_type": "code",
   "execution_count": 47,
   "outputs": [
    {
     "data": {
      "text/plain": "                 Revenue  CustomerID\nCustomerID                          \n12346       77183.600000           1\n12347          23.681319         182\n12348          57.975484          31\n12349          24.076027          73\n12350          19.670588          17\n...                  ...         ...\n18280          18.060000          10\n18281          11.545714           7\n18282          14.837500          12\n18283           2.771005         756\n18287          26.246857          70\n\n[4339 rows x 2 columns]",
      "text/html": "<div>\n<style scoped>\n    .dataframe tbody tr th:only-of-type {\n        vertical-align: middle;\n    }\n\n    .dataframe tbody tr th {\n        vertical-align: top;\n    }\n\n    .dataframe thead th {\n        text-align: right;\n    }\n</style>\n<table border=\"1\" class=\"dataframe\">\n  <thead>\n    <tr style=\"text-align: right;\">\n      <th></th>\n      <th>Revenue</th>\n      <th>CustomerID</th>\n    </tr>\n    <tr>\n      <th>CustomerID</th>\n      <th></th>\n      <th></th>\n    </tr>\n  </thead>\n  <tbody>\n    <tr>\n      <th>12346</th>\n      <td>77183.600000</td>\n      <td>1</td>\n    </tr>\n    <tr>\n      <th>12347</th>\n      <td>23.681319</td>\n      <td>182</td>\n    </tr>\n    <tr>\n      <th>12348</th>\n      <td>57.975484</td>\n      <td>31</td>\n    </tr>\n    <tr>\n      <th>12349</th>\n      <td>24.076027</td>\n      <td>73</td>\n    </tr>\n    <tr>\n      <th>12350</th>\n      <td>19.670588</td>\n      <td>17</td>\n    </tr>\n    <tr>\n      <th>...</th>\n      <td>...</td>\n      <td>...</td>\n    </tr>\n    <tr>\n      <th>18280</th>\n      <td>18.060000</td>\n      <td>10</td>\n    </tr>\n    <tr>\n      <th>18281</th>\n      <td>11.545714</td>\n      <td>7</td>\n    </tr>\n    <tr>\n      <th>18282</th>\n      <td>14.837500</td>\n      <td>12</td>\n    </tr>\n    <tr>\n      <th>18283</th>\n      <td>2.771005</td>\n      <td>756</td>\n    </tr>\n    <tr>\n      <th>18287</th>\n      <td>26.246857</td>\n      <td>70</td>\n    </tr>\n  </tbody>\n</table>\n<p>4339 rows × 2 columns</p>\n</div>"
     },
     "execution_count": 47,
     "metadata": {},
     "output_type": "execute_result"
    }
   ],
   "source": [
    "# SELECT CustomerID, avg(Revenue), count(*) FROM retail GROUP BY CustomerID;\n",
    "retail.groupby('CustomerID').aggregate({'Revenue': np.mean, 'CustomerID': np.size})"
   ],
   "metadata": {
    "collapsed": false,
    "ExecuteTime": {
     "end_time": "2024-02-07T19:43:52.567779300Z",
     "start_time": "2024-02-07T19:43:52.451369200Z"
    }
   },
   "id": "ce79419f9fff9741"
  },
  {
   "cell_type": "code",
   "execution_count": 48,
   "outputs": [
    {
     "data": {
      "text/plain": "            RevenueAverage  CustomerIDCount\nCustomerID                                 \n12346         77183.600000                1\n12347            23.681319              182\n12348            57.975484               31\n12349            24.076027               73\n12350            19.670588               17\n...                    ...              ...\n18280            18.060000               10\n18281            11.545714                7\n18282            14.837500               12\n18283             2.771005              756\n18287            26.246857               70\n\n[4339 rows x 2 columns]",
      "text/html": "<div>\n<style scoped>\n    .dataframe tbody tr th:only-of-type {\n        vertical-align: middle;\n    }\n\n    .dataframe tbody tr th {\n        vertical-align: top;\n    }\n\n    .dataframe thead th {\n        text-align: right;\n    }\n</style>\n<table border=\"1\" class=\"dataframe\">\n  <thead>\n    <tr style=\"text-align: right;\">\n      <th></th>\n      <th>RevenueAverage</th>\n      <th>CustomerIDCount</th>\n    </tr>\n    <tr>\n      <th>CustomerID</th>\n      <th></th>\n      <th></th>\n    </tr>\n  </thead>\n  <tbody>\n    <tr>\n      <th>12346</th>\n      <td>77183.600000</td>\n      <td>1</td>\n    </tr>\n    <tr>\n      <th>12347</th>\n      <td>23.681319</td>\n      <td>182</td>\n    </tr>\n    <tr>\n      <th>12348</th>\n      <td>57.975484</td>\n      <td>31</td>\n    </tr>\n    <tr>\n      <th>12349</th>\n      <td>24.076027</td>\n      <td>73</td>\n    </tr>\n    <tr>\n      <th>12350</th>\n      <td>19.670588</td>\n      <td>17</td>\n    </tr>\n    <tr>\n      <th>...</th>\n      <td>...</td>\n      <td>...</td>\n    </tr>\n    <tr>\n      <th>18280</th>\n      <td>18.060000</td>\n      <td>10</td>\n    </tr>\n    <tr>\n      <th>18281</th>\n      <td>11.545714</td>\n      <td>7</td>\n    </tr>\n    <tr>\n      <th>18282</th>\n      <td>14.837500</td>\n      <td>12</td>\n    </tr>\n    <tr>\n      <th>18283</th>\n      <td>2.771005</td>\n      <td>756</td>\n    </tr>\n    <tr>\n      <th>18287</th>\n      <td>26.246857</td>\n      <td>70</td>\n    </tr>\n  </tbody>\n</table>\n<p>4339 rows × 2 columns</p>\n</div>"
     },
     "execution_count": 48,
     "metadata": {},
     "output_type": "execute_result"
    }
   ],
   "source": [
    "retail.groupby('CustomerID').aggregate({'Revenue': np.mean, 'CustomerID': np.size}).rename(columns={'Revenue': 'RevenueAverage', 'CustomerID': 'CustomerIDCount'})"
   ],
   "metadata": {
    "collapsed": false,
    "ExecuteTime": {
     "end_time": "2024-02-07T19:45:16.930151100Z",
     "start_time": "2024-02-07T19:45:16.789149200Z"
    }
   },
   "id": "2af812d2fbfa9e17"
  },
  {
   "cell_type": "code",
   "execution_count": null,
   "outputs": [],
   "source": [],
   "metadata": {
    "collapsed": false
   },
   "id": "8896719e8113cf4a"
  }
 ],
 "metadata": {
  "kernelspec": {
   "display_name": "Python 3",
   "language": "python",
   "name": "python3"
  },
  "language_info": {
   "codemirror_mode": {
    "name": "ipython",
    "version": 2
   },
   "file_extension": ".py",
   "mimetype": "text/x-python",
   "name": "python",
   "nbconvert_exporter": "python",
   "pygments_lexer": "ipython2",
   "version": "2.7.6"
  }
 },
 "nbformat": 4,
 "nbformat_minor": 5
}
