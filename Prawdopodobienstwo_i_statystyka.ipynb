{
  "nbformat": 4,
  "nbformat_minor": 0,
  "metadata": {
    "colab": {
      "provenance": [],
      "authorship_tag": "ABX9TyOeSJwKNAj9feHCc4BzoG4y",
      "include_colab_link": true
    },
    "kernelspec": {
      "name": "python3",
      "display_name": "Python 3"
    },
    "language_info": {
      "name": "python"
    }
  },
  "cells": [
    {
      "cell_type": "markdown",
      "metadata": {
        "id": "view-in-github",
        "colab_type": "text"
      },
      "source": [
        "<a href=\"https://colab.research.google.com/github/Manhatai/Data_Science_Bootcamp/blob/main/Prawdopodobienstwo_i_statystyka.ipynb\" target=\"_parent\"><img src=\"https://colab.research.google.com/assets/colab-badge.svg\" alt=\"Open In Colab\"/></a>"
      ]
    },
    {
      "cell_type": "markdown",
      "source": [
        "### ***Podstawy statystyki***"
      ],
      "metadata": {
        "id": "RCIX9ITRbNxH"
      }
    },
    {
      "cell_type": "code",
      "execution_count": 4,
      "metadata": {
        "colab": {
          "base_uri": "https://localhost:8080/"
        },
        "id": "tw_ZZbxWM25Z",
        "outputId": "4c498411-2e94-4f60-be7b-bfae66943998"
      },
      "outputs": [
        {
          "output_type": "stream",
          "name": "stdout",
          "text": [
            "[3.  4.5 5.  4.5 3. ]\n"
          ]
        }
      ],
      "source": [
        "import numpy as np\n",
        "\n",
        "# Dane 1\n",
        "x = np.array([3, 4.5, 5, 4.5, 3])\n",
        "print(x)"
      ]
    },
    {
      "cell_type": "code",
      "source": [
        "# Dane 2\n",
        "x = np.array([185.0, 179.5, 168.0, 192.0, 185.5])\n",
        "print(x)"
      ],
      "metadata": {
        "colab": {
          "base_uri": "https://localhost:8080/"
        },
        "id": "Kg-uEICONE8Y",
        "outputId": "31c649a3-b87f-4bb0-8702-91cd760adc27"
      },
      "execution_count": 5,
      "outputs": [
        {
          "output_type": "stream",
          "name": "stdout",
          "text": [
            "[185.  179.5 168.  192.  185.5]\n"
          ]
        }
      ]
    },
    {
      "cell_type": "code",
      "source": [
        "# Średnia arytmetyczna\n",
        "x = np.array([3, 4.5, 5, 4.5, 3]) # Dzielimy sumę danych przez ich ilość\n",
        "np.mean(x)"
      ],
      "metadata": {
        "colab": {
          "base_uri": "https://localhost:8080/"
        },
        "id": "IV-_wg85N0O8",
        "outputId": "86a44610-c1e0-4821-8233-297a2ca2fc6f"
      },
      "execution_count": 8,
      "outputs": [
        {
          "output_type": "execute_result",
          "data": {
            "text/plain": [
              "4.0"
            ]
          },
          "metadata": {},
          "execution_count": 8
        }
      ]
    },
    {
      "cell_type": "code",
      "source": [
        "# Mediana\n",
        "x = np.array([3, 4.5, 5, 4.5, 3]) # Środek zbioru danych. Jeśli zbiór jest nieparzysty, medianą jest liczba środkowa. Jeśli parzysty, dodajemy dwie środokowe liczby i dzielimy przez 2.\n",
        "np.median(x)"
      ],
      "metadata": {
        "colab": {
          "base_uri": "https://localhost:8080/"
        },
        "id": "fZKXflGQOCPF",
        "outputId": "4bd38a2f-e4a5-4a28-c9f0-4f8fffb2a91c"
      },
      "execution_count": 10,
      "outputs": [
        {
          "output_type": "execute_result",
          "data": {
            "text/plain": [
              "4.5"
            ]
          },
          "metadata": {},
          "execution_count": 10
        }
      ]
    },
    {
      "cell_type": "code",
      "source": [
        "# Miary rozrzutu + średni błąd\n",
        "x = [3.5, 4.0, 4.0]\n",
        "y = [2.0, 4.0, 5.0]\n",
        "\n",
        "x_mean = np.mean(x)  # Przy liczeniu średniej ze zbioru podajemy przybliżoną wartość średniej.\n",
        "y_mean = np.mean(y)\n",
        "\n",
        "print(f'X_mean: {x_mean:.4f}')\n",
        "print(f'Y_mean: {y_mean:.4f}')\n",
        "\n",
        "b_x = 1 / len(x) * (abs(x - x_mean).sum()) # Miara rozrzutu to najbliższa wartość do środkowej liczby zbioru.\n",
        "b_y = 1 / len(y) * (abs(y - y_mean).sum())\n",
        "\n",
        "print(f'Średni błąd X: {b_x:.4f}')\n",
        "print(f'Średni błąd Y: {b_y:.4f}')"
      ],
      "metadata": {
        "colab": {
          "base_uri": "https://localhost:8080/"
        },
        "id": "SNalOmouOnaL",
        "outputId": "bf148085-5ce3-4141-896c-67c34746c697"
      },
      "execution_count": 28,
      "outputs": [
        {
          "output_type": "stream",
          "name": "stdout",
          "text": [
            "X_mean: 3.8333\n",
            "Y_mean: 3.6667\n",
            "Średni błąd X: 0.2222\n",
            "Średni błąd Y: 1.1111\n"
          ]
        }
      ]
    },
    {
      "cell_type": "code",
      "source": [
        "# Wariacja zmiennej + odchylenie standardowe zmiennej\n",
        "x = [3.5, 4.0, 4.0]\n",
        "y = [2.0, 4.0, 5.0]\n",
        "\n",
        "var_x = 1 / len(x) * ((x - x_mean)**2).sum()\n",
        "var_y = 1 / len(y) * ((y - y_mean)**2).sum()\n",
        "\n",
        "print(f'Wariancja zmiennej X: {var_x:.4f}')\n",
        "print(f'Wariancja zmiennej Y: {var_y:.4f}\\n')\n",
        "\n",
        "std_x = np.sqrt(var_x)\n",
        "std_y = np.sqrt(var_y)\n",
        "\n",
        "print(f'Odchylenie standardowe zmiennej X: {std_x:.4f}')\n",
        "print(f'Odchylenie standardowe zmiennej Y: {std_y:.4f}')"
      ],
      "metadata": {
        "colab": {
          "base_uri": "https://localhost:8080/"
        },
        "id": "JUTj0P28Q6D7",
        "outputId": "9d14209c-ec6d-4cb7-fcb9-74de174bf6ec"
      },
      "execution_count": 22,
      "outputs": [
        {
          "output_type": "stream",
          "name": "stdout",
          "text": [
            "Wariancja zmiennej X: 0.0556\n",
            "Wariancja zmiennej Y: 1.5556\n",
            "\n",
            "Odchylenie standardowe zmiennej X: 0.2357\n",
            "Odchylenie standardowe zmiennej Y: 1.2472\n"
          ]
        }
      ]
    },
    {
      "cell_type": "code",
      "source": [
        "# To wszystko co powyżej w jednej komendzie:\n",
        "x = [3.5, 4.0, 4.0]\n",
        "y = [2.0, 4.0, 5.0]\n",
        "\n",
        "x_mean = np.mean(x)\n",
        "y_mean = np.mean(y)\n",
        "print(f'X_mean: {x_mean:.4f}')\n",
        "print(f'Y_mean: {y_mean:.4f}')\n",
        "\n",
        "print(f\"Odchylenie standardowe x: {np.std(x):.4f}\") # Jest to krótko mówiąc \"jak szeroko wartość danej zmiennej jest rozproszona wokół swojej średniej.\"\n",
        "print(f\"Odchylenie standardowe y: {np.std(y):.4f}\")"
      ],
      "metadata": {
        "colab": {
          "base_uri": "https://localhost:8080/"
        },
        "id": "7WS1OpoqVvAo",
        "outputId": "53e53399-305a-474f-9f7e-0f91970e8654"
      },
      "execution_count": 31,
      "outputs": [
        {
          "output_type": "stream",
          "name": "stdout",
          "text": [
            "X_mean: 3.8333\n",
            "Y_mean: 3.6667\n",
            "Odchylenie standardowe x: 0.2357\n",
            "Odchylenie standardowe y: 1.2472\n"
          ]
        }
      ]
    },
    {
      "cell_type": "markdown",
      "source": [
        "### ***Przestrzeń klasyczna***"
      ],
      "metadata": {
        "id": "nQROhu9pa1J1"
      }
    },
    {
      "cell_type": "code",
      "source": [
        "# Jakie jest prawdopodobieństwo wyrzucenia liczby nieparzystej przy jednym rzucie kostką?\n",
        "\n",
        "omega = {1, 2, 3, 4, 5, 6} # Omega = Przestrzeń wyników zdarzeń rzutu kostką (1-6)\n",
        "A = {item for item in omega if item % 2 == 0} # A = przestrzeń zdarzeń gdzie wynik rzutu kostką to liczba parzysta (2, 4, 6)\n",
        "\n",
        "P_A = len(A) / len(omega) # \"P(A) = #{A}/n\" (gdzie n to długość zbioru/przestrzeni zdarzeń omega, a #{A} to ilość zdarzeń w przestrzeni A)\n",
        "print(f'Zbiór A: {A}')\n",
        "print(f'Prawdopodobieństwo zdarzenia A: {P_A}')"
      ],
      "metadata": {
        "colab": {
          "base_uri": "https://localhost:8080/"
        },
        "id": "GvDzOSIoWYkZ",
        "outputId": "8e0cf48a-5718-4284-a63e-67e9b1093258"
      },
      "execution_count": 32,
      "outputs": [
        {
          "output_type": "stream",
          "name": "stdout",
          "text": [
            "Zbiór A: {2, 4, 6}\n",
            "Prawdopodobieństwo zdarzenia A: 0.5\n"
          ]
        }
      ]
    },
    {
      "cell_type": "code",
      "source": [
        "# Jakie jest prawdopodobieństwo wyrzucenia liczby wyższej niż 4 przy jednym rzucie kostką?\n",
        "\n",
        "omega = {1, 2, 3, 4, 5, 6}\n",
        "B = {item for item in omega if item > 4}\n",
        "\n",
        "P_B = len(B) / len(omega)\n",
        "print(f'Zbiór B: {B}')\n",
        "print(f'Prawdopodobieństwo zdarzenia B: {P_B:.4f}')"
      ],
      "metadata": {
        "colab": {
          "base_uri": "https://localhost:8080/"
        },
        "id": "cpor1-1iY_Ah",
        "outputId": "71e86bf5-bf6c-4df7-97b1-91a278b7c34e"
      },
      "execution_count": 36,
      "outputs": [
        {
          "output_type": "stream",
          "name": "stdout",
          "text": [
            "Zbiór B: {5, 6}\n",
            "Prawdopodobieństwo zdarzenia B: 0.3333\n"
          ]
        }
      ]
    },
    {
      "cell_type": "code",
      "source": [
        "# Niezależność zdarzeń\n",
        "\n",
        "intersection_AB = set.intersection(A, B) # Zwraca listę wspólnych wartości A i B (6, czyli 1/6 zbioru)\n",
        "P_intersection_AB = len(intersection_AB) / len(omega) # Długość zbioru przez długość zbioru omega\n",
        "\n",
        "PA_PB = P_A * P_B # P(A) = 1/2, P(B) = 1/3, P(A) * P(B) = 1/6\n",
        "\n",
        "print(f'Przecięcie zbiorów A i B: {intersection_AB}\\n')\n",
        "print(f'Iloczyn prawdopodobieństw zdarzeń A i B: {PA_PB:.4f}')\n",
        "print(f'Prawdopodobieństwo iloczynu zdarzeń A i B: {P_intersection_AB:.4f}\\n') # Aby były niezależne, ta wartość i powyższa muszą być identyczne\n",
        "\n",
        "check = 'Zdarzenia niezależne' if PA_PB == P_intersection_AB else 'Zdarzenia zależne' # Jako że częścią wspólną zbioru jest 1/6, a PA_PB = 1/6, zdarzenie jest niezależne\n",
        "print(check)\n",
        "\n"
      ],
      "metadata": {
        "colab": {
          "base_uri": "https://localhost:8080/"
        },
        "id": "shA9US-2ydiD",
        "outputId": "a519c119-cab2-4d94-b778-041f46e617d2"
      },
      "execution_count": 34,
      "outputs": [
        {
          "output_type": "stream",
          "name": "stdout",
          "text": [
            "Przecięcie zbiorów A i B: {6}\n",
            "\n",
            "Iloczyn prawdopodobieństw zdarzeń A i B: 0.1667\n",
            "Prawdopodobieństwo iloczynu zdarzeń A i B: 0.1667\n",
            "\n",
            "Zdarzenia niezależne\n"
          ]
        }
      ]
    },
    {
      "cell_type": "code",
      "source": [
        "# Prawdopodobieństwo wyrzucenia oczek wiekszych niż 1\n",
        "C = {item for item in omega if item > 1}\n",
        "\n",
        "P_C = len(C) / len(omega)\n",
        "print(f'Zbiór C: {C}')\n",
        "print(f'Prawdopodobieństwo zdarzenia C: {P_C:.4f}')\n",
        "\n",
        "intersection_AC = set.intersection(A, C)\n",
        "P_intersection_AC = len(intersection_AC) / len(omega)\n",
        "\n",
        "PA_PC = P_A * P_C\n",
        "\n",
        "print(f'Przecięcie zbiorów A i C: {intersection_AC}\\n')\n",
        "print(f'Iloczyn prawdopodobieństw zdarzeń A i C: {PA_PC:.4f}')\n",
        "print(f'Prawdopodobieństwo iloczynu zdarzeń A i C: {P_intersection_AC:.4f}\\n')\n",
        "\n",
        "check = 'Zdarzenia niezależne' if PA_PC == P_intersection_AC else 'Zdarzenia zależne'\n",
        "print(check)"
      ],
      "metadata": {
        "colab": {
          "base_uri": "https://localhost:8080/"
        },
        "id": "Gieb_s700MJY",
        "outputId": "567553db-c204-42b1-f1a0-40b53b5f9f8d"
      },
      "execution_count": 35,
      "outputs": [
        {
          "output_type": "stream",
          "name": "stdout",
          "text": [
            "Zbiór C: {2, 3, 4, 5, 6}\n",
            "Prawdopodobieństwo zdarzenia C: 0.8333\n",
            "Przecięcie zbiorów A i C: {2, 4, 6}\n",
            "\n",
            "Iloczyn prawdopodobieństw zdarzeń A i C: 0.4167\n",
            "Prawdopodobieństwo iloczynu zdarzeń A i C: 0.5000\n",
            "\n",
            "Zdarzenia zależne\n"
          ]
        }
      ]
    },
    {
      "cell_type": "code",
      "source": [
        "# Prawdopodobieństwo warunkowe (conditional)\n",
        "\n",
        "# Jakie jest prawdopodobieństwo wylosowania liczby parzystej, pod warunkiem, że wylosowaliśmy liczbę większą niż 4?\n",
        "print(f'A: {A}')\n",
        "print(f'B: {B}')\n",
        "print(f'Przecięcie A i B: {intersection_AB}')\n",
        "\n",
        "PA_cond_B = P_intersection_AB / P_B\n",
        "\n",
        "print(f'Prawdopodobieństwo wynosi: {PA_cond_B}')"
      ],
      "metadata": {
        "colab": {
          "base_uri": "https://localhost:8080/"
        },
        "id": "sNNE2IIm2kow",
        "outputId": "11f57358-635b-4a9a-f930-310722b25ffb"
      },
      "execution_count": 42,
      "outputs": [
        {
          "output_type": "stream",
          "name": "stdout",
          "text": [
            "A: {2, 4, 6}\n",
            "B: {5, 6}\n",
            "Przecięcie A i B: {6}\n",
            "Prawdopodobieństwo wynosi: 0.5\n"
          ]
        }
      ]
    },
    {
      "cell_type": "markdown",
      "source": [
        "### Zmienna losowa"
      ],
      "metadata": {
        "id": "Vt-SRI7H7WC7"
      }
    },
    {
      "cell_type": "code",
      "source": [],
      "metadata": {
        "id": "4KbXKSY_7Yey"
      },
      "execution_count": null,
      "outputs": []
    }
  ]
}