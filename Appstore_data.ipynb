{
 "nbformat": 4,
 "nbformat_minor": 0,
 "metadata": {
  "colab": {
   "provenance": [],
   "authorship_tag": "ABX9TyOTh5juu9wS/eowTMukLA3K",
   "include_colab_link": true
  },
  "kernelspec": {
   "name": "python3",
   "language": "python",
   "display_name": "Python 3 (ipykernel)"
  },
  "language_info": {
   "name": "python"
  }
 },
 "cells": [
  {
   "cell_type": "markdown",
   "source": [
    "### Import bibliotek i ładowanie danych"
   ],
   "metadata": {
    "collapsed": false
   }
  },
  {
   "cell_type": "code",
   "execution_count": 1,
   "metadata": {
    "id": "4yyjQqhff1so",
    "ExecuteTime": {
     "end_time": "2024-02-07T14:58:09.436076900Z",
     "start_time": "2024-02-07T14:58:08.887196700Z"
    }
   },
   "outputs": [],
   "source": [
    "import pandas as pd"
   ]
  },
  {
   "cell_type": "code",
   "execution_count": 3,
   "outputs": [],
   "source": [
    "df_raw = pd.read_csv('appstore_games.csv') # Importujemy oryginalny plik"
   ],
   "metadata": {
    "collapsed": false,
    "ExecuteTime": {
     "end_time": "2024-02-07T14:58:57.505881500Z",
     "start_time": "2024-02-07T14:58:57.262509900Z"
    }
   }
  },
  {
   "cell_type": "code",
   "execution_count": 4,
   "outputs": [
    {
     "data": {
      "text/plain": "                                                 URL         ID  \\\n0   https://apps.apple.com/us/app/sudoku/id284921427  284921427   \n1  https://apps.apple.com/us/app/reversi/id284926400  284926400   \n2  https://apps.apple.com/us/app/morocco/id284946595  284946595   \n3  https://apps.apple.com/us/app/sudoku-free/id28...  285755462   \n4  https://apps.apple.com/us/app/senet-deluxe/id2...  285831220   \n\n            Name Subtitle                                           Icon URL  \\\n0         Sudoku      NaN  https://is2-ssl.mzstatic.com/image/thumb/Purpl...   \n1        Reversi      NaN  https://is4-ssl.mzstatic.com/image/thumb/Purpl...   \n2        Morocco      NaN  https://is5-ssl.mzstatic.com/image/thumb/Purpl...   \n3  Sudoku (Free)      NaN  https://is3-ssl.mzstatic.com/image/thumb/Purpl...   \n4   Senet Deluxe      NaN  https://is1-ssl.mzstatic.com/image/thumb/Purpl...   \n\n   Average User Rating  User Rating Count  Price In-app Purchases  \\\n0                  4.0             3553.0   2.99              NaN   \n1                  3.5              284.0   1.99              NaN   \n2                  3.0             8376.0   0.00              NaN   \n3                  3.5           190394.0   0.00              NaN   \n4                  3.5               28.0   2.99              NaN   \n\n                                         Description  \\\n0  Join over 21,000,000 of our fans and download ...   \n1  The classic game of Reversi, also known as Oth...   \n2  Play the classic strategy game Othello (also k...   \n3  Top 100 free app for over a year.\\nRated \"Best...   \n4  \"Senet Deluxe - The Ancient Game of Life and A...   \n\n                  Developer Age Rating  \\\n0  Mighty Mighty Good Games         4+   \n1          Kiss The Machine         4+   \n2               Bayou Games         4+   \n3  Mighty Mighty Good Games         4+   \n4           RoGame Software         4+   \n\n                                           Languages        Size  \\\n0  DA, NL, EN, FI, FR, DE, IT, JA, KO, NB, PL, PT...  15853568.0   \n1                                                 EN  12328960.0   \n2                                                 EN    674816.0   \n3  DA, NL, EN, FI, FR, DE, IT, JA, KO, NB, PL, PT...  21552128.0   \n4  DA, NL, EN, FR, DE, EL, IT, JA, KO, NO, PT, RU...  34689024.0   \n\n  Primary Genre                             Genres Original Release Date  \\\n0         Games            Games, Strategy, Puzzle            11/07/2008   \n1         Games             Games, Strategy, Board            11/07/2008   \n2         Games             Games, Board, Strategy            11/07/2008   \n3         Games            Games, Strategy, Puzzle            23/07/2008   \n4         Games  Games, Strategy, Board, Education            18/07/2008   \n\n  Current Version Release Date  \n0                   30/05/2017  \n1                   17/05/2018  \n2                    5/09/2017  \n3                   30/05/2017  \n4                   22/07/2018  ",
      "text/html": "<div>\n<style scoped>\n    .dataframe tbody tr th:only-of-type {\n        vertical-align: middle;\n    }\n\n    .dataframe tbody tr th {\n        vertical-align: top;\n    }\n\n    .dataframe thead th {\n        text-align: right;\n    }\n</style>\n<table border=\"1\" class=\"dataframe\">\n  <thead>\n    <tr style=\"text-align: right;\">\n      <th></th>\n      <th>URL</th>\n      <th>ID</th>\n      <th>Name</th>\n      <th>Subtitle</th>\n      <th>Icon URL</th>\n      <th>Average User Rating</th>\n      <th>User Rating Count</th>\n      <th>Price</th>\n      <th>In-app Purchases</th>\n      <th>Description</th>\n      <th>Developer</th>\n      <th>Age Rating</th>\n      <th>Languages</th>\n      <th>Size</th>\n      <th>Primary Genre</th>\n      <th>Genres</th>\n      <th>Original Release Date</th>\n      <th>Current Version Release Date</th>\n    </tr>\n  </thead>\n  <tbody>\n    <tr>\n      <th>0</th>\n      <td>https://apps.apple.com/us/app/sudoku/id284921427</td>\n      <td>284921427</td>\n      <td>Sudoku</td>\n      <td>NaN</td>\n      <td>https://is2-ssl.mzstatic.com/image/thumb/Purpl...</td>\n      <td>4.0</td>\n      <td>3553.0</td>\n      <td>2.99</td>\n      <td>NaN</td>\n      <td>Join over 21,000,000 of our fans and download ...</td>\n      <td>Mighty Mighty Good Games</td>\n      <td>4+</td>\n      <td>DA, NL, EN, FI, FR, DE, IT, JA, KO, NB, PL, PT...</td>\n      <td>15853568.0</td>\n      <td>Games</td>\n      <td>Games, Strategy, Puzzle</td>\n      <td>11/07/2008</td>\n      <td>30/05/2017</td>\n    </tr>\n    <tr>\n      <th>1</th>\n      <td>https://apps.apple.com/us/app/reversi/id284926400</td>\n      <td>284926400</td>\n      <td>Reversi</td>\n      <td>NaN</td>\n      <td>https://is4-ssl.mzstatic.com/image/thumb/Purpl...</td>\n      <td>3.5</td>\n      <td>284.0</td>\n      <td>1.99</td>\n      <td>NaN</td>\n      <td>The classic game of Reversi, also known as Oth...</td>\n      <td>Kiss The Machine</td>\n      <td>4+</td>\n      <td>EN</td>\n      <td>12328960.0</td>\n      <td>Games</td>\n      <td>Games, Strategy, Board</td>\n      <td>11/07/2008</td>\n      <td>17/05/2018</td>\n    </tr>\n    <tr>\n      <th>2</th>\n      <td>https://apps.apple.com/us/app/morocco/id284946595</td>\n      <td>284946595</td>\n      <td>Morocco</td>\n      <td>NaN</td>\n      <td>https://is5-ssl.mzstatic.com/image/thumb/Purpl...</td>\n      <td>3.0</td>\n      <td>8376.0</td>\n      <td>0.00</td>\n      <td>NaN</td>\n      <td>Play the classic strategy game Othello (also k...</td>\n      <td>Bayou Games</td>\n      <td>4+</td>\n      <td>EN</td>\n      <td>674816.0</td>\n      <td>Games</td>\n      <td>Games, Board, Strategy</td>\n      <td>11/07/2008</td>\n      <td>5/09/2017</td>\n    </tr>\n    <tr>\n      <th>3</th>\n      <td>https://apps.apple.com/us/app/sudoku-free/id28...</td>\n      <td>285755462</td>\n      <td>Sudoku (Free)</td>\n      <td>NaN</td>\n      <td>https://is3-ssl.mzstatic.com/image/thumb/Purpl...</td>\n      <td>3.5</td>\n      <td>190394.0</td>\n      <td>0.00</td>\n      <td>NaN</td>\n      <td>Top 100 free app for over a year.\\nRated \"Best...</td>\n      <td>Mighty Mighty Good Games</td>\n      <td>4+</td>\n      <td>DA, NL, EN, FI, FR, DE, IT, JA, KO, NB, PL, PT...</td>\n      <td>21552128.0</td>\n      <td>Games</td>\n      <td>Games, Strategy, Puzzle</td>\n      <td>23/07/2008</td>\n      <td>30/05/2017</td>\n    </tr>\n    <tr>\n      <th>4</th>\n      <td>https://apps.apple.com/us/app/senet-deluxe/id2...</td>\n      <td>285831220</td>\n      <td>Senet Deluxe</td>\n      <td>NaN</td>\n      <td>https://is1-ssl.mzstatic.com/image/thumb/Purpl...</td>\n      <td>3.5</td>\n      <td>28.0</td>\n      <td>2.99</td>\n      <td>NaN</td>\n      <td>\"Senet Deluxe - The Ancient Game of Life and A...</td>\n      <td>RoGame Software</td>\n      <td>4+</td>\n      <td>DA, NL, EN, FR, DE, EL, IT, JA, KO, NO, PT, RU...</td>\n      <td>34689024.0</td>\n      <td>Games</td>\n      <td>Games, Strategy, Board, Education</td>\n      <td>18/07/2008</td>\n      <td>22/07/2018</td>\n    </tr>\n  </tbody>\n</table>\n</div>"
     },
     "execution_count": 4,
     "metadata": {},
     "output_type": "execute_result"
    }
   ],
   "source": [
    "df_raw.head()"
   ],
   "metadata": {
    "collapsed": false,
    "ExecuteTime": {
     "end_time": "2024-02-07T14:59:01.882091500Z",
     "start_time": "2024-02-07T14:59:01.861318400Z"
    }
   }
  },
  {
   "cell_type": "code",
   "execution_count": 9,
   "outputs": [
    {
     "data": {
      "text/plain": "                                                 URL         ID  \\\n0   https://apps.apple.com/us/app/sudoku/id284921427  284921427   \n1  https://apps.apple.com/us/app/reversi/id284926400  284926400   \n2  https://apps.apple.com/us/app/morocco/id284946595  284946595   \n3  https://apps.apple.com/us/app/sudoku-free/id28...  285755462   \n4  https://apps.apple.com/us/app/senet-deluxe/id2...  285831220   \n5  https://apps.apple.com/us/app/sudoku-classic-n...  286210009   \n6  https://apps.apple.com/us/app/gravitation/id28...  286313771   \n7   https://apps.apple.com/us/app/colony/id286363959  286363959   \n8    https://apps.apple.com/us/app/carte/id286566987  286566987   \n9  https://apps.apple.com/us/app/barrels-o-fun/id...  286682679   \n\n                             Name                 Subtitle  \\\n0                          Sudoku                      NaN   \n1                         Reversi                      NaN   \n2                         Morocco                      NaN   \n3                   Sudoku (Free)                      NaN   \n4                    Senet Deluxe                      NaN   \n5  Sudoku - Classic number puzzle  Original brain training   \n6                     Gravitation                      NaN   \n7                          Colony                      NaN   \n8                           Carte                      NaN   \n9                \"Barrels O' Fun\"                      NaN   \n\n                                            Icon URL  Average User Rating  \\\n0  https://is2-ssl.mzstatic.com/image/thumb/Purpl...                  4.0   \n1  https://is4-ssl.mzstatic.com/image/thumb/Purpl...                  3.5   \n2  https://is5-ssl.mzstatic.com/image/thumb/Purpl...                  3.0   \n3  https://is3-ssl.mzstatic.com/image/thumb/Purpl...                  3.5   \n4  https://is1-ssl.mzstatic.com/image/thumb/Purpl...                  3.5   \n5  https://is1-ssl.mzstatic.com/image/thumb/Purpl...                  3.0   \n6  https://is5-ssl.mzstatic.com/image/thumb/Purpl...                  2.5   \n7  https://is5-ssl.mzstatic.com/image/thumb/Purpl...                  2.5   \n8  https://is3-ssl.mzstatic.com/image/thumb/Purpl...                  2.5   \n9  https://is4-ssl.mzstatic.com/image/thumb/Purpl...                  2.5   \n\n   User Rating Count  Price In-app Purchases  \\\n0             3553.0   2.99              NaN   \n1              284.0   1.99              NaN   \n2             8376.0   0.00              NaN   \n3           190394.0   0.00              NaN   \n4               28.0   2.99              NaN   \n5               47.0   0.00             1.99   \n6               35.0   0.00              NaN   \n7              125.0   0.99              NaN   \n8               44.0   0.00              NaN   \n9              184.0   0.00              NaN   \n\n                                         Description  \\\n0  Join over 21,000,000 of our fans and download ...   \n1  The classic game of Reversi, also known as Oth...   \n2  Play the classic strategy game Othello (also k...   \n3  Top 100 free app for over a year.\\nRated \"Best...   \n4  \"Senet Deluxe - The Ancient Game of Life and A...   \n5  Sudoku will tease your brain, challenge you or...   \n6  \"Gravitation is a new implementation of the pu...   \n7  \"50 levels of addictive puzzling strategy fun!...   \n8  \"Jeu simple qui consiste \\xe0 trouver comment ...   \n9  Barrels O\\u2019 Fun is a simple but challengin...   \n\n                  Developer Age Rating  \\\n0  Mighty Mighty Good Games         4+   \n1          Kiss The Machine         4+   \n2               Bayou Games         4+   \n3  Mighty Mighty Good Games         4+   \n4           RoGame Software         4+   \n5           OutOfTheBit Ltd         4+   \n6             Robert Farnum         4+   \n7              Chris Haynes         4+   \n8      Jean-Francois Pautex         4+   \n9                  BesqWare         4+   \n\n                                           Languages        Size  \\\n0  DA, NL, EN, FI, FR, DE, IT, JA, KO, NB, PL, PT...  15853568.0   \n1                                                 EN  12328960.0   \n2                                                 EN    674816.0   \n3  DA, NL, EN, FI, FR, DE, IT, JA, KO, NB, PL, PT...  21552128.0   \n4  DA, NL, EN, FR, DE, EL, IT, JA, KO, NO, PT, RU...  34689024.0   \n5                                                 EN  48672768.0   \n6                                                NaN   6328320.0   \n7                                                 EN  64333824.0   \n8                                                 FR   2657280.0   \n9                                                 EN   1466515.0   \n\n  Primary Genre                                  Genres Original Release Date  \\\n0         Games                 Games, Strategy, Puzzle            11/07/2008   \n1         Games                  Games, Strategy, Board            11/07/2008   \n2         Games                  Games, Board, Strategy            11/07/2008   \n3         Games                 Games, Strategy, Puzzle            23/07/2008   \n4         Games       Games, Strategy, Board, Education            18/07/2008   \n5         Games  Games, Entertainment, Strategy, Puzzle            30/07/2008   \n6         Games  Games, Entertainment, Puzzle, Strategy            30/07/2008   \n7         Games                  Games, Strategy, Board             3/08/2008   \n8         Games   Games, Strategy, Board, Entertainment             3/08/2008   \n9         Games                 Games, Casual, Strategy             1/08/2008   \n\n  Current Version Release Date  \n0                   30/05/2017  \n1                   17/05/2018  \n2                    5/09/2017  \n3                   30/05/2017  \n4                   22/07/2018  \n5                   29/04/2019  \n6                   14/11/2013  \n7                    3/10/2018  \n8                   23/11/2017  \n9                    1/08/2008  ",
      "text/html": "<div>\n<style scoped>\n    .dataframe tbody tr th:only-of-type {\n        vertical-align: middle;\n    }\n\n    .dataframe tbody tr th {\n        vertical-align: top;\n    }\n\n    .dataframe thead th {\n        text-align: right;\n    }\n</style>\n<table border=\"1\" class=\"dataframe\">\n  <thead>\n    <tr style=\"text-align: right;\">\n      <th></th>\n      <th>URL</th>\n      <th>ID</th>\n      <th>Name</th>\n      <th>Subtitle</th>\n      <th>Icon URL</th>\n      <th>Average User Rating</th>\n      <th>User Rating Count</th>\n      <th>Price</th>\n      <th>In-app Purchases</th>\n      <th>Description</th>\n      <th>Developer</th>\n      <th>Age Rating</th>\n      <th>Languages</th>\n      <th>Size</th>\n      <th>Primary Genre</th>\n      <th>Genres</th>\n      <th>Original Release Date</th>\n      <th>Current Version Release Date</th>\n    </tr>\n  </thead>\n  <tbody>\n    <tr>\n      <th>0</th>\n      <td>https://apps.apple.com/us/app/sudoku/id284921427</td>\n      <td>284921427</td>\n      <td>Sudoku</td>\n      <td>NaN</td>\n      <td>https://is2-ssl.mzstatic.com/image/thumb/Purpl...</td>\n      <td>4.0</td>\n      <td>3553.0</td>\n      <td>2.99</td>\n      <td>NaN</td>\n      <td>Join over 21,000,000 of our fans and download ...</td>\n      <td>Mighty Mighty Good Games</td>\n      <td>4+</td>\n      <td>DA, NL, EN, FI, FR, DE, IT, JA, KO, NB, PL, PT...</td>\n      <td>15853568.0</td>\n      <td>Games</td>\n      <td>Games, Strategy, Puzzle</td>\n      <td>11/07/2008</td>\n      <td>30/05/2017</td>\n    </tr>\n    <tr>\n      <th>1</th>\n      <td>https://apps.apple.com/us/app/reversi/id284926400</td>\n      <td>284926400</td>\n      <td>Reversi</td>\n      <td>NaN</td>\n      <td>https://is4-ssl.mzstatic.com/image/thumb/Purpl...</td>\n      <td>3.5</td>\n      <td>284.0</td>\n      <td>1.99</td>\n      <td>NaN</td>\n      <td>The classic game of Reversi, also known as Oth...</td>\n      <td>Kiss The Machine</td>\n      <td>4+</td>\n      <td>EN</td>\n      <td>12328960.0</td>\n      <td>Games</td>\n      <td>Games, Strategy, Board</td>\n      <td>11/07/2008</td>\n      <td>17/05/2018</td>\n    </tr>\n    <tr>\n      <th>2</th>\n      <td>https://apps.apple.com/us/app/morocco/id284946595</td>\n      <td>284946595</td>\n      <td>Morocco</td>\n      <td>NaN</td>\n      <td>https://is5-ssl.mzstatic.com/image/thumb/Purpl...</td>\n      <td>3.0</td>\n      <td>8376.0</td>\n      <td>0.00</td>\n      <td>NaN</td>\n      <td>Play the classic strategy game Othello (also k...</td>\n      <td>Bayou Games</td>\n      <td>4+</td>\n      <td>EN</td>\n      <td>674816.0</td>\n      <td>Games</td>\n      <td>Games, Board, Strategy</td>\n      <td>11/07/2008</td>\n      <td>5/09/2017</td>\n    </tr>\n    <tr>\n      <th>3</th>\n      <td>https://apps.apple.com/us/app/sudoku-free/id28...</td>\n      <td>285755462</td>\n      <td>Sudoku (Free)</td>\n      <td>NaN</td>\n      <td>https://is3-ssl.mzstatic.com/image/thumb/Purpl...</td>\n      <td>3.5</td>\n      <td>190394.0</td>\n      <td>0.00</td>\n      <td>NaN</td>\n      <td>Top 100 free app for over a year.\\nRated \"Best...</td>\n      <td>Mighty Mighty Good Games</td>\n      <td>4+</td>\n      <td>DA, NL, EN, FI, FR, DE, IT, JA, KO, NB, PL, PT...</td>\n      <td>21552128.0</td>\n      <td>Games</td>\n      <td>Games, Strategy, Puzzle</td>\n      <td>23/07/2008</td>\n      <td>30/05/2017</td>\n    </tr>\n    <tr>\n      <th>4</th>\n      <td>https://apps.apple.com/us/app/senet-deluxe/id2...</td>\n      <td>285831220</td>\n      <td>Senet Deluxe</td>\n      <td>NaN</td>\n      <td>https://is1-ssl.mzstatic.com/image/thumb/Purpl...</td>\n      <td>3.5</td>\n      <td>28.0</td>\n      <td>2.99</td>\n      <td>NaN</td>\n      <td>\"Senet Deluxe - The Ancient Game of Life and A...</td>\n      <td>RoGame Software</td>\n      <td>4+</td>\n      <td>DA, NL, EN, FR, DE, EL, IT, JA, KO, NO, PT, RU...</td>\n      <td>34689024.0</td>\n      <td>Games</td>\n      <td>Games, Strategy, Board, Education</td>\n      <td>18/07/2008</td>\n      <td>22/07/2018</td>\n    </tr>\n    <tr>\n      <th>5</th>\n      <td>https://apps.apple.com/us/app/sudoku-classic-n...</td>\n      <td>286210009</td>\n      <td>Sudoku - Classic number puzzle</td>\n      <td>Original brain training</td>\n      <td>https://is1-ssl.mzstatic.com/image/thumb/Purpl...</td>\n      <td>3.0</td>\n      <td>47.0</td>\n      <td>0.00</td>\n      <td>1.99</td>\n      <td>Sudoku will tease your brain, challenge you or...</td>\n      <td>OutOfTheBit Ltd</td>\n      <td>4+</td>\n      <td>EN</td>\n      <td>48672768.0</td>\n      <td>Games</td>\n      <td>Games, Entertainment, Strategy, Puzzle</td>\n      <td>30/07/2008</td>\n      <td>29/04/2019</td>\n    </tr>\n    <tr>\n      <th>6</th>\n      <td>https://apps.apple.com/us/app/gravitation/id28...</td>\n      <td>286313771</td>\n      <td>Gravitation</td>\n      <td>NaN</td>\n      <td>https://is5-ssl.mzstatic.com/image/thumb/Purpl...</td>\n      <td>2.5</td>\n      <td>35.0</td>\n      <td>0.00</td>\n      <td>NaN</td>\n      <td>\"Gravitation is a new implementation of the pu...</td>\n      <td>Robert Farnum</td>\n      <td>4+</td>\n      <td>NaN</td>\n      <td>6328320.0</td>\n      <td>Games</td>\n      <td>Games, Entertainment, Puzzle, Strategy</td>\n      <td>30/07/2008</td>\n      <td>14/11/2013</td>\n    </tr>\n    <tr>\n      <th>7</th>\n      <td>https://apps.apple.com/us/app/colony/id286363959</td>\n      <td>286363959</td>\n      <td>Colony</td>\n      <td>NaN</td>\n      <td>https://is5-ssl.mzstatic.com/image/thumb/Purpl...</td>\n      <td>2.5</td>\n      <td>125.0</td>\n      <td>0.99</td>\n      <td>NaN</td>\n      <td>\"50 levels of addictive puzzling strategy fun!...</td>\n      <td>Chris Haynes</td>\n      <td>4+</td>\n      <td>EN</td>\n      <td>64333824.0</td>\n      <td>Games</td>\n      <td>Games, Strategy, Board</td>\n      <td>3/08/2008</td>\n      <td>3/10/2018</td>\n    </tr>\n    <tr>\n      <th>8</th>\n      <td>https://apps.apple.com/us/app/carte/id286566987</td>\n      <td>286566987</td>\n      <td>Carte</td>\n      <td>NaN</td>\n      <td>https://is3-ssl.mzstatic.com/image/thumb/Purpl...</td>\n      <td>2.5</td>\n      <td>44.0</td>\n      <td>0.00</td>\n      <td>NaN</td>\n      <td>\"Jeu simple qui consiste \\xe0 trouver comment ...</td>\n      <td>Jean-Francois Pautex</td>\n      <td>4+</td>\n      <td>FR</td>\n      <td>2657280.0</td>\n      <td>Games</td>\n      <td>Games, Strategy, Board, Entertainment</td>\n      <td>3/08/2008</td>\n      <td>23/11/2017</td>\n    </tr>\n    <tr>\n      <th>9</th>\n      <td>https://apps.apple.com/us/app/barrels-o-fun/id...</td>\n      <td>286682679</td>\n      <td>\"Barrels O' Fun\"</td>\n      <td>NaN</td>\n      <td>https://is4-ssl.mzstatic.com/image/thumb/Purpl...</td>\n      <td>2.5</td>\n      <td>184.0</td>\n      <td>0.00</td>\n      <td>NaN</td>\n      <td>Barrels O\\u2019 Fun is a simple but challengin...</td>\n      <td>BesqWare</td>\n      <td>4+</td>\n      <td>EN</td>\n      <td>1466515.0</td>\n      <td>Games</td>\n      <td>Games, Casual, Strategy</td>\n      <td>1/08/2008</td>\n      <td>1/08/2008</td>\n    </tr>\n  </tbody>\n</table>\n</div>"
     },
     "execution_count": 9,
     "metadata": {},
     "output_type": "execute_result"
    }
   ],
   "source": [
    "df_raw.head(10)"
   ],
   "metadata": {
    "collapsed": false,
    "ExecuteTime": {
     "end_time": "2024-02-07T15:38:29.495643900Z",
     "start_time": "2024-02-07T15:38:29.470655200Z"
    }
   }
  },
  {
   "cell_type": "code",
   "execution_count": 11,
   "outputs": [
    {
     "data": {
      "text/plain": "Index(['URL', 'ID', 'Name', 'Subtitle', 'Icon URL', 'Average User Rating',\n       'User Rating Count', 'Price', 'In-app Purchases', 'Description',\n       'Developer', 'Age Rating', 'Languages', 'Size', 'Primary Genre',\n       'Genres', 'Original Release Date', 'Current Version Release Date'],\n      dtype='object')"
     },
     "execution_count": 11,
     "metadata": {},
     "output_type": "execute_result"
    }
   ],
   "source": [
    "df_raw.columns"
   ],
   "metadata": {
    "collapsed": false,
    "ExecuteTime": {
     "end_time": "2024-02-07T16:15:26.880986800Z",
     "start_time": "2024-02-07T16:15:26.870466800Z"
    }
   }
  },
  {
   "cell_type": "markdown",
   "source": [
    "### Standaryzacja danych"
   ],
   "metadata": {
    "collapsed": false
   }
  },
  {
   "cell_type": "code",
   "execution_count": 12,
   "outputs": [
    {
     "name": "stdout",
     "output_type": "stream",
     "text": [
      "<class 'pandas.core.frame.DataFrame'>\n",
      "RangeIndex: 17007 entries, 0 to 17006\n",
      "Data columns (total 18 columns):\n",
      " #   Column                        Non-Null Count  Dtype  \n",
      "---  ------                        --------------  -----  \n",
      " 0   URL                           17007 non-null  object \n",
      " 1   ID                            17007 non-null  int64  \n",
      " 2   Name                          17007 non-null  object \n",
      " 3   Subtitle                      5261 non-null   object \n",
      " 4   Icon URL                      17007 non-null  object \n",
      " 5   Average User Rating           7561 non-null   float64\n",
      " 6   User Rating Count             7561 non-null   float64\n",
      " 7   Price                         16983 non-null  float64\n",
      " 8   In-app Purchases              7683 non-null   object \n",
      " 9   Description                   17007 non-null  object \n",
      " 10  Developer                     17007 non-null  object \n",
      " 11  Age Rating                    17007 non-null  object \n",
      " 12  Languages                     16947 non-null  object \n",
      " 13  Size                          17006 non-null  float64\n",
      " 14  Primary Genre                 17007 non-null  object \n",
      " 15  Genres                        17007 non-null  object \n",
      " 16  Original Release Date         17007 non-null  object \n",
      " 17  Current Version Release Date  17007 non-null  object \n",
      "dtypes: float64(4), int64(1), object(13)\n",
      "memory usage: 2.3+ MB\n"
     ]
    }
   ],
   "source": [
    "df = df_raw.copy() # tworzymy kopię danych\n",
    "df.info()"
   ],
   "metadata": {
    "collapsed": false,
    "ExecuteTime": {
     "end_time": "2024-02-07T16:15:38.798615400Z",
     "start_time": "2024-02-07T16:15:38.760636900Z"
    }
   }
  },
  {
   "cell_type": "code",
   "execution_count": 13,
   "outputs": [
    {
     "data": {
      "text/plain": "          ID           Name  Average User Rating  User Rating Count  Price  \\\n0  284921427         Sudoku                  4.0             3553.0   2.99   \n1  284926400        Reversi                  3.5              284.0   1.99   \n2  284946595        Morocco                  3.0             8376.0   0.00   \n3  285755462  Sudoku (Free)                  3.5           190394.0   0.00   \n4  285831220   Senet Deluxe                  3.5               28.0   2.99   \n\n                  Developer Age Rating  \\\n0  Mighty Mighty Good Games         4+   \n1          Kiss The Machine         4+   \n2               Bayou Games         4+   \n3  Mighty Mighty Good Games         4+   \n4           RoGame Software         4+   \n\n                                           Languages        Size  \\\n0  DA, NL, EN, FI, FR, DE, IT, JA, KO, NB, PL, PT...  15853568.0   \n1                                                 EN  12328960.0   \n2                                                 EN    674816.0   \n3  DA, NL, EN, FI, FR, DE, IT, JA, KO, NB, PL, PT...  21552128.0   \n4  DA, NL, EN, FR, DE, EL, IT, JA, KO, NO, PT, RU...  34689024.0   \n\n  Primary Genre                             Genres Original Release Date  \\\n0         Games            Games, Strategy, Puzzle            11/07/2008   \n1         Games             Games, Strategy, Board            11/07/2008   \n2         Games             Games, Board, Strategy            11/07/2008   \n3         Games            Games, Strategy, Puzzle            23/07/2008   \n4         Games  Games, Strategy, Board, Education            18/07/2008   \n\n  Current Version Release Date  \n0                   30/05/2017  \n1                   17/05/2018  \n2                    5/09/2017  \n3                   30/05/2017  \n4                   22/07/2018  ",
      "text/html": "<div>\n<style scoped>\n    .dataframe tbody tr th:only-of-type {\n        vertical-align: middle;\n    }\n\n    .dataframe tbody tr th {\n        vertical-align: top;\n    }\n\n    .dataframe thead th {\n        text-align: right;\n    }\n</style>\n<table border=\"1\" class=\"dataframe\">\n  <thead>\n    <tr style=\"text-align: right;\">\n      <th></th>\n      <th>ID</th>\n      <th>Name</th>\n      <th>Average User Rating</th>\n      <th>User Rating Count</th>\n      <th>Price</th>\n      <th>Developer</th>\n      <th>Age Rating</th>\n      <th>Languages</th>\n      <th>Size</th>\n      <th>Primary Genre</th>\n      <th>Genres</th>\n      <th>Original Release Date</th>\n      <th>Current Version Release Date</th>\n    </tr>\n  </thead>\n  <tbody>\n    <tr>\n      <th>0</th>\n      <td>284921427</td>\n      <td>Sudoku</td>\n      <td>4.0</td>\n      <td>3553.0</td>\n      <td>2.99</td>\n      <td>Mighty Mighty Good Games</td>\n      <td>4+</td>\n      <td>DA, NL, EN, FI, FR, DE, IT, JA, KO, NB, PL, PT...</td>\n      <td>15853568.0</td>\n      <td>Games</td>\n      <td>Games, Strategy, Puzzle</td>\n      <td>11/07/2008</td>\n      <td>30/05/2017</td>\n    </tr>\n    <tr>\n      <th>1</th>\n      <td>284926400</td>\n      <td>Reversi</td>\n      <td>3.5</td>\n      <td>284.0</td>\n      <td>1.99</td>\n      <td>Kiss The Machine</td>\n      <td>4+</td>\n      <td>EN</td>\n      <td>12328960.0</td>\n      <td>Games</td>\n      <td>Games, Strategy, Board</td>\n      <td>11/07/2008</td>\n      <td>17/05/2018</td>\n    </tr>\n    <tr>\n      <th>2</th>\n      <td>284946595</td>\n      <td>Morocco</td>\n      <td>3.0</td>\n      <td>8376.0</td>\n      <td>0.00</td>\n      <td>Bayou Games</td>\n      <td>4+</td>\n      <td>EN</td>\n      <td>674816.0</td>\n      <td>Games</td>\n      <td>Games, Board, Strategy</td>\n      <td>11/07/2008</td>\n      <td>5/09/2017</td>\n    </tr>\n    <tr>\n      <th>3</th>\n      <td>285755462</td>\n      <td>Sudoku (Free)</td>\n      <td>3.5</td>\n      <td>190394.0</td>\n      <td>0.00</td>\n      <td>Mighty Mighty Good Games</td>\n      <td>4+</td>\n      <td>DA, NL, EN, FI, FR, DE, IT, JA, KO, NB, PL, PT...</td>\n      <td>21552128.0</td>\n      <td>Games</td>\n      <td>Games, Strategy, Puzzle</td>\n      <td>23/07/2008</td>\n      <td>30/05/2017</td>\n    </tr>\n    <tr>\n      <th>4</th>\n      <td>285831220</td>\n      <td>Senet Deluxe</td>\n      <td>3.5</td>\n      <td>28.0</td>\n      <td>2.99</td>\n      <td>RoGame Software</td>\n      <td>4+</td>\n      <td>DA, NL, EN, FR, DE, EL, IT, JA, KO, NO, PT, RU...</td>\n      <td>34689024.0</td>\n      <td>Games</td>\n      <td>Games, Strategy, Board, Education</td>\n      <td>18/07/2008</td>\n      <td>22/07/2018</td>\n    </tr>\n  </tbody>\n</table>\n</div>"
     },
     "execution_count": 13,
     "metadata": {},
     "output_type": "execute_result"
    }
   ],
   "source": [
    "df = df.drop(columns=['URL', 'Icon URL', 'Subtitle', 'Description', 'In-app Purchases'])\n",
    "df.head() # Usuwamy niepotrzebne kolumny "
   ],
   "metadata": {
    "collapsed": false,
    "ExecuteTime": {
     "end_time": "2024-02-07T16:17:37.466343500Z",
     "start_time": "2024-02-07T16:17:37.456875100Z"
    }
   }
  },
  {
   "cell_type": "code",
   "execution_count": 16,
   "outputs": [
    {
     "ename": "KeyError",
     "evalue": "\"None of ['ID'] are in the columns\"",
     "output_type": "error",
     "traceback": [
      "\u001B[1;31m---------------------------------------------------------------------------\u001B[0m",
      "\u001B[1;31mKeyError\u001B[0m                                  Traceback (most recent call last)",
      "Cell \u001B[1;32mIn[16], line 1\u001B[0m\n\u001B[1;32m----> 1\u001B[0m df \u001B[38;5;241m=\u001B[39m df\u001B[38;5;241m.\u001B[39mset_index(\u001B[38;5;124m'\u001B[39m\u001B[38;5;124mID\u001B[39m\u001B[38;5;124m'\u001B[39m)\n\u001B[0;32m      2\u001B[0m df\u001B[38;5;241m.\u001B[39mhead()\n",
      "File \u001B[1;32m~\\anaconda3\\Lib\\site-packages\\pandas\\core\\frame.py:5859\u001B[0m, in \u001B[0;36mDataFrame.set_index\u001B[1;34m(self, keys, drop, append, inplace, verify_integrity)\u001B[0m\n\u001B[0;32m   5856\u001B[0m                 missing\u001B[38;5;241m.\u001B[39mappend(col)\n\u001B[0;32m   5858\u001B[0m \u001B[38;5;28;01mif\u001B[39;00m missing:\n\u001B[1;32m-> 5859\u001B[0m     \u001B[38;5;28;01mraise\u001B[39;00m \u001B[38;5;167;01mKeyError\u001B[39;00m(\u001B[38;5;124mf\u001B[39m\u001B[38;5;124m\"\u001B[39m\u001B[38;5;124mNone of \u001B[39m\u001B[38;5;132;01m{\u001B[39;00mmissing\u001B[38;5;132;01m}\u001B[39;00m\u001B[38;5;124m are in the columns\u001B[39m\u001B[38;5;124m\"\u001B[39m)\n\u001B[0;32m   5861\u001B[0m \u001B[38;5;28;01mif\u001B[39;00m inplace:\n\u001B[0;32m   5862\u001B[0m     frame \u001B[38;5;241m=\u001B[39m \u001B[38;5;28mself\u001B[39m\n",
      "\u001B[1;31mKeyError\u001B[0m: \"None of ['ID'] are in the columns\""
     ]
    }
   ],
   "source": [
    "df = df.set_index('ID')\n",
    "df.head() # Nadajemy indeks kolumnie"
   ],
   "metadata": {
    "collapsed": false,
    "ExecuteTime": {
     "end_time": "2024-02-07T16:20:16.567808Z",
     "start_time": "2024-02-07T16:20:16.538424200Z"
    }
   }
  },
  {
   "cell_type": "code",
   "execution_count": 17,
   "outputs": [
    {
     "data": {
      "text/plain": "                                 Name  Average User Rating  User Rating Count  \\\nID                                                                              \n284921427                      Sudoku                  4.0             3553.0   \n284926400                     Reversi                  3.5              284.0   \n284946595                     Morocco                  3.0             8376.0   \n285755462               Sudoku (Free)                  3.5           190394.0   \n285831220                Senet Deluxe                  3.5               28.0   \n...                               ...                  ...                ...   \n1474626442  Stack Puzzle : Rise Tower                  NaN                NaN   \n1474919257                  EachOther                  NaN                NaN   \n1474962324         Rabbit Vs Tortoise                  NaN                NaN   \n1474963671                     FaTaLL                  NaN                NaN   \n1475076711   The Three Kingdoms :Bomb                  NaN                NaN   \n\n            Price                 Developer Age Rating  \\\nID                                                       \n284921427    2.99  Mighty Mighty Good Games         4+   \n284926400    1.99          Kiss The Machine         4+   \n284946595    0.00               Bayou Games         4+   \n285755462    0.00  Mighty Mighty Good Games         4+   \n285831220    2.99           RoGame Software         4+   \n...           ...                       ...        ...   \n1474626442   0.00               Zhigang Pei         4+   \n1474919257   0.00             Sultan Shindi         4+   \n1474962324   0.00             Vishal Baldha         4+   \n1474963671   0.00              Tayrem Games         4+   \n1475076711   0.00              ming bo tang         4+   \n\n                                                    Languages         Size  \\\nID                                                                           \n284921427   DA, NL, EN, FI, FR, DE, IT, JA, KO, NB, PL, PT...   15853568.0   \n284926400                                                  EN   12328960.0   \n284946595                                                  EN     674816.0   \n285755462   DA, NL, EN, FI, FR, DE, IT, JA, KO, NB, PL, PT...   21552128.0   \n285831220   DA, NL, EN, FR, DE, EL, IT, JA, KO, NO, PT, RU...   34689024.0   \n...                                                       ...          ...   \n1474626442                                                 EN   64795648.0   \n1474919257                                                 EN  110341120.0   \n1474962324                                                 EN   23207936.0   \n1474963671                                                 EN  196750336.0   \n1475076711                                             EN, ZH   22952960.0   \n\n           Primary Genre                                  Genres  \\\nID                                                                 \n284921427          Games                 Games, Strategy, Puzzle   \n284926400          Games                  Games, Strategy, Board   \n284946595          Games                  Games, Board, Strategy   \n285755462          Games                 Games, Strategy, Puzzle   \n285831220          Games       Games, Strategy, Board, Education   \n...                  ...                                     ...   \n1474626442         Games  Games, Entertainment, Casual, Strategy   \n1474919257         Games                 Games, Family, Strategy   \n1474962324         Games                         Games, Strategy   \n1474963671         Games                 Games, Strategy, Action   \n1475076711         Games                 Games, Strategy, Puzzle   \n\n           Original Release Date Current Version Release Date  \nID                                                             \n284921427             11/07/2008                   30/05/2017  \n284926400             11/07/2008                   17/05/2018  \n284946595             11/07/2008                    5/09/2017  \n285755462             23/07/2008                   30/05/2017  \n285831220             18/07/2008                   22/07/2018  \n...                          ...                          ...  \n1474626442            30/07/2019                   30/07/2019  \n1474919257             1/08/2019                    1/08/2019  \n1474962324             3/08/2019                    3/08/2019  \n1474963671             1/08/2019                    1/08/2019  \n1475076711             2/08/2019                    2/08/2019  \n\n[17007 rows x 12 columns]",
      "text/html": "<div>\n<style scoped>\n    .dataframe tbody tr th:only-of-type {\n        vertical-align: middle;\n    }\n\n    .dataframe tbody tr th {\n        vertical-align: top;\n    }\n\n    .dataframe thead th {\n        text-align: right;\n    }\n</style>\n<table border=\"1\" class=\"dataframe\">\n  <thead>\n    <tr style=\"text-align: right;\">\n      <th></th>\n      <th>Name</th>\n      <th>Average User Rating</th>\n      <th>User Rating Count</th>\n      <th>Price</th>\n      <th>Developer</th>\n      <th>Age Rating</th>\n      <th>Languages</th>\n      <th>Size</th>\n      <th>Primary Genre</th>\n      <th>Genres</th>\n      <th>Original Release Date</th>\n      <th>Current Version Release Date</th>\n    </tr>\n    <tr>\n      <th>ID</th>\n      <th></th>\n      <th></th>\n      <th></th>\n      <th></th>\n      <th></th>\n      <th></th>\n      <th></th>\n      <th></th>\n      <th></th>\n      <th></th>\n      <th></th>\n      <th></th>\n    </tr>\n  </thead>\n  <tbody>\n    <tr>\n      <th>284921427</th>\n      <td>Sudoku</td>\n      <td>4.0</td>\n      <td>3553.0</td>\n      <td>2.99</td>\n      <td>Mighty Mighty Good Games</td>\n      <td>4+</td>\n      <td>DA, NL, EN, FI, FR, DE, IT, JA, KO, NB, PL, PT...</td>\n      <td>15853568.0</td>\n      <td>Games</td>\n      <td>Games, Strategy, Puzzle</td>\n      <td>11/07/2008</td>\n      <td>30/05/2017</td>\n    </tr>\n    <tr>\n      <th>284926400</th>\n      <td>Reversi</td>\n      <td>3.5</td>\n      <td>284.0</td>\n      <td>1.99</td>\n      <td>Kiss The Machine</td>\n      <td>4+</td>\n      <td>EN</td>\n      <td>12328960.0</td>\n      <td>Games</td>\n      <td>Games, Strategy, Board</td>\n      <td>11/07/2008</td>\n      <td>17/05/2018</td>\n    </tr>\n    <tr>\n      <th>284946595</th>\n      <td>Morocco</td>\n      <td>3.0</td>\n      <td>8376.0</td>\n      <td>0.00</td>\n      <td>Bayou Games</td>\n      <td>4+</td>\n      <td>EN</td>\n      <td>674816.0</td>\n      <td>Games</td>\n      <td>Games, Board, Strategy</td>\n      <td>11/07/2008</td>\n      <td>5/09/2017</td>\n    </tr>\n    <tr>\n      <th>285755462</th>\n      <td>Sudoku (Free)</td>\n      <td>3.5</td>\n      <td>190394.0</td>\n      <td>0.00</td>\n      <td>Mighty Mighty Good Games</td>\n      <td>4+</td>\n      <td>DA, NL, EN, FI, FR, DE, IT, JA, KO, NB, PL, PT...</td>\n      <td>21552128.0</td>\n      <td>Games</td>\n      <td>Games, Strategy, Puzzle</td>\n      <td>23/07/2008</td>\n      <td>30/05/2017</td>\n    </tr>\n    <tr>\n      <th>285831220</th>\n      <td>Senet Deluxe</td>\n      <td>3.5</td>\n      <td>28.0</td>\n      <td>2.99</td>\n      <td>RoGame Software</td>\n      <td>4+</td>\n      <td>DA, NL, EN, FR, DE, EL, IT, JA, KO, NO, PT, RU...</td>\n      <td>34689024.0</td>\n      <td>Games</td>\n      <td>Games, Strategy, Board, Education</td>\n      <td>18/07/2008</td>\n      <td>22/07/2018</td>\n    </tr>\n    <tr>\n      <th>...</th>\n      <td>...</td>\n      <td>...</td>\n      <td>...</td>\n      <td>...</td>\n      <td>...</td>\n      <td>...</td>\n      <td>...</td>\n      <td>...</td>\n      <td>...</td>\n      <td>...</td>\n      <td>...</td>\n      <td>...</td>\n    </tr>\n    <tr>\n      <th>1474626442</th>\n      <td>Stack Puzzle : Rise Tower</td>\n      <td>NaN</td>\n      <td>NaN</td>\n      <td>0.00</td>\n      <td>Zhigang Pei</td>\n      <td>4+</td>\n      <td>EN</td>\n      <td>64795648.0</td>\n      <td>Games</td>\n      <td>Games, Entertainment, Casual, Strategy</td>\n      <td>30/07/2019</td>\n      <td>30/07/2019</td>\n    </tr>\n    <tr>\n      <th>1474919257</th>\n      <td>EachOther</td>\n      <td>NaN</td>\n      <td>NaN</td>\n      <td>0.00</td>\n      <td>Sultan Shindi</td>\n      <td>4+</td>\n      <td>EN</td>\n      <td>110341120.0</td>\n      <td>Games</td>\n      <td>Games, Family, Strategy</td>\n      <td>1/08/2019</td>\n      <td>1/08/2019</td>\n    </tr>\n    <tr>\n      <th>1474962324</th>\n      <td>Rabbit Vs Tortoise</td>\n      <td>NaN</td>\n      <td>NaN</td>\n      <td>0.00</td>\n      <td>Vishal Baldha</td>\n      <td>4+</td>\n      <td>EN</td>\n      <td>23207936.0</td>\n      <td>Games</td>\n      <td>Games, Strategy</td>\n      <td>3/08/2019</td>\n      <td>3/08/2019</td>\n    </tr>\n    <tr>\n      <th>1474963671</th>\n      <td>FaTaLL</td>\n      <td>NaN</td>\n      <td>NaN</td>\n      <td>0.00</td>\n      <td>Tayrem Games</td>\n      <td>4+</td>\n      <td>EN</td>\n      <td>196750336.0</td>\n      <td>Games</td>\n      <td>Games, Strategy, Action</td>\n      <td>1/08/2019</td>\n      <td>1/08/2019</td>\n    </tr>\n    <tr>\n      <th>1475076711</th>\n      <td>The Three Kingdoms :Bomb</td>\n      <td>NaN</td>\n      <td>NaN</td>\n      <td>0.00</td>\n      <td>ming bo tang</td>\n      <td>4+</td>\n      <td>EN, ZH</td>\n      <td>22952960.0</td>\n      <td>Games</td>\n      <td>Games, Strategy, Puzzle</td>\n      <td>2/08/2019</td>\n      <td>2/08/2019</td>\n    </tr>\n  </tbody>\n</table>\n<p>17007 rows × 12 columns</p>\n</div>"
     },
     "execution_count": 17,
     "metadata": {},
     "output_type": "execute_result"
    }
   ],
   "source": [
    "df"
   ],
   "metadata": {
    "collapsed": false,
    "ExecuteTime": {
     "end_time": "2024-02-07T16:20:21.775772800Z",
     "start_time": "2024-02-07T16:20:21.734080200Z"
    }
   }
  },
  {
   "cell_type": "code",
   "execution_count": 18,
   "outputs": [
    {
     "data": {
      "text/plain": "       Average User Rating  User Rating Count         Price          Size\ncount          7561.000000       7.561000e+03  16983.000000  1.700600e+04\nmean              4.060905       3.306531e+03      0.813419  1.157064e+08\nstd               0.751428       4.232256e+04      7.835732  2.036477e+08\nmin               1.000000       5.000000e+00      0.000000  5.132800e+04\n25%               3.500000       1.200000e+01      0.000000  2.295014e+07\n50%               4.500000       4.600000e+01      0.000000  5.676895e+07\n75%               4.500000       3.090000e+02      0.000000  1.330271e+08\nmax               5.000000       3.032734e+06    179.990000  4.005591e+09",
      "text/html": "<div>\n<style scoped>\n    .dataframe tbody tr th:only-of-type {\n        vertical-align: middle;\n    }\n\n    .dataframe tbody tr th {\n        vertical-align: top;\n    }\n\n    .dataframe thead th {\n        text-align: right;\n    }\n</style>\n<table border=\"1\" class=\"dataframe\">\n  <thead>\n    <tr style=\"text-align: right;\">\n      <th></th>\n      <th>Average User Rating</th>\n      <th>User Rating Count</th>\n      <th>Price</th>\n      <th>Size</th>\n    </tr>\n  </thead>\n  <tbody>\n    <tr>\n      <th>count</th>\n      <td>7561.000000</td>\n      <td>7.561000e+03</td>\n      <td>16983.000000</td>\n      <td>1.700600e+04</td>\n    </tr>\n    <tr>\n      <th>mean</th>\n      <td>4.060905</td>\n      <td>3.306531e+03</td>\n      <td>0.813419</td>\n      <td>1.157064e+08</td>\n    </tr>\n    <tr>\n      <th>std</th>\n      <td>0.751428</td>\n      <td>4.232256e+04</td>\n      <td>7.835732</td>\n      <td>2.036477e+08</td>\n    </tr>\n    <tr>\n      <th>min</th>\n      <td>1.000000</td>\n      <td>5.000000e+00</td>\n      <td>0.000000</td>\n      <td>5.132800e+04</td>\n    </tr>\n    <tr>\n      <th>25%</th>\n      <td>3.500000</td>\n      <td>1.200000e+01</td>\n      <td>0.000000</td>\n      <td>2.295014e+07</td>\n    </tr>\n    <tr>\n      <th>50%</th>\n      <td>4.500000</td>\n      <td>4.600000e+01</td>\n      <td>0.000000</td>\n      <td>5.676895e+07</td>\n    </tr>\n    <tr>\n      <th>75%</th>\n      <td>4.500000</td>\n      <td>3.090000e+02</td>\n      <td>0.000000</td>\n      <td>1.330271e+08</td>\n    </tr>\n    <tr>\n      <th>max</th>\n      <td>5.000000</td>\n      <td>3.032734e+06</td>\n      <td>179.990000</td>\n      <td>4.005591e+09</td>\n    </tr>\n  </tbody>\n</table>\n</div>"
     },
     "execution_count": 18,
     "metadata": {},
     "output_type": "execute_result"
    }
   ],
   "source": [
    "df.describe() # Describe wyswietla dane tylko dla zmiennych numerycznych"
   ],
   "metadata": {
    "collapsed": false,
    "ExecuteTime": {
     "end_time": "2024-02-07T16:20:47.004187200Z",
     "start_time": "2024-02-07T16:20:46.983353200Z"
    }
   }
  },
  {
   "cell_type": "code",
   "execution_count": 19,
   "outputs": [
    {
     "data": {
      "text/plain": "                       count          mean           std      min         25%  \\\nAverage User Rating   7561.0  4.060905e+00  7.514275e-01      1.0         3.5   \nUser Rating Count     7561.0  3.306531e+03  4.232256e+04      5.0        12.0   \nPrice                16983.0  8.134187e-01  7.835732e+00      0.0         0.0   \nSize                 17006.0  1.157064e+08  2.036477e+08  51328.0  22950144.0   \n\n                            50%          75%           max  \nAverage User Rating         4.5          4.5  5.000000e+00  \nUser Rating Count          46.0        309.0  3.032734e+06  \nPrice                       0.0          0.0  1.799900e+02  \nSize                 56768954.0  133027072.0  4.005591e+09  ",
      "text/html": "<div>\n<style scoped>\n    .dataframe tbody tr th:only-of-type {\n        vertical-align: middle;\n    }\n\n    .dataframe tbody tr th {\n        vertical-align: top;\n    }\n\n    .dataframe thead th {\n        text-align: right;\n    }\n</style>\n<table border=\"1\" class=\"dataframe\">\n  <thead>\n    <tr style=\"text-align: right;\">\n      <th></th>\n      <th>count</th>\n      <th>mean</th>\n      <th>std</th>\n      <th>min</th>\n      <th>25%</th>\n      <th>50%</th>\n      <th>75%</th>\n      <th>max</th>\n    </tr>\n  </thead>\n  <tbody>\n    <tr>\n      <th>Average User Rating</th>\n      <td>7561.0</td>\n      <td>4.060905e+00</td>\n      <td>7.514275e-01</td>\n      <td>1.0</td>\n      <td>3.5</td>\n      <td>4.5</td>\n      <td>4.5</td>\n      <td>5.000000e+00</td>\n    </tr>\n    <tr>\n      <th>User Rating Count</th>\n      <td>7561.0</td>\n      <td>3.306531e+03</td>\n      <td>4.232256e+04</td>\n      <td>5.0</td>\n      <td>12.0</td>\n      <td>46.0</td>\n      <td>309.0</td>\n      <td>3.032734e+06</td>\n    </tr>\n    <tr>\n      <th>Price</th>\n      <td>16983.0</td>\n      <td>8.134187e-01</td>\n      <td>7.835732e+00</td>\n      <td>0.0</td>\n      <td>0.0</td>\n      <td>0.0</td>\n      <td>0.0</td>\n      <td>1.799900e+02</td>\n    </tr>\n    <tr>\n      <th>Size</th>\n      <td>17006.0</td>\n      <td>1.157064e+08</td>\n      <td>2.036477e+08</td>\n      <td>51328.0</td>\n      <td>22950144.0</td>\n      <td>56768954.0</td>\n      <td>133027072.0</td>\n      <td>4.005591e+09</td>\n    </tr>\n  </tbody>\n</table>\n</div>"
     },
     "execution_count": 19,
     "metadata": {},
     "output_type": "execute_result"
    }
   ],
   "source": [
    "df.describe().T"
   ],
   "metadata": {
    "collapsed": false,
    "ExecuteTime": {
     "end_time": "2024-02-07T16:21:30.869811Z",
     "start_time": "2024-02-07T16:21:30.848463600Z"
    }
   }
  },
  {
   "cell_type": "code",
   "execution_count": 22,
   "outputs": [
    {
     "data": {
      "text/plain": "                              count unique  \\\nName                          17007  16847   \nDeveloper                     17007   8693   \nAge Rating                    17007      4   \nLanguages                     16947    990   \nPrimary Genre                 17007     21   \nGenres                        17007   1004   \nOriginal Release Date         17007   3084   \nCurrent Version Release Date  17007   2512   \n\n                                                                     top  \\\nName                                                           Additions   \nDeveloper                     Tapps Tecnologia da Informa\\xe7\\xe3o Ltda.   \nAge Rating                                                            4+   \nLanguages                                                             EN   \nPrimary Genre                                                      Games   \nGenres                                           Games, Strategy, Puzzle   \nOriginal Release Date                                          2/09/2016   \nCurrent Version Release Date                                   1/08/2019   \n\n                               freq  \nName                              2  \nDeveloper                       123  \nAge Rating                    11806  \nLanguages                     12467  \nPrimary Genre                 16286  \nGenres                          778  \nOriginal Release Date            75  \nCurrent Version Release Date    118  ",
      "text/html": "<div>\n<style scoped>\n    .dataframe tbody tr th:only-of-type {\n        vertical-align: middle;\n    }\n\n    .dataframe tbody tr th {\n        vertical-align: top;\n    }\n\n    .dataframe thead th {\n        text-align: right;\n    }\n</style>\n<table border=\"1\" class=\"dataframe\">\n  <thead>\n    <tr style=\"text-align: right;\">\n      <th></th>\n      <th>count</th>\n      <th>unique</th>\n      <th>top</th>\n      <th>freq</th>\n    </tr>\n  </thead>\n  <tbody>\n    <tr>\n      <th>Name</th>\n      <td>17007</td>\n      <td>16847</td>\n      <td>Additions</td>\n      <td>2</td>\n    </tr>\n    <tr>\n      <th>Developer</th>\n      <td>17007</td>\n      <td>8693</td>\n      <td>Tapps Tecnologia da Informa\\xe7\\xe3o Ltda.</td>\n      <td>123</td>\n    </tr>\n    <tr>\n      <th>Age Rating</th>\n      <td>17007</td>\n      <td>4</td>\n      <td>4+</td>\n      <td>11806</td>\n    </tr>\n    <tr>\n      <th>Languages</th>\n      <td>16947</td>\n      <td>990</td>\n      <td>EN</td>\n      <td>12467</td>\n    </tr>\n    <tr>\n      <th>Primary Genre</th>\n      <td>17007</td>\n      <td>21</td>\n      <td>Games</td>\n      <td>16286</td>\n    </tr>\n    <tr>\n      <th>Genres</th>\n      <td>17007</td>\n      <td>1004</td>\n      <td>Games, Strategy, Puzzle</td>\n      <td>778</td>\n    </tr>\n    <tr>\n      <th>Original Release Date</th>\n      <td>17007</td>\n      <td>3084</td>\n      <td>2/09/2016</td>\n      <td>75</td>\n    </tr>\n    <tr>\n      <th>Current Version Release Date</th>\n      <td>17007</td>\n      <td>2512</td>\n      <td>1/08/2019</td>\n      <td>118</td>\n    </tr>\n  </tbody>\n</table>\n</div>"
     },
     "execution_count": 22,
     "metadata": {},
     "output_type": "execute_result"
    }
   ],
   "source": [
    "df.describe(include=['object']).T"
   ],
   "metadata": {
    "collapsed": false,
    "ExecuteTime": {
     "end_time": "2024-02-07T16:29:40.271808500Z",
     "start_time": "2024-02-07T16:29:40.238114900Z"
    }
   }
  },
  {
   "cell_type": "code",
   "execution_count": 23,
   "outputs": [
    {
     "data": {
      "text/plain": "Index(['Name', 'Average User Rating', 'User Rating Count', 'Price',\n       'Developer', 'Age Rating', 'Languages', 'Size', 'Primary Genre',\n       'Genres', 'Original Release Date', 'Current Version Release Date'],\n      dtype='object')"
     },
     "execution_count": 23,
     "metadata": {},
     "output_type": "execute_result"
    }
   ],
   "source": [
    "df.columns"
   ],
   "metadata": {
    "collapsed": false,
    "ExecuteTime": {
     "end_time": "2024-02-07T17:02:10.297276500Z",
     "start_time": "2024-02-07T17:02:10.242595Z"
    }
   }
  },
  {
   "cell_type": "code",
   "execution_count": 24,
   "outputs": [],
   "source": [
    "df.columns = [col.lower().replace(' ','_') for col in df.columns] # zmienianie dużych liter na małe litery i spacji na podkreslniki"
   ],
   "metadata": {
    "collapsed": false,
    "ExecuteTime": {
     "end_time": "2024-02-07T17:03:46.245526900Z",
     "start_time": "2024-02-07T17:03:46.233328200Z"
    }
   }
  },
  {
   "cell_type": "code",
   "execution_count": 26,
   "outputs": [
    {
     "data": {
      "text/plain": "                    name  average_user_rating  user_rating_count  price  \\\nID                                                                        \n284921427         Sudoku                  4.0             3553.0   2.99   \n284926400        Reversi                  3.5              284.0   1.99   \n284946595        Morocco                  3.0             8376.0   0.00   \n285755462  Sudoku (Free)                  3.5           190394.0   0.00   \n285831220   Senet Deluxe                  3.5               28.0   2.99   \n\n                          developer age_rating  \\\nID                                               \n284921427  Mighty Mighty Good Games         4+   \n284926400          Kiss The Machine         4+   \n284946595               Bayou Games         4+   \n285755462  Mighty Mighty Good Games         4+   \n285831220           RoGame Software         4+   \n\n                                                   languages        size  \\\nID                                                                         \n284921427  DA, NL, EN, FI, FR, DE, IT, JA, KO, NB, PL, PT...  15853568.0   \n284926400                                                 EN  12328960.0   \n284946595                                                 EN    674816.0   \n285755462  DA, NL, EN, FI, FR, DE, IT, JA, KO, NB, PL, PT...  21552128.0   \n285831220  DA, NL, EN, FR, DE, EL, IT, JA, KO, NO, PT, RU...  34689024.0   \n\n          primary_genre                             genres  \\\nID                                                           \n284921427         Games            Games, Strategy, Puzzle   \n284926400         Games             Games, Strategy, Board   \n284946595         Games             Games, Board, Strategy   \n285755462         Games            Games, Strategy, Puzzle   \n285831220         Games  Games, Strategy, Board, Education   \n\n          original_release_date current_version_release_date  \nID                                                            \n284921427            11/07/2008                   30/05/2017  \n284926400            11/07/2008                   17/05/2018  \n284946595            11/07/2008                    5/09/2017  \n285755462            23/07/2008                   30/05/2017  \n285831220            18/07/2008                   22/07/2018  ",
      "text/html": "<div>\n<style scoped>\n    .dataframe tbody tr th:only-of-type {\n        vertical-align: middle;\n    }\n\n    .dataframe tbody tr th {\n        vertical-align: top;\n    }\n\n    .dataframe thead th {\n        text-align: right;\n    }\n</style>\n<table border=\"1\" class=\"dataframe\">\n  <thead>\n    <tr style=\"text-align: right;\">\n      <th></th>\n      <th>name</th>\n      <th>average_user_rating</th>\n      <th>user_rating_count</th>\n      <th>price</th>\n      <th>developer</th>\n      <th>age_rating</th>\n      <th>languages</th>\n      <th>size</th>\n      <th>primary_genre</th>\n      <th>genres</th>\n      <th>original_release_date</th>\n      <th>current_version_release_date</th>\n    </tr>\n    <tr>\n      <th>ID</th>\n      <th></th>\n      <th></th>\n      <th></th>\n      <th></th>\n      <th></th>\n      <th></th>\n      <th></th>\n      <th></th>\n      <th></th>\n      <th></th>\n      <th></th>\n      <th></th>\n    </tr>\n  </thead>\n  <tbody>\n    <tr>\n      <th>284921427</th>\n      <td>Sudoku</td>\n      <td>4.0</td>\n      <td>3553.0</td>\n      <td>2.99</td>\n      <td>Mighty Mighty Good Games</td>\n      <td>4+</td>\n      <td>DA, NL, EN, FI, FR, DE, IT, JA, KO, NB, PL, PT...</td>\n      <td>15853568.0</td>\n      <td>Games</td>\n      <td>Games, Strategy, Puzzle</td>\n      <td>11/07/2008</td>\n      <td>30/05/2017</td>\n    </tr>\n    <tr>\n      <th>284926400</th>\n      <td>Reversi</td>\n      <td>3.5</td>\n      <td>284.0</td>\n      <td>1.99</td>\n      <td>Kiss The Machine</td>\n      <td>4+</td>\n      <td>EN</td>\n      <td>12328960.0</td>\n      <td>Games</td>\n      <td>Games, Strategy, Board</td>\n      <td>11/07/2008</td>\n      <td>17/05/2018</td>\n    </tr>\n    <tr>\n      <th>284946595</th>\n      <td>Morocco</td>\n      <td>3.0</td>\n      <td>8376.0</td>\n      <td>0.00</td>\n      <td>Bayou Games</td>\n      <td>4+</td>\n      <td>EN</td>\n      <td>674816.0</td>\n      <td>Games</td>\n      <td>Games, Board, Strategy</td>\n      <td>11/07/2008</td>\n      <td>5/09/2017</td>\n    </tr>\n    <tr>\n      <th>285755462</th>\n      <td>Sudoku (Free)</td>\n      <td>3.5</td>\n      <td>190394.0</td>\n      <td>0.00</td>\n      <td>Mighty Mighty Good Games</td>\n      <td>4+</td>\n      <td>DA, NL, EN, FI, FR, DE, IT, JA, KO, NB, PL, PT...</td>\n      <td>21552128.0</td>\n      <td>Games</td>\n      <td>Games, Strategy, Puzzle</td>\n      <td>23/07/2008</td>\n      <td>30/05/2017</td>\n    </tr>\n    <tr>\n      <th>285831220</th>\n      <td>Senet Deluxe</td>\n      <td>3.5</td>\n      <td>28.0</td>\n      <td>2.99</td>\n      <td>RoGame Software</td>\n      <td>4+</td>\n      <td>DA, NL, EN, FR, DE, EL, IT, JA, KO, NO, PT, RU...</td>\n      <td>34689024.0</td>\n      <td>Games</td>\n      <td>Games, Strategy, Board, Education</td>\n      <td>18/07/2008</td>\n      <td>22/07/2018</td>\n    </tr>\n  </tbody>\n</table>\n</div>"
     },
     "execution_count": 26,
     "metadata": {},
     "output_type": "execute_result"
    }
   ],
   "source": [
    "df.head()"
   ],
   "metadata": {
    "collapsed": false,
    "ExecuteTime": {
     "end_time": "2024-02-07T17:06:40.347222700Z",
     "start_time": "2024-02-07T17:06:40.338705800Z"
    }
   }
  },
  {
   "cell_type": "code",
   "execution_count": 27,
   "outputs": [
    {
     "data": {
      "text/plain": "ID\n284921427     4.0\n284926400     3.5\n284946595     3.0\n285755462     3.5\n285831220     3.5\n             ... \n1474626442    NaN\n1474919257    NaN\n1474962324    NaN\n1474963671    NaN\n1475076711    NaN\nName: average_user_rating, Length: 17007, dtype: float64"
     },
     "execution_count": 27,
     "metadata": {},
     "output_type": "execute_result"
    }
   ],
   "source": [
    "df.average_user_rating"
   ],
   "metadata": {
    "collapsed": false,
    "ExecuteTime": {
     "end_time": "2024-02-07T17:08:05.193805100Z",
     "start_time": "2024-02-07T17:08:05.183776Z"
    }
   }
  },
  {
   "cell_type": "markdown",
   "source": [
    "### Jak zbadać rozkład zmiennej"
   ],
   "metadata": {
    "collapsed": false
   }
  },
  {
   "cell_type": "code",
   "execution_count": 28,
   "outputs": [
    {
     "data": {
      "text/plain": "              name  average_user_rating  user_rating_count  price  \\\nID                                                                  \n284921427   Sudoku                  4.0             3553.0   2.99   \n284926400  Reversi                  3.5              284.0   1.99   \n\n                          developer age_rating  \\\nID                                               \n284921427  Mighty Mighty Good Games         4+   \n284926400          Kiss The Machine         4+   \n\n                                                   languages        size  \\\nID                                                                         \n284921427  DA, NL, EN, FI, FR, DE, IT, JA, KO, NB, PL, PT...  15853568.0   \n284926400                                                 EN  12328960.0   \n\n          primary_genre                   genres original_release_date  \\\nID                                                                       \n284921427         Games  Games, Strategy, Puzzle            11/07/2008   \n284926400         Games   Games, Strategy, Board            11/07/2008   \n\n          current_version_release_date  \nID                                      \n284921427                   30/05/2017  \n284926400                   17/05/2018  ",
      "text/html": "<div>\n<style scoped>\n    .dataframe tbody tr th:only-of-type {\n        vertical-align: middle;\n    }\n\n    .dataframe tbody tr th {\n        vertical-align: top;\n    }\n\n    .dataframe thead th {\n        text-align: right;\n    }\n</style>\n<table border=\"1\" class=\"dataframe\">\n  <thead>\n    <tr style=\"text-align: right;\">\n      <th></th>\n      <th>name</th>\n      <th>average_user_rating</th>\n      <th>user_rating_count</th>\n      <th>price</th>\n      <th>developer</th>\n      <th>age_rating</th>\n      <th>languages</th>\n      <th>size</th>\n      <th>primary_genre</th>\n      <th>genres</th>\n      <th>original_release_date</th>\n      <th>current_version_release_date</th>\n    </tr>\n    <tr>\n      <th>ID</th>\n      <th></th>\n      <th></th>\n      <th></th>\n      <th></th>\n      <th></th>\n      <th></th>\n      <th></th>\n      <th></th>\n      <th></th>\n      <th></th>\n      <th></th>\n      <th></th>\n    </tr>\n  </thead>\n  <tbody>\n    <tr>\n      <th>284921427</th>\n      <td>Sudoku</td>\n      <td>4.0</td>\n      <td>3553.0</td>\n      <td>2.99</td>\n      <td>Mighty Mighty Good Games</td>\n      <td>4+</td>\n      <td>DA, NL, EN, FI, FR, DE, IT, JA, KO, NB, PL, PT...</td>\n      <td>15853568.0</td>\n      <td>Games</td>\n      <td>Games, Strategy, Puzzle</td>\n      <td>11/07/2008</td>\n      <td>30/05/2017</td>\n    </tr>\n    <tr>\n      <th>284926400</th>\n      <td>Reversi</td>\n      <td>3.5</td>\n      <td>284.0</td>\n      <td>1.99</td>\n      <td>Kiss The Machine</td>\n      <td>4+</td>\n      <td>EN</td>\n      <td>12328960.0</td>\n      <td>Games</td>\n      <td>Games, Strategy, Board</td>\n      <td>11/07/2008</td>\n      <td>17/05/2018</td>\n    </tr>\n  </tbody>\n</table>\n</div>"
     },
     "execution_count": 28,
     "metadata": {},
     "output_type": "execute_result"
    }
   ],
   "source": [
    "df.head(2)"
   ],
   "metadata": {
    "collapsed": false,
    "ExecuteTime": {
     "end_time": "2024-02-07T17:13:47.364844600Z",
     "start_time": "2024-02-07T17:13:47.336695100Z"
    }
   }
  },
  {
   "cell_type": "code",
   "execution_count": 29,
   "outputs": [
    {
     "data": {
      "text/plain": "primary_genre\nGames                16286\nEducation              222\nEntertainment          198\nUtilities               77\nSports                  60\nReference               32\nStickers                29\nFinance                 18\nBusiness                16\nProductivity            15\nLifestyle               10\nBook                     9\nSocial Networking        9\nNews                     7\nHealth & Fitness         5\nFood & Drink             4\nMusic                    3\nNavigation               3\nMedical                  2\nTravel                   1\nShopping                 1\nName: count, dtype: int64"
     },
     "execution_count": 29,
     "metadata": {},
     "output_type": "execute_result"
    }
   ],
   "source": [
    "df.primary_genre.value_counts() # Sprawdza liczbę wartości w danej tabeli"
   ],
   "metadata": {
    "collapsed": false,
    "ExecuteTime": {
     "end_time": "2024-02-07T17:16:44.930362300Z",
     "start_time": "2024-02-07T17:16:44.920342600Z"
    }
   }
  },
  {
   "cell_type": "code",
   "execution_count": 30,
   "outputs": [
    {
     "data": {
      "text/plain": "primary_genre\nGames            16286\nEducation          222\nEntertainment      198\nUtilities           77\nSports              60\nName: count, dtype: int64"
     },
     "execution_count": 30,
     "metadata": {},
     "output_type": "execute_result"
    }
   ],
   "source": [
    "df.primary_genre.value_counts().nlargest(5) # Daje 5 najwiekszych wartości w danej tabeli"
   ],
   "metadata": {
    "collapsed": false,
    "ExecuteTime": {
     "end_time": "2024-02-07T17:17:47.721849400Z",
     "start_time": "2024-02-07T17:17:47.712821400Z"
    }
   }
  },
  {
   "cell_type": "code",
   "execution_count": 32,
   "outputs": [
    {
     "data": {
      "text/plain": "['Games', 'Education', 'Entertainment', 'Utilities', 'Sports']"
     },
     "execution_count": 32,
     "metadata": {},
     "output_type": "execute_result"
    }
   ],
   "source": [
    "list(df.primary_genre.value_counts().nlargest(5).index) # Pokazuje ich indeks"
   ],
   "metadata": {
    "collapsed": false,
    "ExecuteTime": {
     "end_time": "2024-02-07T17:21:37.673464800Z",
     "start_time": "2024-02-07T17:21:37.639389900Z"
    }
   }
  },
  {
   "cell_type": "code",
   "execution_count": 34,
   "outputs": [
    {
     "data": {
      "text/plain": "age_rating\n4+     11806\n9+      2481\n12+     2055\n17+      665\nName: count, dtype: int64"
     },
     "execution_count": 34,
     "metadata": {},
     "output_type": "execute_result"
    }
   ],
   "source": [
    "df.age_rating.value_counts()"
   ],
   "metadata": {
    "collapsed": false,
    "ExecuteTime": {
     "end_time": "2024-02-07T17:22:09.467561200Z",
     "start_time": "2024-02-07T17:22:09.452274600Z"
    }
   }
  },
  {
   "cell_type": "code",
   "execution_count": 35,
   "outputs": [
    {
     "data": {
      "text/plain": "pandas.core.series.Series"
     },
     "execution_count": 35,
     "metadata": {},
     "output_type": "execute_result"
    }
   ],
   "source": [
    "type(df.age_rating.value_counts())"
   ],
   "metadata": {
    "collapsed": false,
    "ExecuteTime": {
     "end_time": "2024-02-07T17:22:58.721289800Z",
     "start_time": "2024-02-07T17:22:58.711282800Z"
    }
   }
  },
  {
   "cell_type": "code",
   "execution_count": 38,
   "outputs": [
    {
     "data": {
      "text/plain": "<Axes: xlabel='age_rating'>"
     },
     "execution_count": 38,
     "metadata": {},
     "output_type": "execute_result"
    },
    {
     "data": {
      "text/plain": "<Figure size 640x480 with 1 Axes>",
      "image/png": "[encoded data removed]"
     },
     "metadata": {},
     "output_type": "display_data"
    }
   ],
   "source": [
    "import seaborn as sns\n",
    "sns.set()\n",
    "df.age_rating.value_counts().plot(kind='bar')"
   ],
   "metadata": {
    "collapsed": false,
    "ExecuteTime": {
     "end_time": "2024-02-07T17:23:40.151741400Z",
     "start_time": "2024-02-07T17:23:38.747183500Z"
    }
   }
  },
  {
   "cell_type": "code",
   "execution_count": 39,
   "outputs": [
    {
     "data": {
      "text/plain": "<Axes: ylabel='count'>"
     },
     "execution_count": 39,
     "metadata": {},
     "output_type": "execute_result"
    },
    {
     "data": {
      "text/plain": "<Figure size 640x480 with 1 Axes>",
      "image/png": "[encoded data removed]"
     },
     "metadata": {},
     "output_type": "display_data"
    }
   ],
   "source": [
    "df.age_rating.value_counts().plot(kind='pie')"
   ],
   "metadata": {
    "collapsed": false,
    "ExecuteTime": {
     "end_time": "2024-02-07T17:23:57.765610100Z",
     "start_time": "2024-02-07T17:23:57.673441900Z"
    }
   }
  },
  {
   "cell_type": "code",
   "execution_count": 41,
   "outputs": [
    {
     "data": {
      "text/plain": "price\n0.00      14212\n0.99       1078\n1.99        515\n2.99        471\n4.99        237\n3.99        163\n9.99         88\n11.99        59\n5.99         42\n6.99         32\n179.99       30\n7.99         17\n8.99         13\n19.99         9\n14.99         4\n12.99         3\n16.99         2\n29.99         2\n139.99        1\n99.99         1\n37.99         1\n36.99         1\n18.99         1\n59.99         1\nName: count, dtype: int64"
     },
     "execution_count": 41,
     "metadata": {},
     "output_type": "execute_result"
    }
   ],
   "source": [
    "df.price.value_counts()"
   ],
   "metadata": {
    "collapsed": false,
    "ExecuteTime": {
     "end_time": "2024-02-07T17:24:48.983967900Z",
     "start_time": "2024-02-07T17:24:48.967155600Z"
    }
   }
  },
  {
   "cell_type": "code",
   "execution_count": 52,
   "outputs": [
    {
     "data": {
      "text/plain": "<Axes: xlabel='price'>"
     },
     "execution_count": 52,
     "metadata": {},
     "output_type": "execute_result"
    },
    {
     "data": {
      "text/plain": "<Figure size 640x480 with 1 Axes>",
      "image/png": "[encoded data removed]"
     },
     "metadata": {},
     "output_type": "display_data"
    }
   ],
   "source": [
    "import seaborn as sns\n",
    "sns.set()\n",
    "\n",
    "df.price.value_counts().plot(kind='bar')"
   ],
   "metadata": {
    "collapsed": false,
    "ExecuteTime": {
     "end_time": "2024-02-07T17:26:53.904790200Z",
     "start_time": "2024-02-07T17:26:53.643955200Z"
    }
   }
  },
  {
   "cell_type": "code",
   "execution_count": 54,
   "outputs": [
    {
     "data": {
      "text/plain": "average_user_rating\n4.5    2861\n4.0    1722\n5.0     990\n3.5     925\n3.0     514\n2.5     317\n2.0     158\n1.5      60\n1.0      14\nName: count, dtype: int64"
     },
     "execution_count": 54,
     "metadata": {},
     "output_type": "execute_result"
    }
   ],
   "source": [
    "df.average_user_rating.value_counts()"
   ],
   "metadata": {
    "collapsed": false,
    "ExecuteTime": {
     "end_time": "2024-02-07T17:28:29.088896100Z",
     "start_time": "2024-02-07T17:28:29.070681800Z"
    }
   }
  },
  {
   "cell_type": "code",
   "execution_count": 55,
   "outputs": [
    {
     "data": {
      "text/plain": "<Axes: ylabel='count'>"
     },
     "execution_count": 55,
     "metadata": {},
     "output_type": "execute_result"
    },
    {
     "data": {
      "text/plain": "<Figure size 640x480 with 1 Axes>",
      "image/png": "[encoded data removed]"
     },
     "metadata": {},
     "output_type": "display_data"
    }
   ],
   "source": [
    "df.average_user_rating.value_counts().plot(kind='pie')"
   ],
   "metadata": {
    "collapsed": false,
    "ExecuteTime": {
     "end_time": "2024-02-07T17:29:35.541993700Z",
     "start_time": "2024-02-07T17:29:35.459126700Z"
    }
   }
  },
  {
   "cell_type": "code",
   "execution_count": 56,
   "outputs": [
    {
     "data": {
      "text/plain": "ID\n284921427     DA, NL, EN, FI, FR, DE, IT, JA, KO, NB, PL, PT...\n284926400                                                    EN\n284946595                                                    EN\n285755462     DA, NL, EN, FI, FR, DE, IT, JA, KO, NB, PL, PT...\n285831220     DA, NL, EN, FR, DE, EL, IT, JA, KO, NO, PT, RU...\n                                    ...                        \n1474626442                                                   EN\n1474919257                                                   EN\n1474962324                                                   EN\n1474963671                                                   EN\n1475076711                                               EN, ZH\nName: languages, Length: 17007, dtype: object"
     },
     "execution_count": 56,
     "metadata": {},
     "output_type": "execute_result"
    }
   ],
   "source": [
    "df.languages"
   ],
   "metadata": {
    "collapsed": false,
    "ExecuteTime": {
     "end_time": "2024-02-07T17:29:52.852196500Z",
     "start_time": "2024-02-07T17:29:52.824313800Z"
    }
   }
  },
  {
   "cell_type": "code",
   "execution_count": 58,
   "outputs": [
    {
     "data": {
      "text/plain": "languages\nEN                                                                            12467\nEN, ZH                                                                          354\nCS, NL, EN, FR, DE, IT, JA, KO, PL, PT, RU, ZH, ES, SV, ZH, TR                  277\nEN, ZH, ZH                                                                      248\nEN, DE                                                                          147\n                                                                              ...  \nDA, NL, EN, FI, FR, DE, IT, JA, KO, NO, PL, PT, RU, ZH, ES, SV, ZH, TR, UK        1\nEN, FR, IT, JA, KO, PT, RU, ES, TR                                                1\nDA, NL, EN, FR, DE, IT, NB, PL, PT, ZH, ES, SV, ZH, TR                            1\nEN, PT, ZH                                                                        1\nAR, NL, EN, FR, DE, ID, IT, JA, KO, PT, RU, ZH, ES, SV, TH, ZH, TR, VI            1\nName: count, Length: 990, dtype: int64"
     },
     "execution_count": 58,
     "metadata": {},
     "output_type": "execute_result"
    }
   ],
   "source": [
    "df.languages.value_counts()"
   ],
   "metadata": {
    "collapsed": false,
    "ExecuteTime": {
     "end_time": "2024-02-07T17:30:23.517233800Z",
     "start_time": "2024-02-07T17:30:23.498976300Z"
    }
   }
  },
  {
   "cell_type": "code",
   "execution_count": 59,
   "outputs": [
    {
     "data": {
      "text/plain": "ID\n284921427     [DA, NL, EN, FI, FR, DE, IT, JA, KO, NB, PL, P...\n284926400                                                  [EN]\n284946595                                                  [EN]\n285755462     [DA, NL, EN, FI, FR, DE, IT, JA, KO, NB, PL, P...\n285831220     [DA, NL, EN, FR, DE, EL, IT, JA, KO, NO, PT, R...\n                                    ...                        \n1474626442                                                 [EN]\n1474919257                                                 [EN]\n1474962324                                                 [EN]\n1474963671                                                 [EN]\n1475076711                                             [EN, ZH]\nName: languages, Length: 17007, dtype: object"
     },
     "execution_count": 59,
     "metadata": {},
     "output_type": "execute_result"
    }
   ],
   "source": [
    "df.languages.str.split(', ') # Zamiast pojedynczych stringów zwraca listę stringów"
   ],
   "metadata": {
    "collapsed": false,
    "ExecuteTime": {
     "end_time": "2024-02-07T17:31:21.230549400Z",
     "start_time": "2024-02-07T17:31:21.191817600Z"
    }
   }
  },
  {
   "cell_type": "code",
   "execution_count": 63,
   "outputs": [
    {
     "data": {
      "text/plain": "ID\n284921427     17.0\n284926400      1.0\n284946595      1.0\n285755462     17.0\n285831220     15.0\n              ... \n1474626442     1.0\n1474919257     1.0\n1474962324     1.0\n1474963671     1.0\n1475076711     2.0\nName: languages, Length: 17007, dtype: float64"
     },
     "execution_count": 63,
     "metadata": {},
     "output_type": "execute_result"
    }
   ],
   "source": [
    "df_lang = df.languages.str.split(', ').str.len()\n",
    "df_lang"
   ],
   "metadata": {
    "collapsed": false,
    "ExecuteTime": {
     "end_time": "2024-02-07T17:33:10.244348700Z",
     "start_time": "2024-02-07T17:33:10.223310500Z"
    }
   }
  },
  {
   "cell_type": "code",
   "execution_count": 64,
   "outputs": [],
   "source": [
    "df['num_lang'] = df_lang"
   ],
   "metadata": {
    "collapsed": false,
    "ExecuteTime": {
     "end_time": "2024-02-07T17:33:38.033599200Z",
     "start_time": "2024-02-07T17:33:38.013570500Z"
    }
   }
  },
  {
   "cell_type": "code",
   "execution_count": 65,
   "outputs": [
    {
     "data": {
      "text/plain": "                                 name  average_user_rating  user_rating_count  \\\nID                                                                              \n284921427                      Sudoku                  4.0             3553.0   \n284926400                     Reversi                  3.5              284.0   \n284946595                     Morocco                  3.0             8376.0   \n285755462               Sudoku (Free)                  3.5           190394.0   \n285831220                Senet Deluxe                  3.5               28.0   \n...                               ...                  ...                ...   \n1474626442  Stack Puzzle : Rise Tower                  NaN                NaN   \n1474919257                  EachOther                  NaN                NaN   \n1474962324         Rabbit Vs Tortoise                  NaN                NaN   \n1474963671                     FaTaLL                  NaN                NaN   \n1475076711   The Three Kingdoms :Bomb                  NaN                NaN   \n\n            price                 developer age_rating  \\\nID                                                       \n284921427    2.99  Mighty Mighty Good Games         4+   \n284926400    1.99          Kiss The Machine         4+   \n284946595    0.00               Bayou Games         4+   \n285755462    0.00  Mighty Mighty Good Games         4+   \n285831220    2.99           RoGame Software         4+   \n...           ...                       ...        ...   \n1474626442   0.00               Zhigang Pei         4+   \n1474919257   0.00             Sultan Shindi         4+   \n1474962324   0.00             Vishal Baldha         4+   \n1474963671   0.00              Tayrem Games         4+   \n1475076711   0.00              ming bo tang         4+   \n\n                                                    languages         size  \\\nID                                                                           \n284921427   DA, NL, EN, FI, FR, DE, IT, JA, KO, NB, PL, PT...   15853568.0   \n284926400                                                  EN   12328960.0   \n284946595                                                  EN     674816.0   \n285755462   DA, NL, EN, FI, FR, DE, IT, JA, KO, NB, PL, PT...   21552128.0   \n285831220   DA, NL, EN, FR, DE, EL, IT, JA, KO, NO, PT, RU...   34689024.0   \n...                                                       ...          ...   \n1474626442                                                 EN   64795648.0   \n1474919257                                                 EN  110341120.0   \n1474962324                                                 EN   23207936.0   \n1474963671                                                 EN  196750336.0   \n1475076711                                             EN, ZH   22952960.0   \n\n           primary_genre                                  genres  \\\nID                                                                 \n284921427          Games                 Games, Strategy, Puzzle   \n284926400          Games                  Games, Strategy, Board   \n284946595          Games                  Games, Board, Strategy   \n285755462          Games                 Games, Strategy, Puzzle   \n285831220          Games       Games, Strategy, Board, Education   \n...                  ...                                     ...   \n1474626442         Games  Games, Entertainment, Casual, Strategy   \n1474919257         Games                 Games, Family, Strategy   \n1474962324         Games                         Games, Strategy   \n1474963671         Games                 Games, Strategy, Action   \n1475076711         Games                 Games, Strategy, Puzzle   \n\n           original_release_date current_version_release_date  num_lang  \nID                                                                       \n284921427             11/07/2008                   30/05/2017      17.0  \n284926400             11/07/2008                   17/05/2018       1.0  \n284946595             11/07/2008                    5/09/2017       1.0  \n285755462             23/07/2008                   30/05/2017      17.0  \n285831220             18/07/2008                   22/07/2018      15.0  \n...                          ...                          ...       ...  \n1474626442            30/07/2019                   30/07/2019       1.0  \n1474919257             1/08/2019                    1/08/2019       1.0  \n1474962324             3/08/2019                    3/08/2019       1.0  \n1474963671             1/08/2019                    1/08/2019       1.0  \n1475076711             2/08/2019                    2/08/2019       2.0  \n\n[17007 rows x 13 columns]",
      "text/html": "<div>\n<style scoped>\n    .dataframe tbody tr th:only-of-type {\n        vertical-align: middle;\n    }\n\n    .dataframe tbody tr th {\n        vertical-align: top;\n    }\n\n    .dataframe thead th {\n        text-align: right;\n    }\n</style>\n<table border=\"1\" class=\"dataframe\">\n  <thead>\n    <tr style=\"text-align: right;\">\n      <th></th>\n      <th>name</th>\n      <th>average_user_rating</th>\n      <th>user_rating_count</th>\n      <th>price</th>\n      <th>developer</th>\n      <th>age_rating</th>\n      <th>languages</th>\n      <th>size</th>\n      <th>primary_genre</th>\n      <th>genres</th>\n      <th>original_release_date</th>\n      <th>current_version_release_date</th>\n      <th>num_lang</th>\n    </tr>\n    <tr>\n      <th>ID</th>\n      <th></th>\n      <th></th>\n      <th></th>\n      <th></th>\n      <th></th>\n      <th></th>\n      <th></th>\n      <th></th>\n      <th></th>\n      <th></th>\n      <th></th>\n      <th></th>\n      <th></th>\n    </tr>\n  </thead>\n  <tbody>\n    <tr>\n      <th>284921427</th>\n      <td>Sudoku</td>\n      <td>4.0</td>\n      <td>3553.0</td>\n      <td>2.99</td>\n      <td>Mighty Mighty Good Games</td>\n      <td>4+</td>\n      <td>DA, NL, EN, FI, FR, DE, IT, JA, KO, NB, PL, PT...</td>\n      <td>15853568.0</td>\n      <td>Games</td>\n      <td>Games, Strategy, Puzzle</td>\n      <td>11/07/2008</td>\n      <td>30/05/2017</td>\n      <td>17.0</td>\n    </tr>\n    <tr>\n      <th>284926400</th>\n      <td>Reversi</td>\n      <td>3.5</td>\n      <td>284.0</td>\n      <td>1.99</td>\n      <td>Kiss The Machine</td>\n      <td>4+</td>\n      <td>EN</td>\n      <td>12328960.0</td>\n      <td>Games</td>\n      <td>Games, Strategy, Board</td>\n      <td>11/07/2008</td>\n      <td>17/05/2018</td>\n      <td>1.0</td>\n    </tr>\n    <tr>\n      <th>284946595</th>\n      <td>Morocco</td>\n      <td>3.0</td>\n      <td>8376.0</td>\n      <td>0.00</td>\n      <td>Bayou Games</td>\n      <td>4+</td>\n      <td>EN</td>\n      <td>674816.0</td>\n      <td>Games</td>\n      <td>Games, Board, Strategy</td>\n      <td>11/07/2008</td>\n      <td>5/09/2017</td>\n      <td>1.0</td>\n    </tr>\n    <tr>\n      <th>285755462</th>\n      <td>Sudoku (Free)</td>\n      <td>3.5</td>\n      <td>190394.0</td>\n      <td>0.00</td>\n      <td>Mighty Mighty Good Games</td>\n      <td>4+</td>\n      <td>DA, NL, EN, FI, FR, DE, IT, JA, KO, NB, PL, PT...</td>\n      <td>21552128.0</td>\n      <td>Games</td>\n      <td>Games, Strategy, Puzzle</td>\n      <td>23/07/2008</td>\n      <td>30/05/2017</td>\n      <td>17.0</td>\n    </tr>\n    <tr>\n      <th>285831220</th>\n      <td>Senet Deluxe</td>\n      <td>3.5</td>\n      <td>28.0</td>\n      <td>2.99</td>\n      <td>RoGame Software</td>\n      <td>4+</td>\n      <td>DA, NL, EN, FR, DE, EL, IT, JA, KO, NO, PT, RU...</td>\n      <td>34689024.0</td>\n      <td>Games</td>\n      <td>Games, Strategy, Board, Education</td>\n      <td>18/07/2008</td>\n      <td>22/07/2018</td>\n      <td>15.0</td>\n    </tr>\n    <tr>\n      <th>...</th>\n      <td>...</td>\n      <td>...</td>\n      <td>...</td>\n      <td>...</td>\n      <td>...</td>\n      <td>...</td>\n      <td>...</td>\n      <td>...</td>\n      <td>...</td>\n      <td>...</td>\n      <td>...</td>\n      <td>...</td>\n      <td>...</td>\n    </tr>\n    <tr>\n      <th>1474626442</th>\n      <td>Stack Puzzle : Rise Tower</td>\n      <td>NaN</td>\n      <td>NaN</td>\n      <td>0.00</td>\n      <td>Zhigang Pei</td>\n      <td>4+</td>\n      <td>EN</td>\n      <td>64795648.0</td>\n      <td>Games</td>\n      <td>Games, Entertainment, Casual, Strategy</td>\n      <td>30/07/2019</td>\n      <td>30/07/2019</td>\n      <td>1.0</td>\n    </tr>\n    <tr>\n      <th>1474919257</th>\n      <td>EachOther</td>\n      <td>NaN</td>\n      <td>NaN</td>\n      <td>0.00</td>\n      <td>Sultan Shindi</td>\n      <td>4+</td>\n      <td>EN</td>\n      <td>110341120.0</td>\n      <td>Games</td>\n      <td>Games, Family, Strategy</td>\n      <td>1/08/2019</td>\n      <td>1/08/2019</td>\n      <td>1.0</td>\n    </tr>\n    <tr>\n      <th>1474962324</th>\n      <td>Rabbit Vs Tortoise</td>\n      <td>NaN</td>\n      <td>NaN</td>\n      <td>0.00</td>\n      <td>Vishal Baldha</td>\n      <td>4+</td>\n      <td>EN</td>\n      <td>23207936.0</td>\n      <td>Games</td>\n      <td>Games, Strategy</td>\n      <td>3/08/2019</td>\n      <td>3/08/2019</td>\n      <td>1.0</td>\n    </tr>\n    <tr>\n      <th>1474963671</th>\n      <td>FaTaLL</td>\n      <td>NaN</td>\n      <td>NaN</td>\n      <td>0.00</td>\n      <td>Tayrem Games</td>\n      <td>4+</td>\n      <td>EN</td>\n      <td>196750336.0</td>\n      <td>Games</td>\n      <td>Games, Strategy, Action</td>\n      <td>1/08/2019</td>\n      <td>1/08/2019</td>\n      <td>1.0</td>\n    </tr>\n    <tr>\n      <th>1475076711</th>\n      <td>The Three Kingdoms :Bomb</td>\n      <td>NaN</td>\n      <td>NaN</td>\n      <td>0.00</td>\n      <td>ming bo tang</td>\n      <td>4+</td>\n      <td>EN, ZH</td>\n      <td>22952960.0</td>\n      <td>Games</td>\n      <td>Games, Strategy, Puzzle</td>\n      <td>2/08/2019</td>\n      <td>2/08/2019</td>\n      <td>2.0</td>\n    </tr>\n  </tbody>\n</table>\n<p>17007 rows × 13 columns</p>\n</div>"
     },
     "execution_count": 65,
     "metadata": {},
     "output_type": "execute_result"
    }
   ],
   "source": [
    "df"
   ],
   "metadata": {
    "collapsed": false,
    "ExecuteTime": {
     "end_time": "2024-02-07T17:33:42.721213500Z",
     "start_time": "2024-02-07T17:33:42.679672100Z"
    }
   }
  },
  {
   "cell_type": "code",
   "execution_count": 66,
   "outputs": [
    {
     "data": {
      "text/plain": "num_lang\n1.0      12566\n2.0       1102\n3.0        495\n16.0       316\n4.0        261\n5.0        247\n6.0        220\n25.0       171\n9.0        154\n11.0       147\n8.0        142\n7.0        140\n10.0       140\n31.0       133\n12.0        91\n21.0        77\n14.0        64\n13.0        64\n15.0        54\n17.0        37\n30.0        35\n19.0        34\n32.0        34\n33.0        33\n22.0        31\n18.0        24\n46.0        20\n26.0        18\n20.0        14\n24.0        13\n23.0        11\n27.0        11\n28.0         9\n29.0         8\n45.0         6\n44.0         5\n65.0         4\n42.0         3\n43.0         3\n36.0         2\n49.0         2\n48.0         1\n66.0         1\n35.0         1\n34.0         1\n111.0        1\n76.0         1\nName: count, dtype: int64"
     },
     "execution_count": 66,
     "metadata": {},
     "output_type": "execute_result"
    }
   ],
   "source": [
    "df.num_lang.value_counts()"
   ],
   "metadata": {
    "collapsed": false,
    "ExecuteTime": {
     "end_time": "2024-02-07T17:34:19.134693400Z",
     "start_time": "2024-02-07T17:34:19.097336800Z"
    }
   }
  },
  {
   "cell_type": "markdown",
   "source": [
    "### Badanie braków danych"
   ],
   "metadata": {
    "collapsed": false
   }
  },
  {
   "cell_type": "code",
   "execution_count": 67,
   "outputs": [
    {
     "name": "stdout",
     "output_type": "stream",
     "text": [
      "<class 'pandas.core.frame.DataFrame'>\n",
      "Index: 17007 entries, 284921427 to 1475076711\n",
      "Data columns (total 13 columns):\n",
      " #   Column                        Non-Null Count  Dtype  \n",
      "---  ------                        --------------  -----  \n",
      " 0   name                          17007 non-null  object \n",
      " 1   average_user_rating           7561 non-null   float64\n",
      " 2   user_rating_count             7561 non-null   float64\n",
      " 3   price                         16983 non-null  float64\n",
      " 4   developer                     17007 non-null  object \n",
      " 5   age_rating                    17007 non-null  object \n",
      " 6   languages                     16947 non-null  object \n",
      " 7   size                          17006 non-null  float64\n",
      " 8   primary_genre                 17007 non-null  object \n",
      " 9   genres                        17007 non-null  object \n",
      " 10  original_release_date         17007 non-null  object \n",
      " 11  current_version_release_date  17007 non-null  object \n",
      " 12  num_lang                      16947 non-null  float64\n",
      "dtypes: float64(5), object(8)\n",
      "memory usage: 1.8+ MB\n"
     ]
    }
   ],
   "source": [
    "df.info() #"
   ],
   "metadata": {
    "collapsed": false,
    "ExecuteTime": {
     "end_time": "2024-02-07T17:49:07.963795800Z",
     "start_time": "2024-02-07T17:49:07.941221300Z"
    }
   }
  },
  {
   "cell_type": "code",
   "execution_count": 68,
   "outputs": [
    {
     "data": {
      "text/plain": "average_user_rating\nNaN    9446\n4.5    2861\n4.0    1722\n5.0     990\n3.5     925\n3.0     514\n2.5     317\n2.0     158\n1.5      60\n1.0      14\nName: count, dtype: int64"
     },
     "execution_count": 68,
     "metadata": {},
     "output_type": "execute_result"
    }
   ],
   "source": [
    "df.average_user_rating.value_counts(dropna=False)"
   ],
   "metadata": {
    "collapsed": false,
    "ExecuteTime": {
     "end_time": "2024-02-07T18:03:40.073670900Z",
     "start_time": "2024-02-07T18:03:40.049078400Z"
    }
   }
  },
  {
   "cell_type": "code",
   "execution_count": 69,
   "outputs": [
    {
     "data": {
      "text/plain": "             name  average_user_rating  user_rating_count  price  developer  \\\nID                                                                            \n284921427   False                False              False  False      False   \n284926400   False                False              False  False      False   \n284946595   False                False              False  False      False   \n285755462   False                False              False  False      False   \n285831220   False                False              False  False      False   \n...           ...                  ...                ...    ...        ...   \n1474626442  False                 True               True  False      False   \n1474919257  False                 True               True  False      False   \n1474962324  False                 True               True  False      False   \n1474963671  False                 True               True  False      False   \n1475076711  False                 True               True  False      False   \n\n            age_rating  languages   size  primary_genre  genres  \\\nID                                                                \n284921427        False      False  False          False   False   \n284926400        False      False  False          False   False   \n284946595        False      False  False          False   False   \n285755462        False      False  False          False   False   \n285831220        False      False  False          False   False   \n...                ...        ...    ...            ...     ...   \n1474626442       False      False  False          False   False   \n1474919257       False      False  False          False   False   \n1474962324       False      False  False          False   False   \n1474963671       False      False  False          False   False   \n1475076711       False      False  False          False   False   \n\n            original_release_date  current_version_release_date  num_lang  \nID                                                                         \n284921427                   False                         False     False  \n284926400                   False                         False     False  \n284946595                   False                         False     False  \n285755462                   False                         False     False  \n285831220                   False                         False     False  \n...                           ...                           ...       ...  \n1474626442                  False                         False     False  \n1474919257                  False                         False     False  \n1474962324                  False                         False     False  \n1474963671                  False                         False     False  \n1475076711                  False                         False     False  \n\n[17007 rows x 13 columns]",
      "text/html": "<div>\n<style scoped>\n    .dataframe tbody tr th:only-of-type {\n        vertical-align: middle;\n    }\n\n    .dataframe tbody tr th {\n        vertical-align: top;\n    }\n\n    .dataframe thead th {\n        text-align: right;\n    }\n</style>\n<table border=\"1\" class=\"dataframe\">\n  <thead>\n    <tr style=\"text-align: right;\">\n      <th></th>\n      <th>name</th>\n      <th>average_user_rating</th>\n      <th>user_rating_count</th>\n      <th>price</th>\n      <th>developer</th>\n      <th>age_rating</th>\n      <th>languages</th>\n      <th>size</th>\n      <th>primary_genre</th>\n      <th>genres</th>\n      <th>original_release_date</th>\n      <th>current_version_release_date</th>\n      <th>num_lang</th>\n    </tr>\n    <tr>\n      <th>ID</th>\n      <th></th>\n      <th></th>\n      <th></th>\n      <th></th>\n      <th></th>\n      <th></th>\n      <th></th>\n      <th></th>\n      <th></th>\n      <th></th>\n      <th></th>\n      <th></th>\n      <th></th>\n    </tr>\n  </thead>\n  <tbody>\n    <tr>\n      <th>284921427</th>\n      <td>False</td>\n      <td>False</td>\n      <td>False</td>\n      <td>False</td>\n      <td>False</td>\n      <td>False</td>\n      <td>False</td>\n      <td>False</td>\n      <td>False</td>\n      <td>False</td>\n      <td>False</td>\n      <td>False</td>\n      <td>False</td>\n    </tr>\n    <tr>\n      <th>284926400</th>\n      <td>False</td>\n      <td>False</td>\n      <td>False</td>\n      <td>False</td>\n      <td>False</td>\n      <td>False</td>\n      <td>False</td>\n      <td>False</td>\n      <td>False</td>\n      <td>False</td>\n      <td>False</td>\n      <td>False</td>\n      <td>False</td>\n    </tr>\n    <tr>\n      <th>284946595</th>\n      <td>False</td>\n      <td>False</td>\n      <td>False</td>\n      <td>False</td>\n      <td>False</td>\n      <td>False</td>\n      <td>False</td>\n      <td>False</td>\n      <td>False</td>\n      <td>False</td>\n      <td>False</td>\n      <td>False</td>\n      <td>False</td>\n    </tr>\n    <tr>\n      <th>285755462</th>\n      <td>False</td>\n      <td>False</td>\n      <td>False</td>\n      <td>False</td>\n      <td>False</td>\n      <td>False</td>\n      <td>False</td>\n      <td>False</td>\n      <td>False</td>\n      <td>False</td>\n      <td>False</td>\n      <td>False</td>\n      <td>False</td>\n    </tr>\n    <tr>\n      <th>285831220</th>\n      <td>False</td>\n      <td>False</td>\n      <td>False</td>\n      <td>False</td>\n      <td>False</td>\n      <td>False</td>\n      <td>False</td>\n      <td>False</td>\n      <td>False</td>\n      <td>False</td>\n      <td>False</td>\n      <td>False</td>\n      <td>False</td>\n    </tr>\n    <tr>\n      <th>...</th>\n      <td>...</td>\n      <td>...</td>\n      <td>...</td>\n      <td>...</td>\n      <td>...</td>\n      <td>...</td>\n      <td>...</td>\n      <td>...</td>\n      <td>...</td>\n      <td>...</td>\n      <td>...</td>\n      <td>...</td>\n      <td>...</td>\n    </tr>\n    <tr>\n      <th>1474626442</th>\n      <td>False</td>\n      <td>True</td>\n      <td>True</td>\n      <td>False</td>\n      <td>False</td>\n      <td>False</td>\n      <td>False</td>\n      <td>False</td>\n      <td>False</td>\n      <td>False</td>\n      <td>False</td>\n      <td>False</td>\n      <td>False</td>\n    </tr>\n    <tr>\n      <th>1474919257</th>\n      <td>False</td>\n      <td>True</td>\n      <td>True</td>\n      <td>False</td>\n      <td>False</td>\n      <td>False</td>\n      <td>False</td>\n      <td>False</td>\n      <td>False</td>\n      <td>False</td>\n      <td>False</td>\n      <td>False</td>\n      <td>False</td>\n    </tr>\n    <tr>\n      <th>1474962324</th>\n      <td>False</td>\n      <td>True</td>\n      <td>True</td>\n      <td>False</td>\n      <td>False</td>\n      <td>False</td>\n      <td>False</td>\n      <td>False</td>\n      <td>False</td>\n      <td>False</td>\n      <td>False</td>\n      <td>False</td>\n      <td>False</td>\n    </tr>\n    <tr>\n      <th>1474963671</th>\n      <td>False</td>\n      <td>True</td>\n      <td>True</td>\n      <td>False</td>\n      <td>False</td>\n      <td>False</td>\n      <td>False</td>\n      <td>False</td>\n      <td>False</td>\n      <td>False</td>\n      <td>False</td>\n      <td>False</td>\n      <td>False</td>\n    </tr>\n    <tr>\n      <th>1475076711</th>\n      <td>False</td>\n      <td>True</td>\n      <td>True</td>\n      <td>False</td>\n      <td>False</td>\n      <td>False</td>\n      <td>False</td>\n      <td>False</td>\n      <td>False</td>\n      <td>False</td>\n      <td>False</td>\n      <td>False</td>\n      <td>False</td>\n    </tr>\n  </tbody>\n</table>\n<p>17007 rows × 13 columns</p>\n</div>"
     },
     "execution_count": 69,
     "metadata": {},
     "output_type": "execute_result"
    }
   ],
   "source": [
    "df.isnull()"
   ],
   "metadata": {
    "collapsed": false,
    "ExecuteTime": {
     "end_time": "2024-02-07T18:04:11.980285Z",
     "start_time": "2024-02-07T18:04:11.927098300Z"
    }
   }
  },
  {
   "cell_type": "code",
   "execution_count": 71,
   "outputs": [
    {
     "data": {
      "text/plain": "name                               0\naverage_user_rating             9446\nuser_rating_count               9446\nprice                             24\ndeveloper                          0\nage_rating                         0\nlanguages                         60\nsize                               1\nprimary_genre                      0\ngenres                             0\noriginal_release_date              0\ncurrent_version_release_date       0\nnum_lang                          60\ndtype: int64"
     },
     "execution_count": 71,
     "metadata": {},
     "output_type": "execute_result"
    }
   ],
   "source": [
    "df.isnull().sum() # zwraca dokładną ilość braków danych jakie występują"
   ],
   "metadata": {
    "collapsed": false,
    "ExecuteTime": {
     "end_time": "2024-02-07T18:05:03.756316200Z",
     "start_time": "2024-02-07T18:05:03.716798800Z"
    }
   }
  },
  {
   "cell_type": "code",
   "execution_count": 73,
   "outputs": [
    {
     "data": {
      "text/plain": "name                            0\naverage_user_rating             0\nuser_rating_count               0\nprice                           0\ndeveloper                       0\nage_rating                      0\nlanguages                       0\nsize                            0\nprimary_genre                   0\ngenres                          0\noriginal_release_date           0\ncurrent_version_release_date    0\nnum_lang                        0\ndtype: int64"
     },
     "execution_count": 73,
     "metadata": {},
     "output_type": "execute_result"
    }
   ],
   "source": [
    "df = df.dropna()\n",
    "df.isnull().sum()"
   ],
   "metadata": {
    "collapsed": false,
    "ExecuteTime": {
     "end_time": "2024-02-07T18:06:01.289619700Z",
     "start_time": "2024-02-07T18:06:01.273215800Z"
    }
   }
  },
  {
   "cell_type": "code",
   "execution_count": 74,
   "outputs": [
    {
     "name": "stdout",
     "output_type": "stream",
     "text": [
      "<class 'pandas.core.frame.DataFrame'>\n",
      "Index: 7537 entries, 284921427 to 1474461379\n",
      "Data columns (total 13 columns):\n",
      " #   Column                        Non-Null Count  Dtype  \n",
      "---  ------                        --------------  -----  \n",
      " 0   name                          7537 non-null   object \n",
      " 1   average_user_rating           7537 non-null   float64\n",
      " 2   user_rating_count             7537 non-null   float64\n",
      " 3   price                         7537 non-null   float64\n",
      " 4   developer                     7537 non-null   object \n",
      " 5   age_rating                    7537 non-null   object \n",
      " 6   languages                     7537 non-null   object \n",
      " 7   size                          7537 non-null   float64\n",
      " 8   primary_genre                 7537 non-null   object \n",
      " 9   genres                        7537 non-null   object \n",
      " 10  original_release_date         7537 non-null   object \n",
      " 11  current_version_release_date  7537 non-null   object \n",
      " 12  num_lang                      7537 non-null   float64\n",
      "dtypes: float64(5), object(8)\n",
      "memory usage: 824.4+ KB\n"
     ]
    }
   ],
   "source": [
    "df.info()"
   ],
   "metadata": {
    "collapsed": false,
    "ExecuteTime": {
     "end_time": "2024-02-07T18:07:02.036142700Z",
     "start_time": "2024-02-07T18:07:02.005966500Z"
    }
   }
  },
  {
   "cell_type": "code",
   "execution_count": null,
   "outputs": [],
   "source": [],
   "metadata": {
    "collapsed": false
   }
  }
 ]
}
